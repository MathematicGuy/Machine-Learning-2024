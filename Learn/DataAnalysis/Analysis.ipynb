{
 "cells": [
  {
   "cell_type": "code",
   "execution_count": 185,
   "metadata": {},
   "outputs": [],
   "source": [
    "import pandas as pd\n"
   ]
  },
  {
   "cell_type": "code",
   "execution_count": 186,
   "metadata": {},
   "outputs": [
    {
     "data": {
      "text/html": [
       "<div>\n",
       "<style scoped>\n",
       "    .dataframe tbody tr th:only-of-type {\n",
       "        vertical-align: middle;\n",
       "    }\n",
       "\n",
       "    .dataframe tbody tr th {\n",
       "        vertical-align: top;\n",
       "    }\n",
       "\n",
       "    .dataframe thead th {\n",
       "        text-align: right;\n",
       "    }\n",
       "</style>\n",
       "<table border=\"1\" class=\"dataframe\">\n",
       "  <thead>\n",
       "    <tr style=\"text-align: right;\">\n",
       "      <th></th>\n",
       "      <th>Year</th>\n",
       "      <th>Rank</th>\n",
       "      <th>Company</th>\n",
       "      <th>Income</th>\n",
       "      <th>Revenue</th>\n",
       "    </tr>\n",
       "  </thead>\n",
       "  <tbody>\n",
       "    <tr>\n",
       "      <th>0</th>\n",
       "      <td>1955</td>\n",
       "      <td>1</td>\n",
       "      <td>General Motors</td>\n",
       "      <td>9823.5</td>\n",
       "      <td>806</td>\n",
       "    </tr>\n",
       "    <tr>\n",
       "      <th>1</th>\n",
       "      <td>1955</td>\n",
       "      <td>2</td>\n",
       "      <td>Exxon Mobil</td>\n",
       "      <td>5661.4</td>\n",
       "      <td>584.8</td>\n",
       "    </tr>\n",
       "    <tr>\n",
       "      <th>2</th>\n",
       "      <td>1955</td>\n",
       "      <td>3</td>\n",
       "      <td>U.S. Steel</td>\n",
       "      <td>3250.4</td>\n",
       "      <td>195.4</td>\n",
       "    </tr>\n",
       "    <tr>\n",
       "      <th>3</th>\n",
       "      <td>1955</td>\n",
       "      <td>4</td>\n",
       "      <td>General Electric</td>\n",
       "      <td>2959.1</td>\n",
       "      <td>212.6</td>\n",
       "    </tr>\n",
       "    <tr>\n",
       "      <th>4</th>\n",
       "      <td>1955</td>\n",
       "      <td>5</td>\n",
       "      <td>Esmark</td>\n",
       "      <td>2510.8</td>\n",
       "      <td>19.1</td>\n",
       "    </tr>\n",
       "    <tr>\n",
       "      <th>5</th>\n",
       "      <td>1955</td>\n",
       "      <td>6</td>\n",
       "      <td>Chrysler</td>\n",
       "      <td>2071.6</td>\n",
       "      <td>18.5</td>\n",
       "    </tr>\n",
       "    <tr>\n",
       "      <th>6</th>\n",
       "      <td>1955</td>\n",
       "      <td>7</td>\n",
       "      <td>Armour</td>\n",
       "      <td>2056.1</td>\n",
       "      <td>1.6</td>\n",
       "    </tr>\n",
       "    <tr>\n",
       "      <th>7</th>\n",
       "      <td>1955</td>\n",
       "      <td>8</td>\n",
       "      <td>Gulf Oil</td>\n",
       "      <td>1705.3</td>\n",
       "      <td>182.8</td>\n",
       "    </tr>\n",
       "    <tr>\n",
       "      <th>8</th>\n",
       "      <td>1955</td>\n",
       "      <td>9</td>\n",
       "      <td>Mobil</td>\n",
       "      <td>1703.6</td>\n",
       "      <td>183.8</td>\n",
       "    </tr>\n",
       "    <tr>\n",
       "      <th>9</th>\n",
       "      <td>1955</td>\n",
       "      <td>10</td>\n",
       "      <td>DuPont</td>\n",
       "      <td>1687.7</td>\n",
       "      <td>344.4</td>\n",
       "    </tr>\n",
       "    <tr>\n",
       "      <th>10</th>\n",
       "      <td>1955</td>\n",
       "      <td>11</td>\n",
       "      <td>Amoco</td>\n",
       "      <td>1667.4</td>\n",
       "      <td>132.8</td>\n",
       "    </tr>\n",
       "  </tbody>\n",
       "</table>\n",
       "</div>"
      ],
      "text/plain": [
       "    Year  Rank           Company  Income Revenue\n",
       "0   1955     1    General Motors  9823.5     806\n",
       "1   1955     2       Exxon Mobil  5661.4   584.8\n",
       "2   1955     3        U.S. Steel  3250.4   195.4\n",
       "3   1955     4  General Electric  2959.1   212.6\n",
       "4   1955     5            Esmark  2510.8    19.1\n",
       "5   1955     6          Chrysler  2071.6    18.5\n",
       "6   1955     7            Armour  2056.1     1.6\n",
       "7   1955     8          Gulf Oil  1705.3   182.8\n",
       "8   1955     9             Mobil  1703.6   183.8\n",
       "9   1955    10            DuPont  1687.7   344.4\n",
       "10  1955    11             Amoco  1667.4   132.8"
      ]
     },
     "execution_count": 186,
     "metadata": {},
     "output_type": "execute_result"
    }
   ],
   "source": [
    "# To load the dataframe from the `fortune500.csv` file, you can use the following code:\n",
    "df = pd.read_csv('fortune500.csv')\n",
    "df.head(11)"
   ]
  },
  {
   "cell_type": "markdown",
   "metadata": {},
   "source": [
    "1. Tính Income trung bình của từng Company qua các Year"
   ]
  },
  {
   "cell_type": "code",
   "execution_count": 187,
   "metadata": {},
   "outputs": [
    {
     "data": {
      "text/html": [
       "<div>\n",
       "<style scoped>\n",
       "    .dataframe tbody tr th:only-of-type {\n",
       "        vertical-align: middle;\n",
       "    }\n",
       "\n",
       "    .dataframe tbody tr th {\n",
       "        vertical-align: top;\n",
       "    }\n",
       "\n",
       "    .dataframe thead th {\n",
       "        text-align: right;\n",
       "    }\n",
       "</style>\n",
       "<table border=\"1\" class=\"dataframe\">\n",
       "  <thead>\n",
       "    <tr style=\"text-align: right;\">\n",
       "      <th></th>\n",
       "      <th>Company</th>\n",
       "      <th>Year</th>\n",
       "      <th>MeanIncome</th>\n",
       "    </tr>\n",
       "  </thead>\n",
       "  <tbody>\n",
       "    <tr>\n",
       "      <th>0</th>\n",
       "      <td>3Com</td>\n",
       "      <td>1994</td>\n",
       "      <td>617.2</td>\n",
       "    </tr>\n",
       "    <tr>\n",
       "      <th>1</th>\n",
       "      <td>3Com</td>\n",
       "      <td>1998</td>\n",
       "      <td>3147.1</td>\n",
       "    </tr>\n",
       "    <tr>\n",
       "      <th>2</th>\n",
       "      <td>3Com</td>\n",
       "      <td>1999</td>\n",
       "      <td>5420.4</td>\n",
       "    </tr>\n",
       "    <tr>\n",
       "      <th>3</th>\n",
       "      <td>3Com</td>\n",
       "      <td>2000</td>\n",
       "      <td>5772.1</td>\n",
       "    </tr>\n",
       "    <tr>\n",
       "      <th>4</th>\n",
       "      <td>3Com</td>\n",
       "      <td>2001</td>\n",
       "      <td>5391.5</td>\n",
       "    </tr>\n",
       "    <tr>\n",
       "      <th>...</th>\n",
       "      <td>...</td>\n",
       "      <td>...</td>\n",
       "      <td>...</td>\n",
       "    </tr>\n",
       "    <tr>\n",
       "      <th>25446</th>\n",
       "      <td>Zenith Electronics</td>\n",
       "      <td>1991</td>\n",
       "      <td>1414.5</td>\n",
       "    </tr>\n",
       "    <tr>\n",
       "      <th>25447</th>\n",
       "      <td>Zenith Electronics</td>\n",
       "      <td>1992</td>\n",
       "      <td>1321.6</td>\n",
       "    </tr>\n",
       "    <tr>\n",
       "      <th>25448</th>\n",
       "      <td>Zenith Electronics</td>\n",
       "      <td>1993</td>\n",
       "      <td>1271.4</td>\n",
       "    </tr>\n",
       "    <tr>\n",
       "      <th>25449</th>\n",
       "      <td>Zenith Electronics</td>\n",
       "      <td>1994</td>\n",
       "      <td>1228.2</td>\n",
       "    </tr>\n",
       "    <tr>\n",
       "      <th>25450</th>\n",
       "      <td>Zurn Industries</td>\n",
       "      <td>1991</td>\n",
       "      <td>610.6</td>\n",
       "    </tr>\n",
       "  </tbody>\n",
       "</table>\n",
       "<p>25451 rows × 3 columns</p>\n",
       "</div>"
      ],
      "text/plain": [
       "                  Company  Year  MeanIncome\n",
       "0                    3Com  1994       617.2\n",
       "1                    3Com  1998      3147.1\n",
       "2                    3Com  1999      5420.4\n",
       "3                    3Com  2000      5772.1\n",
       "4                    3Com  2001      5391.5\n",
       "...                   ...   ...         ...\n",
       "25446  Zenith Electronics  1991      1414.5\n",
       "25447  Zenith Electronics  1992      1321.6\n",
       "25448  Zenith Electronics  1993      1271.4\n",
       "25449  Zenith Electronics  1994      1228.2\n",
       "25450     Zurn Industries  1991       610.6\n",
       "\n",
       "[25451 rows x 3 columns]"
      ]
     },
     "execution_count": 187,
     "metadata": {},
     "output_type": "execute_result"
    }
   ],
   "source": [
    "mean_income_yearly = df.groupby(['Company', 'Year'])['Income'].mean().reset_index(name='MeanIncome')\n",
    "mean_income_yearly "
   ]
  },
  {
   "cell_type": "markdown",
   "metadata": {},
   "source": [
    "2. Tính Revenue trung bình của từng Company qua các Year"
   ]
  },
  {
   "cell_type": "code",
   "execution_count": 188,
   "metadata": {},
   "outputs": [
    {
     "data": {
      "text/html": [
       "<div>\n",
       "<style scoped>\n",
       "    .dataframe tbody tr th:only-of-type {\n",
       "        vertical-align: middle;\n",
       "    }\n",
       "\n",
       "    .dataframe tbody tr th {\n",
       "        vertical-align: top;\n",
       "    }\n",
       "\n",
       "    .dataframe thead th {\n",
       "        text-align: right;\n",
       "    }\n",
       "</style>\n",
       "<table border=\"1\" class=\"dataframe\">\n",
       "  <thead>\n",
       "    <tr style=\"text-align: right;\">\n",
       "      <th></th>\n",
       "      <th>Company</th>\n",
       "      <th>Year</th>\n",
       "      <th>MeanRevenue</th>\n",
       "    </tr>\n",
       "  </thead>\n",
       "  <tbody>\n",
       "    <tr>\n",
       "      <th>0</th>\n",
       "      <td>3Com</td>\n",
       "      <td>1994</td>\n",
       "      <td>38.6</td>\n",
       "    </tr>\n",
       "    <tr>\n",
       "      <th>1</th>\n",
       "      <td>3Com</td>\n",
       "      <td>1998</td>\n",
       "      <td>374.0</td>\n",
       "    </tr>\n",
       "    <tr>\n",
       "      <th>2</th>\n",
       "      <td>3Com</td>\n",
       "      <td>1999</td>\n",
       "      <td>30.2</td>\n",
       "    </tr>\n",
       "    <tr>\n",
       "      <th>3</th>\n",
       "      <td>3Com</td>\n",
       "      <td>2000</td>\n",
       "      <td>403.9</td>\n",
       "    </tr>\n",
       "    <tr>\n",
       "      <th>4</th>\n",
       "      <td>3Com</td>\n",
       "      <td>2001</td>\n",
       "      <td>674.3</td>\n",
       "    </tr>\n",
       "    <tr>\n",
       "      <th>...</th>\n",
       "      <td>...</td>\n",
       "      <td>...</td>\n",
       "      <td>...</td>\n",
       "    </tr>\n",
       "    <tr>\n",
       "      <th>25446</th>\n",
       "      <td>Zenith Electronics</td>\n",
       "      <td>1991</td>\n",
       "      <td>-63.3</td>\n",
       "    </tr>\n",
       "    <tr>\n",
       "      <th>25447</th>\n",
       "      <td>Zenith Electronics</td>\n",
       "      <td>1992</td>\n",
       "      <td>-51.6</td>\n",
       "    </tr>\n",
       "    <tr>\n",
       "      <th>25448</th>\n",
       "      <td>Zenith Electronics</td>\n",
       "      <td>1993</td>\n",
       "      <td>-105.9</td>\n",
       "    </tr>\n",
       "    <tr>\n",
       "      <th>25449</th>\n",
       "      <td>Zenith Electronics</td>\n",
       "      <td>1994</td>\n",
       "      <td>-97.0</td>\n",
       "    </tr>\n",
       "    <tr>\n",
       "      <th>25450</th>\n",
       "      <td>Zurn Industries</td>\n",
       "      <td>1991</td>\n",
       "      <td>28.3</td>\n",
       "    </tr>\n",
       "  </tbody>\n",
       "</table>\n",
       "<p>25451 rows × 3 columns</p>\n",
       "</div>"
      ],
      "text/plain": [
       "                  Company  Year  MeanRevenue\n",
       "0                    3Com  1994         38.6\n",
       "1                    3Com  1998        374.0\n",
       "2                    3Com  1999         30.2\n",
       "3                    3Com  2000        403.9\n",
       "4                    3Com  2001        674.3\n",
       "...                   ...   ...          ...\n",
       "25446  Zenith Electronics  1991        -63.3\n",
       "25447  Zenith Electronics  1992        -51.6\n",
       "25448  Zenith Electronics  1993       -105.9\n",
       "25449  Zenith Electronics  1994        -97.0\n",
       "25450     Zurn Industries  1991         28.3\n",
       "\n",
       "[25451 rows x 3 columns]"
      ]
     },
     "execution_count": 188,
     "metadata": {},
     "output_type": "execute_result"
    }
   ],
   "source": [
    "# Ensure the 'Revenue' column is numeric\n",
    "df['Revenue'] = pd.to_numeric(df['Revenue'], errors='coerce') # convert N.A to NaN \n",
    "\n",
    "# Group by 'Company' and calculate the mean of 'Revenue'\n",
    "mean_revenue_yearly = df.groupby(['Company', 'Year'])['Revenue'].mean().reset_index(name='MeanRevenue')\n",
    "mean_revenue_yearly\n"
   ]
  },
  {
   "cell_type": "markdown",
   "metadata": {},
   "source": [
    "Company by mean Revenue and mean Income"
   ]
  },
  {
   "cell_type": "code",
   "execution_count": 189,
   "metadata": {},
   "outputs": [
    {
     "data": {
      "text/html": [
       "<div>\n",
       "<style scoped>\n",
       "    .dataframe tbody tr th:only-of-type {\n",
       "        vertical-align: middle;\n",
       "    }\n",
       "\n",
       "    .dataframe tbody tr th {\n",
       "        vertical-align: top;\n",
       "    }\n",
       "\n",
       "    .dataframe thead th {\n",
       "        text-align: right;\n",
       "    }\n",
       "</style>\n",
       "<table border=\"1\" class=\"dataframe\">\n",
       "  <thead>\n",
       "    <tr style=\"text-align: right;\">\n",
       "      <th></th>\n",
       "      <th>Company</th>\n",
       "      <th>Year</th>\n",
       "      <th>MeanIncome</th>\n",
       "      <th>MeanRevenue</th>\n",
       "    </tr>\n",
       "  </thead>\n",
       "  <tbody>\n",
       "    <tr>\n",
       "      <th>0</th>\n",
       "      <td>3Com</td>\n",
       "      <td>1994</td>\n",
       "      <td>617.2</td>\n",
       "      <td>38.6</td>\n",
       "    </tr>\n",
       "    <tr>\n",
       "      <th>1</th>\n",
       "      <td>3Com</td>\n",
       "      <td>1998</td>\n",
       "      <td>3147.1</td>\n",
       "      <td>374.0</td>\n",
       "    </tr>\n",
       "    <tr>\n",
       "      <th>2</th>\n",
       "      <td>3Com</td>\n",
       "      <td>1999</td>\n",
       "      <td>5420.4</td>\n",
       "      <td>30.2</td>\n",
       "    </tr>\n",
       "    <tr>\n",
       "      <th>3</th>\n",
       "      <td>3Com</td>\n",
       "      <td>2000</td>\n",
       "      <td>5772.1</td>\n",
       "      <td>403.9</td>\n",
       "    </tr>\n",
       "    <tr>\n",
       "      <th>4</th>\n",
       "      <td>3Com</td>\n",
       "      <td>2001</td>\n",
       "      <td>5391.5</td>\n",
       "      <td>674.3</td>\n",
       "    </tr>\n",
       "  </tbody>\n",
       "</table>\n",
       "</div>"
      ],
      "text/plain": [
       "  Company  Year  MeanIncome  MeanRevenue\n",
       "0    3Com  1994       617.2         38.6\n",
       "1    3Com  1998      3147.1        374.0\n",
       "2    3Com  1999      5420.4         30.2\n",
       "3    3Com  2000      5772.1        403.9\n",
       "4    3Com  2001      5391.5        674.3"
      ]
     },
     "execution_count": 189,
     "metadata": {},
     "output_type": "execute_result"
    }
   ],
   "source": [
    "company_mean = pd.merge(mean_income_yearly, mean_revenue_yearly, on=['Company', 'Year'])\n",
    "company_mean.head()"
   ]
  },
  {
   "cell_type": "markdown",
   "metadata": {},
   "source": [
    "3. Xác định Company có Income trung bình cao nhất"
   ]
  },
  {
   "cell_type": "code",
   "execution_count": 190,
   "metadata": {},
   "outputs": [
    {
     "data": {
      "text/plain": [
       "'Wal-Mart Stores'"
      ]
     },
     "execution_count": 190,
     "metadata": {},
     "output_type": "execute_result"
    }
   ],
   "source": [
    "#? Method 1: retrieve max value by index -> retrieve 1 only \n",
    "highest_mean_income_index = company_mean['MeanIncome'].idxmax()\n",
    "highest_mean_income_company = company_mean.loc[highest_mean_income_index, 'Company']\n",
    "\n",
    "highest_mean_income_company"
   ]
  },
  {
   "cell_type": "code",
   "execution_count": 191,
   "metadata": {},
   "outputs": [
    {
     "data": {
      "text/html": [
       "<div>\n",
       "<style scoped>\n",
       "    .dataframe tbody tr th:only-of-type {\n",
       "        vertical-align: middle;\n",
       "    }\n",
       "\n",
       "    .dataframe tbody tr th {\n",
       "        vertical-align: top;\n",
       "    }\n",
       "\n",
       "    .dataframe thead th {\n",
       "        text-align: right;\n",
       "    }\n",
       "</style>\n",
       "<table border=\"1\" class=\"dataframe\">\n",
       "  <thead>\n",
       "    <tr style=\"text-align: right;\">\n",
       "      <th></th>\n",
       "      <th>Company</th>\n",
       "      <th>Year</th>\n",
       "      <th>MeanIncome</th>\n",
       "      <th>MeanRevenue</th>\n",
       "    </tr>\n",
       "  </thead>\n",
       "  <tbody>\n",
       "    <tr>\n",
       "      <th>6462</th>\n",
       "      <td>Copperweld Steel</td>\n",
       "      <td>1955</td>\n",
       "      <td>49.7</td>\n",
       "      <td>0.9</td>\n",
       "    </tr>\n",
       "    <tr>\n",
       "      <th>10619</th>\n",
       "      <td>Goodall-Sanford</td>\n",
       "      <td>1955</td>\n",
       "      <td>49.7</td>\n",
       "      <td>-2.7</td>\n",
       "    </tr>\n",
       "  </tbody>\n",
       "</table>\n",
       "</div>"
      ],
      "text/plain": [
       "                Company  Year  MeanIncome  MeanRevenue\n",
       "6462   Copperweld Steel  1955        49.7          0.9\n",
       "10619   Goodall-Sanford  1955        49.7         -2.7"
      ]
     },
     "execution_count": 191,
     "metadata": {},
     "output_type": "execute_result"
    }
   ],
   "source": [
    "#? Method 2: retrieve max value bu sorting -> can retrieve multiple company if their income is duplpicated \n",
    "highest_mean_income = company_mean['MeanIncome'].min()\n",
    "highest_mean_income_company = company_mean[company_mean['MeanIncome'] == highest_mean_income]\n",
    "highest_mean_income_company"
   ]
  },
  {
   "cell_type": "code",
   "execution_count": 192,
   "metadata": {},
   "outputs": [
    {
     "data": {
      "text/html": [
       "<div>\n",
       "<style scoped>\n",
       "    .dataframe tbody tr th:only-of-type {\n",
       "        vertical-align: middle;\n",
       "    }\n",
       "\n",
       "    .dataframe tbody tr th {\n",
       "        vertical-align: top;\n",
       "    }\n",
       "\n",
       "    .dataframe thead th {\n",
       "        text-align: right;\n",
       "    }\n",
       "</style>\n",
       "<table border=\"1\" class=\"dataframe\">\n",
       "  <thead>\n",
       "    <tr style=\"text-align: right;\">\n",
       "      <th></th>\n",
       "      <th>Company</th>\n",
       "      <th>Year</th>\n",
       "      <th>MeanIncome</th>\n",
       "      <th>MeanRevenue</th>\n",
       "    </tr>\n",
       "  </thead>\n",
       "  <tbody>\n",
       "    <tr>\n",
       "      <th>24300</th>\n",
       "      <td>Wal-Mart Stores</td>\n",
       "      <td>2005</td>\n",
       "      <td>288189.0</td>\n",
       "      <td>10267.0</td>\n",
       "    </tr>\n",
       "  </tbody>\n",
       "</table>\n",
       "</div>"
      ],
      "text/plain": [
       "               Company  Year  MeanIncome  MeanRevenue\n",
       "24300  Wal-Mart Stores  2005    288189.0      10267.0"
      ]
     },
     "execution_count": 192,
     "metadata": {},
     "output_type": "execute_result"
    }
   ],
   "source": [
    "#? Method 3: Retrieve by sorting and .head(1)\n",
    "highest_mean_income_company = company_mean.sort_values(by='MeanIncome', ascending=False)\n",
    "highest_mean_income_company.head(1)"
   ]
  },
  {
   "cell_type": "markdown",
   "metadata": {},
   "source": [
    "4. Xác định Company có Revenue trung bình thấp nhất"
   ]
  },
  {
   "cell_type": "code",
   "execution_count": 193,
   "metadata": {},
   "outputs": [
    {
     "data": {
      "text/html": [
       "<div>\n",
       "<style scoped>\n",
       "    .dataframe tbody tr th:only-of-type {\n",
       "        vertical-align: middle;\n",
       "    }\n",
       "\n",
       "    .dataframe tbody tr th {\n",
       "        vertical-align: top;\n",
       "    }\n",
       "\n",
       "    .dataframe thead th {\n",
       "        text-align: right;\n",
       "    }\n",
       "</style>\n",
       "<table border=\"1\" class=\"dataframe\">\n",
       "  <thead>\n",
       "    <tr style=\"text-align: right;\">\n",
       "      <th></th>\n",
       "      <th>Company</th>\n",
       "      <th>Year</th>\n",
       "      <th>MeanIncome</th>\n",
       "      <th>MeanRevenue</th>\n",
       "    </tr>\n",
       "  </thead>\n",
       "  <tbody>\n",
       "    <tr>\n",
       "      <th>22867</th>\n",
       "      <td>Time Warner</td>\n",
       "      <td>2003</td>\n",
       "      <td>41780.0</td>\n",
       "      <td>-98696.0</td>\n",
       "    </tr>\n",
       "  </tbody>\n",
       "</table>\n",
       "</div>"
      ],
      "text/plain": [
       "           Company  Year  MeanIncome  MeanRevenue\n",
       "22867  Time Warner  2003     41780.0     -98696.0"
      ]
     },
     "execution_count": 193,
     "metadata": {},
     "output_type": "execute_result"
    }
   ],
   "source": [
    "min_revenue = company_mean['MeanRevenue'].min()\n",
    "lowest_mean_revenue_yearly = company_mean[company_mean['MeanRevenue'] == min_revenue]\n",
    "lowest_mean_revenue_yearly"
   ]
  },
  {
   "cell_type": "markdown",
   "metadata": {},
   "source": [
    "5. Tìm Company có Income lớn nhất mỗi Year"
   ]
  },
  {
   "cell_type": "code",
   "execution_count": 194,
   "metadata": {},
   "outputs": [],
   "source": [
    "highest_income = df['Income'].max()\n",
    "\n",
    "highest_income_yearly = df.groupby('Year')['Income'].idxmax() # get index of highest Income Company through years\n",
    "highest_income_yearly = highest_income_yearly.apply(lambda idx: df.loc[idx]) # find company by indexes"
   ]
  },
  {
   "cell_type": "markdown",
   "metadata": {},
   "source": [
    "6. Tìm những Company thường nằm trong top 5 Company có Income lớn nhất qua mỗi Year"
   ]
  },
  {
   "cell_type": "code",
   "execution_count": 195,
   "metadata": {},
   "outputs": [],
   "source": [
    "top5_frequent = []\n",
    "\n",
    "\n",
    "\n"
   ]
  },
  {
   "cell_type": "markdown",
   "metadata": {},
   "source": [
    "7. Lọc ra 5 Company có Income trung bình thấp nhất"
   ]
  },
  {
   "cell_type": "code",
   "execution_count": 196,
   "metadata": {},
   "outputs": [
    {
     "data": {
      "text/html": [
       "<div>\n",
       "<style scoped>\n",
       "    .dataframe tbody tr th:only-of-type {\n",
       "        vertical-align: middle;\n",
       "    }\n",
       "\n",
       "    .dataframe tbody tr th {\n",
       "        vertical-align: top;\n",
       "    }\n",
       "\n",
       "    .dataframe thead th {\n",
       "        text-align: right;\n",
       "    }\n",
       "</style>\n",
       "<table border=\"1\" class=\"dataframe\">\n",
       "  <thead>\n",
       "    <tr style=\"text-align: right;\">\n",
       "      <th></th>\n",
       "      <th>Year</th>\n",
       "      <th>Rank</th>\n",
       "      <th>Company</th>\n",
       "      <th>Income</th>\n",
       "      <th>Revenue</th>\n",
       "    </tr>\n",
       "  </thead>\n",
       "  <tbody>\n",
       "    <tr>\n",
       "      <th>498</th>\n",
       "      <td>1955</td>\n",
       "      <td>499</td>\n",
       "      <td>Goodall-Sanford</td>\n",
       "      <td>49.7</td>\n",
       "      <td>-2.7</td>\n",
       "    </tr>\n",
       "    <tr>\n",
       "      <th>999</th>\n",
       "      <td>1956</td>\n",
       "      <td>500</td>\n",
       "      <td>Warren (S.D.)</td>\n",
       "      <td>55.1</td>\n",
       "      <td>2.9</td>\n",
       "    </tr>\n",
       "    <tr>\n",
       "      <th>1499</th>\n",
       "      <td>1957</td>\n",
       "      <td>500</td>\n",
       "      <td>Consolidated Coppermines</td>\n",
       "      <td>61.1</td>\n",
       "      <td>5.7</td>\n",
       "    </tr>\n",
       "    <tr>\n",
       "      <th>1999</th>\n",
       "      <td>1958</td>\n",
       "      <td>500</td>\n",
       "      <td>Akzona</td>\n",
       "      <td>64.7</td>\n",
       "      <td>1.3</td>\n",
       "    </tr>\n",
       "    <tr>\n",
       "      <th>2499</th>\n",
       "      <td>1959</td>\n",
       "      <td>500</td>\n",
       "      <td>Blue Bell</td>\n",
       "      <td>61.7</td>\n",
       "      <td>1.7</td>\n",
       "    </tr>\n",
       "  </tbody>\n",
       "</table>\n",
       "</div>"
      ],
      "text/plain": [
       "      Year  Rank                   Company  Income  Revenue\n",
       "498   1955   499           Goodall-Sanford    49.7     -2.7\n",
       "999   1956   500             Warren (S.D.)    55.1      2.9\n",
       "1499  1957   500  Consolidated Coppermines    61.1      5.7\n",
       "1999  1958   500                    Akzona    64.7      1.3\n",
       "2499  1959   500                 Blue Bell    61.7      1.7"
      ]
     },
     "execution_count": 196,
     "metadata": {},
     "output_type": "execute_result"
    }
   ],
   "source": [
    "most_revenue_year = df.loc[df.groupby('Year')['Income'].idxmin()]\n",
    "most_revenue_year.head()"
   ]
  },
  {
   "cell_type": "markdown",
   "metadata": {},
   "source": [
    "8. Lọc ra 5 Company có Revenue trung bình cao nhất"
   ]
  },
  {
   "cell_type": "code",
   "execution_count": null,
   "metadata": {},
   "outputs": [],
   "source": []
  },
  {
   "cell_type": "markdown",
   "metadata": {},
   "source": [
    "9. Vẽ biểu đồ so sánh Income trung bình của 5 Company có Income trung bình thấp nhất"
   ]
  },
  {
   "cell_type": "code",
   "execution_count": null,
   "metadata": {},
   "outputs": [],
   "source": []
  }
 ],
 "metadata": {
  "kernelspec": {
   "display_name": "rl",
   "language": "python",
   "name": "python3"
  },
  "language_info": {
   "codemirror_mode": {
    "name": "ipython",
    "version": 3
   },
   "file_extension": ".py",
   "mimetype": "text/x-python",
   "name": "python",
   "nbconvert_exporter": "python",
   "pygments_lexer": "ipython3",
   "version": "3.9.19"
  }
 },
 "nbformat": 4,
 "nbformat_minor": 2
}

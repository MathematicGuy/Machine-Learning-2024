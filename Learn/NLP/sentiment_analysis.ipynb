{
  "cells": [
    {
      "cell_type": "markdown",
      "source": [
        "# Pre-processing function"
      ],
      "metadata": {
        "id": "IZEWNIlAli5b"
      }
    },
    {
      "cell_type": "code",
      "execution_count": null,
      "metadata": {
        "id": "toM9KfQTNBX0"
      },
      "outputs": [],
      "source": [
        "import re # https://www.w3schools.com/python/python_regex.asp\n",
        "\n",
        "from sklearn.feature_extraction.text import CountVectorizer\n",
        "\n",
        "import os\n",
        "import numpy as np\n",
        "import pandas as pd"
      ]
    },
    {
      "cell_type": "code",
      "execution_count": null,
      "metadata": {
        "id": "I7_pT4ygNBX3"
      },
      "outputs": [],
      "source": [
        "def clean_text(text):\n",
        "    \"\"\"\n",
        "    Applies some pre-processing on the given text.\n",
        "\n",
        "    Steps :\n",
        "    - Removing HTML tags\n",
        "    - Removing punctuation\n",
        "    - Lowering text\n",
        "    \"\"\"\n",
        "\n",
        "    # remove HTML tags\n",
        "    text = re.sub(r'<.*?>', '', text)\n",
        "\n",
        "    # remove the characters [\\], ['] and [\"]\n",
        "    text = re.sub(r\"\\\\\", \"\", text)\n",
        "    text = re.sub(r\"\\'\", \"\", text)\n",
        "    text = re.sub(r\"\\\"\", \"\", text)\n",
        "\n",
        "    # convert text to lowercase\n",
        "    # text = text.strip().lower()\n",
        "\n",
        "    # replace punctuation characters with spaces\n",
        "    filters='!\"\\'#$%&()*+,-./:;<=>?@[\\\\]^_`{|}~\\t\\n'\n",
        "    translate_dict = dict((c, \" \") for c in filters)\n",
        "    translate_map = str.maketrans(translate_dict)\n",
        "    text = text.translate(translate_map)\n",
        "\n",
        "    return text"
      ]
    },
    {
      "cell_type": "markdown",
      "source": [
        "# Basic text classification with BOW featurizer, called by Scikit-learn"
      ],
      "metadata": {
        "id": "TWMq9I1EnBwq"
      }
    },
    {
      "cell_type": "code",
      "execution_count": null,
      "metadata": {
        "id": "T4M79YVNNBX5",
        "outputId": "a4825dc6-588e-4197-909e-21f23ebce144",
        "colab": {
          "base_uri": "https://localhost:8080/",
          "height": 81
        }
      },
      "outputs": [
        {
          "output_type": "execute_result",
          "data": {
            "text/plain": [
              "               This  bad  cat  day  good\n",
              "test sentence     1    0    0    2     1"
            ],
            "text/html": [
              "\n",
              "  <div id=\"df-72231c07-bf06-4015-bc44-78f9addb6f33\" class=\"colab-df-container\">\n",
              "    <div>\n",
              "<style scoped>\n",
              "    .dataframe tbody tr th:only-of-type {\n",
              "        vertical-align: middle;\n",
              "    }\n",
              "\n",
              "    .dataframe tbody tr th {\n",
              "        vertical-align: top;\n",
              "    }\n",
              "\n",
              "    .dataframe thead th {\n",
              "        text-align: right;\n",
              "    }\n",
              "</style>\n",
              "<table border=\"1\" class=\"dataframe\">\n",
              "  <thead>\n",
              "    <tr style=\"text-align: right;\">\n",
              "      <th></th>\n",
              "      <th>This</th>\n",
              "      <th>bad</th>\n",
              "      <th>cat</th>\n",
              "      <th>day</th>\n",
              "      <th>good</th>\n",
              "    </tr>\n",
              "  </thead>\n",
              "  <tbody>\n",
              "    <tr>\n",
              "      <th>test sentence</th>\n",
              "      <td>1</td>\n",
              "      <td>0</td>\n",
              "      <td>0</td>\n",
              "      <td>2</td>\n",
              "      <td>1</td>\n",
              "    </tr>\n",
              "  </tbody>\n",
              "</table>\n",
              "</div>\n",
              "    <div class=\"colab-df-buttons\">\n",
              "\n",
              "  <div class=\"colab-df-container\">\n",
              "    <button class=\"colab-df-convert\" onclick=\"convertToInteractive('df-72231c07-bf06-4015-bc44-78f9addb6f33')\"\n",
              "            title=\"Convert this dataframe to an interactive table.\"\n",
              "            style=\"display:none;\">\n",
              "\n",
              "  <svg xmlns=\"http://www.w3.org/2000/svg\" height=\"24px\" viewBox=\"0 -960 960 960\">\n",
              "    <path d=\"M120-120v-720h720v720H120Zm60-500h600v-160H180v160Zm220 220h160v-160H400v160Zm0 220h160v-160H400v160ZM180-400h160v-160H180v160Zm440 0h160v-160H620v160ZM180-180h160v-160H180v160Zm440 0h160v-160H620v160Z\"/>\n",
              "  </svg>\n",
              "    </button>\n",
              "\n",
              "  <style>\n",
              "    .colab-df-container {\n",
              "      display:flex;\n",
              "      gap: 12px;\n",
              "    }\n",
              "\n",
              "    .colab-df-convert {\n",
              "      background-color: #E8F0FE;\n",
              "      border: none;\n",
              "      border-radius: 50%;\n",
              "      cursor: pointer;\n",
              "      display: none;\n",
              "      fill: #1967D2;\n",
              "      height: 32px;\n",
              "      padding: 0 0 0 0;\n",
              "      width: 32px;\n",
              "    }\n",
              "\n",
              "    .colab-df-convert:hover {\n",
              "      background-color: #E2EBFA;\n",
              "      box-shadow: 0px 1px 2px rgba(60, 64, 67, 0.3), 0px 1px 3px 1px rgba(60, 64, 67, 0.15);\n",
              "      fill: #174EA6;\n",
              "    }\n",
              "\n",
              "    .colab-df-buttons div {\n",
              "      margin-bottom: 4px;\n",
              "    }\n",
              "\n",
              "    [theme=dark] .colab-df-convert {\n",
              "      background-color: #3B4455;\n",
              "      fill: #D2E3FC;\n",
              "    }\n",
              "\n",
              "    [theme=dark] .colab-df-convert:hover {\n",
              "      background-color: #434B5C;\n",
              "      box-shadow: 0px 1px 3px 1px rgba(0, 0, 0, 0.15);\n",
              "      filter: drop-shadow(0px 1px 2px rgba(0, 0, 0, 0.3));\n",
              "      fill: #FFFFFF;\n",
              "    }\n",
              "  </style>\n",
              "\n",
              "    <script>\n",
              "      const buttonEl =\n",
              "        document.querySelector('#df-72231c07-bf06-4015-bc44-78f9addb6f33 button.colab-df-convert');\n",
              "      buttonEl.style.display =\n",
              "        google.colab.kernel.accessAllowed ? 'block' : 'none';\n",
              "\n",
              "      async function convertToInteractive(key) {\n",
              "        const element = document.querySelector('#df-72231c07-bf06-4015-bc44-78f9addb6f33');\n",
              "        const dataTable =\n",
              "          await google.colab.kernel.invokeFunction('convertToInteractive',\n",
              "                                                    [key], {});\n",
              "        if (!dataTable) return;\n",
              "\n",
              "        const docLinkHtml = 'Like what you see? Visit the ' +\n",
              "          '<a target=\"_blank\" href=https://colab.research.google.com/notebooks/data_table.ipynb>data table notebook</a>'\n",
              "          + ' to learn more about interactive tables.';\n",
              "        element.innerHTML = '';\n",
              "        dataTable['output_type'] = 'display_data';\n",
              "        await google.colab.output.renderOutput(dataTable, element);\n",
              "        const docLink = document.createElement('div');\n",
              "        docLink.innerHTML = docLinkHtml;\n",
              "        element.appendChild(docLink);\n",
              "      }\n",
              "    </script>\n",
              "  </div>\n",
              "\n",
              "\n",
              "    </div>\n",
              "  </div>\n"
            ],
            "application/vnd.google.colaboratory.intrinsic+json": {
              "type": "dataframe",
              "summary": "{\n  \"name\": \")\",\n  \"rows\": 1,\n  \"fields\": [\n    {\n      \"column\": \"This\",\n      \"properties\": {\n        \"dtype\": \"number\",\n        \"std\": null,\n        \"min\": 1,\n        \"max\": 1,\n        \"num_unique_values\": 1,\n        \"samples\": [\n          1\n        ],\n        \"semantic_type\": \"\",\n        \"description\": \"\"\n      }\n    },\n    {\n      \"column\": \"bad\",\n      \"properties\": {\n        \"dtype\": \"number\",\n        \"std\": null,\n        \"min\": 0,\n        \"max\": 0,\n        \"num_unique_values\": 1,\n        \"samples\": [\n          0\n        ],\n        \"semantic_type\": \"\",\n        \"description\": \"\"\n      }\n    },\n    {\n      \"column\": \"cat\",\n      \"properties\": {\n        \"dtype\": \"number\",\n        \"std\": null,\n        \"min\": 0,\n        \"max\": 0,\n        \"num_unique_values\": 1,\n        \"samples\": [\n          0\n        ],\n        \"semantic_type\": \"\",\n        \"description\": \"\"\n      }\n    },\n    {\n      \"column\": \"day\",\n      \"properties\": {\n        \"dtype\": \"number\",\n        \"std\": null,\n        \"min\": 2,\n        \"max\": 2,\n        \"num_unique_values\": 1,\n        \"samples\": [\n          2\n        ],\n        \"semantic_type\": \"\",\n        \"description\": \"\"\n      }\n    },\n    {\n      \"column\": \"good\",\n      \"properties\": {\n        \"dtype\": \"number\",\n        \"std\": null,\n        \"min\": 1,\n        \"max\": 1,\n        \"num_unique_values\": 1,\n        \"samples\": [\n          1\n        ],\n        \"semantic_type\": \"\",\n        \"description\": \"\"\n      }\n    }\n  ]\n}"
            }
          },
          "metadata": {},
          "execution_count": 21
        }
      ],
      "source": [
        "training_texts = [\n",
        "    \"This is a good cat\",\n",
        "    \"This is a bad day\"\n",
        "]\n",
        "\n",
        "test_texts = [\n",
        "    \"This day is a good day\"\n",
        "]\n",
        "\n",
        "# this vectorizer will skip stop words\n",
        "vectorizer = CountVectorizer(\n",
        "    stop_words=\"english\",\n",
        "    preprocessor=clean_text\n",
        ")\n",
        "\n",
        "# fit the vectorizer on the training text\n",
        "vectorizer.fit(training_texts)\n",
        "\n",
        "# get the vectorizer's vocabulary\n",
        "inv_vocab = {v: k for k, v in vectorizer.vocabulary_.items()}\n",
        "vocabulary = [inv_vocab[i] for i in range(len(inv_vocab))]\n",
        "\n",
        "# vectorization example\n",
        "pd.DataFrame(\n",
        "    data=vectorizer.transform(test_texts).toarray(),\n",
        "    index=[\"test sentence\"],\n",
        "    columns=vocabulary\n",
        ")\n"
      ]
    },
    {
      "cell_type": "markdown",
      "source": [
        "# Loading IMDB dataset"
      ],
      "metadata": {
        "id": "8Y2lorvcmyCH"
      }
    },
    {
      "cell_type": "code",
      "execution_count": null,
      "metadata": {
        "id": "LdP_ww6RNBX5"
      },
      "outputs": [],
      "source": [
        "def load_train_test_imdb_data(data_dir):\n",
        "    \"\"\"Loads the IMDB train/test datasets from a folder path.\n",
        "    Input:\n",
        "    data_dir: path to the \"aclImdb\" folder.\n",
        "\n",
        "    Returns:\n",
        "    train/test datasets as pandas dataframes.\n",
        "    \"\"\"\n",
        "\n",
        "    data = {}\n",
        "    for split in [\"train\", \"test\"]:\n",
        "        data[split] = []\n",
        "        for sentiment in [\"neg\", \"pos\"]:\n",
        "            score = 1 if sentiment == \"pos\" else 0\n",
        "\n",
        "            path = os.path.join(data_dir, split, sentiment)\n",
        "            file_names = os.listdir(path)\n",
        "            for f_name in file_names:\n",
        "                with open(os.path.join(path, f_name), \"r\",\n",
        "                encoding=\"utf-8\") as f:\n",
        "                    review = f.read()\n",
        "                    data[split].append([review, score])\n",
        "\n",
        "    np.random.shuffle(data[\"train\"])\n",
        "    data[\"train\"] = pd.DataFrame(data[\"train\"],\n",
        "                                 columns=['text', 'sentiment'])\n",
        "\n",
        "    np.random.shuffle(data[\"test\"])\n",
        "    data[\"test\"] = pd.DataFrame(data[\"test\"],\n",
        "                                columns=['text', 'sentiment'])\n",
        "\n",
        "    return data[\"train\"], data[\"test\"]"
      ]
    },
    {
      "cell_type": "code",
      "source": [
        "!wget https://ai.stanford.edu/~amaas/data/sentiment/aclImdb_v1.tar.gz"
      ],
      "metadata": {
        "id": "_J1ezpwvvK9W",
        "colab": {
          "base_uri": "https://localhost:8080/"
        },
        "outputId": "a8b8b5f3-f563-4d2d-e919-f6d75ad3594b"
      },
      "execution_count": null,
      "outputs": [
        {
          "output_type": "stream",
          "name": "stdout",
          "text": [
            "--2025-01-21 04:50:04--  https://ai.stanford.edu/~amaas/data/sentiment/aclImdb_v1.tar.gz\n",
            "Resolving ai.stanford.edu (ai.stanford.edu)... 171.64.68.10\n",
            "Connecting to ai.stanford.edu (ai.stanford.edu)|171.64.68.10|:443... connected.\n",
            "HTTP request sent, awaiting response... 200 OK\n",
            "Length: 84125825 (80M) [application/x-gzip]\n",
            "Saving to: ‘aclImdb_v1.tar.gz’\n",
            "\n",
            "aclImdb_v1.tar.gz   100%[===================>]  80.23M  10.5MB/s    in 11s     \n",
            "\n",
            "2025-01-21 04:50:15 (7.58 MB/s) - ‘aclImdb_v1.tar.gz’ saved [84125825/84125825]\n",
            "\n"
          ]
        }
      ]
    },
    {
      "cell_type": "code",
      "source": [
        "!tar -xvzf /content/aclImdb_v1.tar.gz"
      ],
      "metadata": {
        "id": "I8li3E2gpADz",
        "outputId": "69829e53-8284-4528-fd47-0cffec003883",
        "colab": {
          "base_uri": "https://localhost:8080/"
        }
      },
      "execution_count": null,
      "outputs": [
        {
          "output_type": "stream",
          "name": "stdout",
          "text": [
            "tar (child): /content/aclImdb_v1.tar.gz: Cannot open: No such file or directory\n",
            "tar (child): Error is not recoverable: exiting now\n",
            "tar: Child returned status 2\n",
            "tar: Error is not recoverable: exiting now\n"
          ]
        }
      ]
    },
    {
      "cell_type": "code",
      "execution_count": null,
      "metadata": {
        "id": "4QuwoI29NBX6"
      },
      "outputs": [],
      "source": [
        "train_data, test_data = load_train_test_imdb_data(\n",
        "    data_dir=\"/content/aclImdb/\")"
      ]
    },
    {
      "cell_type": "code",
      "source": [
        "train_data[\"text\"][0]"
      ],
      "metadata": {
        "colab": {
          "base_uri": "https://localhost:8080/",
          "height": 244
        },
        "id": "BUydwjLMOcsc",
        "outputId": "c51ff00d-8ab1-4247-f796-be5cc1454661"
      },
      "execution_count": null,
      "outputs": [
        {
          "output_type": "execute_result",
          "data": {
            "text/plain": [
              "'This video nasty was initially banned in Britain, and allowed in last November without cuts.<br /><br />It features the Playboy Playmate of the Month October 1979, Ursula Buchfellner. The opening cuts back and forth between Buchfellner and foggy jungle pictures. I am not sure what the purpose of that was. It would have been much better to focus on the bathtub scene.<br /><br />Laura (Buchfellner) is kidnapped and held in the jungle for ransom. Peter (Al Cliver - The Beyond, Zombie) is sent to find her and the ransom. Of course, one of the kidnappers (Antonio de Cabo) manages to pass the time productively, while another (Werner Pochath) whines incessantly.<br /><br />The ransom exchange goes to hell, and Laura runs into the jungle. Will Peter save her before the cannibals have a meal? Oh, yes, there are cannibals in this jungle. Why do you think it was a video nasty! Muriel Montossé is found by Peter and his partner (Antonio Mayans - Angel of Death) on the kidnapper\\'s boat. Montossé is very comfortably undressed. Peter leaves them and goes off alone to find Laura, who has been captured by now. They pass the time having sex, and don\\'t see the danger approaching. Guts, anyone? Great fight between Peter and the naked devil (Burt Altman).<br /><br />Blood, decapitation, guts, lots of full frontal, some great writhing by the cannibal priestess (Aline Mess), and the line, \"They tore her heart out,\" which is hilarious if you see the film.'"
            ],
            "application/vnd.google.colaboratory.intrinsic+json": {
              "type": "string"
            }
          },
          "metadata": {},
          "execution_count": 23
        }
      ]
    },
    {
      "cell_type": "code",
      "source": [
        "count = 0\n",
        "for train, label in zip(train_data[\"text\"], train_data[\"sentiment\"]):\n",
        "  if label == 1:\n",
        "    print(train)\n",
        "    print(\"-\" * 100)\n",
        "    count += 1\n",
        "  if count == 10:\n",
        "    break\n",
        "print(count)"
      ],
      "metadata": {
        "colab": {
          "base_uri": "https://localhost:8080/"
        },
        "id": "dRC3KPsIPGOV",
        "outputId": "6be4fc20-778e-4c6e-dd04-c9634a6c2f96"
      },
      "execution_count": null,
      "outputs": [
        {
          "output_type": "stream",
          "name": "stdout",
          "text": [
            "Here is an innovative television drama; which so easily blends a compelling story, brilliantly drawn out character development, humour, romance, and drama into each episode. Here is a show that sings to it's own tune, whether it's audience chooses to follow or not. How many other shows on television these days so boldly change in tone from one season to the next? Where most of the other top shows on this site have found a formula that works, that brings in the viewers and the dollars and have stuck like glue to that formula (Prison Break, 24, and Desperate Housewives come to mind) - LOST takes a different route where even after achieving that plateau and that winning formula, the team of executive producers are brave enough to completely reinvent the show in order to service their higher goal of compelling storytelling. This is where LOST differentiates itself from normal television. This is how it's so defiant of conventional TV. And this is why LOST is one of the most cutting edge and innovative creations of modern television. Forget the naysayers - LOST is, has been, and always will be, there to appease it's cult following first and the general public next. But it's a testament to it's inventiveness that it's garnered a fan base which consists of the best of both audiences.\n",
            "----------------------------------------------------------------------------------------------------\n",
            "George Lopez never caught my interest in his stand up comedy and he still doesn't. But this show is a work of art. It's not ever show where the jokes keep you laughing every time you remember it (and jokes that re memorable at that). This show just has an upbeat look to it and the characters range from an old, short drunk to an dyslexic teenager. I don't know who writes this show but that person does a great job. If they had just continued the show I'm sure that it would get a positive response from the critics of this great country. If you are looking for a good, traditional comedy, then George Lopez is the show for you! The one bad thing is the title. George Lopez? Really? Imagine the Fresh Prince of Bel-Air being \"Will Smith\". C'mon man! But otherwise, this show is genius! 10/10\n",
            "----------------------------------------------------------------------------------------------------\n",
            "What a great Barbara Stanwyck film that I happened to see the other night. \"Jeopardy\" was fantastic. It was made in 1953 and probably for double bills but it kept me on the edge of my seat.<br /><br />Barbara Stanwyck plays Helen, who with husband Doug (Barry Sullivan) and son (Lee Aaker) drive to an isolated fishing spot in Mexico for a vacation. Husband has a fall from the jetty and the only way he is to be saved is if Barbara drives back to a garage for some rope.<br /><br />While there she runs into a psychotic killer (Ralph Meeker - one of my favourites) and what follows is a game of cat and mouse as Barbara tries everything in her power to get Meeker to come back with her to free her husband.<br /><br />The film was so suspenseful and such a surprise - I was not expecting such a great film. But I suppose I should have realized - is there anything Barbara Stanwyck does that is anything less than wonderful?\n",
            "----------------------------------------------------------------------------------------------------\n",
            "Flavia the Heretic is an undeniable work of art and probably my number one recommendation to state that the euro-exploitation cinema is severely underrated and not to be ignored. This is an intelligent and complex film, beautifully realized and  surprise  pretty damn accurate! This is more than just meaningless sleaze or gratuitous violence and it's about time those prudish film committees who categorize Flavia as forbidden trash reckon this as well. Flavia is a beautiful 14th century adolescent, forced to live the life of an obedient nun in a strict convent. She refuses to accept her being inferior just because she's female and she curses her fellow sister for being so tolerant about this. After a fruitless attempt to escape, she befriends another rebellious nun and she even guides a troop of bloodthirsty Muslims into the walls of the convent.<br /><br />Flavia is a downright mesmerizing film! Almost impossible to believe that director Gianfranco Mingozzi managed to make it appear so realistic and so disturbing. I challenge you to come up with a title that centers on the topic of pioneer-feminism more intensely than Flavia does. Several sequences are quite shocking (on the verge of nightmarish, actually) as the camera zooms in on brutal rapes, torture and mutilation. Yet all this raw footage isn't just used to satisfy perverted gorehounds, mind you. I'm strongly convinced that they're part of the statement 'Flavia' is trying to communicate: Humanity (the Catholic Church in particular) historically proved itself to be a hypocrite and discriminating race and there's no use in denying it any further. Films like \"Flavia, the Heretic\" have the courage to question and openly condemn our precious ancestors and I truly admire them for it. Flavia is an outstanding and fundamental exploitation film because of its substance, but it's even brought to an higher level by the wondrous cinematography, the glorious costumes & scenery and a breathtaking musical score by Nicola Piovani. Florinda Bolkin is very convincing as the ambitious and headstrong nun but it's María Casares who steals the show as Sister Agatha. She's a man-hating and loud-mouthed nun who likes to urinate in the open field! Amen, sister!\n",
            "----------------------------------------------------------------------------------------------------\n",
            "I must warn you, there are some spoilers in it. But to start it off, I got \"Spanish Judges\" on February I think. It was mention it was the last copy, but as I see, it wasn't back-ordered. But either way, I have it. I thought it was good. I wanted to see this mainly because of the great actor, Matthew Lillard (I'm surprised no one on the reviews mention the scar) although it is kind of low budget, getting enough money to make this film would be worth spending. Man, what a good actor.<br /><br />The story it about a con artist known as Jack (Matthew Lillard) who \"claims\" to have merchandises called The Spanish Judges. If you don't know what Spanish Judges are or haven't seen the trailer for this and this is the first review you have read, I won't even say what they are. I figure it would be a big twist of no one knew what it was. He needs protection, so he hires a couple who are also crooks, Max and Jamie (Vincent D'Onofrio and Valeria Golino) as well as a crook that goes by the name of Piece (Mark Boone Junior). He has a girlfriend who won't even tell anyone her name because she's from Mars, as she said. So they (mainly Jack) call her \"Mars Girl\". Everything starts out fine, but then it turns to one big game. A game that involves some lust, lies and betrayal.<br /><br />There was some over acting in it (Matt and Valeria, as well as Tamara, were not one of them). There were some scenes they could've done better and the score could've been a little better as well. Some of the score was actually good. The theme they used for the beginning and the end (before the credits) was a good song choice, that's my opinion. The fight scene in the end could've been a little longer and a little more violent, but what can you do? One more comment on Matt: Damn, he plays a smooth, slick con man.<br /><br />I know this is a review, but I need to make a correction towards NeCRo, one of the reviewers: Valeria Golino is not a newcomer. According to this site, she has been acting since 1983. To me, and hopefully to others, she is well known as Charlie Sheen's Italian love interest in both the \"Hot Shots!\" movies. But good review.<br /><br />Although I think it's one of the rare films I've seen and it's really good (which is why I gave it 10 stars above), I will give the grade of what I thought when I first saw it.<br /><br />8/10\n",
            "----------------------------------------------------------------------------------------------------\n",
            "This was a great movie that had a lot of under lying issues. It dealt with issues of rascism and class. But, it also had a message of knowing yourself and taking responsibility for yourself. This movie was very deep it gave the message of that you and only you can control your destiny. It also showed that knowing yourself and being comfortable with who you are is the only way you will ever fit into society. What others think of you is not important. I believe this movie did a wonderful job of showing it. The actors I think were able to convey each character wonderfully. I just thought it was amazing how deep this movie really was. At a just glancing look you wouldn't see how deep the movie is, but on further look you see the underlining meaning of the movie.\n",
            "----------------------------------------------------------------------------------------------------\n",
            "This film was Excellent, I thought that the original one was quiet mediocre. This one however got all the ingredients, a factory 1970 Hemi Challenger with 4 speed transmission that really shows that Mother Mopar knew how to build the best muscle cars! I was in Chrysler heaven every time Kowalski floored that big block Hemi, and he sure did that a lot :)\n",
            "----------------------------------------------------------------------------------------------------\n",
            "If this is supposed to be a portrayal of the American serial killer, it comes across as decidedly average.<br /><br />A journalist [Duchovny] travels across country to California to document America's most famous murderers, unaware that one of his white trailer trash travelling companions [Pitt] is a serial killer himself.<br /><br />Rather predictable throughout, this has its moments of action and Pitt and Lewis portray their roles well, but I'd not bother to see it again.\n",
            "----------------------------------------------------------------------------------------------------\n",
            "I really enjoyed the performances of the main cast. Emma Lung is courageous and interesting. The director has developed performances where the characters are not one dimensional. A complex story with the changing between eras. Also appreciated the underlying story of the unions losing power and the effect of a large employer closing on a small town. I do not agree with the comment that the older man has to be attractive. There have be many relationships with older men and younger women - without the male being good looking. Depth of character can be appealing to the not so shallow. The film has a good look and the cinematography is also good.\n",
            "----------------------------------------------------------------------------------------------------\n",
            "This movie is a great way for the series to finally end. Peter (the boy from Puppet Master III) is all grown up and is now the Puppet Master. Well, this girl comes to destroy the puppets and learn Toulon's secrets but instead she listens to the story about the puppets. Most of this movie is footage from Puppet Master II, Puppet Master III, Puppet Master 4, Puppet Master 5, Curse of the Puppet Master, and Retro Puppet Master (sorry... But I guess Paramount wouldn't let them use scenes from 1). Personally I wish Puppet Master Vs. Demonic Toys would finally be made but the way this movie ends they basically say \"This is THE final movie in the series...\"\n",
            "----------------------------------------------------------------------------------------------------\n",
            "10\n"
          ]
        }
      ]
    },
    {
      "cell_type": "markdown",
      "source": [
        "# IMDB Sentiment Classification with SVM"
      ],
      "metadata": {
        "id": "N3GD-0WgrhVt"
      }
    },
    {
      "cell_type": "code",
      "execution_count": null,
      "metadata": {
        "id": "yQI6isYmNBX6"
      },
      "outputs": [],
      "source": [
        "from sklearn.metrics import accuracy_score\n",
        "from sklearn.svm import LinearSVC\n",
        "\n",
        "\n",
        "# Transform each text into a vector of word counts\n",
        "vectorizer = CountVectorizer(stop_words=\"english\",\n",
        "                             preprocessor=clean_text,\n",
        "                             max_features=80000)\n",
        "\n",
        "training_features = vectorizer.fit_transform(train_data[\"text\"])\n",
        "test_features = vectorizer.transform(test_data[\"text\"])"
      ]
    },
    {
      "cell_type": "code",
      "source": [
        "len(vectorizer.vocabulary_)"
      ],
      "metadata": {
        "colab": {
          "base_uri": "https://localhost:8080/"
        },
        "id": "HHBzL7rRRh2Y",
        "outputId": "946472fb-14e5-4efd-cb46-6d3218c14b59"
      },
      "execution_count": null,
      "outputs": [
        {
          "output_type": "execute_result",
          "data": {
            "text/plain": [
              "80000"
            ]
          },
          "metadata": {},
          "execution_count": 29
        }
      ]
    },
    {
      "cell_type": "code",
      "source": [
        "# Training\n",
        "model = LinearSVC()\n",
        "model.fit(training_features, train_data[\"sentiment\"])\n",
        "y_pred = model.predict(test_features)\n",
        "\n",
        "# Evaluation\n",
        "acc = accuracy_score(test_data[\"sentiment\"], y_pred)\n",
        "\n",
        "print(\"Accuracy on the IMDB dataset: {:.2f}\".format(acc*100))"
      ],
      "metadata": {
        "colab": {
          "base_uri": "https://localhost:8080/"
        },
        "id": "ur4rZIpfRgNp",
        "outputId": "1375d3c4-4a8c-402f-c1cf-c19d64caed9f"
      },
      "execution_count": null,
      "outputs": [
        {
          "output_type": "stream",
          "name": "stdout",
          "text": [
            "Accuracy on the IMDB dataset: 83.98\n"
          ]
        },
        {
          "output_type": "stream",
          "name": "stderr",
          "text": [
            "/usr/local/lib/python3.11/dist-packages/sklearn/svm/_base.py:1243: ConvergenceWarning: Liblinear failed to converge, increase the number of iterations.\n",
            "  warnings.warn(\n"
          ]
        }
      ]
    },
    {
      "cell_type": "markdown",
      "source": [
        "# IMDB Sentiment Classification with TF-IDF featurizer and n-gram"
      ],
      "metadata": {
        "id": "b6N2nTOSryqc"
      }
    },
    {
      "cell_type": "code",
      "execution_count": null,
      "metadata": {
        "id": "ZjCE6-zqNBX6",
        "outputId": "5b65c4d1-6ae3-4920-8484-9d06fbecfbb1"
      },
      "outputs": [
        {
          "name": "stdout",
          "output_type": "stream",
          "text": [
            "Accuracy on the IMDB dataset: 88.66\n"
          ]
        }
      ],
      "source": [
        "from sklearn.svm import LinearSVC\n",
        "from sklearn.metrics import accuracy_score\n",
        "from sklearn.feature_extraction.text import TfidfVectorizer\n",
        "\n",
        "\n",
        "# Transform each text into a vector of word counts\n",
        "vectorizer = TfidfVectorizer(stop_words=\"english\",\n",
        "                             preprocessor=clean_text,\n",
        "                             ngram_range=(1, 2))\n",
        "\n",
        "training_features = vectorizer.fit_transform(train_data[\"text\"])\n",
        "test_features = vectorizer.transform(test_data[\"text\"])\n",
        "\n",
        "# Training\n",
        "model = LinearSVC()\n",
        "model.fit(training_features, train_data[\"sentiment\"])\n",
        "y_pred = model.predict(test_features)\n",
        "\n",
        "# Evaluation\n",
        "acc = accuracy_score(test_data[\"sentiment\"], y_pred)\n",
        "\n",
        "print(\"Accuracy on the IMDB dataset: {:.2f}\".format(acc*100))\n"
      ]
    },
    {
      "cell_type": "markdown",
      "source": [
        "# Your turn"
      ],
      "metadata": {
        "id": "tOj1OCLQshWH"
      }
    },
    {
      "cell_type": "markdown",
      "source": [
        "Improve these above functions to enhance accuary:\n",
        "- Pre-processing\n",
        "- Use other classification algorithms (logistic regression, Perceptron Learning Algorithm,...)\n",
        "- TF-IDF, n-gram\n",
        "\n"
      ],
      "metadata": {
        "id": "OhFzEZ1fsksf"
      }
    },
    {
      "cell_type": "code",
      "source": [],
      "metadata": {
        "id": "ba3RFNhKsjmg"
      },
      "execution_count": null,
      "outputs": []
    }
  ],
  "metadata": {
    "kernelspec": {
      "display_name": "ailab",
      "language": "python",
      "name": "python3"
    },
    "language_info": {
      "codemirror_mode": {
        "name": "ipython",
        "version": 3
      },
      "file_extension": ".py",
      "mimetype": "text/x-python",
      "name": "python",
      "nbconvert_exporter": "python",
      "pygments_lexer": "ipython3",
      "version": "3.10.10"
    },
    "orig_nbformat": 4,
    "colab": {
      "provenance": []
    }
  },
  "nbformat": 4,
  "nbformat_minor": 0
}
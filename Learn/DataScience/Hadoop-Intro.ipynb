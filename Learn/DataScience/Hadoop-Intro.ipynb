{
 "cells": [
  {
   "cell_type": "markdown",
   "metadata": {},
   "source": [
    "### Yêu cầu về phần mềm và công cụ:\n",
    "\n",
    "- **Hadoop Cluster**: Cài đặt Hadoop trên môi trường phân tán hoặc cục bộ (Hadoop Single Node Cluster).\n",
    "- **HDFS (Hadoop Distributed File System)**: Dùng để lưu trữ dữ liệu.\n",
    "- **MapReduce**: Xây dựng các chương trình phân tích dữ liệu bằng MapReduce.\n",
    "- **Hive**: Tạo các bảng, truy vấn dữ liệu bằng ngôn ngữ SQL.\n",
    "- **Spark**: Xử lý dữ liệu nhanh hơn, sử dụng PySpark hoặc Scala.\n",
    "- **Các công cụ bổ trợ**:\n",
    "    - **Sqoop**: Nếu cần nhập dữ liệu từ cơ sở dữ liệu.\n",
    "    - **Flume**: Để thu thập dữ liệu thời gian thực.\n",
    "    - **Pig**: Xử lý dữ liệu bán cấu trúc."
   ]
  },
  {
   "cell_type": "markdown",
   "metadata": {},
   "source": [
    "## Bài 1. Phân tích dữ liệu thời tiết\n",
    "\n",
    "### 1. Thu thập dữ liệu\n",
    "- Dữ liệu từ NOAA hoặc các nguồn cung cấp dữ liệu thời tiết miễn phí (như Kaggle, OpenWeatherMap API).\n",
    "- Dữ liệu thời tiết lịch sử ở định dạng CSV, JSON, hoặc XML.\n",
    "- Cấu trúc dữ liệu: Thông tin cần có: ngày tháng, nhiệt độ cao nhất, nhiệt độ thấp nhất, lượng mưa, tốc độ gió, độ ẩm, áp suất khí quyển."
   ]
  },
  {
   "cell_type": "code",
   "execution_count": null,
   "metadata": {
    "vscode": {
     "languageId": "plaintext"
    }
   },
   "outputs": [],
   "source": []
  },
  {
   "cell_type": "markdown",
   "metadata": {},
   "source": [
    "### 2. Kiểm tra và làm sạch dữ liệu\n",
    "\n"
   ]
  },
  {
   "cell_type": "code",
   "execution_count": null,
   "metadata": {
    "vscode": {
     "languageId": "plaintext"
    }
   },
   "outputs": [],
   "source": []
  },
  {
   "cell_type": "markdown",
   "metadata": {},
   "source": [
    "### 3. Xử lý dữ liệu bằng MapReduce:\n",
    "- Tính toán các chỉ số trung bình: nhiệt độ trung bình, lượng mưa trung bình theo tháng, năm.\n",
    "- Xác định ngày có nhiệt độ cao nhất và thấp nhất.\n",
    "- Tổng hợp dữ liệu theo khu vực địa lý.\n"
   ]
  },
  {
   "cell_type": "code",
   "execution_count": null,
   "metadata": {
    "vscode": {
     "languageId": "plaintext"
    }
   },
   "outputs": [],
   "source": []
  },
  {
   "cell_type": "markdown",
   "metadata": {},
   "source": [
    "### 4. Tìm kiếm và tải dữ liệu về thời tiết (theo vị trí, thời gian)\n",
    "- [NOAA](https://www.ncei.noaa.gov/)"
   ]
  },
  {
   "cell_type": "code",
   "execution_count": null,
   "metadata": {
    "vscode": {
     "languageId": "plaintext"
    }
   },
   "outputs": [],
   "source": []
  },
  {
   "cell_type": "markdown",
   "metadata": {},
   "source": [
    "### 5. Làm sạch dữ liệu:\n",
    "- Xử lý dữ liệu thiếu và sai\n",
    "- Chuyển đổi dữ liệu (từ Fahrenheit sang Celsius, …)"
   ]
  },
  {
   "cell_type": "code",
   "execution_count": null,
   "metadata": {
    "vscode": {
     "languageId": "plaintext"
    }
   },
   "outputs": [],
   "source": []
  },
  {
   "cell_type": "markdown",
   "metadata": {},
   "source": [
    "### 6. Phân tích sự thay đổi của nhiệt độ, lượng mưa theo thời gian hoặc theo mùa\n",
    "- Tính các chỉ số nhiệt độ trung bình, tối đa, tối thiểu.\n",
    "- Tính tổng lượng mưa, tổng độ ẩm\n",
    "- Xác định xu hướng: Phân tích sự thay đổi của các yếu tố thời tiết theo thời gian (theo tháng, năm).\n",
    "- Xác định mùa và các xu hướng thời tiết (nhiệt độ nóng, lạnh, mưa nhiều hay ít)."
   ]
  },
  {
   "cell_type": "code",
   "execution_count": null,
   "metadata": {
    "vscode": {
     "languageId": "plaintext"
    }
   },
   "outputs": [],
   "source": []
  },
  {
   "cell_type": "markdown",
   "metadata": {},
   "source": [
    "### 7. Phân tích dữ liệu bằng Hive:\n",
    "- Tạo bảng trong Hive để lưu trữ dữ liệu thời tiết.\n",
    "- Viết truy vấn SQL để phân tích: nhiệt độ theo mùa, lượng mưa theo vùng."
   ]
  },
  {
   "cell_type": "code",
   "execution_count": null,
   "metadata": {
    "vscode": {
     "languageId": "plaintext"
    }
   },
   "outputs": [],
   "source": []
  },
  {
   "cell_type": "markdown",
   "metadata": {},
   "source": [
    "### 8. Sử dụng Spark cho phân tích nhanh:\n",
    "- Tạo các DataFrame từ dữ liệu thời tiết.\n",
    "- Thực hiện các thao tác như: lọc dữ liệu, tính toán trung bình, vẽ biểu đồ.\n",
    "- Phân tích các xu hướng thời tiết bất thường theo thời gian.\n",
    "- Dự đoán thời tiết bằng các thuật toán học máy trên Spark MLlib."
   ]
  },
  {
   "cell_type": "code",
   "execution_count": null,
   "metadata": {
    "vscode": {
     "languageId": "plaintext"
    }
   },
   "outputs": [],
   "source": []
  },
  {
   "cell_type": "markdown",
   "metadata": {},
   "source": [
    "### 9. Trực quan hóa dữ liệu:\n",
    "- Xuất kết quả từ Hadoop và sử dụng công cụ như Tableau, Power BI, hoặc Python (Matplotlib, Seaborn) để tạo biểu đồ, đồ thị.\n",
    "- Trực quan hóa xu hướng nhiệt độ, lượng mưa, và các hiện tượng thời tiết."
   ]
  },
  {
   "cell_type": "code",
   "execution_count": null,
   "metadata": {
    "vscode": {
     "languageId": "plaintext"
    }
   },
   "outputs": [],
   "source": []
  },
  {
   "cell_type": "markdown",
   "metadata": {},
   "source": []
  }
 ],
 "metadata": {
  "language_info": {
   "name": "python"
  }
 },
 "nbformat": 4,
 "nbformat_minor": 2
}

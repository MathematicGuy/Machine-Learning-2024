{
 "cells": [
  {
   "cell_type": "code",
   "execution_count": 1,
   "metadata": {},
   "outputs": [],
   "source": [
    "import numpy as np"
   ]
  },
  {
   "cell_type": "code",
   "execution_count": null,
   "metadata": {},
   "outputs": [],
   "source": [
    "def convolve(image, kernel):\n",
    "    ih, iw = image.shape\n",
    "    kh, kw = kernel.shape\n",
    "    \n",
    "    \n",
    "    out_h = ih - iw + 1\n",
    "    out_w = iw - kw + 1\n",
    "    \n",
    "    output = np.zeros(out_h, out_w) # use to store convolve\n",
    "    \n",
    "    for i in range(out_h):\n",
    "        for j in range(out_w):\n",
    "            r = image[i:i+kh, j:j+kw]\n",
    "            output[i, j] = np.sum(r*kernel)\n",
    "    \n",
    "    return output        \n",
    "            "
   ]
  },
  {
   "cell_type": "code",
   "execution_count": null,
   "metadata": {},
   "outputs": [],
   "source": [
    "def sobel(image):\n",
    "    sx = np.array([\n",
    "        [1, 0, -1],\n",
    "        [2, 0, -2],\n",
    "        [1, -1, 1]\n",
    "    ]) # kernel-x\n",
    "    \n",
    "    sy = np.array([\n",
    "        [1, 2, 1],\n",
    "        [0, 0, 0],\n",
    "        [-1, -2, -1]\n",
    "    ]) # kernel-y\n",
    "    \n",
    "    Gx = convolve(image, sx)\n",
    "    Gy = convolve(image, sy)\n",
    "    \n",
    "    G = np.sqrt(np.add(np.multiply(Gx, Gx), np.multiply(Gy, Gy)))\n",
    "    \n",
    "    return G, Gx, Gy\n",
    "    "
   ]
  },
  {
   "cell_type": "code",
   "execution_count": null,
   "metadata": {},
   "outputs": [],
   "source": [
    "input_img = np.array(gray).reshape((img_width, img_height))\n",
    "\n"
   ]
  }
 ],
 "metadata": {
  "kernelspec": {
   "display_name": "idd",
   "language": "python",
   "name": "python3"
  },
  "language_info": {
   "codemirror_mode": {
    "name": "ipython",
    "version": 3
   },
   "file_extension": ".py",
   "mimetype": "text/x-python",
   "name": "python",
   "nbconvert_exporter": "python",
   "pygments_lexer": "ipython3",
   "version": "3.10.15"
  }
 },
 "nbformat": 4,
 "nbformat_minor": 2
}

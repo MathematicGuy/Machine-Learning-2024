{
 "cells": [
  {
   "cell_type": "code",
   "execution_count": 3,
   "metadata": {},
   "outputs": [],
   "source": [
    "import numpy as np"
   ]
  },
  {
   "cell_type": "markdown",
   "metadata": {},
   "source": [
    "### 2 Layers Neural Network"
   ]
  },
  {
   "cell_type": "code",
   "execution_count": 4,
   "metadata": {},
   "outputs": [],
   "source": [
    "X = [[0.2, 0.3, 0.5]]\n",
    "\n",
    "W1 = np.array([[2, -1, 1, 5], [1, -1, 2, 3], [-2, 1, 2, -1]])\n",
    "W2 = np.array([[1,-1, 2, 3], [-1,-1,2,3],[-2,1,1,-2], [-1,-1,2,2]])\n",
    "W3 = np.array([[3,1,-2], [1,-1,3], [-1,2,3], [1,-2,1]])"
   ]
  },
  {
   "cell_type": "code",
   "execution_count": 5,
   "metadata": {},
   "outputs": [],
   "source": [
    "def softmax(z):\n",
    "    Z = np.exp(z) / np.sum(np.exp(z))\n",
    "    return Z\n",
    "\n",
    "def sigmoid(z):\n",
    "    return 1 / (1 + np.exp(-z))\n",
    "    \n",
    "def hidden_layer(X, W):\n",
    "    z = np.dot(X, W)\n",
    "    a = sigmoid(z) # sigmoid activation function\n",
    "    print('W:',W)\n",
    "    \n",
    "    return a    \n",
    "\n",
    "def output_layer(X, W):\n",
    "    z = np.dot(X, W)\n",
    "    a = softmax(z) # sigmoid activation function\n",
    "    print('W:',W)\n",
    "    return a"
   ]
  },
  {
   "cell_type": "markdown",
   "metadata": {},
   "source": [
    "### Test"
   ]
  },
  {
   "cell_type": "code",
   "execution_count": 6,
   "metadata": {},
   "outputs": [
    {
     "name": "stdout",
     "output_type": "stream",
     "text": [
      "W: [[ 2 -1  1  5]\n",
      " [ 1 -1  2  3]\n",
      " [-2  1  2 -1]]\n",
      "W: [[ 1 -1  2  3]\n",
      " [-1 -1  2  3]\n",
      " [-2  1  1 -2]\n",
      " [-1 -1  2  2]]\n",
      "W: [[ 3  1 -2]\n",
      " [ 1 -1  3]\n",
      " [-1  2  3]\n",
      " [ 1 -2  1]]\n",
      "[[0.01479786 0.00833321 0.97686894]]\n"
     ]
    }
   ],
   "source": [
    "a0= hidden_layer(X, W1)\n",
    "a1 = hidden_layer(a0, W2)\n",
    "a2 = output_layer(a1, W3)\n",
    "print(a2)\n",
    "\n"
   ]
  },
  {
   "cell_type": "code",
   "execution_count": null,
   "metadata": {},
   "outputs": [],
   "source": []
  },
  {
   "cell_type": "markdown",
   "metadata": {},
   "source": [
    "# Skitlearn"
   ]
  },
  {
   "cell_type": "code",
   "execution_count": 7,
   "metadata": {},
   "outputs": [],
   "source": [
    "from sklearn.neural_network import MLPClassifier\n",
    "import numpy as np "
   ]
  },
  {
   "cell_type": "code",
   "execution_count": 8,
   "metadata": {},
   "outputs": [
    {
     "name": "stdout",
     "output_type": "stream",
     "text": [
      "Weights assigned to the first hidde layer (W1): [[-0.2085731  -0.34544332  0.36066027 -0.08846968]\n",
      " [-0.26977246 -0.33688163 -0.34826404 -0.16834394]\n",
      " [-0.26276579  0.05739325  0.27980807  0.05087891]]\n",
      "Weights assigned to the first hidde layer (W1): [[-0.33423425 -0.03621379  0.07989706 -0.40775716]\n",
      " [ 0.30413755 -0.35737247  0.36223364  0.23877756]\n",
      " [ 0.08696112  0.45516316 -0.18618966  0.36737625]\n",
      " [ 0.09003409 -0.13170615  0.21386287 -0.06640797]]\n",
      "Weights assigned to the first hidde layer (W2): [[-0.58164152]\n",
      " [ 0.57089408]\n",
      " [ 0.08574342]\n",
      " [ 0.1790537 ]]\n"
     ]
    }
   ],
   "source": [
    "mlp = MLPClassifier(hidden_layer_sizes=(4,4), activation='logistic')\n",
    "\n",
    "x_mat_in = np.array([[0.2, 0.3, 0.5], [0.2, 0.5, 0.1]])\n",
    "x_train = x_mat_in\n",
    "y_train = np.array([0, 2])\n",
    "mlp.fit(x_train, y_train)\n",
    "\n",
    "print('Weights assigned to the first hidde layer (W1):', mlp.coefs_[0])\n",
    "print('Weights assigned to the first hidde layer (W1):', mlp.coefs_[1])\n",
    "print('Weights assigned to the first hidde layer (W2):', mlp.coefs_[2])\n"
   ]
  },
  {
   "cell_type": "code",
   "execution_count": 9,
   "metadata": {},
   "outputs": [
    {
     "name": "stdout",
     "output_type": "stream",
     "text": [
      "[[0.38882675 0.61117325]\n",
      " [0.53045917 0.46954083]\n",
      " [0.00954529 0.99045471]]\n"
     ]
    },
    {
     "name": "stderr",
     "output_type": "stream",
     "text": [
      "d:\\CODE\\IDE\\Anaconda\\envs\\idd\\lib\\site-packages\\sklearn\\neural_network\\_multilayer_perceptron.py:690: ConvergenceWarning: Stochastic Optimizer: Maximum iterations (100) reached and the optimization hasn't converged yet.\n",
      "  warnings.warn(\n"
     ]
    }
   ],
   "source": [
    "x_in = np.array([0.2, 0.3, 0.5])\n",
    "y = np.array([0])\n",
    "# Reshape x_in to a 2D array as expected by MLPClassifier\n",
    "x_in = x_in.reshape(1, -1)\n",
    "\n",
    "mlp = MLPClassifier(hidden_layer_sizes=(4, 4), activation='logistic', solver='adam',\n",
    "                    max_iter=100, random_state=1, warm_start=True)\n",
    "\n",
    "mlp.fit (x_in, y)\n",
    "\n",
    "mlp.coefs_[0] = np.array([[2, -1, 1, 5], [1, -1, 2, 3], [-2, 1, 2, -1]])\n",
    "mlp.coefs_[1] = np.array([[1,-1, 2, 3], [-1,-1,2,3],[-2,1,1,-2], [-1,-1,2,2]])\n",
    "mlp.coefs_[2] = np.array([[3,1,-2], [1,-1,3], [-1,2,3], [1,-2,1]])\n",
    "\n",
    "# No bias terms are set in the original code so we set these to 0\n",
    "mlp.intercepts_[0] = np.zeros(4)\n",
    "mlp.intercepts_[1] = np.zeros(4)\n",
    "mlp.intercepts_[2] = np.zeros(3)\n",
    "\n",
    "\n",
    "\n",
    "# Make a prediction\n",
    "output_act = mlp.predict_proba(x_in)\n",
    "print(output_act)\n",
    "\n",
    "W1 = mlp.coefs_[0]\n",
    "W2 = mlp.coefs_[1]\n",
    "W3 = mlp.coefs_[2]\n",
    "\n",
    "b1 = mlp.intercepts_[0]\n",
    "b2 = mlp.intercepts_[1]\n",
    "b3 = mlp.intercepts_[2]"
   ]
  },
  {
   "cell_type": "code",
   "execution_count": 13,
   "metadata": {},
   "outputs": [
    {
     "data": {
      "text/html": [
       "<pre style=\"white-space:pre;overflow-x:auto;line-height:normal;font-family:Menlo,'DejaVu Sans Mono',consolas,'Courier New',monospace\"><span style=\"font-weight: bold\">Model: \"sequential_5\"</span>\n",
       "</pre>\n"
      ],
      "text/plain": [
       "\u001b[1mModel: \"sequential_5\"\u001b[0m\n"
      ]
     },
     "metadata": {},
     "output_type": "display_data"
    },
    {
     "data": {
      "text/html": [
       "<pre style=\"white-space:pre;overflow-x:auto;line-height:normal;font-family:Menlo,'DejaVu Sans Mono',consolas,'Courier New',monospace\">┏━━━━━━━━━━━━━━━━━━━━━━━━━━━━━━━━━┳━━━━━━━━━━━━━━━━━━━━━━━━┳━━━━━━━━━━━━━━━┓\n",
       "┃<span style=\"font-weight: bold\"> Layer (type)                    </span>┃<span style=\"font-weight: bold\"> Output Shape           </span>┃<span style=\"font-weight: bold\">       Param # </span>┃\n",
       "┡━━━━━━━━━━━━━━━━━━━━━━━━━━━━━━━━━╇━━━━━━━━━━━━━━━━━━━━━━━━╇━━━━━━━━━━━━━━━┩\n",
       "│ dense_15 (<span style=\"color: #0087ff; text-decoration-color: #0087ff\">Dense</span>)                │ (<span style=\"color: #00d7ff; text-decoration-color: #00d7ff\">None</span>, <span style=\"color: #00af00; text-decoration-color: #00af00\">4</span>)              │            <span style=\"color: #00af00; text-decoration-color: #00af00\">16</span> │\n",
       "├─────────────────────────────────┼────────────────────────┼───────────────┤\n",
       "│ dense_16 (<span style=\"color: #0087ff; text-decoration-color: #0087ff\">Dense</span>)                │ (<span style=\"color: #00d7ff; text-decoration-color: #00d7ff\">None</span>, <span style=\"color: #00af00; text-decoration-color: #00af00\">4</span>)              │            <span style=\"color: #00af00; text-decoration-color: #00af00\">20</span> │\n",
       "├─────────────────────────────────┼────────────────────────┼───────────────┤\n",
       "│ dense_17 (<span style=\"color: #0087ff; text-decoration-color: #0087ff\">Dense</span>)                │ (<span style=\"color: #00d7ff; text-decoration-color: #00d7ff\">None</span>, <span style=\"color: #00af00; text-decoration-color: #00af00\">3</span>)              │            <span style=\"color: #00af00; text-decoration-color: #00af00\">15</span> │\n",
       "└─────────────────────────────────┴────────────────────────┴───────────────┘\n",
       "</pre>\n"
      ],
      "text/plain": [
       "┏━━━━━━━━━━━━━━━━━━━━━━━━━━━━━━━━━┳━━━━━━━━━━━━━━━━━━━━━━━━┳━━━━━━━━━━━━━━━┓\n",
       "┃\u001b[1m \u001b[0m\u001b[1mLayer (type)                   \u001b[0m\u001b[1m \u001b[0m┃\u001b[1m \u001b[0m\u001b[1mOutput Shape          \u001b[0m\u001b[1m \u001b[0m┃\u001b[1m \u001b[0m\u001b[1m      Param #\u001b[0m\u001b[1m \u001b[0m┃\n",
       "┡━━━━━━━━━━━━━━━━━━━━━━━━━━━━━━━━━╇━━━━━━━━━━━━━━━━━━━━━━━━╇━━━━━━━━━━━━━━━┩\n",
       "│ dense_15 (\u001b[38;5;33mDense\u001b[0m)                │ (\u001b[38;5;45mNone\u001b[0m, \u001b[38;5;34m4\u001b[0m)              │            \u001b[38;5;34m16\u001b[0m │\n",
       "├─────────────────────────────────┼────────────────────────┼───────────────┤\n",
       "│ dense_16 (\u001b[38;5;33mDense\u001b[0m)                │ (\u001b[38;5;45mNone\u001b[0m, \u001b[38;5;34m4\u001b[0m)              │            \u001b[38;5;34m20\u001b[0m │\n",
       "├─────────────────────────────────┼────────────────────────┼───────────────┤\n",
       "│ dense_17 (\u001b[38;5;33mDense\u001b[0m)                │ (\u001b[38;5;45mNone\u001b[0m, \u001b[38;5;34m3\u001b[0m)              │            \u001b[38;5;34m15\u001b[0m │\n",
       "└─────────────────────────────────┴────────────────────────┴───────────────┘\n"
      ]
     },
     "metadata": {},
     "output_type": "display_data"
    },
    {
     "data": {
      "text/html": [
       "<pre style=\"white-space:pre;overflow-x:auto;line-height:normal;font-family:Menlo,'DejaVu Sans Mono',consolas,'Courier New',monospace\"><span style=\"font-weight: bold\"> Total params: </span><span style=\"color: #00af00; text-decoration-color: #00af00\">51</span> (204.00 B)\n",
       "</pre>\n"
      ],
      "text/plain": [
       "\u001b[1m Total params: \u001b[0m\u001b[38;5;34m51\u001b[0m (204.00 B)\n"
      ]
     },
     "metadata": {},
     "output_type": "display_data"
    },
    {
     "data": {
      "text/html": [
       "<pre style=\"white-space:pre;overflow-x:auto;line-height:normal;font-family:Menlo,'DejaVu Sans Mono',consolas,'Courier New',monospace\"><span style=\"font-weight: bold\"> Trainable params: </span><span style=\"color: #00af00; text-decoration-color: #00af00\">51</span> (204.00 B)\n",
       "</pre>\n"
      ],
      "text/plain": [
       "\u001b[1m Trainable params: \u001b[0m\u001b[38;5;34m51\u001b[0m (204.00 B)\n"
      ]
     },
     "metadata": {},
     "output_type": "display_data"
    },
    {
     "data": {
      "text/html": [
       "<pre style=\"white-space:pre;overflow-x:auto;line-height:normal;font-family:Menlo,'DejaVu Sans Mono',consolas,'Courier New',monospace\"><span style=\"font-weight: bold\"> Non-trainable params: </span><span style=\"color: #00af00; text-decoration-color: #00af00\">0</span> (0.00 B)\n",
       "</pre>\n"
      ],
      "text/plain": [
       "\u001b[1m Non-trainable params: \u001b[0m\u001b[38;5;34m0\u001b[0m (0.00 B)\n"
      ]
     },
     "metadata": {},
     "output_type": "display_data"
    },
    {
     "name": "stdout",
     "output_type": "stream",
     "text": [
      "None\n",
      "\u001b[1m1/1\u001b[0m \u001b[32m━━━━━━━━━━━━━━━━━━━━\u001b[0m\u001b[37m\u001b[0m \u001b[1m0s\u001b[0m 78ms/step\n",
      "[[0.16044952 0.3813311  0.4582194 ]]\n"
     ]
    }
   ],
   "source": [
    "from tensorflow.keras.models import Sequential \n",
    "from tensorflow.keras.layers import Dense \n",
    "from tensorflow.keras import Input \n",
    "from tensorflow.keras.optimizers import SGD \n",
    "import tensorflow as tf\n",
    "\n",
    "# Model\n",
    "model = Sequential([\n",
    "    Input(shape=(3,)),\n",
    "    Dense(4, activation='sigmoid'),\n",
    "    Dense(4, activation='sigmoid'),\n",
    "    Dense(3, activation='softmax')        \n",
    "])\n",
    "\n",
    "model.compile(SGD(learning_rate=0.001),\n",
    "               loss='categorical_crossentropy',\n",
    "               metrics=['accuracy'])\n",
    "\n",
    "print(model.summary())\n",
    "output = model.predict(x_in.reshape(1, -1))\n",
    "print(output)\n",
    "\n"
   ]
  },
  {
   "cell_type": "code",
   "execution_count": null,
   "metadata": {},
   "outputs": [],
   "source": []
  }
 ],
 "metadata": {
  "kernelspec": {
   "display_name": "idd",
   "language": "python",
   "name": "python3"
  },
  "language_info": {
   "codemirror_mode": {
    "name": "ipython",
    "version": 3
   },
   "file_extension": ".py",
   "mimetype": "text/x-python",
   "name": "python",
   "nbconvert_exporter": "python",
   "pygments_lexer": "ipython3",
   "version": "3.10.15"
  }
 },
 "nbformat": 4,
 "nbformat_minor": 2
}

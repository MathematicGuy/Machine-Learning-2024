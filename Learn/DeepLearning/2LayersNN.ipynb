{
 "cells": [
  {
   "cell_type": "code",
   "execution_count": 3,
   "metadata": {},
   "outputs": [],
   "source": [
    "import numpy as np"
   ]
  },
  {
   "cell_type": "markdown",
   "metadata": {},
   "source": [
    "### 2 Layers Neural Network"
   ]
  },
  {
   "cell_type": "code",
   "execution_count": 14,
   "metadata": {},
   "outputs": [],
   "source": [
    "X = [0.5, 0.2, 0.1]\n",
    "\n",
    "W = [\n",
    "    [0.2, 0.8, 0.5, 0.3],\n",
    "    [0.6, 0.9, 0.7, 0.4],\n",
    "    [0.4, 0.1, 0.3, 0.7],\n",
    "]"
   ]
  },
  {
   "cell_type": "code",
   "execution_count": 15,
   "metadata": {},
   "outputs": [],
   "source": [
    "def softmax(z):\n",
    "    Z = np.exp(z) / np.sum(np.exp(z))\n",
    "    return Z\n",
    "\n",
    "def sigmoid(z):\n",
    "    return 1 / (1 + np.exp(-z))\n",
    "    \n",
    "def forward(X, W):\n",
    "    z = np.dot(X, W)\n",
    "    a = softmax(z) # sigmoid activation function\n",
    "    print('W:',W)\n",
    "    return a"
   ]
  },
  {
   "cell_type": "markdown",
   "metadata": {},
   "source": [
    "### Test"
   ]
  },
  {
   "cell_type": "code",
   "execution_count": 20,
   "metadata": {},
   "outputs": [],
   "source": [
    "def NN(X, W):\n",
    "    a3 = forward(X, W)\n",
    "    \n",
    "\n",
    "    return a3        "
   ]
  },
  {
   "cell_type": "code",
   "execution_count": 22,
   "metadata": {},
   "outputs": [
    {
     "name": "stdout",
     "output_type": "stream",
     "text": [
      "W: [[0.2, 0.8, 0.5, 0.3], [0.6, 0.9, 0.7, 0.4], [0.4, 0.1, 0.3, 0.7]]\n",
      "a: [0.2171416  0.30203705 0.25481803 0.22600332]\n"
     ]
    }
   ],
   "source": [
    "print('a:', NN(X, W))"
   ]
  },
  {
   "cell_type": "code",
   "execution_count": null,
   "metadata": {},
   "outputs": [],
   "source": []
  },
  {
   "cell_type": "code",
   "execution_count": null,
   "metadata": {},
   "outputs": [],
   "source": []
  }
 ],
 "metadata": {
  "kernelspec": {
   "display_name": "vision",
   "language": "python",
   "name": "python3"
  },
  "language_info": {
   "codemirror_mode": {
    "name": "ipython",
    "version": 3
   },
   "file_extension": ".py",
   "mimetype": "text/x-python",
   "name": "python",
   "nbconvert_exporter": "python",
   "pygments_lexer": "ipython3",
   "version": "3.10.14"
  }
 },
 "nbformat": 4,
 "nbformat_minor": 2
}

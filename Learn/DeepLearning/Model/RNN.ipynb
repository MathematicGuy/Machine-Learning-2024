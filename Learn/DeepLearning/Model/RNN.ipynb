{
 "cells": [
  {
   "cell_type": "markdown",
   "metadata": {},
   "source": [
    "# RNN Computation"
   ]
  },
  {
   "cell_type": "markdown",
   "metadata": {},
   "source": [
    "### 1. Manual Computation"
   ]
  },
  {
   "cell_type": "markdown",
   "metadata": {},
   "source": [
    "U: (4 x 3)\n",
    "$$\n",
    "U = \\begin{bmatrix}\n",
    "0.1 & 0.2 & 0.5 \\\\\n",
    "0.4 & 0.5 & 0.6 \\\\\n",
    "0.7 & 0.8 & 0.9 \\\\\n",
    "1.0 & 1.1 & 1.2 \\\\\n",
    "\\end{bmatrix}\n",
    "$$"
   ]
  },
  {
   "cell_type": "code",
   "execution_count": 8,
   "metadata": {},
   "outputs": [],
   "source": [
    "import numpy as np\n",
    "import tensorflow as tf"
   ]
  },
  {
   "cell_type": "code",
   "execution_count": 9,
   "metadata": {},
   "outputs": [
    {
     "name": "stdout",
     "output_type": "stream",
     "text": [
      "(4, 3)\n"
     ]
    }
   ],
   "source": [
    "matrix = np.array([[0.1, 0.2, 0.5],\n",
    "                   [0.4, 0.5, 0.6],\n",
    "                   [0.7, 0.8, 0.9],\n",
    "                   [1.0, 1.1, 1.2]])\n",
    "print(matrix.shape)"
   ]
  },
  {
   "cell_type": "code",
   "execution_count": null,
   "metadata": {},
   "outputs": [],
   "source": [
    "W = np.array([[0.1, 0.2, 0.5],\n",
    "                   [0.4, 0.5, 0.6],\n",
    "                   [0.7, 0.8, 0.9],\n",
    "                   [1.0, 1.1, 1.2]])\n",
    "print(matrix.shape)"
   ]
  },
  {
   "cell_type": "code",
   "execution_count": 10,
   "metadata": {},
   "outputs": [
    {
     "name": "stdout",
     "output_type": "stream",
     "text": [
      "(4, 3)\n"
     ]
    }
   ],
   "source": [
    "V = np.array([[0.1, 0.2, 0.5],\n",
    "              [0.4, 0.5, 0.6],\n",
    "              [0.7, 0.8, 0.9],\n",
    "              [1.0, 1.1, 1.2]])\n",
    "print(V.shape)"
   ]
  },
  {
   "cell_type": "code",
   "execution_count": 7,
   "metadata": {},
   "outputs": [
    {
     "name": "stdout",
     "output_type": "stream",
     "text": [
      "(4, 1)\n",
      "(3, 1)\n"
     ]
    }
   ],
   "source": [
    "b = np.array([[0.1], [0.1], [0.1], [0.1]])\n",
    "print(b.shape)\n",
    "\n",
    "c = np.array([[0.2], [0.2], [0.2]])\n",
    "print(c.shape)"
   ]
  },
  {
   "cell_type": "code",
   "execution_count": null,
   "metadata": {},
   "outputs": [],
   "source": []
  }
 ],
 "metadata": {
  "kernelspec": {
   "display_name": "vision",
   "language": "python",
   "name": "python3"
  },
  "language_info": {
   "codemirror_mode": {
    "name": "ipython",
    "version": 3
   },
   "file_extension": ".py",
   "mimetype": "text/x-python",
   "name": "python",
   "nbconvert_exporter": "python",
   "pygments_lexer": "ipython3",
   "version": "3.10.14"
  }
 },
 "nbformat": 4,
 "nbformat_minor": 2
}

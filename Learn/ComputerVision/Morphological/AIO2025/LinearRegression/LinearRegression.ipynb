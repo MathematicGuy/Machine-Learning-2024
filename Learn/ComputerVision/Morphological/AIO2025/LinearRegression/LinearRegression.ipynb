{
 "cells": [
  {
   "cell_type": "code",
   "execution_count": 144,
   "metadata": {},
   "outputs": [],
   "source": [
    "import pandas as pd\n",
    "import numpy as np "
   ]
  },
  {
   "cell_type": "code",
   "execution_count": 145,
   "metadata": {},
   "outputs": [
    {
     "data": {
      "text/plain": [
       "[[230.1, 37.8, 69.2, 22.1],\n",
       " [44.5, 39.3, 45.1, 10.4],\n",
       " [17.2, 45.9, 69.3, 12.0],\n",
       " [151.5, 41.3, 58.5, 16.5],\n",
       " [180.8, 10.8, 58.4, 17.9]]"
      ]
     },
     "execution_count": 145,
     "metadata": {},
     "output_type": "execute_result"
    }
   ],
   "source": [
    "data = np.genfromtxt('advertising.csv', delimiter=',', skip_header=1).tolist()\n",
    "data[:5]"
   ]
  },
  {
   "cell_type": "code",
   "execution_count": 146,
   "metadata": {},
   "outputs": [
    {
     "name": "stdout",
     "output_type": "stream",
     "text": [
      "[230.1, 44.5, 17.2, 151.5, 180.8]\n",
      "[37.8, 39.3, 45.9, 41.3, 10.8]\n",
      "[69.2, 45.1, 69.3, 58.5, 58.4]\n",
      "[22.1, 10.4, 12.0, 16.5, 17.9]\n"
     ]
    }
   ],
   "source": [
    "def get_column(data, index):\n",
    "    column = [row[index] for row in data]\n",
    "    return column\n",
    "\n",
    "tv = get_column(data[:5], 0)\n",
    "radio = get_column(data[:5], 1)\n",
    "news = get_column(data[:5], 2)\n",
    "sales = get_column(data[:5], 3)\n",
    "\n",
    "print(tv)\n",
    "print(radio)\n",
    "print(news)\n",
    "print(sales)"
   ]
  },
  {
   "cell_type": "code",
   "execution_count": 147,
   "metadata": {},
   "outputs": [
    {
     "name": "stdout",
     "output_type": "stream",
     "text": [
      "X: [230.1, 44.5, 17.2, 151.5, 180.8, 8.7, 57.5, 120.2, 8.6, 199.8, 66.1, 214.7, 23.8, 97.5, 204.1, 195.4, 67.8, 281.4, 69.2, 147.3, 218.4, 237.4, 13.2, 228.3, 62.3, 262.9, 142.9, 240.1, 248.8, 70.6, 292.9, 112.9, 97.2, 265.6, 95.7, 290.7, 266.9, 74.7, 43.1, 228.0, 202.5, 177.0, 293.6, 206.9, 25.1, 175.1, 89.7, 239.9, 227.2, 66.9, 199.8, 100.4, 216.4, 182.6, 262.7, 198.9, 7.3, 136.2, 210.8, 210.7, 53.5, 261.3, 239.3, 102.7, 131.1, 69.0, 31.5, 139.3, 237.4, 216.8, 199.1, 109.8, 26.8, 129.4, 213.4, 16.9, 27.5, 120.5, 5.4, 116.0, 76.4, 239.8, 75.3, 68.4, 213.5, 193.2, 76.3, 110.7, 88.3, 109.8, 134.3, 28.6, 217.7, 250.9, 107.4, 163.3, 197.6, 184.9, 289.7, 135.2, 222.4, 296.4, 280.2, 187.9, 238.2, 137.9, 25.0, 90.4, 13.1, 255.4, 225.8, 241.7, 175.7, 209.6, 78.2, 75.1, 139.2, 76.4, 125.7, 19.4, 141.3, 18.8, 224.0, 123.1, 229.5, 87.2, 7.8, 80.2, 220.3, 59.6, 0.7, 265.2, 8.4, 219.8, 36.9, 48.3, 25.6, 273.7, 43.0, 184.9, 73.4, 193.7, 220.5, 104.6, 96.2, 140.3, 240.1, 243.2, 38.0, 44.7, 280.7, 121.0, 197.6, 171.3, 187.8, 4.1, 93.9, 149.8, 11.7, 131.7, 172.5, 85.7, 188.4, 163.5, 117.2, 234.5, 17.9, 206.8, 215.4, 284.3, 50.0, 164.5, 19.6, 168.4, 222.4, 276.9, 248.4, 170.2, 276.7, 165.6, 156.6, 218.5, 56.2, 287.6, 253.8, 205.0, 139.5, 191.1, 286.0, 18.7, 39.5, 75.5, 17.2, 166.8, 149.7, 38.2, 94.2, 177.0, 283.6, 232.1]\n",
      "y: [22.1, 10.4, 12.0, 16.5, 17.9, 7.2, 11.8, 13.2, 4.8, 15.6, 12.6, 17.4, 9.2, 13.7, 19.0, 22.4, 12.5, 24.4, 11.3, 14.6, 18.0, 17.5, 5.6, 20.5, 9.7, 17.0, 15.0, 20.9, 18.9, 10.5, 21.4, 11.9, 13.2, 17.4, 11.9, 17.8, 25.4, 14.7, 10.1, 21.5, 16.6, 17.1, 20.7, 17.9, 8.5, 16.1, 10.6, 23.2, 19.8, 9.7, 16.4, 10.7, 22.6, 21.2, 20.2, 23.7, 5.5, 13.2, 23.8, 18.4, 8.1, 24.2, 20.7, 14.0, 16.0, 11.3, 11.0, 13.4, 18.9, 22.3, 18.3, 12.4, 8.8, 11.0, 17.0, 8.7, 6.9, 14.2, 5.3, 11.0, 11.8, 17.3, 11.3, 13.6, 21.7, 20.2, 12.0, 16.0, 12.9, 16.7, 14.0, 7.3, 19.4, 22.2, 11.5, 16.9, 16.7, 20.5, 25.4, 17.2, 16.7, 23.8, 19.8, 19.7, 20.7, 15.0, 7.2, 12.0, 5.3, 19.8, 18.4, 21.8, 17.1, 20.9, 14.6, 12.6, 12.2, 9.4, 15.9, 6.6, 15.5, 7.0, 16.6, 15.2, 19.7, 10.6, 6.6, 11.9, 24.7, 9.7, 1.6, 17.7, 5.7, 19.6, 10.8, 11.6, 9.5, 20.8, 9.6, 20.7, 10.9, 19.2, 20.1, 10.4, 12.3, 10.3, 18.2, 25.4, 10.9, 10.1, 16.1, 11.6, 16.6, 16.0, 20.6, 3.2, 15.3, 10.1, 7.3, 12.9, 16.4, 13.3, 19.9, 18.0, 11.9, 16.9, 8.0, 17.2, 17.1, 20.0, 8.4, 17.5, 7.6, 16.7, 16.5, 27.0, 20.2, 16.7, 16.8, 17.6, 15.5, 17.2, 8.7, 26.2, 17.6, 22.6, 10.3, 17.3, 20.9, 6.7, 10.8, 11.9, 5.9, 19.6, 17.3, 7.6, 14.0, 14.8, 25.5, 18.4]\n",
      "[624.1, 175.10000000000002, 300.5, 78.9]\n"
     ]
    }
   ],
   "source": [
    "def prepare_data(file_name_dataset):\n",
    "    data = np.genfromtxt(file_name_dataset, delimiter=',', skip_header=1).tolist()\n",
    "    \n",
    "    tv = get_column(data, 0)\n",
    "    radio = get_column(data, 1)\n",
    "    news = get_column(data, 2)\n",
    "    sales = get_column(data, 3)\n",
    "\n",
    "    X = [tv, radio, news]\n",
    "    y = sales\n",
    "    \n",
    "    return X, y\n",
    "    \n",
    "X, y = prepare_data('advertising.csv')    \n",
    "print('X:', X[0])\n",
    "print('y:', y)\n",
    "\n",
    "list = [sum(X[0][:5]), sum(X[1][:5]), sum(X[2][:5]), sum(y[:5])]\n",
    "print(list)\n"
   ]
  },
  {
   "cell_type": "code",
   "execution_count": 148,
   "metadata": {},
   "outputs": [
    {
     "name": "stdout",
     "output_type": "stream",
     "text": [
      "0.016992259082509283 0.0070783670518262355 -0.002307860847821344 0\n"
     ]
    }
   ],
   "source": [
    "def initialize_params():\n",
    "    # w1 = random.gauss(mu=0.0, sigma=0.01)\n",
    "    # w2 = random.gauss(mu=0.0, sigma=0.01)\n",
    "    # w3 = random.gauss(mu=0.0, sigma=0.01)\n",
    "    # b  = 0\n",
    "    w1, w2, w3, b = (0.016992259082509283, 0.0070783670518262355, -0.002307860847821344, 0)\n",
    "    \n",
    "    return w1, w2, w3, b\n",
    "\n",
    "\n",
    "# initialize model's parameters\n",
    "w1, w2, w3, b = initialize_params()\n",
    "print(w1, w2, w3, b)"
   ]
  },
  {
   "cell_type": "code",
   "execution_count": 149,
   "metadata": {},
   "outputs": [
    {
     "name": "stdout",
     "output_type": "stream",
     "text": [
      "-1.0\n",
      "-3.0\n"
     ]
    }
   ],
   "source": [
    "def predict(x1, x2, x3, w1, w2, w3, b):\n",
    "    return w1*x1 + w2*x2 + w3*x3 + b\n",
    "\n",
    "def compute_gradient_w(x, ypred, y):\n",
    "    return 2*x*(ypred - y)\n",
    "\n",
    "def compute_gradient_b(ypred, y):\n",
    "    return 2*(ypred - y)\n",
    "\n",
    "g_wi = compute_gradient_w(1.0, 0.5, 1.0)\n",
    "print (g_wi)\n",
    "\n",
    "g_b = compute_gradient_b(0.5, 2)\n",
    "print (g_b)\n",
    "\n"
   ]
  },
  {
   "cell_type": "code",
   "execution_count": 150,
   "metadata": {},
   "outputs": [
    {
     "name": "stdout",
     "output_type": "stream",
     "text": [
      "0.50001\n"
     ]
    }
   ],
   "source": [
    "def update_parameter(w, dL, learning_rate):\n",
    "    w = w - learning_rate*dL\n",
    "    return w\n",
    "\n",
    "after_wi = update_parameter(0.5, -1.0, 1e-5)\n",
    "print (after_wi)"
   ]
  },
  {
   "cell_type": "code",
   "execution_count": 151,
   "metadata": {},
   "outputs": [
    {
     "name": "stdout",
     "output_type": "stream",
     "text": [
      "0.25\n"
     ]
    }
   ],
   "source": [
    "def compute_loss(ypred, y):\n",
    "    return (ypred - y)**2\n",
    "\n",
    "l = compute_loss(ypred=1, y=0.5)\n",
    "print(l)"
   ]
  },
  {
   "cell_type": "code",
   "execution_count": 152,
   "metadata": {},
   "outputs": [],
   "source": [
    "def implement_linear_regression(X_data, y_data, epoch_max, lr):\n",
    "    losses = []\n",
    "    N = len(y_data) \n",
    "    \n",
    "    w1, w2, w3, b = initialize_params()\n",
    "    \n",
    "    for epoch in range(epoch_max):\n",
    "        for i in range(N):\n",
    "            x1 = X_data[0][i] # tv\n",
    "            x2 = X_data[1][i] # radio\n",
    "            x3 = X_data[2][i] # news\n",
    "         \n",
    "            y = y_data[i] # price\n",
    "            \n",
    "            ypred = predict(x1, x2, x3, w1, w2, w3, b)\n",
    "            loss = compute_loss(ypred, y)\n",
    "            \n",
    "            dLw1 = compute_gradient_w(x1, ypred, y)\n",
    "            dLw2 = compute_gradient_w(x2, ypred, y)\n",
    "            dLw3 = compute_gradient_w(x3, ypred, y)\n",
    "            dLb = compute_gradient_b(ypred, y)\n",
    "            \n",
    "            w1 = update_parameter(w1, dLw1, learning_rate=lr)\n",
    "            w2 = update_parameter(w2, dLw2, learning_rate=lr)\n",
    "            w3 = update_parameter(w3, dLw3, learning_rate=lr)\n",
    "            b = update_parameter(b, dLb, learning_rate=lr)\n",
    "        \n",
    "            if len(losses) < 20000:\n",
    "                losses.append(loss)\n",
    "\n",
    "    return (w1, w2, w3, b, losses) \n",
    "        \n",
    "    \n",
    "    \n",
    "X_data, y_data = prepare_data('advertising.csv')    \n",
    "epoch_max = 50\n",
    "lr = 1e-5\n",
    "w1, w2, w3, b, losses = implement_linear_regression(X_data, y_data, epoch_max=epoch_max, lr=lr)"
   ]
  },
  {
   "cell_type": "code",
   "execution_count": 153,
   "metadata": {},
   "outputs": [
    {
     "data": {
      "image/png": "[encoded data removed]",
      "text/plain": [
       "<Figure size 640x480 with 1 Axes>"
      ]
     },
     "metadata": {},
     "output_type": "display_data"
    }
   ],
   "source": [
    "import matplotlib.pyplot as plt\n",
    "plt.plot(losses)\n",
    "plt.show()"
   ]
  },
  {
   "cell_type": "code",
   "execution_count": 156,
   "metadata": {},
   "outputs": [
    {
     "data": {
      "image/png": "[encoded data removed]",
      "text/plain": [
       "<Figure size 640x480 with 1 Axes>"
      ]
     },
     "metadata": {},
     "output_type": "display_data"
    }
   ],
   "source": [
    "plt.plot(losses[:100])\n",
    "plt.show()"
   ]
  },
  {
   "cell_type": "code",
   "execution_count": 157,
   "metadata": {},
   "outputs": [
    {
     "name": "stdout",
     "output_type": "stream",
     "text": [
      "0.07405984066396477 0.15917360263437663 0.017561197559948935\n"
     ]
    }
   ],
   "source": [
    "print(w1, w2, w3)"
   ]
  },
  {
   "cell_type": "markdown",
   "metadata": {},
   "source": [
    "### Predict New data"
   ]
  },
  {
   "cell_type": "code",
   "execution_count": 158,
   "metadata": {},
   "outputs": [
    {
     "name": "stdout",
     "output_type": "stream",
     "text": [
      "predicted sales is 1.0\n"
     ]
    }
   ],
   "source": [
    "tv = 19.2\n",
    "radio = 35.9 \n",
    "newspaper = 51.3\n",
    "\n",
    "sales = predict(1, 1, 1, 0, 0.5, 0, 0.5)\n",
    "print(f'predicted sales is {sales}')\n",
    "\n",
    "# 8.176413319549823"
   ]
  },
  {
   "cell_type": "code",
   "execution_count": null,
   "metadata": {},
   "outputs": [],
   "source": []
  }
 ],
 "metadata": {
  "kernelspec": {
   "display_name": "vision",
   "language": "python",
   "name": "python3"
  },
  "language_info": {
   "codemirror_mode": {
    "name": "ipython",
    "version": 3
   },
   "file_extension": ".py",
   "mimetype": "text/x-python",
   "name": "python",
   "nbconvert_exporter": "python",
   "pygments_lexer": "ipython3",
   "version": "3.10.14"
  }
 },
 "nbformat": 4,
 "nbformat_minor": 2
}

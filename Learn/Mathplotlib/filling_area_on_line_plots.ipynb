{
 "cells": [
  {
   "cell_type": "code",
   "execution_count": 47,
   "id": "initial_id",
   "metadata": {
    "ExecuteTime": {
     "end_time": "2024-09-18T07:28:54.689322Z",
     "start_time": "2024-09-18T07:28:54.677323Z"
    },
    "collapsed": true
   },
   "outputs": [],
   "source": [
    "from matplotlib import pyplot as plt # import pyplot from matplotlib\n",
    "import pandas as pd "
   ]
  },
  {
   "cell_type": "markdown",
   "id": "ad45c808b8da4dd8",
   "metadata": {},
   "source": [
    "# Filling Area\n",
    "Use when you need to detect changes between 2 plot or median using filled color to visualize the range of differences.\n",
    "\n",
    "\n",
    "e.g. tesla stock go up or down the stock median"
   ]
  },
  {
   "cell_type": "code",
   "execution_count": 48,
   "id": "5a92f23304abc9a5",
   "metadata": {
    "ExecuteTime": {
     "end_time": "2024-09-18T07:28:54.720311Z",
     "start_time": "2024-09-18T07:28:54.697311Z"
    }
   },
   "outputs": [],
   "source": [
    "data = pd.read_csv('data/dev_salary_data.csv')\n",
    "plt.style.use(\"seaborn-v0_8-notebook\") # set style to xkcd\n",
    "\n",
    "ages = data['Age']\n",
    "all_salary = data['All_Devs']\n",
    "py_salary = data['Python']\n",
    "js_salary = data['JavaScript']"
   ]
  },
  {
   "cell_type": "code",
   "execution_count": null,
   "id": "9162d57123226c77",
   "metadata": {
    "ExecuteTime": {
     "end_time": "2024-09-18T07:28:54.927639Z",
     "start_time": "2024-09-18T07:28:54.723312Z"
    }
   },
   "outputs": [],
   "source": [
    "plt.plot(ages, py_salary, label='Python Dev')\n",
    "plt.plot(ages, js_salary,label='JavaScript Dev') \n",
    "plt.plot(ages, all_salary, linestyle='--',label='All Developer') \n",
    "\n",
    "plt.fill_between(ages, py_salary, alpha=0.25) # alpha ~ transparent percent\n",
    "\n",
    "plt.title(\"Median Salary (USD by Age\")\n",
    "plt.xlabel(\"Ages\")\n",
    "plt.ylabel(\"Median Salary (USD)\")\n",
    "plt.tight_layout()\n",
    "plt.legend()\n",
    "plt.show()"
   ]
  },
  {
   "cell_type": "markdown",
   "id": "2221f77c97ac7fab",
   "metadata": {},
   "source": [
    "### Check when Python Salary Above Median Salary\n",
    "\n",
    "plt.fillbetween(\n",
    "\n",
    "                plot1, plot2, plot_n,\n",
    "\n",
    "                where=(condition), # tell the plot where to fill color\n",
    "\n",
    "                interpolate=True # fix buggy intercept between line\n",
    "\n",
    "                color=color\n",
    "                \n",
    "                label=\"label_name\"\n",
    "                \n",
    "                alpha=0.22 # how transparent are filled colors\n",
    ")"
   ]
  },
  {
   "cell_type": "code",
   "execution_count": null,
   "id": "c891f6c2deee0a85",
   "metadata": {
    "ExecuteTime": {
     "end_time": "2024-09-18T07:30:05.922419Z",
     "start_time": "2024-09-18T07:30:05.720529Z"
    }
   },
   "outputs": [],
   "source": [
    "plt.plot(ages, py_salary, label='Python Dev')\n",
    "plt.plot(ages, js_salary,label='Java Script Dev') \n",
    "plt.plot(ages, all_salary, linestyle='--',label='All Developer') \n",
    "\n",
    "plt.fill_between(ages, py_salary, all_salary, # py_salary plot line get filled\n",
    "                 where=(py_salary > all_salary), # condition statement for where to fill color\n",
    "                 interpolate=True, # make sure certain x-intersection don't get clip and all region fill correctly\n",
    "                 color='green',\n",
    "                 label='Above Avg',\n",
    "                 alpha=0.25) # alpha ~ transparent percent\n",
    "\n",
    "plt.fill_between(ages, py_salary, all_salary, # py_salary plot line get filled\n",
    "                 where=(py_salary < all_salary), # condition statement for where to fill color\n",
    "                 interpolate=True, # make sure certain x-intersection don't get clip and all region fill correctly\n",
    "                 color='red',\n",
    "                 label='Below Avg',\n",
    "                 alpha=0.25) # alpha ~ transparent percent\n",
    "\n",
    "\n",
    "plt.title(\"Median Salary (USD) by Age\")\n",
    "plt.xlabel(\"Ages\")\n",
    "plt.ylabel(\"Median Salary (USD)\")\n",
    "plt.tight_layout()\n",
    "plt.legend()\n",
    "plt.show()"
   ]
  }
 ],
 "metadata": {
  "kernelspec": {
   "display_name": "Python 3",
   "language": "python",
   "name": "python3"
  },
  "language_info": {
   "codemirror_mode": {
    "name": "ipython",
    "version": 2
   },
   "file_extension": ".py",
   "mimetype": "text/x-python",
   "name": "python",
   "nbconvert_exporter": "python",
   "pygments_lexer": "ipython2",
   "version": "2.7.6"
  }
 },
 "nbformat": 4,
 "nbformat_minor": 5
}

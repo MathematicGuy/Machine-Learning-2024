{
 "cells": [
  {
   "cell_type": "code",
   "id": "initial_id",
   "metadata": {
    "collapsed": true,
    "ExecuteTime": {
     "end_time": "2024-07-26T09:42:22.947185Z",
     "start_time": "2024-07-26T09:42:22.942364Z"
    }
   },
   "source": [
    "import os\n",
    "\n",
    "import sklearn.metrics\n",
    "\n",
    "# Set the OMP_NUM_THREADS environment variable to 1\n",
    "os.environ['OMP_NUM_THREADS'] = '1'\n",
    "\n",
    "import pandas as pd \n",
    "from matplotlib import pyplot as plt\n",
    "import numpy as np"
   ],
   "outputs": [],
   "execution_count": 8
  },
  {
   "metadata": {
    "ExecuteTime": {
     "end_time": "2024-07-26T09:42:22.959938Z",
     "start_time": "2024-07-26T09:42:22.948281Z"
    }
   },
   "cell_type": "code",
   "source": [
    "df = pd.read_csv(\"income.csv\")\n",
    "df.head() # show 5 first value\n",
    "# df # show all value"
   ],
   "id": "210b8a173f427744",
   "outputs": [
    {
     "data": {
      "text/plain": [
       "      Name  Age  Income($)\n",
       "0      Rob   27      70000\n",
       "1  Michael   29      90000\n",
       "2    Mohan   29      61000\n",
       "3   Ismail   28      60000\n",
       "4     Kory   42     150000"
      ],
      "text/html": [
       "<div>\n",
       "<style scoped>\n",
       "    .dataframe tbody tr th:only-of-type {\n",
       "        vertical-align: middle;\n",
       "    }\n",
       "\n",
       "    .dataframe tbody tr th {\n",
       "        vertical-align: top;\n",
       "    }\n",
       "\n",
       "    .dataframe thead th {\n",
       "        text-align: right;\n",
       "    }\n",
       "</style>\n",
       "<table border=\"1\" class=\"dataframe\">\n",
       "  <thead>\n",
       "    <tr style=\"text-align: right;\">\n",
       "      <th></th>\n",
       "      <th>Name</th>\n",
       "      <th>Age</th>\n",
       "      <th>Income($)</th>\n",
       "    </tr>\n",
       "  </thead>\n",
       "  <tbody>\n",
       "    <tr>\n",
       "      <th>0</th>\n",
       "      <td>Rob</td>\n",
       "      <td>27</td>\n",
       "      <td>70000</td>\n",
       "    </tr>\n",
       "    <tr>\n",
       "      <th>1</th>\n",
       "      <td>Michael</td>\n",
       "      <td>29</td>\n",
       "      <td>90000</td>\n",
       "    </tr>\n",
       "    <tr>\n",
       "      <th>2</th>\n",
       "      <td>Mohan</td>\n",
       "      <td>29</td>\n",
       "      <td>61000</td>\n",
       "    </tr>\n",
       "    <tr>\n",
       "      <th>3</th>\n",
       "      <td>Ismail</td>\n",
       "      <td>28</td>\n",
       "      <td>60000</td>\n",
       "    </tr>\n",
       "    <tr>\n",
       "      <th>4</th>\n",
       "      <td>Kory</td>\n",
       "      <td>42</td>\n",
       "      <td>150000</td>\n",
       "    </tr>\n",
       "  </tbody>\n",
       "</table>\n",
       "</div>"
      ]
     },
     "execution_count": 9,
     "metadata": {},
     "output_type": "execute_result"
    }
   ],
   "execution_count": 9
  },
  {
   "metadata": {
    "ExecuteTime": {
     "end_time": "2024-07-26T09:42:23.123088Z",
     "start_time": "2024-07-26T09:42:22.962267Z"
    }
   },
   "cell_type": "code",
   "source": "plt.scatter(df['Age'], df['Income($)'])",
   "id": "8077369d7bf6cf55",
   "outputs": [
    {
     "data": {
      "text/plain": [
       "<matplotlib.collections.PathCollection at 0x210de2e5790>"
      ]
     },
     "execution_count": 10,
     "metadata": {},
     "output_type": "execute_result"
    },
    {
     "data": {
      "text/plain": [
       "<Figure size 640x480 with 1 Axes>"
      ],
      "image/png": "[encoded data removed]"
     },
     "metadata": {},
     "output_type": "display_data"
    }
   ],
   "execution_count": 10
  },
  {
   "metadata": {},
   "cell_type": "markdown",
   "source": [
    "Calculate Euclidian Distance between Data Points and Centroid\n",
    "\n",
    "![\"Euclidean Distance\"](images/euclidean_distance.png)"
   ],
   "id": "a6e2817fe541e326"
  },
  {
   "metadata": {},
   "cell_type": "markdown",
   "source": "### Normalize Data ",
   "id": "e6017d99704e0b95"
  },
  {
   "metadata": {
    "ExecuteTime": {
     "end_time": "2024-07-26T09:42:23.139410Z",
     "start_time": "2024-07-26T09:42:23.124616Z"
    }
   },
   "cell_type": "code",
   "source": [
    "import csv\n",
    "from sklearn.preprocessing import MinMaxScaler\n",
    "\n",
    "data = []\n",
    "# Open the CSV file in read mode\n",
    "with open('income.csv', 'r') as cvf:\n",
    "    # Create a reader object\n",
    "    reader = csv.reader(cvf)\n",
    "\n",
    "    # Iterate through the rows in the CSV file\n",
    "    for row in reader:\n",
    "        # Access reach element in the row\n",
    "        data.append(row[:][-2:])\n",
    "    # print(\"data =\", data)\n",
    "    # print()\n",
    "\n",
    "# Your data\n",
    "\n",
    "# Convert to DataFrame\n",
    "df = pd.DataFrame(data[1:], columns=data[0]) # data[:1] mean choose every row except for the 0th row \n",
    "# Convert columns to numeric\n",
    "df['Age'] = pd.to_numeric(df['Age'])\n",
    "df['Income($)'] = pd.to_numeric(df['Income($)'])\n",
    "\n",
    "# Initialize MinMaxScaler\n",
    "scaler = MinMaxScaler()\n",
    "\n",
    "# Scale the data\n",
    "df_scaled = pd.DataFrame(scaler.fit_transform(df), columns=df.columns)\n",
    "# Display the normalized data\n",
    "print(df_scaled)\n",
    "print()\n",
    "\n",
    "# Convert the scaled DataFrame to a (n, 2) list\n",
    "scaled_data_list = df_scaled[['Age', 'Income($)']].values.tolist()\n",
    "scaled_data_list = np.array(scaled_data_list) # convert to numpy array for ML\n",
    "# Display the (n, 2) list\n",
    "print('Data:', scaled_data_list)"
   ],
   "id": "b5f7a4a8564a6cfc",
   "outputs": [
    {
     "name": "stdout",
     "output_type": "stream",
     "text": [
      "         Age  Income($)\n",
      "0   0.058824   0.213675\n",
      "1   0.176471   0.384615\n",
      "2   0.176471   0.136752\n",
      "3   0.117647   0.128205\n",
      "4   0.941176   0.897436\n",
      "5   0.764706   0.940171\n",
      "6   0.882353   0.982906\n",
      "7   0.705882   1.000000\n",
      "8   0.588235   0.948718\n",
      "9   0.529412   0.726496\n",
      "10  0.647059   0.786325\n",
      "11  0.000000   0.000000\n",
      "12  0.058824   0.025641\n",
      "13  0.117647   0.051282\n",
      "14  0.176471   0.038462\n",
      "15  0.352941   0.068376\n",
      "16  0.823529   0.170940\n",
      "17  0.882353   0.153846\n",
      "18  1.000000   0.162393\n",
      "19  0.764706   0.299145\n",
      "20  0.882353   0.316239\n",
      "21  0.764706   0.111111\n",
      "\n",
      "Data: [[0.05882353 0.21367521]\n",
      " [0.17647059 0.38461538]\n",
      " [0.17647059 0.13675214]\n",
      " [0.11764706 0.12820513]\n",
      " [0.94117647 0.8974359 ]\n",
      " [0.76470588 0.94017094]\n",
      " [0.88235294 0.98290598]\n",
      " [0.70588235 1.        ]\n",
      " [0.58823529 0.94871795]\n",
      " [0.52941176 0.72649573]\n",
      " [0.64705882 0.78632479]\n",
      " [0.         0.        ]\n",
      " [0.05882353 0.02564103]\n",
      " [0.11764706 0.05128205]\n",
      " [0.17647059 0.03846154]\n",
      " [0.35294118 0.06837607]\n",
      " [0.82352941 0.17094017]\n",
      " [0.88235294 0.15384615]\n",
      " [1.         0.16239316]\n",
      " [0.76470588 0.2991453 ]\n",
      " [0.88235294 0.31623932]\n",
      " [0.76470588 0.11111111]]\n"
     ]
    }
   ],
   "execution_count": 11
  },
  {
   "metadata": {},
   "cell_type": "markdown",
   "source": "Making K-Means",
   "id": "6debb8386e391078"
  },
  {
   "metadata": {
    "ExecuteTime": {
     "end_time": "2024-07-26T09:42:23.152019Z",
     "start_time": "2024-07-26T09:42:23.141605Z"
    }
   },
   "cell_type": "code",
   "source": [
    "class KMeansClustering:\n",
    "    def __init__(self, k=3, max_iter=200):\n",
    "        self.k = k\n",
    "        self.centroids = None\n",
    "        self.max_iter = max_iter\n",
    "    \n",
    "    @staticmethod\n",
    "    def euclidean_distance(data_point, centroids):\n",
    "        return np.sqrt(np.sum((centroids - data_point)**2, axis=1))\n",
    "    \n",
    "    def fit(self, X, max_iter):\n",
    "        #? Make sure the centroid generated within the given Axis\n",
    "        #? amin/amax - axis-min/axis-max\n",
    "        #? K: how many centroid we want to have\n",
    "        print(\"shape:\", X.shape)\n",
    "        self.centroids = np.random.uniform(np.amin(X, axis=0), np.amax(X, axis=0), size=(self.k, X.shape[1]))\n",
    "        \n",
    "        for _ in range(max_iter):\n",
    "            y  = []\n",
    "            for data_points in X:\n",
    "                distances = KMeansClustering.euclidean_distance(data_points, self.centroids)\n",
    "                #? argmin(distances): find the index of the smallest distance in distances array\n",
    "                cluster_num = np.argmin(distances) \n",
    "                y.append(cluster_num)\n",
    "            y = np.array(y)\n",
    "            # print(y)\n",
    "            \n",
    "            # Re-Adjust the Centroid Position. Base on these label\n",
    "            cluster_indices = []\n",
    "            \n",
    "            for i in range(self.k):\n",
    "                cluster_indices.append(np.argwhere(y == i)) # append cluster indexes\n",
    "            # print('cluster_indices:', cluster_indices)\n",
    "            \n",
    "            cluster_centers = [] # reposition the centroid\n",
    "            \n",
    "            for i, indices in enumerate(cluster_indices):\n",
    "                # for when there 100th centroid and only 3 clusters. Some of the Centroids will have empty cluster indices.\n",
    "                if len(indices) == 0:\n",
    "                    # set the empty centroid as the new centroid\n",
    "                    cluster_centers.append(self.centroids[i])\n",
    "                else:\n",
    "                    cluster_centers.append(np.mean(X[indices], axis=0)[0])\n",
    "            # print('cluster_centers:', cluster_centers)\n",
    "           \n",
    "            if np.max(self.centroids - np.array(cluster_centers)) < 0.01:\n",
    "                break\n",
    "            else:\n",
    "                self.centroids = np.array(cluster_centers)\n",
    "        \n",
    "            return y\n",
    "            "
   ],
   "id": "be3edc8aec10b24f",
   "outputs": [],
   "execution_count": 12
  },
  {
   "metadata": {
    "ExecuteTime": {
     "end_time": "2024-07-26T09:42:23.161992Z",
     "start_time": "2024-07-26T09:42:23.153507Z"
    }
   },
   "cell_type": "code",
   "source": [
    "from sklearn.datasets import make_blobs\n",
    "from sklearn.metrics import adjusted_rand_score\n",
    "\n",
    "# generate an array of 100 samples (row) and 2 features (column) - (n_samples=100, n_features=2) \n",
    "# The data points are generated around 3 centers - (centers=3)\n",
    "# n_samples: this array contains the int labels for cluster id of each sample (variety of points). Since centers = 3, labels = {0, 1, 2} \n",
    "data = make_blobs(n_samples=100, n_features=2, centers=3) \n",
    "# print(\"mein data:\", data)\n",
    "# random_points = data[0]\n",
    "random_points = scaled_data_list\n",
    "# print('random point:', random_points)\n",
    "#! scaled_data_list need to return dataset (array) & dataset_cluster_label (array of samples cluster label)\n",
    "print('scaled_data_list:\\n', random_points) \n",
    "\n",
    "kmeans = KMeansClustering(k=3) # Assigned k=3 to KMeansClustering Object\n",
    "labels = kmeans.fit(random_points, max_iter=200) \n",
    "\n",
    "print(\"Clusters Label:\", labels) \n",
    "\n",
    "# ari = adjusted_rand_score(labels, labels)\n",
    "# print(ari)"
   ],
   "id": "549c40b6a0d13e42",
   "outputs": [
    {
     "name": "stdout",
     "output_type": "stream",
     "text": [
      "scaled_data_list:\n",
      " [[0.05882353 0.21367521]\n",
      " [0.17647059 0.38461538]\n",
      " [0.17647059 0.13675214]\n",
      " [0.11764706 0.12820513]\n",
      " [0.94117647 0.8974359 ]\n",
      " [0.76470588 0.94017094]\n",
      " [0.88235294 0.98290598]\n",
      " [0.70588235 1.        ]\n",
      " [0.58823529 0.94871795]\n",
      " [0.52941176 0.72649573]\n",
      " [0.64705882 0.78632479]\n",
      " [0.         0.        ]\n",
      " [0.05882353 0.02564103]\n",
      " [0.11764706 0.05128205]\n",
      " [0.17647059 0.03846154]\n",
      " [0.35294118 0.06837607]\n",
      " [0.82352941 0.17094017]\n",
      " [0.88235294 0.15384615]\n",
      " [1.         0.16239316]\n",
      " [0.76470588 0.2991453 ]\n",
      " [0.88235294 0.31623932]\n",
      " [0.76470588 0.11111111]]\n",
      "shape: (22, 2)\n",
      "Clusters Label: [1 1 1 1 2 2 2 2 2 2 2 1 1 1 1 1 0 0 0 0 2 0]\n"
     ]
    }
   ],
   "execution_count": 13
  },
  {
   "metadata": {
    "ExecuteTime": {
     "end_time": "2024-07-26T09:42:23.402647Z",
     "start_time": "2024-07-26T09:42:23.166399Z"
    }
   },
   "cell_type": "code",
   "source": [
    "plt.scatter(random_points[:, 0], random_points[:, 1], c=labels) # x, y, color\n",
    "plt.scatter(kmeans.centroids[:, 0], kmeans.centroids[:, 1], c=range(len(kmeans.centroids)),\n",
    "            marker=\"*\", s=200) "
   ],
   "id": "a0a04fa97efe3ae6",
   "outputs": [
    {
     "data": {
      "text/plain": [
       "<matplotlib.collections.PathCollection at 0x210de3431d0>"
      ]
     },
     "execution_count": 14,
     "metadata": {},
     "output_type": "execute_result"
    },
    {
     "data": {
      "text/plain": [
       "<Figure size 640x480 with 1 Axes>"
      ],
      "image/png": "[encoded data removed]"
     },
     "metadata": {},
     "output_type": "display_data"
    }
   ],
   "execution_count": 14
  }
 ],
 "metadata": {
  "kernelspec": {
   "display_name": "Python 3",
   "language": "python",
   "name": "python3"
  },
  "language_info": {
   "codemirror_mode": {
    "name": "ipython",
    "version": 2
   },
   "file_extension": ".py",
   "mimetype": "text/x-python",
   "name": "python",
   "nbconvert_exporter": "python",
   "pygments_lexer": "ipython2",
   "version": "2.7.6"
  }
 },
 "nbformat": 4,
 "nbformat_minor": 5
}

{
 "cells": [
  {
   "cell_type": "code",
   "execution_count": 1,
   "metadata": {
    "ExecuteTime": {
     "end_time": "2024-08-15T09:36:31.537973Z",
     "start_time": "2024-08-15T09:36:31.516953Z"
    },
    "executionInfo": {
     "elapsed": 4,
     "status": "ok",
     "timestamp": 1723520999578,
     "user": {
      "displayName": "Adoft Putin",
      "userId": "00985434086778375795"
     },
     "user_tz": -420
    },
    "id": "yGkrjN-rGZcX"
   },
   "outputs": [],
   "source": [
    "import numpy as np\n",
    "import pandas as pd\n",
    "import plotly.express as px\n",
    "\n",
    "import re # regular expression\n",
    "from nltk.stem import PorterStemmer\n",
    "from keras.preprocessing.text import Tokenizer\n",
    "from keras.preprocessing.sequence import pad_sequences\n",
    "from sklearn.preprocessing import StandardScaler\n",
    "from sklearn.model_selection import train_test_split\n",
    "from sklearn.utils import class_weight\n",
    "\n",
    "import tensorflow as tf"
   ]
  },
  {
   "cell_type": "code",
   "execution_count": 2,
   "metadata": {
    "ExecuteTime": {
     "end_time": "2024-08-15T09:36:32.030749Z",
     "start_time": "2024-08-15T09:36:31.994728Z"
    },
    "executionInfo": {
     "elapsed": 524,
     "status": "ok",
     "timestamp": 1723521259311,
     "user": {
      "displayName": "Adoft Putin",
      "userId": "00985434086778375795"
     },
     "user_tz": -420
    },
    "id": "qu8iy6OfGv4c"
   },
   "outputs": [],
   "source": [
    "data = pd.read_csv('../dataset/1.ramen-ratings.csv')"
   ]
  },
  {
   "cell_type": "code",
   "execution_count": 144,
   "metadata": {
    "ExecuteTime": {
     "end_time": "2024-08-15T09:36:32.061270Z",
     "start_time": "2024-08-15T09:36:32.033737Z"
    },
    "colab": {
     "base_uri": "https://localhost:8080/",
     "height": 597
    },
    "executionInfo": {
     "elapsed": 13,
     "status": "ok",
     "timestamp": 1723521259841,
     "user": {
      "displayName": "Adoft Putin",
      "userId": "00985434086778375795"
     },
     "user_tz": -420
    },
    "id": "x-fdnjQ4js6X",
    "outputId": "366033f5-70fe-4d53-d929-dc8db844ce57"
   },
   "outputs": [
    {
     "data": {
      "text/html": [
       "<div>\n",
       "<style scoped>\n",
       "    .dataframe tbody tr th:only-of-type {\n",
       "        vertical-align: middle;\n",
       "    }\n",
       "\n",
       "    .dataframe tbody tr th {\n",
       "        vertical-align: top;\n",
       "    }\n",
       "\n",
       "    .dataframe thead th {\n",
       "        text-align: right;\n",
       "    }\n",
       "</style>\n",
       "<table border=\"1\" class=\"dataframe\">\n",
       "  <thead>\n",
       "    <tr style=\"text-align: right;\">\n",
       "      <th></th>\n",
       "      <th>Review #</th>\n",
       "      <th>Brand</th>\n",
       "      <th>Variety</th>\n",
       "      <th>Style</th>\n",
       "      <th>Country</th>\n",
       "      <th>Stars</th>\n",
       "      <th>Top Ten</th>\n",
       "    </tr>\n",
       "  </thead>\n",
       "  <tbody>\n",
       "    <tr>\n",
       "      <th>0</th>\n",
       "      <td>2580</td>\n",
       "      <td>New Touch</td>\n",
       "      <td>T's Restaurant Tantanmen</td>\n",
       "      <td>Cup</td>\n",
       "      <td>Japan</td>\n",
       "      <td>3.75</td>\n",
       "      <td>NaN</td>\n",
       "    </tr>\n",
       "    <tr>\n",
       "      <th>1</th>\n",
       "      <td>2579</td>\n",
       "      <td>Just Way</td>\n",
       "      <td>Noodles Spicy Hot Sesame Spicy Hot Sesame Guan-miao Noodles</td>\n",
       "      <td>Pack</td>\n",
       "      <td>Taiwan</td>\n",
       "      <td>1</td>\n",
       "      <td>NaN</td>\n",
       "    </tr>\n",
       "    <tr>\n",
       "      <th>2</th>\n",
       "      <td>2578</td>\n",
       "      <td>Nissin</td>\n",
       "      <td>Cup Noodles Chicken Vegetable</td>\n",
       "      <td>Cup</td>\n",
       "      <td>USA</td>\n",
       "      <td>2.25</td>\n",
       "      <td>NaN</td>\n",
       "    </tr>\n",
       "    <tr>\n",
       "      <th>3</th>\n",
       "      <td>2577</td>\n",
       "      <td>Wei Lih</td>\n",
       "      <td>GGE Ramen Snack Tomato Flavor</td>\n",
       "      <td>Pack</td>\n",
       "      <td>Taiwan</td>\n",
       "      <td>2.75</td>\n",
       "      <td>NaN</td>\n",
       "    </tr>\n",
       "    <tr>\n",
       "      <th>4</th>\n",
       "      <td>2576</td>\n",
       "      <td>Ching's Secret</td>\n",
       "      <td>Singapore Curry</td>\n",
       "      <td>Pack</td>\n",
       "      <td>India</td>\n",
       "      <td>3.75</td>\n",
       "      <td>NaN</td>\n",
       "    </tr>\n",
       "    <tr>\n",
       "      <th>...</th>\n",
       "      <td>...</td>\n",
       "      <td>...</td>\n",
       "      <td>...</td>\n",
       "      <td>...</td>\n",
       "      <td>...</td>\n",
       "      <td>...</td>\n",
       "      <td>...</td>\n",
       "    </tr>\n",
       "    <tr>\n",
       "      <th>2575</th>\n",
       "      <td>5</td>\n",
       "      <td>Vifon</td>\n",
       "      <td>Hu Tiu Nam Vang [\"Phnom Penh\" style] Asian Style Instant Rice Noodles</td>\n",
       "      <td>Bowl</td>\n",
       "      <td>Vietnam</td>\n",
       "      <td>3.5</td>\n",
       "      <td>NaN</td>\n",
       "    </tr>\n",
       "    <tr>\n",
       "      <th>2576</th>\n",
       "      <td>4</td>\n",
       "      <td>Wai Wai</td>\n",
       "      <td>Oriental Style Instant Noodles</td>\n",
       "      <td>Pack</td>\n",
       "      <td>Thailand</td>\n",
       "      <td>1</td>\n",
       "      <td>NaN</td>\n",
       "    </tr>\n",
       "    <tr>\n",
       "      <th>2577</th>\n",
       "      <td>3</td>\n",
       "      <td>Wai Wai</td>\n",
       "      <td>Tom Yum Shrimp</td>\n",
       "      <td>Pack</td>\n",
       "      <td>Thailand</td>\n",
       "      <td>2</td>\n",
       "      <td>NaN</td>\n",
       "    </tr>\n",
       "    <tr>\n",
       "      <th>2578</th>\n",
       "      <td>2</td>\n",
       "      <td>Wai Wai</td>\n",
       "      <td>Tom Yum Chili Flavor</td>\n",
       "      <td>Pack</td>\n",
       "      <td>Thailand</td>\n",
       "      <td>2</td>\n",
       "      <td>NaN</td>\n",
       "    </tr>\n",
       "    <tr>\n",
       "      <th>2579</th>\n",
       "      <td>1</td>\n",
       "      <td>Westbrae</td>\n",
       "      <td>Miso Ramen</td>\n",
       "      <td>Pack</td>\n",
       "      <td>USA</td>\n",
       "      <td>0.5</td>\n",
       "      <td>NaN</td>\n",
       "    </tr>\n",
       "  </tbody>\n",
       "</table>\n",
       "<p>2580 rows × 7 columns</p>\n",
       "</div>"
      ],
      "text/plain": [
       "      Review #           Brand  \\\n",
       "0         2580       New Touch   \n",
       "1         2579        Just Way   \n",
       "2         2578          Nissin   \n",
       "3         2577         Wei Lih   \n",
       "4         2576  Ching's Secret   \n",
       "...        ...             ...   \n",
       "2575         5           Vifon   \n",
       "2576         4         Wai Wai   \n",
       "2577         3         Wai Wai   \n",
       "2578         2         Wai Wai   \n",
       "2579         1        Westbrae   \n",
       "\n",
       "                                                                    Variety  \\\n",
       "0                                                 T's Restaurant Tantanmen    \n",
       "1               Noodles Spicy Hot Sesame Spicy Hot Sesame Guan-miao Noodles   \n",
       "2                                             Cup Noodles Chicken Vegetable   \n",
       "3                                             GGE Ramen Snack Tomato Flavor   \n",
       "4                                                           Singapore Curry   \n",
       "...                                                                     ...   \n",
       "2575  Hu Tiu Nam Vang [\"Phnom Penh\" style] Asian Style Instant Rice Noodles   \n",
       "2576                                         Oriental Style Instant Noodles   \n",
       "2577                                                         Tom Yum Shrimp   \n",
       "2578                                                   Tom Yum Chili Flavor   \n",
       "2579                                                             Miso Ramen   \n",
       "\n",
       "     Style   Country Stars Top Ten  \n",
       "0      Cup     Japan  3.75     NaN  \n",
       "1     Pack    Taiwan     1     NaN  \n",
       "2      Cup       USA  2.25     NaN  \n",
       "3     Pack    Taiwan  2.75     NaN  \n",
       "4     Pack     India  3.75     NaN  \n",
       "...    ...       ...   ...     ...  \n",
       "2575  Bowl   Vietnam   3.5     NaN  \n",
       "2576  Pack  Thailand     1     NaN  \n",
       "2577  Pack  Thailand     2     NaN  \n",
       "2578  Pack  Thailand     2     NaN  \n",
       "2579  Pack       USA   0.5     NaN  \n",
       "\n",
       "[2580 rows x 7 columns]"
      ]
     },
     "execution_count": 144,
     "metadata": {},
     "output_type": "execute_result"
    }
   ],
   "source": [
    "data"
   ]
  },
  {
   "cell_type": "code",
   "execution_count": 145,
   "metadata": {
    "ExecuteTime": {
     "end_time": "2024-08-15T09:36:32.092258Z",
     "start_time": "2024-08-15T09:36:32.067267Z"
    },
    "colab": {
     "base_uri": "https://localhost:8080/"
    },
    "executionInfo": {
     "elapsed": 10,
     "status": "ok",
     "timestamp": 1723521259842,
     "user": {
      "displayName": "Adoft Putin",
      "userId": "00985434086778375795"
     },
     "user_tz": -420
    },
    "id": "ekpymu1LkDda",
    "outputId": "07cab4b4-9036-477a-e8fd-19ab3bfda51d"
   },
   "outputs": [
    {
     "name": "stdout",
     "output_type": "stream",
     "text": [
      "<class 'pandas.core.frame.DataFrame'>\n",
      "RangeIndex: 2580 entries, 0 to 2579\n",
      "Data columns (total 7 columns):\n",
      " #   Column    Non-Null Count  Dtype \n",
      "---  ------    --------------  ----- \n",
      " 0   Review #  2580 non-null   int64 \n",
      " 1   Brand     2580 non-null   object\n",
      " 2   Variety   2580 non-null   object\n",
      " 3   Style     2578 non-null   object\n",
      " 4   Country   2580 non-null   object\n",
      " 5   Stars     2580 non-null   object\n",
      " 6   Top Ten   41 non-null     object\n",
      "dtypes: int64(1), object(6)\n",
      "memory usage: 141.2+ KB\n"
     ]
    }
   ],
   "source": [
    "data.info()"
   ]
  },
  {
   "cell_type": "markdown",
   "metadata": {
    "id": "9eWlXveDnoRK"
   },
   "source": [
    "# Preprocessing: Remove Unnecessary Data\n",
    "Tiền Xử Lý Dữ Liệu với bộ dữ liệu nhận được"
   ]
  },
  {
   "cell_type": "code",
   "execution_count": 146,
   "metadata": {
    "ExecuteTime": {
     "end_time": "2024-08-15T09:36:32.123254Z",
     "start_time": "2024-08-15T09:36:32.101250Z"
    },
    "colab": {
     "base_uri": "https://localhost:8080/",
     "height": 304
    },
    "executionInfo": {
     "elapsed": 8,
     "status": "ok",
     "timestamp": 1723521259842,
     "user": {
      "displayName": "Adoft Putin",
      "userId": "00985434086778375795"
     },
     "user_tz": -420
    },
    "id": "ZvW9PiyynZG8",
    "outputId": "c81b1ca4-9d05-4f42-b156-b1dc4d86c5bc"
   },
   "outputs": [
    {
     "data": {
      "text/plain": [
       "Review #       0\n",
       "Brand          0\n",
       "Variety        0\n",
       "Style          2\n",
       "Country        0\n",
       "Stars          0\n",
       "Top Ten     2539\n",
       "dtype: int64"
      ]
     },
     "execution_count": 146,
     "metadata": {},
     "output_type": "execute_result"
    }
   ],
   "source": [
    "data.isna().sum() # This"
   ]
  },
  {
   "cell_type": "code",
   "execution_count": 147,
   "metadata": {
    "ExecuteTime": {
     "end_time": "2024-08-15T09:36:32.199785Z",
     "start_time": "2024-08-15T09:36:32.181794Z"
    },
    "colab": {
     "base_uri": "https://localhost:8080/"
    },
    "executionInfo": {
     "elapsed": 9,
     "status": "ok",
     "timestamp": 1723521260283,
     "user": {
      "displayName": "Adoft Putin",
      "userId": "00985434086778375795"
     },
     "user_tz": -420
    },
    "id": "RxSoYB0nnr3E",
    "outputId": "4e739132-4511-4375-fbfd-a868d51c8539"
   },
   "outputs": [
    {
     "data": {
      "text/plain": [
       "array([nan, '2016 #10', '2016 #1', '2016 #8', '2016 #5', '2016 #9',\n",
       "       '2016 #7', '2015 #10', '2015 #7', '2015 #4', '2015 #9', '2015 #6',\n",
       "       '2015 #1', '2013 #10', '2015 #8', '2014 #7', '2014 #4', '2014 #9',\n",
       "       '2014 #10', '2014 #8', '2014 #5', '2014 #6', '2014 #1', '2013 #1',\n",
       "       '2013 #2', '2013 #4', '\\n', '2013 #9', '2013 #3', '2012 #10',\n",
       "       '2012 #7', '2012 #5', '2012 #3', '2012 #6', '2012 #9', '2012 #1',\n",
       "       '2012 #2', '2013 #6', '2012 #4'], dtype=object)"
      ]
     },
     "execution_count": 147,
     "metadata": {},
     "output_type": "execute_result"
    }
   ],
   "source": [
    "data['Top Ten'].unique()"
   ]
  },
  {
   "cell_type": "code",
   "execution_count": 148,
   "metadata": {
    "ExecuteTime": {
     "end_time": "2024-08-15T09:36:32.295332Z",
     "start_time": "2024-08-15T09:36:32.268334Z"
    },
    "executionInfo": {
     "elapsed": 7,
     "status": "ok",
     "timestamp": 1723521260283,
     "user": {
      "displayName": "Adoft Putin",
      "userId": "00985434086778375795"
     },
     "user_tz": -420
    },
    "id": "L0L4ithqtoZA"
   },
   "outputs": [],
   "source": [
    "data['Top Ten'] = data['Top Ten'].replace('\\n', np.NaN) # replace /n with null value (NaN)\n",
    "data['isTopTen'] = data['Top Ten'].apply(lambda x: 0 if str(x) == 'nan' else 1) # repalce NaN with 0, else 1\n",
    "data = data.drop('Top Ten', axis=1) # Remove the original Top Ten as it no longer useful\n",
    "data = data.drop('Review #', axis=1) # Remove Review # as it is not useful"
   ]
  },
  {
   "cell_type": "code",
   "execution_count": 149,
   "metadata": {
    "ExecuteTime": {
     "end_time": "2024-08-15T09:36:32.516485Z",
     "start_time": "2024-08-15T09:36:32.503477Z"
    },
    "colab": {
     "base_uri": "https://localhost:8080/",
     "height": 272
    },
    "executionInfo": {
     "elapsed": 6,
     "status": "ok",
     "timestamp": 1723521260283,
     "user": {
      "displayName": "Adoft Putin",
      "userId": "00985434086778375795"
     },
     "user_tz": -420
    },
    "id": "OBu4a2THufw5",
    "outputId": "2b3d8670-b55b-4020-8562-1a74f94a6354"
   },
   "outputs": [
    {
     "data": {
      "text/plain": [
       "Brand       0\n",
       "Variety     0\n",
       "Style       2\n",
       "Country     0\n",
       "Stars       0\n",
       "isTopTen    0\n",
       "dtype: int64"
      ]
     },
     "execution_count": 149,
     "metadata": {},
     "output_type": "execute_result"
    }
   ],
   "source": [
    "data.isna().sum()"
   ]
  },
  {
   "cell_type": "code",
   "execution_count": 150,
   "metadata": {
    "ExecuteTime": {
     "end_time": "2024-08-15T09:36:32.659558Z",
     "start_time": "2024-08-15T09:36:32.639021Z"
    },
    "executionInfo": {
     "elapsed": 6,
     "status": "ok",
     "timestamp": 1723521260284,
     "user": {
      "displayName": "Adoft Putin",
      "userId": "00985434086778375795"
     },
     "user_tz": -420
    },
    "id": "Hg9jebRgvoWy"
   },
   "outputs": [],
   "source": [
    "data = data.dropna(axis=0).reset_index(drop=True) # Drop any row that have any value"
   ]
  },
  {
   "cell_type": "code",
   "execution_count": 151,
   "metadata": {
    "ExecuteTime": {
     "end_time": "2024-08-15T09:36:32.675559Z",
     "start_time": "2024-08-15T09:36:32.661551Z"
    },
    "colab": {
     "base_uri": "https://localhost:8080/",
     "height": 511
    },
    "executionInfo": {
     "elapsed": 5,
     "status": "ok",
     "timestamp": 1723521260688,
     "user": {
      "displayName": "Adoft Putin",
      "userId": "00985434086778375795"
     },
     "user_tz": -420
    },
    "id": "R3w_vWqHxrJx",
    "outputId": "d6421571-683f-42e9-a423-e8cd7f9ae2c5"
   },
   "outputs": [
    {
     "data": {
      "text/html": [
       "<div>\n",
       "<style scoped>\n",
       "    .dataframe tbody tr th:only-of-type {\n",
       "        vertical-align: middle;\n",
       "    }\n",
       "\n",
       "    .dataframe tbody tr th {\n",
       "        vertical-align: top;\n",
       "    }\n",
       "\n",
       "    .dataframe thead th {\n",
       "        text-align: right;\n",
       "    }\n",
       "</style>\n",
       "<table border=\"1\" class=\"dataframe\">\n",
       "  <thead>\n",
       "    <tr style=\"text-align: right;\">\n",
       "      <th></th>\n",
       "      <th>Brand</th>\n",
       "      <th>Variety</th>\n",
       "      <th>Style</th>\n",
       "      <th>Country</th>\n",
       "      <th>Stars</th>\n",
       "      <th>isTopTen</th>\n",
       "    </tr>\n",
       "  </thead>\n",
       "  <tbody>\n",
       "    <tr>\n",
       "      <th>0</th>\n",
       "      <td>New Touch</td>\n",
       "      <td>T's Restaurant Tantanmen</td>\n",
       "      <td>Cup</td>\n",
       "      <td>Japan</td>\n",
       "      <td>3.75</td>\n",
       "      <td>0</td>\n",
       "    </tr>\n",
       "    <tr>\n",
       "      <th>1</th>\n",
       "      <td>Just Way</td>\n",
       "      <td>Noodles Spicy Hot Sesame Spicy Hot Sesame Guan-miao Noodles</td>\n",
       "      <td>Pack</td>\n",
       "      <td>Taiwan</td>\n",
       "      <td>1</td>\n",
       "      <td>0</td>\n",
       "    </tr>\n",
       "    <tr>\n",
       "      <th>2</th>\n",
       "      <td>Nissin</td>\n",
       "      <td>Cup Noodles Chicken Vegetable</td>\n",
       "      <td>Cup</td>\n",
       "      <td>USA</td>\n",
       "      <td>2.25</td>\n",
       "      <td>0</td>\n",
       "    </tr>\n",
       "    <tr>\n",
       "      <th>3</th>\n",
       "      <td>Wei Lih</td>\n",
       "      <td>GGE Ramen Snack Tomato Flavor</td>\n",
       "      <td>Pack</td>\n",
       "      <td>Taiwan</td>\n",
       "      <td>2.75</td>\n",
       "      <td>0</td>\n",
       "    </tr>\n",
       "    <tr>\n",
       "      <th>4</th>\n",
       "      <td>Ching's Secret</td>\n",
       "      <td>Singapore Curry</td>\n",
       "      <td>Pack</td>\n",
       "      <td>India</td>\n",
       "      <td>3.75</td>\n",
       "      <td>0</td>\n",
       "    </tr>\n",
       "    <tr>\n",
       "      <th>...</th>\n",
       "      <td>...</td>\n",
       "      <td>...</td>\n",
       "      <td>...</td>\n",
       "      <td>...</td>\n",
       "      <td>...</td>\n",
       "      <td>...</td>\n",
       "    </tr>\n",
       "    <tr>\n",
       "      <th>2573</th>\n",
       "      <td>Vifon</td>\n",
       "      <td>Hu Tiu Nam Vang [\"Phnom Penh\" style] Asian Style Instant Rice Noodles</td>\n",
       "      <td>Bowl</td>\n",
       "      <td>Vietnam</td>\n",
       "      <td>3.5</td>\n",
       "      <td>0</td>\n",
       "    </tr>\n",
       "    <tr>\n",
       "      <th>2574</th>\n",
       "      <td>Wai Wai</td>\n",
       "      <td>Oriental Style Instant Noodles</td>\n",
       "      <td>Pack</td>\n",
       "      <td>Thailand</td>\n",
       "      <td>1</td>\n",
       "      <td>0</td>\n",
       "    </tr>\n",
       "    <tr>\n",
       "      <th>2575</th>\n",
       "      <td>Wai Wai</td>\n",
       "      <td>Tom Yum Shrimp</td>\n",
       "      <td>Pack</td>\n",
       "      <td>Thailand</td>\n",
       "      <td>2</td>\n",
       "      <td>0</td>\n",
       "    </tr>\n",
       "    <tr>\n",
       "      <th>2576</th>\n",
       "      <td>Wai Wai</td>\n",
       "      <td>Tom Yum Chili Flavor</td>\n",
       "      <td>Pack</td>\n",
       "      <td>Thailand</td>\n",
       "      <td>2</td>\n",
       "      <td>0</td>\n",
       "    </tr>\n",
       "    <tr>\n",
       "      <th>2577</th>\n",
       "      <td>Westbrae</td>\n",
       "      <td>Miso Ramen</td>\n",
       "      <td>Pack</td>\n",
       "      <td>USA</td>\n",
       "      <td>0.5</td>\n",
       "      <td>0</td>\n",
       "    </tr>\n",
       "  </tbody>\n",
       "</table>\n",
       "<p>2578 rows × 6 columns</p>\n",
       "</div>"
      ],
      "text/plain": [
       "               Brand  \\\n",
       "0          New Touch   \n",
       "1           Just Way   \n",
       "2             Nissin   \n",
       "3            Wei Lih   \n",
       "4     Ching's Secret   \n",
       "...              ...   \n",
       "2573           Vifon   \n",
       "2574         Wai Wai   \n",
       "2575         Wai Wai   \n",
       "2576         Wai Wai   \n",
       "2577        Westbrae   \n",
       "\n",
       "                                                                    Variety  \\\n",
       "0                                                 T's Restaurant Tantanmen    \n",
       "1               Noodles Spicy Hot Sesame Spicy Hot Sesame Guan-miao Noodles   \n",
       "2                                             Cup Noodles Chicken Vegetable   \n",
       "3                                             GGE Ramen Snack Tomato Flavor   \n",
       "4                                                           Singapore Curry   \n",
       "...                                                                     ...   \n",
       "2573  Hu Tiu Nam Vang [\"Phnom Penh\" style] Asian Style Instant Rice Noodles   \n",
       "2574                                         Oriental Style Instant Noodles   \n",
       "2575                                                         Tom Yum Shrimp   \n",
       "2576                                                   Tom Yum Chili Flavor   \n",
       "2577                                                             Miso Ramen   \n",
       "\n",
       "     Style   Country Stars  isTopTen  \n",
       "0      Cup     Japan  3.75         0  \n",
       "1     Pack    Taiwan     1         0  \n",
       "2      Cup       USA  2.25         0  \n",
       "3     Pack    Taiwan  2.75         0  \n",
       "4     Pack     India  3.75         0  \n",
       "...    ...       ...   ...       ...  \n",
       "2573  Bowl   Vietnam   3.5         0  \n",
       "2574  Pack  Thailand     1         0  \n",
       "2575  Pack  Thailand     2         0  \n",
       "2576  Pack  Thailand     2         0  \n",
       "2577  Pack       USA   0.5         0  \n",
       "\n",
       "[2578 rows x 6 columns]"
      ]
     },
     "execution_count": 151,
     "metadata": {},
     "output_type": "execute_result"
    }
   ],
   "source": [
    "data"
   ]
  },
  {
   "cell_type": "markdown",
   "metadata": {
    "id": "hRJSbohty-6k"
   },
   "source": [
    "Next: Turn Seperate Word into Features"
   ]
  },
  {
   "cell_type": "code",
   "execution_count": 152,
   "metadata": {
    "ExecuteTime": {
     "end_time": "2024-08-15T09:36:32.707555Z",
     "start_time": "2024-08-15T09:36:32.680546Z"
    },
    "colab": {
     "base_uri": "https://localhost:8080/",
     "height": 178
    },
    "executionInfo": {
     "elapsed": 587,
     "status": "ok",
     "timestamp": 1723521268887,
     "user": {
      "displayName": "Adoft Putin",
      "userId": "00985434086778375795"
     },
     "user_tz": -420
    },
    "id": "PWi_D4TUzxP8",
    "outputId": "145d5af0-836f-42fd-fedc-e2836df4920f"
   },
   "outputs": [
    {
     "data": {
      "text/html": [
       "<div>\n",
       "<style scoped>\n",
       "    .dataframe tbody tr th:only-of-type {\n",
       "        vertical-align: middle;\n",
       "    }\n",
       "\n",
       "    .dataframe tbody tr th {\n",
       "        vertical-align: top;\n",
       "    }\n",
       "\n",
       "    .dataframe thead th {\n",
       "        text-align: right;\n",
       "    }\n",
       "</style>\n",
       "<table border=\"1\" class=\"dataframe\">\n",
       "  <thead>\n",
       "    <tr style=\"text-align: right;\">\n",
       "      <th></th>\n",
       "      <th>Brand</th>\n",
       "      <th>Variety</th>\n",
       "      <th>Style</th>\n",
       "      <th>Country</th>\n",
       "      <th>Stars</th>\n",
       "      <th>isTopTen</th>\n",
       "    </tr>\n",
       "  </thead>\n",
       "  <tbody>\n",
       "    <tr>\n",
       "      <th>32</th>\n",
       "      <td>Ottogi</td>\n",
       "      <td>Plain Instant Noodle No Soup Included</td>\n",
       "      <td>Pack</td>\n",
       "      <td>South Korea</td>\n",
       "      <td>Unrated</td>\n",
       "      <td>0</td>\n",
       "    </tr>\n",
       "    <tr>\n",
       "      <th>122</th>\n",
       "      <td>Samyang Foods</td>\n",
       "      <td>Sari Ramen</td>\n",
       "      <td>Pack</td>\n",
       "      <td>South Korea</td>\n",
       "      <td>Unrated</td>\n",
       "      <td>0</td>\n",
       "    </tr>\n",
       "    <tr>\n",
       "      <th>993</th>\n",
       "      <td>Mi E-Zee</td>\n",
       "      <td>Plain Noodles</td>\n",
       "      <td>Pack</td>\n",
       "      <td>Malaysia</td>\n",
       "      <td>Unrated</td>\n",
       "      <td>0</td>\n",
       "    </tr>\n",
       "  </tbody>\n",
       "</table>\n",
       "</div>"
      ],
      "text/plain": [
       "             Brand                                Variety Style      Country  \\\n",
       "32          Ottogi  Plain Instant Noodle No Soup Included  Pack  South Korea   \n",
       "122  Samyang Foods                             Sari Ramen  Pack  South Korea   \n",
       "993       Mi E-Zee                          Plain Noodles  Pack     Malaysia   \n",
       "\n",
       "       Stars  isTopTen  \n",
       "32   Unrated         0  \n",
       "122  Unrated         0  \n",
       "993  Unrated         0  "
      ]
     },
     "execution_count": 152,
     "metadata": {},
     "output_type": "execute_result"
    }
   ],
   "source": [
    "# Check for Noise: Unrated data and Unusual data\n",
    "data.query(\"Stars == 'Unrated'\")"
   ]
  },
  {
   "cell_type": "code",
   "execution_count": 153,
   "metadata": {
    "ExecuteTime": {
     "end_time": "2024-08-15T09:36:32.769797Z",
     "start_time": "2024-08-15T09:36:32.746699Z"
    }
   },
   "outputs": [],
   "source": [
    "data = data.drop(data.query(\"Stars == 'Unrated'\").index, axis=0).reset_index(drop=True)"
   ]
  },
  {
   "cell_type": "code",
   "execution_count": 154,
   "metadata": {
    "ExecuteTime": {
     "end_time": "2024-08-15T09:36:32.801773Z",
     "start_time": "2024-08-15T09:36:32.791777Z"
    },
    "colab": {
     "base_uri": "https://localhost:8080/"
    },
    "executionInfo": {
     "elapsed": 5,
     "status": "ok",
     "timestamp": 1723521276089,
     "user": {
      "displayName": "Adoft Putin",
      "userId": "00985434086778375795"
     },
     "user_tz": -420
    },
    "id": "Wkcs5QXQ0UdO",
    "outputId": "700679bc-8717-406c-83b8-917c9cb18ac5"
   },
   "outputs": [],
   "source": [
    "# \"missing values\" refer to cells i"
   ]
  },
  {
   "cell_type": "code",
   "execution_count": 155,
   "metadata": {
    "ExecuteTime": {
     "end_time": "2024-08-15T09:36:32.865358Z",
     "start_time": "2024-08-15T09:36:32.852362Z"
    }
   },
   "outputs": [
    {
     "name": "stdout",
     "output_type": "stream",
     "text": [
      "Total Missing values: 0\n"
     ]
    }
   ],
   "source": [
    "# n your dataframe that do not contain any data.\n",
    "print(f'Total Missing values: {data.isna().sum().sum()}')"
   ]
  },
  {
   "cell_type": "code",
   "execution_count": 156,
   "metadata": {
    "ExecuteTime": {
     "end_time": "2024-08-15T09:36:32.992933Z",
     "start_time": "2024-08-15T09:36:32.965928Z"
    }
   },
   "outputs": [
    {
     "data": {
      "text/html": [
       "<div>\n",
       "<style scoped>\n",
       "    .dataframe tbody tr th:only-of-type {\n",
       "        vertical-align: middle;\n",
       "    }\n",
       "\n",
       "    .dataframe tbody tr th {\n",
       "        vertical-align: top;\n",
       "    }\n",
       "\n",
       "    .dataframe thead th {\n",
       "        text-align: right;\n",
       "    }\n",
       "</style>\n",
       "<table border=\"1\" class=\"dataframe\">\n",
       "  <thead>\n",
       "    <tr style=\"text-align: right;\">\n",
       "      <th></th>\n",
       "      <th>Brand</th>\n",
       "      <th>Variety</th>\n",
       "      <th>Style</th>\n",
       "      <th>Country</th>\n",
       "      <th>Stars</th>\n",
       "      <th>isTopTen</th>\n",
       "    </tr>\n",
       "  </thead>\n",
       "  <tbody>\n",
       "    <tr>\n",
       "      <th>0</th>\n",
       "      <td>New Touch</td>\n",
       "      <td>T's Restaurant Tantanmen</td>\n",
       "      <td>Cup</td>\n",
       "      <td>Japan</td>\n",
       "      <td>3.75</td>\n",
       "      <td>0</td>\n",
       "    </tr>\n",
       "    <tr>\n",
       "      <th>1</th>\n",
       "      <td>Just Way</td>\n",
       "      <td>Noodles Spicy Hot Sesame Spicy Hot Sesame Guan-miao Noodles</td>\n",
       "      <td>Pack</td>\n",
       "      <td>Taiwan</td>\n",
       "      <td>1</td>\n",
       "      <td>0</td>\n",
       "    </tr>\n",
       "    <tr>\n",
       "      <th>2</th>\n",
       "      <td>Nissin</td>\n",
       "      <td>Cup Noodles Chicken Vegetable</td>\n",
       "      <td>Cup</td>\n",
       "      <td>USA</td>\n",
       "      <td>2.25</td>\n",
       "      <td>0</td>\n",
       "    </tr>\n",
       "    <tr>\n",
       "      <th>3</th>\n",
       "      <td>Wei Lih</td>\n",
       "      <td>GGE Ramen Snack Tomato Flavor</td>\n",
       "      <td>Pack</td>\n",
       "      <td>Taiwan</td>\n",
       "      <td>2.75</td>\n",
       "      <td>0</td>\n",
       "    </tr>\n",
       "    <tr>\n",
       "      <th>4</th>\n",
       "      <td>Ching's Secret</td>\n",
       "      <td>Singapore Curry</td>\n",
       "      <td>Pack</td>\n",
       "      <td>India</td>\n",
       "      <td>3.75</td>\n",
       "      <td>0</td>\n",
       "    </tr>\n",
       "    <tr>\n",
       "      <th>...</th>\n",
       "      <td>...</td>\n",
       "      <td>...</td>\n",
       "      <td>...</td>\n",
       "      <td>...</td>\n",
       "      <td>...</td>\n",
       "      <td>...</td>\n",
       "    </tr>\n",
       "    <tr>\n",
       "      <th>2570</th>\n",
       "      <td>Vifon</td>\n",
       "      <td>Hu Tiu Nam Vang [\"Phnom Penh\" style] Asian Style Instant Rice Noodles</td>\n",
       "      <td>Bowl</td>\n",
       "      <td>Vietnam</td>\n",
       "      <td>3.5</td>\n",
       "      <td>0</td>\n",
       "    </tr>\n",
       "    <tr>\n",
       "      <th>2571</th>\n",
       "      <td>Wai Wai</td>\n",
       "      <td>Oriental Style Instant Noodles</td>\n",
       "      <td>Pack</td>\n",
       "      <td>Thailand</td>\n",
       "      <td>1</td>\n",
       "      <td>0</td>\n",
       "    </tr>\n",
       "    <tr>\n",
       "      <th>2572</th>\n",
       "      <td>Wai Wai</td>\n",
       "      <td>Tom Yum Shrimp</td>\n",
       "      <td>Pack</td>\n",
       "      <td>Thailand</td>\n",
       "      <td>2</td>\n",
       "      <td>0</td>\n",
       "    </tr>\n",
       "    <tr>\n",
       "      <th>2573</th>\n",
       "      <td>Wai Wai</td>\n",
       "      <td>Tom Yum Chili Flavor</td>\n",
       "      <td>Pack</td>\n",
       "      <td>Thailand</td>\n",
       "      <td>2</td>\n",
       "      <td>0</td>\n",
       "    </tr>\n",
       "    <tr>\n",
       "      <th>2574</th>\n",
       "      <td>Westbrae</td>\n",
       "      <td>Miso Ramen</td>\n",
       "      <td>Pack</td>\n",
       "      <td>USA</td>\n",
       "      <td>0.5</td>\n",
       "      <td>0</td>\n",
       "    </tr>\n",
       "  </tbody>\n",
       "</table>\n",
       "<p>2575 rows × 6 columns</p>\n",
       "</div>"
      ],
      "text/plain": [
       "               Brand  \\\n",
       "0          New Touch   \n",
       "1           Just Way   \n",
       "2             Nissin   \n",
       "3            Wei Lih   \n",
       "4     Ching's Secret   \n",
       "...              ...   \n",
       "2570           Vifon   \n",
       "2571         Wai Wai   \n",
       "2572         Wai Wai   \n",
       "2573         Wai Wai   \n",
       "2574        Westbrae   \n",
       "\n",
       "                                                                    Variety  \\\n",
       "0                                                 T's Restaurant Tantanmen    \n",
       "1               Noodles Spicy Hot Sesame Spicy Hot Sesame Guan-miao Noodles   \n",
       "2                                             Cup Noodles Chicken Vegetable   \n",
       "3                                             GGE Ramen Snack Tomato Flavor   \n",
       "4                                                           Singapore Curry   \n",
       "...                                                                     ...   \n",
       "2570  Hu Tiu Nam Vang [\"Phnom Penh\" style] Asian Style Instant Rice Noodles   \n",
       "2571                                         Oriental Style Instant Noodles   \n",
       "2572                                                         Tom Yum Shrimp   \n",
       "2573                                                   Tom Yum Chili Flavor   \n",
       "2574                                                             Miso Ramen   \n",
       "\n",
       "     Style   Country Stars  isTopTen  \n",
       "0      Cup     Japan  3.75         0  \n",
       "1     Pack    Taiwan     1         0  \n",
       "2      Cup       USA  2.25         0  \n",
       "3     Pack    Taiwan  2.75         0  \n",
       "4     Pack     India  3.75         0  \n",
       "...    ...       ...   ...       ...  \n",
       "2570  Bowl   Vietnam   3.5         0  \n",
       "2571  Pack  Thailand     1         0  \n",
       "2572  Pack  Thailand     2         0  \n",
       "2573  Pack  Thailand     2         0  \n",
       "2574  Pack       USA   0.5         0  \n",
       "\n",
       "[2575 rows x 6 columns]"
      ]
     },
     "execution_count": 156,
     "metadata": {},
     "output_type": "execute_result"
    }
   ],
   "source": [
    "data"
   ]
  },
  {
   "cell_type": "markdown",
   "metadata": {
    "id": "_gN12UX84E4_"
   },
   "source": []
  },
  {
   "cell_type": "markdown",
   "metadata": {
    "id": "s-5ZUti84HbB"
   },
   "source": [
    "# Engineering Variety Features"
   ]
  },
  {
   "cell_type": "markdown",
   "metadata": {},
   "source": [
    "1. Extracting the \"Variety\" Column:"
   ]
  },
  {
   "cell_type": "code",
   "execution_count": 157,
   "metadata": {
    "ExecuteTime": {
     "end_time": "2024-08-15T09:36:33.230951Z",
     "start_time": "2024-08-15T09:36:33.210944Z"
    },
    "colab": {
     "base_uri": "https://localhost:8080/",
     "height": 459
    },
    "executionInfo": {
     "elapsed": 12,
     "status": "ok",
     "timestamp": 1723521394966,
     "user": {
      "displayName": "Adoft Putin",
      "userId": "00985434086778375795"
     },
     "user_tz": -420
    },
    "id": "_yaaeb_z37cz",
    "outputId": "06b1d290-cbc1-4639-a476-8c5c02dae231"
   },
   "outputs": [
    {
     "data": {
      "text/plain": [
       "0                                                   T's Restaurant Tantanmen \n",
       "1                 Noodles Spicy Hot Sesame Spicy Hot Sesame Guan-miao Noodles\n",
       "2                                               Cup Noodles Chicken Vegetable\n",
       "3                                               GGE Ramen Snack Tomato Flavor\n",
       "4                                                             Singapore Curry\n",
       "                                        ...                                  \n",
       "2570    Hu Tiu Nam Vang [\"Phnom Penh\" style] Asian Style Instant Rice Noodles\n",
       "2571                                           Oriental Style Instant Noodles\n",
       "2572                                                           Tom Yum Shrimp\n",
       "2573                                                     Tom Yum Chili Flavor\n",
       "2574                                                               Miso Ramen\n",
       "Name: Variety, Length: 2575, dtype: object"
      ]
     },
     "execution_count": 157,
     "metadata": {},
     "output_type": "execute_result"
    }
   ],
   "source": [
    "ramen_names = data.loc[:, 'Variety'] # extract Variety col only\n",
    "ramen_names # print extracted result"
   ]
  },
  {
   "cell_type": "markdown",
   "metadata": {},
   "source": [
    "2. Stemming and Cleaning Each Ramen Name:\n",
    "+ Stemming: Reduces words to their root form to increase efficiency (e.g., \"running\" becomes \"run\").\n",
    "+ Cleaning: Converts to lowercase, removes punctuation, replaces numbers with the word \"number\", splits into words, and removes extra whitespace."
   ]
  },
  {
   "cell_type": "code",
   "execution_count": 158,
   "metadata": {
    "ExecuteTime": {
     "end_time": "2024-08-15T09:36:33.309465Z",
     "start_time": "2024-08-15T09:36:33.298466Z"
    },
    "executionInfo": {
     "elapsed": 410,
     "status": "ok",
     "timestamp": 1723522242628,
     "user": {
      "displayName": "Adoft Putin",
      "userId": "00985434086778375795"
     },
     "user_tz": -420
    },
    "id": "XIeMiZdg4WK4"
   },
   "outputs": [],
   "source": [
    "# Steming each word to increase efficiency\n",
    "# Stemming reduces words to their root form (e.g., \"running\" becomes \"run\")\n",
    "ps = PorterStemmer()\n",
    "\n",
    "def process_name(name):\n",
    "  new_name = name.lower() # Make lowercase\n",
    "  new_name = re.sub(r'[^a-z0-9\\s]', '', new_name) # Remove punctuation\n",
    "  new_name = re.sub(r'[0-9]+', 'number', new_name) # Change numerical word to \"number\"\n",
    "  new_name = new_name.split(\" \") # Make string into a list of words\n",
    "  new_name = list(map(lambda x: ps.stem(x), new_name)) # stemmed each word\n",
    "  new_name = list(map(lambda x: x.strip(), new_name)) # remove whitespace from each stemmed word\n",
    "  \n",
    "  for i in range(len(new_name)):\n",
    "    if new_name[i] == 'flavour':\n",
    "      new_name[i] = 'flavor'\n",
    "\n",
    "  # remove empty string if any existed\n",
    "  if '' in new_name:\n",
    "    new_name.remove('')\n",
    "  return new_name"
   ]
  },
  {
   "cell_type": "code",
   "execution_count": 159,
   "metadata": {
    "ExecuteTime": {
     "end_time": "2024-08-15T09:36:33.657613Z",
     "start_time": "2024-08-15T09:36:33.352Z"
    },
    "colab": {
     "base_uri": "https://localhost:8080/",
     "height": 459
    },
    "executionInfo": {
     "elapsed": 392,
     "status": "ok",
     "timestamp": 1723522350751,
     "user": {
      "displayName": "Adoft Putin",
      "userId": "00985434086778375795"
     },
     "user_tz": -420
    },
    "id": "PxpJ7PC96ySU",
    "outputId": "bf913731-60ce-4943-9ca2-65041f1262fb"
   },
   "outputs": [
    {
     "data": {
      "text/plain": [
       "0                                                         [ts, restaur, tantanmen]\n",
       "1                   [noodl, spici, hot, sesam, spici, hot, sesam, guanmiao, noodl]\n",
       "2                                                     [cup, noodl, chicken, veget]\n",
       "3                                              [gge, ramen, snack, tomato, flavor]\n",
       "4                                                                [singapor, curri]\n",
       "                                           ...                                    \n",
       "2570    [hu, tiu, nam, vang, phnom, penh, style, asian, style, instant rice noodl]\n",
       "2571                                               [orient, style, instant, noodl]\n",
       "2572                                                            [tom, yum, shrimp]\n",
       "2573                                                     [tom, yum, chili, flavor]\n",
       "2574                                                                 [miso, ramen]\n",
       "Name: Variety, Length: 2575, dtype: object"
      ]
     },
     "execution_count": 159,
     "metadata": {},
     "output_type": "execute_result"
    }
   ],
   "source": [
    "ramen_names = ramen_names.apply(process_name)\n",
    "ramen_names"
   ]
  },
  {
   "cell_type": "markdown",
   "metadata": {},
   "source": [
    "3. Building the Vocabulary & Caclulating Maximum Length:\n",
    "\n",
    "+ Vocabulary: A set of unique words from all the processed ramen names."
   ]
  },
  {
   "cell_type": "code",
   "execution_count": 160,
   "metadata": {
    "ExecuteTime": {
     "end_time": "2024-08-15T09:36:33.687613Z",
     "start_time": "2024-08-15T09:36:33.660614Z"
    },
    "executionInfo": {
     "elapsed": 603,
     "status": "ok",
     "timestamp": 1723522575214,
     "user": {
      "displayName": "Adoft Putin",
      "userId": "00985434086778375795"
     },
     "user_tz": -420
    },
    "id": "EGLOoJN26z2Y"
   },
   "outputs": [],
   "source": [
    "# Getting the number of unique words in our list of ramen names\n",
    "vocabulary = set()\n",
    "\n",
    "for name in ramen_names: # for each variety list\n",
    "  for word in name: # for each ramen name in variety list\n",
    "    if word not in vocabulary:\n",
    "      vocabulary.add(word)\n",
    "\n",
    "vocab_length = len(vocabulary)\n",
    "\n",
    "# get the maximum length of a single ramen name\n",
    "max_seq_length = max(ramen_names.apply(lambda x: len(x)))"
   ]
  },
  {
   "cell_type": "code",
   "execution_count": 161,
   "metadata": {
    "ExecuteTime": {
     "end_time": "2024-08-15T09:36:33.703612Z",
     "start_time": "2024-08-15T09:36:33.689610Z"
    },
    "colab": {
     "base_uri": "https://localhost:8080/"
    },
    "executionInfo": {
     "elapsed": 430,
     "status": "ok",
     "timestamp": 1723522665934,
     "user": {
      "displayName": "Adoft Putin",
      "userId": "00985434086778375795"
     },
     "user_tz": -420
    },
    "id": "T9ttyGHE8CRv",
    "outputId": "f235922b-6fdb-4911-a418-7255effbe94f"
   },
   "outputs": [
    {
     "name": "stdout",
     "output_type": "stream",
     "text": [
      "  Vocabulary Length: 1368 total unique word\n",
      "Max Sequence Length: 13 is the maximum length of a ramen name\n"
     ]
    }
   ],
   "source": [
    "print(f'  Vocabulary Length: {vocab_length} total unique word')\n",
    "print(f'Max Sequence Length: {max_seq_length} is the maximum length of a ramen name')"
   ]
  },
  {
   "cell_type": "markdown",
   "metadata": {},
   "source": [
    "## Tokenizer"
   ]
  },
  {
   "cell_type": "code",
   "execution_count": 162,
   "metadata": {
    "ExecuteTime": {
     "end_time": "2024-08-15T09:36:33.766132Z",
     "start_time": "2024-08-15T09:36:33.706617Z"
    },
    "id": "mOE0kaw781z2"
   },
   "outputs": [
    {
     "data": {
      "text/plain": [
       "{'noodl': 1,\n",
       " 'flavor': 2,\n",
       " 'instant': 3,\n",
       " 'ramen': 4,\n",
       " 'chicken': 5,\n",
       " 'spici': 6,\n",
       " 'beef': 7,\n",
       " 'cup': 8,\n",
       " 'soup': 9,\n",
       " 'with': 10,\n",
       " 'sauc': 11,\n",
       " 'rice': 12,\n",
       " 'artifici': 13,\n",
       " 'curri': 14,\n",
       " 'tom': 15,\n",
       " 'shrimp': 16,\n",
       " 'mi': 17,\n",
       " 'hot': 18,\n",
       " 'seafood': 19,\n",
       " 'bowl': 20,\n",
       " 'pork': 21,\n",
       " 'style': 22,\n",
       " 'yum': 23,\n",
       " 'goreng': 24,\n",
       " 'udon': 25,\n",
       " 'veget': 26,\n",
       " 'vermicelli': 27,\n",
       " 'dema': 28,\n",
       " 'orient': 29,\n",
       " 'sesam': 30,\n",
       " 'penang': 31,\n",
       " 'tonkotsu': 32,\n",
       " 'mushroom': 33,\n",
       " 'yakisoba': 34,\n",
       " 'number': 35,\n",
       " 'vegetarian': 36,\n",
       " 'ramyun': 37,\n",
       " 'rasa': 38,\n",
       " 'sour': 39,\n",
       " 'black': 40,\n",
       " 'kimchi': 41,\n",
       " 'soy': 42,\n",
       " 'miso': 43,\n",
       " 'chow': 44,\n",
       " 'big': 45,\n",
       " 'fri': 46,\n",
       " 'shoyu': 47,\n",
       " 'japanes': 48,\n",
       " 'onion': 49,\n",
       " 'mein': 50,\n",
       " 'creami': 51,\n",
       " 'king': 52,\n",
       " 'a': 53,\n",
       " 'tomato': 54,\n",
       " 'laksa': 55,\n",
       " 'super': 56,\n",
       " 'thai': 57,\n",
       " 'stew': 58,\n",
       " 'dri': 59,\n",
       " 'oil': 60,\n",
       " 'korean': 61,\n",
       " 'new': 62,\n",
       " 'white': 63,\n",
       " 'crab': 64,\n",
       " 'sabor': 65,\n",
       " 'tast': 66,\n",
       " 'origin': 67,\n",
       " 'yam': 68,\n",
       " 'chili': 69,\n",
       " 'bean': 70,\n",
       " 'ayam': 71,\n",
       " 'snack': 72,\n",
       " 'pepper': 73,\n",
       " 'kung': 74,\n",
       " 'chilli': 75,\n",
       " 'sopa': 76,\n",
       " 'garlic': 77,\n",
       " 'soba': 78,\n",
       " 'prawn': 79,\n",
       " 'base': 80,\n",
       " 'sweet': 81,\n",
       " 'kari': 82,\n",
       " 'perisa': 83,\n",
       " 'iccho': 84,\n",
       " 'chees': 85,\n",
       " 'minut': 86,\n",
       " 'of': 87,\n",
       " 'fu': 88,\n",
       " 'red': 89,\n",
       " 'chines': 90,\n",
       " 'peda': 91,\n",
       " 'mee': 92,\n",
       " 'past': 93,\n",
       " 'shin': 94,\n",
       " 'top': 95,\n",
       " 'mild': 96,\n",
       " 'shio': 97,\n",
       " 'pho': 98,\n",
       " 'roast': 99,\n",
       " 'asian': 100,\n",
       " 'masala': 101,\n",
       " 'premium': 102,\n",
       " 'potato': 103,\n",
       " 'nissin': 104,\n",
       " 'segera': 105,\n",
       " 'authent': 106,\n",
       " 'soto': 107,\n",
       " 'in': 108,\n",
       " 'version': 109,\n",
       " 'nonfri': 110,\n",
       " 'suprem': 111,\n",
       " 'xo': 112,\n",
       " 'raoh': 113,\n",
       " 'south': 114,\n",
       " 'pickl': 115,\n",
       " 'mie': 116,\n",
       " 'habanero': 117,\n",
       " 'special': 118,\n",
       " 'la': 119,\n",
       " 'good': 120,\n",
       " 'teriyaki': 121,\n",
       " 'savori': 122,\n",
       " 'chef': 123,\n",
       " 'ppushu': 124,\n",
       " 'buldak': 125,\n",
       " 'brais': 126,\n",
       " 'lunch': 127,\n",
       " 'hao': 128,\n",
       " 'singapor': 129,\n",
       " 'men': 130,\n",
       " 'lime': 131,\n",
       " 'pad': 132,\n",
       " 'picant': 133,\n",
       " 'kuah': 134,\n",
       " 'rich': 135,\n",
       " 'minc': 136,\n",
       " 'abalon': 137,\n",
       " 'pancit': 138,\n",
       " 'veggi': 139,\n",
       " 'hearti': 140,\n",
       " 'tempura': 141,\n",
       " 'green': 142,\n",
       " 'duck': 143,\n",
       " 'fresh': 144,\n",
       " 'no': 145,\n",
       " 'shallot': 146,\n",
       " 'soybean': 147,\n",
       " 'malaysia': 148,\n",
       " 'goong': 149,\n",
       " 'bokkeummyun': 150,\n",
       " 'sichuan': 151,\n",
       " 'mix': 152,\n",
       " 'alo': 153,\n",
       " 'mian': 154,\n",
       " 'spaghetti': 155,\n",
       " 'jumbo': 156,\n",
       " 'macaroni': 157,\n",
       " 'kitsun': 158,\n",
       " 'wheat': 159,\n",
       " 'jjamppong': 160,\n",
       " 'con': 161,\n",
       " 'camaron': 162,\n",
       " 'pot': 163,\n",
       " 'pollo': 164,\n",
       " 'bbq': 165,\n",
       " 'spesial': 166,\n",
       " 'steam': 167,\n",
       " 'canton': 168,\n",
       " 'satay': 169,\n",
       " 'recip': 170,\n",
       " 'nagasaki': 171,\n",
       " 'brand': 172,\n",
       " 'lobster': 173,\n",
       " 'food': 174,\n",
       " 'oh': 175,\n",
       " 'clear': 176,\n",
       " 'kitchen': 177,\n",
       " 'basil': 178,\n",
       " 'ginger': 179,\n",
       " 'rib': 180,\n",
       " 'asam': 181,\n",
       " 'perencah': 182,\n",
       " 'hous': 183,\n",
       " 'fish': 184,\n",
       " 'edit': 185,\n",
       " 'mini': 186,\n",
       " 'hokkien': 187,\n",
       " 'bihun': 188,\n",
       " 'donbei': 189,\n",
       " 'cold': 190,\n",
       " 'broth': 191,\n",
       " 'packag': 192,\n",
       " 'wonton': 193,\n",
       " 'y': 194,\n",
       " 'and': 195,\n",
       " 'bone': 196,\n",
       " 'scallop': 197,\n",
       " 'eye': 198,\n",
       " 'lemon': 199,\n",
       " 'quick': 200,\n",
       " 'eat': 201,\n",
       " 'chukazanmai': 202,\n",
       " 'bawang': 203,\n",
       " 'thread': 204,\n",
       " 'spice': 205,\n",
       " 'stirfri': 206,\n",
       " 'bibim': 207,\n",
       " 'man': 208,\n",
       " 'seawe': 209,\n",
       " 'purpl': 210,\n",
       " 'jin': 211,\n",
       " 'chikin': 212,\n",
       " 'ricey': 213,\n",
       " 'asia': 214,\n",
       " 'nam': 215,\n",
       " 'flat': 216,\n",
       " 'stir': 217,\n",
       " 'hakka': 218,\n",
       " 'shiitak': 219,\n",
       " 'jan': 220,\n",
       " 'cook': 221,\n",
       " 'bo': 222,\n",
       " 'mami': 223,\n",
       " 'barbecu': 224,\n",
       " 'fideo': 225,\n",
       " 'to': 226,\n",
       " 'express': 227,\n",
       " 'guanmiao': 228,\n",
       " 'hokkaido': 229,\n",
       " 'hakata': 230,\n",
       " 'signatur': 231,\n",
       " 'chongq': 232,\n",
       " 'cabbag': 233,\n",
       " 'chanpon': 234,\n",
       " 'han': 235,\n",
       " 'feast': 236,\n",
       " 'delight': 237,\n",
       " 'wei': 238,\n",
       " 'nupasta': 239,\n",
       " 'sauerkraut': 240,\n",
       " 'gold': 241,\n",
       " 'broad': 242,\n",
       " 'ramyon': 243,\n",
       " 'milk': 244,\n",
       " 'kumamoto': 245,\n",
       " 'ga': 246,\n",
       " 'street': 247,\n",
       " 'moo': 248,\n",
       " 'superior': 249,\n",
       " 'improv': 250,\n",
       " 'sodium': 251,\n",
       " 'instan': 252,\n",
       " 'less': 253,\n",
       " 'chikara': 254,\n",
       " 'mayo': 255,\n",
       " 'sate': 256,\n",
       " 'dare': 257,\n",
       " 'you': 258,\n",
       " 'chay': 259,\n",
       " 'jinjja': 260,\n",
       " 'curli': 261,\n",
       " 'ippeichan': 262,\n",
       " 'simul': 263,\n",
       " 'selera': 264,\n",
       " 'stepnumb': 265,\n",
       " 'dosirac': 266,\n",
       " 'gge': 267,\n",
       " 'song': 268,\n",
       " 'tokyo': 269,\n",
       " 'cua': 270,\n",
       " 'singapura': 271,\n",
       " 'cracker': 272,\n",
       " 'umami': 273,\n",
       " 'seimen': 274,\n",
       " 'corn': 275,\n",
       " 'lau': 276,\n",
       " 'indonesia': 277,\n",
       " 'sup': 278,\n",
       " 'vegan': 279,\n",
       " 'baso': 280,\n",
       " 'imit': 281,\n",
       " 'egg': 282,\n",
       " 'salt': 283,\n",
       " 'de': 284,\n",
       " 'carn': 285,\n",
       " 'instantanea': 286,\n",
       " 'limon': 287,\n",
       " 'thin': 288,\n",
       " 'mmm': 289,\n",
       " 'vietnames': 290,\n",
       " 'hong': 291,\n",
       " 'assort': 292,\n",
       " 'hello': 293,\n",
       " 'kitti': 294,\n",
       " 'season': 295,\n",
       " 'coconut': 296,\n",
       " 'sambal': 297,\n",
       " 'spring': 298,\n",
       " 'pan': 299,\n",
       " 'babi': 300,\n",
       " 'seri': 301,\n",
       " 'grill': 302,\n",
       " 'oat': 303,\n",
       " 'fat': 304,\n",
       " 'shoop': 305,\n",
       " '': 306,\n",
       " 'chu': 307,\n",
       " 'yi': 308,\n",
       " 'dess': 309,\n",
       " 'star': 310,\n",
       " 'm': 311,\n",
       " 'neoguri': 312,\n",
       " 'serv': 313,\n",
       " 'i': 314,\n",
       " 'cheddar': 315,\n",
       " 'souper': 316,\n",
       " 'meal': 317,\n",
       " 'jjampong': 318,\n",
       " 'go': 319,\n",
       " 'sk': 320,\n",
       " 'cut': 321,\n",
       " 'kingcook': 322,\n",
       " 'spoonit': 323,\n",
       " 'tantanmen': 324,\n",
       " 'mr': 325,\n",
       " 'hai': 326,\n",
       " 'crush': 327,\n",
       " 'sapporo': 328,\n",
       " 'light': 329,\n",
       " 'extra': 330,\n",
       " 'meat': 331,\n",
       " 'mexican': 332,\n",
       " 'more': 333,\n",
       " 'juzz': 334,\n",
       " 'anchovi': 335,\n",
       " 'dan': 336,\n",
       " 'samyang': 337,\n",
       " 'classic': 338,\n",
       " 'sukiyaki': 339,\n",
       " 'katsuo': 340,\n",
       " 'chua': 341,\n",
       " 'thailand': 342,\n",
       " 'sanukiya': 343,\n",
       " 'pizza': 344,\n",
       " 'mustard': 345,\n",
       " 'disney': 346,\n",
       " 'cuti': 347,\n",
       " 'atta': 348,\n",
       " 'bacon': 349,\n",
       " 'tok': 350,\n",
       " 'myun': 351,\n",
       " 'oyster': 352,\n",
       " 'vera': 353,\n",
       " 'guan': 354,\n",
       " 'otentiq': 355,\n",
       " 'cheezi': 356,\n",
       " 'champong': 357,\n",
       " 'ranger': 358,\n",
       " 'pasta': 359,\n",
       " 'island': 360,\n",
       " 'alway': 361,\n",
       " 'lemongrass': 362,\n",
       " 'asli': 363,\n",
       " 'precook': 364,\n",
       " 'hu': 365,\n",
       " 'tofu': 366,\n",
       " 'ala': 367,\n",
       " 'natur': 368,\n",
       " 'organ': 369,\n",
       " 'grain': 370,\n",
       " 'buckwheat': 371,\n",
       " 'ly': 372,\n",
       " 'porridg': 373,\n",
       " 'nudelsupp': 374,\n",
       " 'qian': 375,\n",
       " 'ding': 376,\n",
       " 'brown': 377,\n",
       " 'paz': 378,\n",
       " 'batchoy': 379,\n",
       " 'mien': 380,\n",
       " 'want': 381,\n",
       " 'bokki': 382,\n",
       " 'szechuan': 383,\n",
       " 'kokomen': 384,\n",
       " 'xtra': 385,\n",
       " 'oolongmen': 386,\n",
       " 'low': 387,\n",
       " 'namja': 388,\n",
       " 'meatbal': 389,\n",
       " 'tachia': 390,\n",
       " 'myon': 391,\n",
       " 'crystal': 392,\n",
       " 'short': 393,\n",
       " 'local': 394,\n",
       " 'kko': 395,\n",
       " 'peptid': 396,\n",
       " 'tu': 397,\n",
       " 'quy': 398,\n",
       " 'tokusen': 399,\n",
       " 'bulalo': 400,\n",
       " 'daili': 401,\n",
       " 'restaur': 402,\n",
       " 'tantan': 403,\n",
       " 'nabeyaki': 404,\n",
       " 'gomtang': 405,\n",
       " 'sugomen': 406,\n",
       " 'veri': 407,\n",
       " 'hakod': 408,\n",
       " 'gotsumori': 409,\n",
       " 'bul': 410,\n",
       " 'wine': 411,\n",
       " 'cay': 412,\n",
       " 'old': 413,\n",
       " 'beij': 414,\n",
       " 'kungfu': 415,\n",
       " 'yomis': 416,\n",
       " 'karashi': 417,\n",
       " 'sapi': 418,\n",
       " 'tanuki': 419,\n",
       " 'cuisin': 420,\n",
       " 'clam': 421,\n",
       " 'maxi': 422,\n",
       " 'cuchar': 423,\n",
       " 'tipo': 424,\n",
       " 're': 425,\n",
       " 'littl': 426,\n",
       " 'bolognes': 427,\n",
       " 'chile': 428,\n",
       " 'veg': 429,\n",
       " 'soft': 430,\n",
       " 'noukou': 431,\n",
       " 'rumpum': 432,\n",
       " 'koku': 433,\n",
       " 'donburi': 434,\n",
       " 'kuromayu': 435,\n",
       " 'sriracha': 436,\n",
       " 'hiyashi': 437,\n",
       " 'alimentari': 438,\n",
       " 'yentafo': 439,\n",
       " 'mohfai': 440,\n",
       " 'saab': 441,\n",
       " 'phnom': 442,\n",
       " 'penh': 443,\n",
       " 'lamen': 444,\n",
       " 'manao': 445,\n",
       " 'kyushu': 446,\n",
       " 'tainan': 447,\n",
       " 'negi': 448,\n",
       " 'jjajang': 449,\n",
       " 'radish': 450,\n",
       " 'charumera': 451,\n",
       " 'dashi': 452,\n",
       " 'yakiudon': 453,\n",
       " 'bento': 454,\n",
       " 'box': 455,\n",
       " 'salsa': 456,\n",
       " 'nuud': 457,\n",
       " 'cream': 458,\n",
       " 'qualiti': 459,\n",
       " 'chajang': 460,\n",
       " 'chang': 461,\n",
       " 'monster': 462,\n",
       " 'snek': 463,\n",
       " 'jah': 464,\n",
       " 'bamboo': 465,\n",
       " 'shoot': 466,\n",
       " 'herb': 467,\n",
       " 'koreno': 468,\n",
       " 'ho': 469,\n",
       " 'fan': 470,\n",
       " 'topokki': 471,\n",
       " 'taiwan': 472,\n",
       " 'zabb': 473,\n",
       " 'cabe': 474,\n",
       " 'sayuran': 475,\n",
       " 'indian': 476,\n",
       " 'choic': 477,\n",
       " 'sensat': 478,\n",
       " 'bake': 479,\n",
       " 'seribu': 480,\n",
       " 'pack': 481,\n",
       " 'us': 482,\n",
       " 'princ': 483,\n",
       " 'everyday': 484,\n",
       " 'valu': 485,\n",
       " 'prototyp': 486,\n",
       " 'sllrrrp': 487,\n",
       " 'spa': 488,\n",
       " 'gepeng': 489,\n",
       " 'spinach': 490,\n",
       " 'gulai': 491,\n",
       " 'rendang': 492,\n",
       " 'ji': 493,\n",
       " 'mandarin': 494,\n",
       " 'kalgugsu': 495,\n",
       " 'cucharealo': 496,\n",
       " 'kriuuk': 497,\n",
       " 'stick': 498,\n",
       " 'sedaaap': 499,\n",
       " 'koya': 500,\n",
       " 'chapagetti': 501,\n",
       " 'isi': 502,\n",
       " 'tvp': 503,\n",
       " 'hwa': 504,\n",
       " 'phu': 505,\n",
       " 'gia': 506,\n",
       " 'chand': 507,\n",
       " 'hyoubanya': 508,\n",
       " 'sotanghon': 509,\n",
       " 'vang': 510,\n",
       " 'ts': 511,\n",
       " 'the': 512,\n",
       " 'yokohama': 513,\n",
       " 'deka': 514,\n",
       " 'buto': 515,\n",
       " 'gekikara': 516,\n",
       " 'kyoto': 517,\n",
       " 'backfat': 518,\n",
       " 'honey': 519,\n",
       " 'butter': 520,\n",
       " 'export': 521,\n",
       " 'strait': 522,\n",
       " 'buda': 523,\n",
       " 'jjiga': 524,\n",
       " 'kirin': 525,\n",
       " 'giraff': 526,\n",
       " 'mala': 527,\n",
       " 'toona': 528,\n",
       " 'huhn': 529,\n",
       " 'wantan': 530,\n",
       " 'scallion': 531,\n",
       " 'volcano': 532,\n",
       " 'extrem': 533,\n",
       " 'mug': 534,\n",
       " 'silk': 535,\n",
       " 'fettuccin': 536,\n",
       " 'witrh': 537,\n",
       " 'marinara': 538,\n",
       " 'toro': 539,\n",
       " 'yummi': 540,\n",
       " 'meekuali': 541,\n",
       " 'tanmen': 542,\n",
       " 'mentaiko': 543,\n",
       " 'west': 544,\n",
       " 'taco': 545,\n",
       " 'burn': 546,\n",
       " 'my': 547,\n",
       " 'shaanxi': 548,\n",
       " 'noold': 549,\n",
       " 'jjambbong': 550,\n",
       " 'japan': 551,\n",
       " 'viet': 552,\n",
       " 'bun': 553,\n",
       " 'oxtail': 554,\n",
       " 'rapifideo': 555,\n",
       " 'tomat': 556,\n",
       " 'marisco': 557,\n",
       " 'tradit': 558,\n",
       " 'maruchan': 559,\n",
       " 'tabimen': 560,\n",
       " 'gyokai': 561,\n",
       " 'carbonara': 562,\n",
       " 'bokkummyun': 563,\n",
       " 'straight': 564,\n",
       " 'karami': 565,\n",
       " 'aji': 566,\n",
       " 'sun': 567,\n",
       " 'coriand': 568,\n",
       " 'fragrant': 569,\n",
       " 'quickcook': 570,\n",
       " 'vongol': 571,\n",
       " 'dragon': 572,\n",
       " 'kong': 573,\n",
       " 'chuka': 574,\n",
       " 'pumpkin': 575,\n",
       " 'cyanobacteria': 576,\n",
       " 'shokunin': 577,\n",
       " 'mfg': 578,\n",
       " 'chipotl': 579,\n",
       " 'tuna': 580,\n",
       " 'com': 581,\n",
       " 'tortilla': 582,\n",
       " 'pojangmacha': 583,\n",
       " 'yakibuta': 584,\n",
       " 'taisho': 585,\n",
       " 'chowder': 586,\n",
       " 'mifun': 587,\n",
       " 'ow': 588,\n",
       " 'pop': 589,\n",
       " 'dim': 590,\n",
       " 'sum': 591,\n",
       " 'seabura': 592,\n",
       " 'alfredo': 593,\n",
       " 'tarako': 594,\n",
       " 'tan': 595,\n",
       " 'nyonya': 596,\n",
       " 'wholegrain': 597,\n",
       " 'tandoori': 598,\n",
       " 'sichek': 599,\n",
       " 'emerg': 600,\n",
       " 'nudlar': 601,\n",
       " 'royal': 602,\n",
       " 'sio': 603,\n",
       " 'homestyl': 604,\n",
       " 'premier': 605,\n",
       " 'sunbak': 606,\n",
       " 'soon': 607,\n",
       " 'oosters': 608,\n",
       " 'fei': 609,\n",
       " 'kimche': 610,\n",
       " 'kua': 611,\n",
       " 'lontong': 612,\n",
       " 'bulnak': 613,\n",
       " 'me': 614,\n",
       " 'somen': 615,\n",
       " 'dengan': 616,\n",
       " 'kampua': 617,\n",
       " 'za': 618,\n",
       " 'jiang': 619,\n",
       " 'prok': 620,\n",
       " 'if': 621,\n",
       " 'sea': 622,\n",
       " 'tangl': 623,\n",
       " 'sparerin': 624,\n",
       " 'millet': 625,\n",
       " 'empor': 626,\n",
       " 'pepperi': 627,\n",
       " 'xi': 628,\n",
       " 'gon': 629,\n",
       " 'cake': 630,\n",
       " 'bombay': 631,\n",
       " 'klong': 632,\n",
       " 'clay': 633,\n",
       " 'gonbuto': 634,\n",
       " 'shanghai': 635,\n",
       " 'jjajangmen': 636,\n",
       " 'vinegar': 637,\n",
       " 'snabbnudlar': 638,\n",
       " 'palo': 639,\n",
       " 'wasabi': 640,\n",
       " 'manchurian': 641,\n",
       " 'easi': 642,\n",
       " 'mianba': 643,\n",
       " 'kee': 644,\n",
       " 'mao': 645,\n",
       " 'market': 646,\n",
       " 'jalapeno': 647,\n",
       " 'gallina': 648,\n",
       " 'for': 649,\n",
       " 'mayonnais': 650,\n",
       " 'is': 651,\n",
       " 'delici': 652,\n",
       " 'sajime': 653,\n",
       " 'travel': 654,\n",
       " 'peperoncino': 655,\n",
       " 'kuachap': 656,\n",
       " 'tang': 657,\n",
       " 'round': 658,\n",
       " 'consomm': 659,\n",
       " 'bulgogi': 660,\n",
       " 'korea': 661,\n",
       " 'unifnumb': 662,\n",
       " 'barley': 663,\n",
       " 'cart': 664,\n",
       " 'peanut': 665,\n",
       " 'lada': 666,\n",
       " 'hitam': 667,\n",
       " 'tm': 668,\n",
       " 'sain': 669,\n",
       " 'qq': 670,\n",
       " 'citru': 671,\n",
       " 'chlorella': 672,\n",
       " 'bandung': 673,\n",
       " 'basic': 674,\n",
       " 'limau': 675,\n",
       " 'ball': 676,\n",
       " 'instantnea': 677,\n",
       " 'ufo': 678,\n",
       " 'what': 679,\n",
       " 'that': 680,\n",
       " 'leisur': 681,\n",
       " 'eel': 682,\n",
       " 'chacharoni': 683,\n",
       " 'fatafat': 684,\n",
       " 'krrish': 685,\n",
       " 'preeti': 686,\n",
       " 'miteri': 687,\n",
       " 'shop': 688,\n",
       " 'emen': 689,\n",
       " 'bihon': 690,\n",
       " 'kalamansi': 691,\n",
       " 'ganjjampong': 692,\n",
       " 'gonghwachun': 693,\n",
       " 'doong': 694,\n",
       " 'home': 695,\n",
       " 'pao': 696,\n",
       " 'ingredi': 697,\n",
       " 'sutah': 698,\n",
       " 'tiu': 699,\n",
       " 'arch': 700,\n",
       " 'naturkch': 701,\n",
       " 'kiss': 702,\n",
       " 'casserol': 703,\n",
       " 'sara': 704,\n",
       " 'cakalang': 705,\n",
       " 'bestcook': 706,\n",
       " 'kim': 707,\n",
       " 'chee': 708,\n",
       " 'import': 709,\n",
       " 'tricki': 710,\n",
       " 'ansungtangmyun': 711,\n",
       " 'tieu': 712,\n",
       " 'gado': 713,\n",
       " 'gozen': 714,\n",
       " 'ponpoko': 715,\n",
       " 'na': 716,\n",
       " 'yeul': 717,\n",
       " 'udong': 718,\n",
       " 'tea': 719,\n",
       " 'singl': 720,\n",
       " 'nobl': 721,\n",
       " 'phoya': 722,\n",
       " 'dj': 723,\n",
       " 'doc': 724,\n",
       " 'beks': 725,\n",
       " 'harme': 726,\n",
       " 'chukasoba': 727,\n",
       " 'nrich': 728,\n",
       " 'mansi': 729,\n",
       " 'marrow': 730,\n",
       " 'thick': 731,\n",
       " 'chop': 732,\n",
       " 'deli': 733,\n",
       " 'cilantro': 734,\n",
       " 'bar': 735,\n",
       " 'aka': 736,\n",
       " 'mario': 737,\n",
       " 'paegaejang': 738,\n",
       " 'cupasoup': 739,\n",
       " 'yochan': 740,\n",
       " 'ika': 741,\n",
       " 'noodlestom': 742,\n",
       " 'shrimptacular': 743,\n",
       " 'nippon': 744,\n",
       " 'onomichi': 745,\n",
       " 'reborn': 746,\n",
       " 'chip': 747,\n",
       " 'blacl': 748,\n",
       " 'angri': 749,\n",
       " 'guava': 750,\n",
       " 'udoin': 751,\n",
       " 'crisp': 752,\n",
       " 'head': 753,\n",
       " 'rmi': 754,\n",
       " 'noodlez': 755,\n",
       " 'rumput': 756,\n",
       " 'laut': 757,\n",
       " 'torigawa': 758,\n",
       " 'southot': 759,\n",
       " 'smack': 760,\n",
       " 'yakitori': 761,\n",
       " 'ent': 762,\n",
       " 'shaox': 763,\n",
       " 'dandan': 764,\n",
       " 'crack': 765,\n",
       " 'dossari': 766,\n",
       " 'yasai': 767,\n",
       " 'kkokkomyun': 768,\n",
       " 'nojyuku': 769,\n",
       " 'dongpo': 770,\n",
       " 'rempah': 771,\n",
       " 'dage': 772,\n",
       " 'sura': 773,\n",
       " 'halal': 774,\n",
       " 'type': 775,\n",
       " 'pkg': 776,\n",
       " 'basebal': 777,\n",
       " 'fajita': 778,\n",
       " 'lamb': 779,\n",
       " 'gumbo': 780,\n",
       " 'chuan': 781,\n",
       " 'chitterl': 782,\n",
       " 'nutrilici': 783,\n",
       " 'pazzta': 784,\n",
       " 'twist': 785,\n",
       " 'three': 786,\n",
       " 'delicaci': 787,\n",
       " 'zzaldduck': 788,\n",
       " 'coolic': 789,\n",
       " 'numberx': 790,\n",
       " 'haek': 791,\n",
       " 'bokkeumtangmyun': 792,\n",
       " 'agodashi': 793,\n",
       " 'rieu': 794,\n",
       " 'yolk': 795,\n",
       " 'chatpat': 796,\n",
       " 'chatt': 797,\n",
       " 'patta': 798,\n",
       " 'kalguksu': 799,\n",
       " 'jugo': 800,\n",
       " 'gourmet': 801,\n",
       " 'caldo': 802,\n",
       " 'princess': 803,\n",
       " 'jhatpat': 804,\n",
       " 'banao': 805,\n",
       " 'befikr': 806,\n",
       " 'khao': 807,\n",
       " 'noot': 808,\n",
       " 'shoru': 809,\n",
       " 'jjajangmyeon': 810,\n",
       " 'kamayama': 811,\n",
       " 'gyukotsu': 812,\n",
       " 'misoaji': 813,\n",
       " 'saeutang': 814,\n",
       " 'sabalmyeon': 815,\n",
       " 'matcha': 816,\n",
       " 'sobar': 817,\n",
       " 'aizukitakata': 818,\n",
       " 'toyama': 819,\n",
       " 'q': 820,\n",
       " 'bucket': 821,\n",
       " 'bibimmyun': 822,\n",
       " 'neapolitan': 823,\n",
       " 'shell': 824,\n",
       " 'turl': 825,\n",
       " 'beehoon': 826,\n",
       " 'tohokuno': 827,\n",
       " 'yonezawa': 828,\n",
       " 'scienc': 829,\n",
       " 'xma': 830,\n",
       " 'hiroshima': 831,\n",
       " 'sano': 832,\n",
       " 'fruiti': 833,\n",
       " 'gundruk': 834,\n",
       " 'bagna': 835,\n",
       " 'cauda': 836,\n",
       " 'taidashi': 837,\n",
       " 'goma': 838,\n",
       " 'xpress': 839,\n",
       " 'proprietari': 840,\n",
       " 'crispi': 841,\n",
       " 'kuro': 842,\n",
       " 'myu': 843,\n",
       " 'galinha': 844,\n",
       " 'caipira': 845,\n",
       " 'independ': 846,\n",
       " 'day': 847,\n",
       " 'limit': 848,\n",
       " 'shaolin': 849,\n",
       " 'monk': 850,\n",
       " 'tai': 851,\n",
       " 'chi': 852,\n",
       " 'fire': 853,\n",
       " 'warrior': 854,\n",
       " 'fight': 855,\n",
       " 'gyorai': 856,\n",
       " 'inaniwa': 857,\n",
       " 'barikata': 858,\n",
       " 'gravi': 859,\n",
       " 'piritto': 860,\n",
       " 'karakuchi': 861,\n",
       " 'chal': 862,\n",
       " 'sazon': 863,\n",
       " 'casero': 864,\n",
       " 'kun': 865,\n",
       " 'sumokuchikin': 866,\n",
       " 'smoke': 867,\n",
       " 'picanha': 868,\n",
       " 'kaoruyasai': 869,\n",
       " 'vietnam': 870,\n",
       " 'chive': 871,\n",
       " 'taimeiken': 872,\n",
       " 'yousyoku': 873,\n",
       " 'yasangatsukutta': 874,\n",
       " 'omumen': 875,\n",
       " 'mennippon': 876,\n",
       " 'oumi': 877,\n",
       " 'sabb': 878,\n",
       " 'holi': 879,\n",
       " 'ma': 880,\n",
       " 'nao': 881,\n",
       " 'lui': 882,\n",
       " 'suan': 883,\n",
       " 'frango': 884,\n",
       " 'assado': 885,\n",
       " 'toqu': 886,\n",
       " 'limao': 887,\n",
       " 'preserv': 888,\n",
       " 'salmon': 889,\n",
       " 'krispi': 890,\n",
       " 'fusian': 891,\n",
       " 'cow': 892,\n",
       " 'tak': 893,\n",
       " 'lam': 894,\n",
       " 'arrabiata': 895,\n",
       " 'bucatini': 896,\n",
       " 'fondu': 897,\n",
       " 'reduc': 898,\n",
       " 'tokun': 899,\n",
       " 'kadomen': 900,\n",
       " 'koikoku': 901,\n",
       " 'franhp': 902,\n",
       " 'requeijao': 903,\n",
       " 'herbal': 904,\n",
       " 'hovenia': 905,\n",
       " 'maru': 906,\n",
       " 'uma': 907,\n",
       " 'atyifici': 908,\n",
       " 'shouyu': 909,\n",
       " 'shinshu': 910,\n",
       " 'ghost': 911,\n",
       " 'popcorn': 912,\n",
       " 'ajam': 913,\n",
       " 'fettucini': 914,\n",
       " 'barbequ': 915,\n",
       " 'vegeta': 916,\n",
       " 'butakyabetsu': 917,\n",
       " 'gyoretsunodekirumisenoramen': 918,\n",
       " 'plu': 919,\n",
       " 'ratatouil': 920,\n",
       " 'walker': 921,\n",
       " 'iekei': 922,\n",
       " 'quinoa': 923,\n",
       " 'tokushima': 924,\n",
       " 'ajillo': 925,\n",
       " 'calabresa': 926,\n",
       " 'hors': 927,\n",
       " 'real': 928,\n",
       " 'kinchan': 929,\n",
       " 'niigata': 930,\n",
       " 'udang': 931,\n",
       " 'kamodashi': 932,\n",
       " 'oleum': 933,\n",
       " 'sesami': 934,\n",
       " 'kogashi': 935,\n",
       " 'megiiri': 936,\n",
       " 'kagoshima': 937,\n",
       " 'tonkotud': 938,\n",
       " 'shiroi': 939,\n",
       " 'mochi': 940,\n",
       " 'yuzu': 941,\n",
       " 'kana': 942,\n",
       " 'kyckl': 943,\n",
       " 'kapitan': 944,\n",
       " 'massaman': 945,\n",
       " 'houjyun': 946,\n",
       " 'tongu': 947,\n",
       " 'poh': 948,\n",
       " 'char': 949,\n",
       " 'ossyoi': 950,\n",
       " 'groen': 951,\n",
       " 'cupo': 952,\n",
       " 'snow': 953,\n",
       " 'restayr': 954,\n",
       " 'sumir': 955,\n",
       " 'taiwanes': 956,\n",
       " 'shape': 957,\n",
       " 'boat': 958,\n",
       " 'plum': 959,\n",
       " 'zha': 960,\n",
       " 'wang': 961,\n",
       " 'jjawang': 962,\n",
       " 'buddha': 963,\n",
       " 'jump': 964,\n",
       " 'suki': 965,\n",
       " 'nara': 966,\n",
       " 'tenri': 967,\n",
       " 'hingya': 968,\n",
       " 'groenten': 969,\n",
       " 'nagahama': 970,\n",
       " 'all': 971,\n",
       " 'salti': 972,\n",
       " 'chanko': 973,\n",
       " 'rempahan': 974,\n",
       " 'cendawan': 975,\n",
       " 'teaw': 976,\n",
       " 'blackbean': 977,\n",
       " 'squid': 978,\n",
       " 'superem': 979,\n",
       " 'ippin': 980,\n",
       " 'boeummyun': 981,\n",
       " 'katkarapu': 982,\n",
       " 'tonjiru': 983,\n",
       " 'carrot': 984,\n",
       " 'kerri': 985,\n",
       " 'grass': 986,\n",
       " 'tanrei': 987,\n",
       " 'zan': 988,\n",
       " 'tenob': 989,\n",
       " 'liha': 990,\n",
       " 'kott': 991,\n",
       " 'abon': 992,\n",
       " 'sarawak': 993,\n",
       " 'protein': 994,\n",
       " 'sibu': 995,\n",
       " 'cili': 996,\n",
       " 'fiesta': 997,\n",
       " 'heritag': 998,\n",
       " 'chewi': 999,\n",
       " 'springi': 1000,\n",
       " ...}"
      ]
     },
     "execution_count": 162,
     "metadata": {},
     "output_type": "execute_result"
    }
   ],
   "source": [
    "# Assigning each unique word with a unique integer\n",
    "tokenizer = Tokenizer(num_words=vocab_length)\n",
    "tokenizer.fit_on_texts(ramen_names)\n",
    "\n",
    "word_index = tokenizer.word_index\n",
    "word_index"
   ]
  },
  {
   "cell_type": "markdown",
   "metadata": {},
   "source": [
    "### Tokenized ramen_name"
   ]
  },
  {
   "cell_type": "code",
   "execution_count": 163,
   "metadata": {
    "ExecuteTime": {
     "end_time": "2024-08-15T09:36:33.782149Z",
     "start_time": "2024-08-15T09:36:33.768141Z"
    }
   },
   "outputs": [],
   "source": [
    "#? transform ramen names into a series of integers\n",
    "sequences = tokenizer.texts_to_sequences(ramen_names)"
   ]
  },
  {
   "cell_type": "markdown",
   "metadata": {},
   "source": [
    "**Transform Sequence for Tensorflow**: Use zero as a padding value to make all sequences the same length\n",
    "\n",
    "+ TensorFlow have a hard time with variable length sequences.\n",
    "\n",
    "+ So we add 1 or zero either to the beginner or the end of the sequences so all the sequences are in the same length\n"
   ]
  },
  {
   "cell_type": "code",
   "execution_count": 164,
   "metadata": {
    "ExecuteTime": {
     "end_time": "2024-08-15T09:36:33.814134Z",
     "start_time": "2024-08-15T09:36:33.785137Z"
    }
   },
   "outputs": [
    {
     "data": {
      "text/plain": [
       "array([[511, 402, 324, ...,   0,   0,   0],\n",
       "       [  1,   6,  18, ...,   0,   0,   0],\n",
       "       [  8,   1,   5, ...,   0,   0,   0],\n",
       "       ...,\n",
       "       [ 15,  23,  16, ...,   0,   0,   0],\n",
       "       [ 15,  23,  69, ...,   0,   0,   0],\n",
       "       [ 43,   4,   0, ...,   0,   0,   0]])"
      ]
     },
     "execution_count": 164,
     "metadata": {},
     "output_type": "execute_result"
    }
   ],
   "source": [
    "# Use zero as a padding value to make all sequences the same length\n",
    "name_features = pad_sequences(sequences, maxlen=max_seq_length, padding='post')\n",
    "name_features "
   ]
  },
  {
   "cell_type": "markdown",
   "metadata": {},
   "source": [
    "# Geting Remaining Features Ready"
   ]
  },
  {
   "cell_type": "code",
   "execution_count": 165,
   "metadata": {
    "ExecuteTime": {
     "end_time": "2024-08-15T09:36:33.830145Z",
     "start_time": "2024-08-15T09:36:33.816151Z"
    }
   },
   "outputs": [],
   "source": [
    "data = data.drop('Variety', axis=1) # Remove Variety as it is no longer useful"
   ]
  },
  {
   "cell_type": "code",
   "execution_count": 166,
   "metadata": {
    "ExecuteTime": {
     "end_time": "2024-08-15T09:36:33.861698Z",
     "start_time": "2024-08-15T09:36:33.833150Z"
    }
   },
   "outputs": [
    {
     "data": {
      "text/html": [
       "<div>\n",
       "<style scoped>\n",
       "    .dataframe tbody tr th:only-of-type {\n",
       "        vertical-align: middle;\n",
       "    }\n",
       "\n",
       "    .dataframe tbody tr th {\n",
       "        vertical-align: top;\n",
       "    }\n",
       "\n",
       "    .dataframe thead th {\n",
       "        text-align: right;\n",
       "    }\n",
       "</style>\n",
       "<table border=\"1\" class=\"dataframe\">\n",
       "  <thead>\n",
       "    <tr style=\"text-align: right;\">\n",
       "      <th></th>\n",
       "      <th>Brand</th>\n",
       "      <th>Style</th>\n",
       "      <th>Country</th>\n",
       "      <th>Stars</th>\n",
       "      <th>isTopTen</th>\n",
       "    </tr>\n",
       "  </thead>\n",
       "  <tbody>\n",
       "    <tr>\n",
       "      <th>0</th>\n",
       "      <td>New Touch</td>\n",
       "      <td>Cup</td>\n",
       "      <td>Japan</td>\n",
       "      <td>3.75</td>\n",
       "      <td>0</td>\n",
       "    </tr>\n",
       "    <tr>\n",
       "      <th>1</th>\n",
       "      <td>Just Way</td>\n",
       "      <td>Pack</td>\n",
       "      <td>Taiwan</td>\n",
       "      <td>1</td>\n",
       "      <td>0</td>\n",
       "    </tr>\n",
       "    <tr>\n",
       "      <th>2</th>\n",
       "      <td>Nissin</td>\n",
       "      <td>Cup</td>\n",
       "      <td>USA</td>\n",
       "      <td>2.25</td>\n",
       "      <td>0</td>\n",
       "    </tr>\n",
       "    <tr>\n",
       "      <th>3</th>\n",
       "      <td>Wei Lih</td>\n",
       "      <td>Pack</td>\n",
       "      <td>Taiwan</td>\n",
       "      <td>2.75</td>\n",
       "      <td>0</td>\n",
       "    </tr>\n",
       "    <tr>\n",
       "      <th>4</th>\n",
       "      <td>Ching's Secret</td>\n",
       "      <td>Pack</td>\n",
       "      <td>India</td>\n",
       "      <td>3.75</td>\n",
       "      <td>0</td>\n",
       "    </tr>\n",
       "    <tr>\n",
       "      <th>...</th>\n",
       "      <td>...</td>\n",
       "      <td>...</td>\n",
       "      <td>...</td>\n",
       "      <td>...</td>\n",
       "      <td>...</td>\n",
       "    </tr>\n",
       "    <tr>\n",
       "      <th>2570</th>\n",
       "      <td>Vifon</td>\n",
       "      <td>Bowl</td>\n",
       "      <td>Vietnam</td>\n",
       "      <td>3.5</td>\n",
       "      <td>0</td>\n",
       "    </tr>\n",
       "    <tr>\n",
       "      <th>2571</th>\n",
       "      <td>Wai Wai</td>\n",
       "      <td>Pack</td>\n",
       "      <td>Thailand</td>\n",
       "      <td>1</td>\n",
       "      <td>0</td>\n",
       "    </tr>\n",
       "    <tr>\n",
       "      <th>2572</th>\n",
       "      <td>Wai Wai</td>\n",
       "      <td>Pack</td>\n",
       "      <td>Thailand</td>\n",
       "      <td>2</td>\n",
       "      <td>0</td>\n",
       "    </tr>\n",
       "    <tr>\n",
       "      <th>2573</th>\n",
       "      <td>Wai Wai</td>\n",
       "      <td>Pack</td>\n",
       "      <td>Thailand</td>\n",
       "      <td>2</td>\n",
       "      <td>0</td>\n",
       "    </tr>\n",
       "    <tr>\n",
       "      <th>2574</th>\n",
       "      <td>Westbrae</td>\n",
       "      <td>Pack</td>\n",
       "      <td>USA</td>\n",
       "      <td>0.5</td>\n",
       "      <td>0</td>\n",
       "    </tr>\n",
       "  </tbody>\n",
       "</table>\n",
       "<p>2575 rows × 5 columns</p>\n",
       "</div>"
      ],
      "text/plain": [
       "               Brand Style   Country Stars  isTopTen\n",
       "0          New Touch   Cup     Japan  3.75         0\n",
       "1           Just Way  Pack    Taiwan     1         0\n",
       "2             Nissin   Cup       USA  2.25         0\n",
       "3            Wei Lih  Pack    Taiwan  2.75         0\n",
       "4     Ching's Secret  Pack     India  3.75         0\n",
       "...              ...   ...       ...   ...       ...\n",
       "2570           Vifon  Bowl   Vietnam   3.5         0\n",
       "2571         Wai Wai  Pack  Thailand     1         0\n",
       "2572         Wai Wai  Pack  Thailand     2         0\n",
       "2573         Wai Wai  Pack  Thailand     2         0\n",
       "2574        Westbrae  Pack       USA   0.5         0\n",
       "\n",
       "[2575 rows x 5 columns]"
      ]
     },
     "execution_count": 166,
     "metadata": {},
     "output_type": "execute_result"
    }
   ],
   "source": [
    "data"
   ]
  },
  {
   "cell_type": "code",
   "execution_count": 167,
   "metadata": {
    "ExecuteTime": {
     "end_time": "2024-08-15T09:36:33.877691Z",
     "start_time": "2024-08-15T09:36:33.864701Z"
    }
   },
   "outputs": [
    {
     "data": {
      "text/plain": [
       "array(['Cup', 'Pack', 'Tray', 'Bowl', 'Box', 'Can', 'Bar'], dtype=object)"
      ]
     },
     "execution_count": 167,
     "metadata": {},
     "output_type": "execute_result"
    }
   ],
   "source": [
    "data['Style'].unique()"
   ]
  },
  {
   "cell_type": "code",
   "execution_count": 168,
   "metadata": {
    "ExecuteTime": {
     "end_time": "2024-08-15T09:36:33.908717Z",
     "start_time": "2024-08-15T09:36:33.896693Z"
    }
   },
   "outputs": [],
   "source": [
    "#? Example of One Hot Encoding for 1 Column\n",
    "# pd.get_dummies(data['Style'], prefix='STYLE')"
   ]
  },
  {
   "cell_type": "markdown",
   "metadata": {},
   "source": []
  },
  {
   "cell_type": "code",
   "execution_count": 169,
   "metadata": {
    "ExecuteTime": {
     "end_time": "2024-08-15T09:36:34.035297Z",
     "start_time": "2024-08-15T09:36:34.021279Z"
    }
   },
   "outputs": [],
   "source": [
    "def onehot_encode(df, columns, prefixes):\n",
    "    df = df.copy()\n",
    "    for column, prefix in zip(columns, prefixes):\n",
    "        dummies = pd.get_dummies(df[column], prefix=prefix)\n",
    "        df = pd.concat([df, dummies], axis=1) # side by side instead of on top\n",
    "        df = df.drop(column, axis=1)\n",
    "    return df"
   ]
  },
  {
   "cell_type": "markdown",
   "metadata": {},
   "source": [
    "### One Hot Encoding\n",
    "\n",
    "In the data set, features like Brand, Style, Country is determinant by ramen_name. For example, is this ramen_name belong to a brand/style/country or not?\n",
    "\n",
    "-> This turn into a True or False problem. \n",
    "\n",
    "-> So we could simplified these features using One Hot Encoding to each feature value into 1 or 0  "
   ]
  },
  {
   "cell_type": "code",
   "execution_count": 170,
   "metadata": {
    "ExecuteTime": {
     "end_time": "2024-08-15T09:36:34.145380Z",
     "start_time": "2024-08-15T09:36:34.117814Z"
    }
   },
   "outputs": [],
   "source": [
    "data = onehot_encode(\n",
    "    data,\n",
    "    ['Brand','Style', 'Country'],\n",
    "    ['B', 'S', 'C']\n",
    ")"
   ]
  },
  {
   "cell_type": "code",
   "execution_count": 171,
   "metadata": {
    "ExecuteTime": {
     "end_time": "2024-08-15T09:36:34.270920Z",
     "start_time": "2024-08-15T09:36:34.226383Z"
    }
   },
   "outputs": [
    {
     "data": {
      "text/html": [
       "<div>\n",
       "<style scoped>\n",
       "    .dataframe tbody tr th:only-of-type {\n",
       "        vertical-align: middle;\n",
       "    }\n",
       "\n",
       "    .dataframe tbody tr th {\n",
       "        vertical-align: top;\n",
       "    }\n",
       "\n",
       "    .dataframe thead th {\n",
       "        text-align: right;\n",
       "    }\n",
       "</style>\n",
       "<table border=\"1\" class=\"dataframe\">\n",
       "  <thead>\n",
       "    <tr style=\"text-align: right;\">\n",
       "      <th></th>\n",
       "      <th>Stars</th>\n",
       "      <th>isTopTen</th>\n",
       "      <th>B_1 To 3 Noodles</th>\n",
       "      <th>B_7 Select</th>\n",
       "      <th>B_7 Select/Nissin</th>\n",
       "      <th>B_A-One</th>\n",
       "      <th>B_A-Sha Dry Noodle</th>\n",
       "      <th>B_A1</th>\n",
       "      <th>B_ABC</th>\n",
       "      <th>B_Acecook</th>\n",
       "      <th>...</th>\n",
       "      <th>C_Sarawak</th>\n",
       "      <th>C_Singapore</th>\n",
       "      <th>C_South Korea</th>\n",
       "      <th>C_Sweden</th>\n",
       "      <th>C_Taiwan</th>\n",
       "      <th>C_Thailand</th>\n",
       "      <th>C_UK</th>\n",
       "      <th>C_USA</th>\n",
       "      <th>C_United States</th>\n",
       "      <th>C_Vietnam</th>\n",
       "    </tr>\n",
       "  </thead>\n",
       "  <tbody>\n",
       "    <tr>\n",
       "      <th>0</th>\n",
       "      <td>3.75</td>\n",
       "      <td>0</td>\n",
       "      <td>False</td>\n",
       "      <td>False</td>\n",
       "      <td>False</td>\n",
       "      <td>False</td>\n",
       "      <td>False</td>\n",
       "      <td>False</td>\n",
       "      <td>False</td>\n",
       "      <td>False</td>\n",
       "      <td>...</td>\n",
       "      <td>False</td>\n",
       "      <td>False</td>\n",
       "      <td>False</td>\n",
       "      <td>False</td>\n",
       "      <td>False</td>\n",
       "      <td>False</td>\n",
       "      <td>False</td>\n",
       "      <td>False</td>\n",
       "      <td>False</td>\n",
       "      <td>False</td>\n",
       "    </tr>\n",
       "    <tr>\n",
       "      <th>1</th>\n",
       "      <td>1</td>\n",
       "      <td>0</td>\n",
       "      <td>False</td>\n",
       "      <td>False</td>\n",
       "      <td>False</td>\n",
       "      <td>False</td>\n",
       "      <td>False</td>\n",
       "      <td>False</td>\n",
       "      <td>False</td>\n",
       "      <td>False</td>\n",
       "      <td>...</td>\n",
       "      <td>False</td>\n",
       "      <td>False</td>\n",
       "      <td>False</td>\n",
       "      <td>False</td>\n",
       "      <td>True</td>\n",
       "      <td>False</td>\n",
       "      <td>False</td>\n",
       "      <td>False</td>\n",
       "      <td>False</td>\n",
       "      <td>False</td>\n",
       "    </tr>\n",
       "    <tr>\n",
       "      <th>2</th>\n",
       "      <td>2.25</td>\n",
       "      <td>0</td>\n",
       "      <td>False</td>\n",
       "      <td>False</td>\n",
       "      <td>False</td>\n",
       "      <td>False</td>\n",
       "      <td>False</td>\n",
       "      <td>False</td>\n",
       "      <td>False</td>\n",
       "      <td>False</td>\n",
       "      <td>...</td>\n",
       "      <td>False</td>\n",
       "      <td>False</td>\n",
       "      <td>False</td>\n",
       "      <td>False</td>\n",
       "      <td>False</td>\n",
       "      <td>False</td>\n",
       "      <td>False</td>\n",
       "      <td>True</td>\n",
       "      <td>False</td>\n",
       "      <td>False</td>\n",
       "    </tr>\n",
       "    <tr>\n",
       "      <th>3</th>\n",
       "      <td>2.75</td>\n",
       "      <td>0</td>\n",
       "      <td>False</td>\n",
       "      <td>False</td>\n",
       "      <td>False</td>\n",
       "      <td>False</td>\n",
       "      <td>False</td>\n",
       "      <td>False</td>\n",
       "      <td>False</td>\n",
       "      <td>False</td>\n",
       "      <td>...</td>\n",
       "      <td>False</td>\n",
       "      <td>False</td>\n",
       "      <td>False</td>\n",
       "      <td>False</td>\n",
       "      <td>True</td>\n",
       "      <td>False</td>\n",
       "      <td>False</td>\n",
       "      <td>False</td>\n",
       "      <td>False</td>\n",
       "      <td>False</td>\n",
       "    </tr>\n",
       "    <tr>\n",
       "      <th>4</th>\n",
       "      <td>3.75</td>\n",
       "      <td>0</td>\n",
       "      <td>False</td>\n",
       "      <td>False</td>\n",
       "      <td>False</td>\n",
       "      <td>False</td>\n",
       "      <td>False</td>\n",
       "      <td>False</td>\n",
       "      <td>False</td>\n",
       "      <td>False</td>\n",
       "      <td>...</td>\n",
       "      <td>False</td>\n",
       "      <td>False</td>\n",
       "      <td>False</td>\n",
       "      <td>False</td>\n",
       "      <td>False</td>\n",
       "      <td>False</td>\n",
       "      <td>False</td>\n",
       "      <td>False</td>\n",
       "      <td>False</td>\n",
       "      <td>False</td>\n",
       "    </tr>\n",
       "    <tr>\n",
       "      <th>...</th>\n",
       "      <td>...</td>\n",
       "      <td>...</td>\n",
       "      <td>...</td>\n",
       "      <td>...</td>\n",
       "      <td>...</td>\n",
       "      <td>...</td>\n",
       "      <td>...</td>\n",
       "      <td>...</td>\n",
       "      <td>...</td>\n",
       "      <td>...</td>\n",
       "      <td>...</td>\n",
       "      <td>...</td>\n",
       "      <td>...</td>\n",
       "      <td>...</td>\n",
       "      <td>...</td>\n",
       "      <td>...</td>\n",
       "      <td>...</td>\n",
       "      <td>...</td>\n",
       "      <td>...</td>\n",
       "      <td>...</td>\n",
       "      <td>...</td>\n",
       "    </tr>\n",
       "    <tr>\n",
       "      <th>2570</th>\n",
       "      <td>3.5</td>\n",
       "      <td>0</td>\n",
       "      <td>False</td>\n",
       "      <td>False</td>\n",
       "      <td>False</td>\n",
       "      <td>False</td>\n",
       "      <td>False</td>\n",
       "      <td>False</td>\n",
       "      <td>False</td>\n",
       "      <td>False</td>\n",
       "      <td>...</td>\n",
       "      <td>False</td>\n",
       "      <td>False</td>\n",
       "      <td>False</td>\n",
       "      <td>False</td>\n",
       "      <td>False</td>\n",
       "      <td>False</td>\n",
       "      <td>False</td>\n",
       "      <td>False</td>\n",
       "      <td>False</td>\n",
       "      <td>True</td>\n",
       "    </tr>\n",
       "    <tr>\n",
       "      <th>2571</th>\n",
       "      <td>1</td>\n",
       "      <td>0</td>\n",
       "      <td>False</td>\n",
       "      <td>False</td>\n",
       "      <td>False</td>\n",
       "      <td>False</td>\n",
       "      <td>False</td>\n",
       "      <td>False</td>\n",
       "      <td>False</td>\n",
       "      <td>False</td>\n",
       "      <td>...</td>\n",
       "      <td>False</td>\n",
       "      <td>False</td>\n",
       "      <td>False</td>\n",
       "      <td>False</td>\n",
       "      <td>False</td>\n",
       "      <td>True</td>\n",
       "      <td>False</td>\n",
       "      <td>False</td>\n",
       "      <td>False</td>\n",
       "      <td>False</td>\n",
       "    </tr>\n",
       "    <tr>\n",
       "      <th>2572</th>\n",
       "      <td>2</td>\n",
       "      <td>0</td>\n",
       "      <td>False</td>\n",
       "      <td>False</td>\n",
       "      <td>False</td>\n",
       "      <td>False</td>\n",
       "      <td>False</td>\n",
       "      <td>False</td>\n",
       "      <td>False</td>\n",
       "      <td>False</td>\n",
       "      <td>...</td>\n",
       "      <td>False</td>\n",
       "      <td>False</td>\n",
       "      <td>False</td>\n",
       "      <td>False</td>\n",
       "      <td>False</td>\n",
       "      <td>True</td>\n",
       "      <td>False</td>\n",
       "      <td>False</td>\n",
       "      <td>False</td>\n",
       "      <td>False</td>\n",
       "    </tr>\n",
       "    <tr>\n",
       "      <th>2573</th>\n",
       "      <td>2</td>\n",
       "      <td>0</td>\n",
       "      <td>False</td>\n",
       "      <td>False</td>\n",
       "      <td>False</td>\n",
       "      <td>False</td>\n",
       "      <td>False</td>\n",
       "      <td>False</td>\n",
       "      <td>False</td>\n",
       "      <td>False</td>\n",
       "      <td>...</td>\n",
       "      <td>False</td>\n",
       "      <td>False</td>\n",
       "      <td>False</td>\n",
       "      <td>False</td>\n",
       "      <td>False</td>\n",
       "      <td>True</td>\n",
       "      <td>False</td>\n",
       "      <td>False</td>\n",
       "      <td>False</td>\n",
       "      <td>False</td>\n",
       "    </tr>\n",
       "    <tr>\n",
       "      <th>2574</th>\n",
       "      <td>0.5</td>\n",
       "      <td>0</td>\n",
       "      <td>False</td>\n",
       "      <td>False</td>\n",
       "      <td>False</td>\n",
       "      <td>False</td>\n",
       "      <td>False</td>\n",
       "      <td>False</td>\n",
       "      <td>False</td>\n",
       "      <td>False</td>\n",
       "      <td>...</td>\n",
       "      <td>False</td>\n",
       "      <td>False</td>\n",
       "      <td>False</td>\n",
       "      <td>False</td>\n",
       "      <td>False</td>\n",
       "      <td>False</td>\n",
       "      <td>False</td>\n",
       "      <td>True</td>\n",
       "      <td>False</td>\n",
       "      <td>False</td>\n",
       "    </tr>\n",
       "  </tbody>\n",
       "</table>\n",
       "<p>2575 rows × 402 columns</p>\n",
       "</div>"
      ],
      "text/plain": [
       "     Stars  isTopTen  B_1 To 3 Noodles  B_7 Select  B_7 Select/Nissin  \\\n",
       "0     3.75         0             False       False              False   \n",
       "1        1         0             False       False              False   \n",
       "2     2.25         0             False       False              False   \n",
       "3     2.75         0             False       False              False   \n",
       "4     3.75         0             False       False              False   \n",
       "...    ...       ...               ...         ...                ...   \n",
       "2570   3.5         0             False       False              False   \n",
       "2571     1         0             False       False              False   \n",
       "2572     2         0             False       False              False   \n",
       "2573     2         0             False       False              False   \n",
       "2574   0.5         0             False       False              False   \n",
       "\n",
       "      B_A-One  B_A-Sha Dry Noodle   B_A1  B_ABC  B_Acecook  ...  C_Sarawak  \\\n",
       "0       False               False  False  False      False  ...      False   \n",
       "1       False               False  False  False      False  ...      False   \n",
       "2       False               False  False  False      False  ...      False   \n",
       "3       False               False  False  False      False  ...      False   \n",
       "4       False               False  False  False      False  ...      False   \n",
       "...       ...                 ...    ...    ...        ...  ...        ...   \n",
       "2570    False               False  False  False      False  ...      False   \n",
       "2571    False               False  False  False      False  ...      False   \n",
       "2572    False               False  False  False      False  ...      False   \n",
       "2573    False               False  False  False      False  ...      False   \n",
       "2574    False               False  False  False      False  ...      False   \n",
       "\n",
       "      C_Singapore  C_South Korea  C_Sweden  C_Taiwan  C_Thailand   C_UK  \\\n",
       "0           False          False     False     False       False  False   \n",
       "1           False          False     False      True       False  False   \n",
       "2           False          False     False     False       False  False   \n",
       "3           False          False     False      True       False  False   \n",
       "4           False          False     False     False       False  False   \n",
       "...           ...            ...       ...       ...         ...    ...   \n",
       "2570        False          False     False     False       False  False   \n",
       "2571        False          False     False     False        True  False   \n",
       "2572        False          False     False     False        True  False   \n",
       "2573        False          False     False     False        True  False   \n",
       "2574        False          False     False     False       False  False   \n",
       "\n",
       "      C_USA  C_United States  C_Vietnam  \n",
       "0     False            False      False  \n",
       "1     False            False      False  \n",
       "2      True            False      False  \n",
       "3     False            False      False  \n",
       "4     False            False      False  \n",
       "...     ...              ...        ...  \n",
       "2570  False            False       True  \n",
       "2571  False            False      False  \n",
       "2572  False            False      False  \n",
       "2573  False            False      False  \n",
       "2574   True            False      False  \n",
       "\n",
       "[2575 rows x 402 columns]"
      ]
     },
     "execution_count": 171,
     "metadata": {},
     "output_type": "execute_result"
    }
   ],
   "source": [
    "data"
   ]
  },
  {
   "cell_type": "code",
   "execution_count": 172,
   "metadata": {
    "ExecuteTime": {
     "end_time": "2024-08-15T09:36:34.366468Z",
     "start_time": "2024-08-15T09:36:34.355463Z"
    }
   },
   "outputs": [],
   "source": [
    "# Extract labels and features\n",
    "labels = data.loc[:, 'isTopTen'] # label is the main features we want to predict for each row\n",
    "other_features = data.drop('isTopTen', axis=1) "
   ]
  },
  {
   "cell_type": "code",
   "execution_count": 173,
   "metadata": {
    "ExecuteTime": {
     "end_time": "2024-08-15T09:36:34.492988Z",
     "start_time": "2024-08-15T09:36:34.431480Z"
    }
   },
   "outputs": [],
   "source": [
    "# Scale other features\n",
    "scaler = StandardScaler()\n",
    "\n",
    "other_features = pd.DataFrame(scaler.fit_transform(other_features), columns=other_features.columns) "
   ]
  },
  {
   "cell_type": "code",
   "execution_count": 174,
   "metadata": {
    "ExecuteTime": {
     "end_time": "2024-08-15T09:36:34.508985Z",
     "start_time": "2024-08-15T09:36:34.495981Z"
    }
   },
   "outputs": [],
   "source": [
    "name_features_series = pd.Series(list(name_features), name='Name')"
   ]
  },
  {
   "cell_type": "code",
   "execution_count": 175,
   "metadata": {
    "ExecuteTime": {
     "end_time": "2024-08-15T09:36:34.667700Z",
     "start_time": "2024-08-15T09:36:34.624548Z"
    }
   },
   "outputs": [
    {
     "data": {
      "text/html": [
       "<div>\n",
       "<style scoped>\n",
       "    .dataframe tbody tr th:only-of-type {\n",
       "        vertical-align: middle;\n",
       "    }\n",
       "\n",
       "    .dataframe tbody tr th {\n",
       "        vertical-align: top;\n",
       "    }\n",
       "\n",
       "    .dataframe thead th {\n",
       "        text-align: right;\n",
       "    }\n",
       "</style>\n",
       "<table border=\"1\" class=\"dataframe\">\n",
       "  <thead>\n",
       "    <tr style=\"text-align: right;\">\n",
       "      <th></th>\n",
       "      <th>Name</th>\n",
       "      <th>Stars</th>\n",
       "      <th>B_1 To 3 Noodles</th>\n",
       "      <th>B_7 Select</th>\n",
       "      <th>B_7 Select/Nissin</th>\n",
       "      <th>B_A-One</th>\n",
       "      <th>B_A-Sha Dry Noodle</th>\n",
       "      <th>B_A1</th>\n",
       "      <th>B_ABC</th>\n",
       "      <th>B_Acecook</th>\n",
       "      <th>...</th>\n",
       "      <th>C_Sarawak</th>\n",
       "      <th>C_Singapore</th>\n",
       "      <th>C_South Korea</th>\n",
       "      <th>C_Sweden</th>\n",
       "      <th>C_Taiwan</th>\n",
       "      <th>C_Thailand</th>\n",
       "      <th>C_UK</th>\n",
       "      <th>C_USA</th>\n",
       "      <th>C_United States</th>\n",
       "      <th>C_Vietnam</th>\n",
       "    </tr>\n",
       "  </thead>\n",
       "  <tbody>\n",
       "    <tr>\n",
       "      <th>0</th>\n",
       "      <td>[511, 402, 324, 0, 0, 0, 0, 0, 0, 0, 0, 0, 0]</td>\n",
       "      <td>0.093660</td>\n",
       "      <td>-0.01971</td>\n",
       "      <td>-0.02788</td>\n",
       "      <td>-0.01971</td>\n",
       "      <td>-0.039444</td>\n",
       "      <td>-0.100995</td>\n",
       "      <td>-0.034153</td>\n",
       "      <td>-0.068425</td>\n",
       "      <td>-0.076547</td>\n",
       "      <td>...</td>\n",
       "      <td>-0.034153</td>\n",
       "      <td>-0.210241</td>\n",
       "      <td>-0.367915</td>\n",
       "      <td>-0.034153</td>\n",
       "      <td>-0.307917</td>\n",
       "      <td>-0.283050</td>\n",
       "      <td>-0.165933</td>\n",
       "      <td>-0.378719</td>\n",
       "      <td>-0.01971</td>\n",
       "      <td>-0.209232</td>\n",
       "    </tr>\n",
       "    <tr>\n",
       "      <th>1</th>\n",
       "      <td>[1, 6, 18, 30, 6, 18, 30, 228, 1, 0, 0, 0, 0]</td>\n",
       "      <td>-2.614515</td>\n",
       "      <td>-0.01971</td>\n",
       "      <td>-0.02788</td>\n",
       "      <td>-0.01971</td>\n",
       "      <td>-0.039444</td>\n",
       "      <td>-0.100995</td>\n",
       "      <td>-0.034153</td>\n",
       "      <td>-0.068425</td>\n",
       "      <td>-0.076547</td>\n",
       "      <td>...</td>\n",
       "      <td>-0.034153</td>\n",
       "      <td>-0.210241</td>\n",
       "      <td>-0.367915</td>\n",
       "      <td>-0.034153</td>\n",
       "      <td>3.247628</td>\n",
       "      <td>-0.283050</td>\n",
       "      <td>-0.165933</td>\n",
       "      <td>-0.378719</td>\n",
       "      <td>-0.01971</td>\n",
       "      <td>-0.209232</td>\n",
       "    </tr>\n",
       "    <tr>\n",
       "      <th>2</th>\n",
       "      <td>[8, 1, 5, 26, 0, 0, 0, 0, 0, 0, 0, 0, 0]</td>\n",
       "      <td>-1.383526</td>\n",
       "      <td>-0.01971</td>\n",
       "      <td>-0.02788</td>\n",
       "      <td>-0.01971</td>\n",
       "      <td>-0.039444</td>\n",
       "      <td>-0.100995</td>\n",
       "      <td>-0.034153</td>\n",
       "      <td>-0.068425</td>\n",
       "      <td>-0.076547</td>\n",
       "      <td>...</td>\n",
       "      <td>-0.034153</td>\n",
       "      <td>-0.210241</td>\n",
       "      <td>-0.367915</td>\n",
       "      <td>-0.034153</td>\n",
       "      <td>-0.307917</td>\n",
       "      <td>-0.283050</td>\n",
       "      <td>-0.165933</td>\n",
       "      <td>2.640480</td>\n",
       "      <td>-0.01971</td>\n",
       "      <td>-0.209232</td>\n",
       "    </tr>\n",
       "    <tr>\n",
       "      <th>3</th>\n",
       "      <td>[267, 4, 72, 54, 2, 0, 0, 0, 0, 0, 0, 0, 0]</td>\n",
       "      <td>-0.891131</td>\n",
       "      <td>-0.01971</td>\n",
       "      <td>-0.02788</td>\n",
       "      <td>-0.01971</td>\n",
       "      <td>-0.039444</td>\n",
       "      <td>-0.100995</td>\n",
       "      <td>-0.034153</td>\n",
       "      <td>-0.068425</td>\n",
       "      <td>-0.076547</td>\n",
       "      <td>...</td>\n",
       "      <td>-0.034153</td>\n",
       "      <td>-0.210241</td>\n",
       "      <td>-0.367915</td>\n",
       "      <td>-0.034153</td>\n",
       "      <td>3.247628</td>\n",
       "      <td>-0.283050</td>\n",
       "      <td>-0.165933</td>\n",
       "      <td>-0.378719</td>\n",
       "      <td>-0.01971</td>\n",
       "      <td>-0.209232</td>\n",
       "    </tr>\n",
       "    <tr>\n",
       "      <th>4</th>\n",
       "      <td>[129, 14, 0, 0, 0, 0, 0, 0, 0, 0, 0, 0, 0]</td>\n",
       "      <td>0.093660</td>\n",
       "      <td>-0.01971</td>\n",
       "      <td>-0.02788</td>\n",
       "      <td>-0.01971</td>\n",
       "      <td>-0.039444</td>\n",
       "      <td>-0.100995</td>\n",
       "      <td>-0.034153</td>\n",
       "      <td>-0.068425</td>\n",
       "      <td>-0.076547</td>\n",
       "      <td>...</td>\n",
       "      <td>-0.034153</td>\n",
       "      <td>-0.210241</td>\n",
       "      <td>-0.367915</td>\n",
       "      <td>-0.034153</td>\n",
       "      <td>-0.307917</td>\n",
       "      <td>-0.283050</td>\n",
       "      <td>-0.165933</td>\n",
       "      <td>-0.378719</td>\n",
       "      <td>-0.01971</td>\n",
       "      <td>-0.209232</td>\n",
       "    </tr>\n",
       "    <tr>\n",
       "      <th>...</th>\n",
       "      <td>...</td>\n",
       "      <td>...</td>\n",
       "      <td>...</td>\n",
       "      <td>...</td>\n",
       "      <td>...</td>\n",
       "      <td>...</td>\n",
       "      <td>...</td>\n",
       "      <td>...</td>\n",
       "      <td>...</td>\n",
       "      <td>...</td>\n",
       "      <td>...</td>\n",
       "      <td>...</td>\n",
       "      <td>...</td>\n",
       "      <td>...</td>\n",
       "      <td>...</td>\n",
       "      <td>...</td>\n",
       "      <td>...</td>\n",
       "      <td>...</td>\n",
       "      <td>...</td>\n",
       "      <td>...</td>\n",
       "      <td>...</td>\n",
       "    </tr>\n",
       "    <tr>\n",
       "      <th>2570</th>\n",
       "      <td>[365, 699, 215, 510, 442, 443, 22, 100, 22, 0, 0, 0, 0]</td>\n",
       "      <td>-0.152537</td>\n",
       "      <td>-0.01971</td>\n",
       "      <td>-0.02788</td>\n",
       "      <td>-0.01971</td>\n",
       "      <td>-0.039444</td>\n",
       "      <td>-0.100995</td>\n",
       "      <td>-0.034153</td>\n",
       "      <td>-0.068425</td>\n",
       "      <td>-0.076547</td>\n",
       "      <td>...</td>\n",
       "      <td>-0.034153</td>\n",
       "      <td>-0.210241</td>\n",
       "      <td>-0.367915</td>\n",
       "      <td>-0.034153</td>\n",
       "      <td>-0.307917</td>\n",
       "      <td>-0.283050</td>\n",
       "      <td>-0.165933</td>\n",
       "      <td>-0.378719</td>\n",
       "      <td>-0.01971</td>\n",
       "      <td>4.779392</td>\n",
       "    </tr>\n",
       "    <tr>\n",
       "      <th>2571</th>\n",
       "      <td>[29, 22, 3, 1, 0, 0, 0, 0, 0, 0, 0, 0, 0]</td>\n",
       "      <td>-2.614515</td>\n",
       "      <td>-0.01971</td>\n",
       "      <td>-0.02788</td>\n",
       "      <td>-0.01971</td>\n",
       "      <td>-0.039444</td>\n",
       "      <td>-0.100995</td>\n",
       "      <td>-0.034153</td>\n",
       "      <td>-0.068425</td>\n",
       "      <td>-0.076547</td>\n",
       "      <td>...</td>\n",
       "      <td>-0.034153</td>\n",
       "      <td>-0.210241</td>\n",
       "      <td>-0.367915</td>\n",
       "      <td>-0.034153</td>\n",
       "      <td>-0.307917</td>\n",
       "      <td>3.532941</td>\n",
       "      <td>-0.165933</td>\n",
       "      <td>-0.378719</td>\n",
       "      <td>-0.01971</td>\n",
       "      <td>-0.209232</td>\n",
       "    </tr>\n",
       "    <tr>\n",
       "      <th>2572</th>\n",
       "      <td>[15, 23, 16, 0, 0, 0, 0, 0, 0, 0, 0, 0, 0]</td>\n",
       "      <td>-1.629724</td>\n",
       "      <td>-0.01971</td>\n",
       "      <td>-0.02788</td>\n",
       "      <td>-0.01971</td>\n",
       "      <td>-0.039444</td>\n",
       "      <td>-0.100995</td>\n",
       "      <td>-0.034153</td>\n",
       "      <td>-0.068425</td>\n",
       "      <td>-0.076547</td>\n",
       "      <td>...</td>\n",
       "      <td>-0.034153</td>\n",
       "      <td>-0.210241</td>\n",
       "      <td>-0.367915</td>\n",
       "      <td>-0.034153</td>\n",
       "      <td>-0.307917</td>\n",
       "      <td>3.532941</td>\n",
       "      <td>-0.165933</td>\n",
       "      <td>-0.378719</td>\n",
       "      <td>-0.01971</td>\n",
       "      <td>-0.209232</td>\n",
       "    </tr>\n",
       "    <tr>\n",
       "      <th>2573</th>\n",
       "      <td>[15, 23, 69, 2, 0, 0, 0, 0, 0, 0, 0, 0, 0]</td>\n",
       "      <td>-1.629724</td>\n",
       "      <td>-0.01971</td>\n",
       "      <td>-0.02788</td>\n",
       "      <td>-0.01971</td>\n",
       "      <td>-0.039444</td>\n",
       "      <td>-0.100995</td>\n",
       "      <td>-0.034153</td>\n",
       "      <td>-0.068425</td>\n",
       "      <td>-0.076547</td>\n",
       "      <td>...</td>\n",
       "      <td>-0.034153</td>\n",
       "      <td>-0.210241</td>\n",
       "      <td>-0.367915</td>\n",
       "      <td>-0.034153</td>\n",
       "      <td>-0.307917</td>\n",
       "      <td>3.532941</td>\n",
       "      <td>-0.165933</td>\n",
       "      <td>-0.378719</td>\n",
       "      <td>-0.01971</td>\n",
       "      <td>-0.209232</td>\n",
       "    </tr>\n",
       "    <tr>\n",
       "      <th>2574</th>\n",
       "      <td>[43, 4, 0, 0, 0, 0, 0, 0, 0, 0, 0, 0, 0]</td>\n",
       "      <td>-3.106910</td>\n",
       "      <td>-0.01971</td>\n",
       "      <td>-0.02788</td>\n",
       "      <td>-0.01971</td>\n",
       "      <td>-0.039444</td>\n",
       "      <td>-0.100995</td>\n",
       "      <td>-0.034153</td>\n",
       "      <td>-0.068425</td>\n",
       "      <td>-0.076547</td>\n",
       "      <td>...</td>\n",
       "      <td>-0.034153</td>\n",
       "      <td>-0.210241</td>\n",
       "      <td>-0.367915</td>\n",
       "      <td>-0.034153</td>\n",
       "      <td>-0.307917</td>\n",
       "      <td>-0.283050</td>\n",
       "      <td>-0.165933</td>\n",
       "      <td>2.640480</td>\n",
       "      <td>-0.01971</td>\n",
       "      <td>-0.209232</td>\n",
       "    </tr>\n",
       "  </tbody>\n",
       "</table>\n",
       "<p>2575 rows × 402 columns</p>\n",
       "</div>"
      ],
      "text/plain": [
       "                                                         Name     Stars  \\\n",
       "0               [511, 402, 324, 0, 0, 0, 0, 0, 0, 0, 0, 0, 0]  0.093660   \n",
       "1               [1, 6, 18, 30, 6, 18, 30, 228, 1, 0, 0, 0, 0] -2.614515   \n",
       "2                    [8, 1, 5, 26, 0, 0, 0, 0, 0, 0, 0, 0, 0] -1.383526   \n",
       "3                 [267, 4, 72, 54, 2, 0, 0, 0, 0, 0, 0, 0, 0] -0.891131   \n",
       "4                  [129, 14, 0, 0, 0, 0, 0, 0, 0, 0, 0, 0, 0]  0.093660   \n",
       "...                                                       ...       ...   \n",
       "2570  [365, 699, 215, 510, 442, 443, 22, 100, 22, 0, 0, 0, 0] -0.152537   \n",
       "2571                [29, 22, 3, 1, 0, 0, 0, 0, 0, 0, 0, 0, 0] -2.614515   \n",
       "2572               [15, 23, 16, 0, 0, 0, 0, 0, 0, 0, 0, 0, 0] -1.629724   \n",
       "2573               [15, 23, 69, 2, 0, 0, 0, 0, 0, 0, 0, 0, 0] -1.629724   \n",
       "2574                 [43, 4, 0, 0, 0, 0, 0, 0, 0, 0, 0, 0, 0] -3.106910   \n",
       "\n",
       "      B_1 To 3 Noodles  B_7 Select  B_7 Select/Nissin   B_A-One  \\\n",
       "0             -0.01971    -0.02788           -0.01971 -0.039444   \n",
       "1             -0.01971    -0.02788           -0.01971 -0.039444   \n",
       "2             -0.01971    -0.02788           -0.01971 -0.039444   \n",
       "3             -0.01971    -0.02788           -0.01971 -0.039444   \n",
       "4             -0.01971    -0.02788           -0.01971 -0.039444   \n",
       "...                ...         ...                ...       ...   \n",
       "2570          -0.01971    -0.02788           -0.01971 -0.039444   \n",
       "2571          -0.01971    -0.02788           -0.01971 -0.039444   \n",
       "2572          -0.01971    -0.02788           -0.01971 -0.039444   \n",
       "2573          -0.01971    -0.02788           -0.01971 -0.039444   \n",
       "2574          -0.01971    -0.02788           -0.01971 -0.039444   \n",
       "\n",
       "      B_A-Sha Dry Noodle      B_A1     B_ABC  B_Acecook  ...  C_Sarawak  \\\n",
       "0              -0.100995 -0.034153 -0.068425  -0.076547  ...  -0.034153   \n",
       "1              -0.100995 -0.034153 -0.068425  -0.076547  ...  -0.034153   \n",
       "2              -0.100995 -0.034153 -0.068425  -0.076547  ...  -0.034153   \n",
       "3              -0.100995 -0.034153 -0.068425  -0.076547  ...  -0.034153   \n",
       "4              -0.100995 -0.034153 -0.068425  -0.076547  ...  -0.034153   \n",
       "...                  ...       ...       ...        ...  ...        ...   \n",
       "2570           -0.100995 -0.034153 -0.068425  -0.076547  ...  -0.034153   \n",
       "2571           -0.100995 -0.034153 -0.068425  -0.076547  ...  -0.034153   \n",
       "2572           -0.100995 -0.034153 -0.068425  -0.076547  ...  -0.034153   \n",
       "2573           -0.100995 -0.034153 -0.068425  -0.076547  ...  -0.034153   \n",
       "2574           -0.100995 -0.034153 -0.068425  -0.076547  ...  -0.034153   \n",
       "\n",
       "      C_Singapore  C_South Korea  C_Sweden  C_Taiwan  C_Thailand      C_UK  \\\n",
       "0       -0.210241      -0.367915 -0.034153 -0.307917   -0.283050 -0.165933   \n",
       "1       -0.210241      -0.367915 -0.034153  3.247628   -0.283050 -0.165933   \n",
       "2       -0.210241      -0.367915 -0.034153 -0.307917   -0.283050 -0.165933   \n",
       "3       -0.210241      -0.367915 -0.034153  3.247628   -0.283050 -0.165933   \n",
       "4       -0.210241      -0.367915 -0.034153 -0.307917   -0.283050 -0.165933   \n",
       "...           ...            ...       ...       ...         ...       ...   \n",
       "2570    -0.210241      -0.367915 -0.034153 -0.307917   -0.283050 -0.165933   \n",
       "2571    -0.210241      -0.367915 -0.034153 -0.307917    3.532941 -0.165933   \n",
       "2572    -0.210241      -0.367915 -0.034153 -0.307917    3.532941 -0.165933   \n",
       "2573    -0.210241      -0.367915 -0.034153 -0.307917    3.532941 -0.165933   \n",
       "2574    -0.210241      -0.367915 -0.034153 -0.307917   -0.283050 -0.165933   \n",
       "\n",
       "         C_USA  C_United States  C_Vietnam  \n",
       "0    -0.378719         -0.01971  -0.209232  \n",
       "1    -0.378719         -0.01971  -0.209232  \n",
       "2     2.640480         -0.01971  -0.209232  \n",
       "3    -0.378719         -0.01971  -0.209232  \n",
       "4    -0.378719         -0.01971  -0.209232  \n",
       "...        ...              ...        ...  \n",
       "2570 -0.378719         -0.01971   4.779392  \n",
       "2571 -0.378719         -0.01971  -0.209232  \n",
       "2572 -0.378719         -0.01971  -0.209232  \n",
       "2573 -0.378719         -0.01971  -0.209232  \n",
       "2574  2.640480         -0.01971  -0.209232  \n",
       "\n",
       "[2575 rows x 402 columns]"
      ]
     },
     "execution_count": 175,
     "metadata": {},
     "output_type": "execute_result"
    }
   ],
   "source": [
    "# merging tokenize ramen names with other features\n",
    "features = pd.concat([name_features_series, other_features], axis=1)\n",
    "features"
   ]
  },
  {
   "cell_type": "code",
   "execution_count": 176,
   "metadata": {
    "ExecuteTime": {
     "end_time": "2024-08-15T09:36:34.699709Z",
     "start_time": "2024-08-15T09:36:34.679719Z"
    }
   },
   "outputs": [],
   "source": [
    "X_train, X_test, y_train, y_test = train_test_split(features, labels, train_size=0.7, random_state=34)"
   ]
  },
  {
   "cell_type": "markdown",
   "metadata": {},
   "source": [
    "# Modeling and Training"
   ]
  },
  {
   "cell_type": "code",
   "execution_count": 177,
   "metadata": {
    "ExecuteTime": {
     "end_time": "2024-08-15T09:36:34.779219Z",
     "start_time": "2024-08-15T09:36:34.765216Z"
    }
   },
   "outputs": [
    {
     "data": {
      "text/plain": [
       "(2575, 13)"
      ]
     },
     "execution_count": 177,
     "metadata": {},
     "output_type": "execute_result"
    }
   ],
   "source": [
    "name_features.shape"
   ]
  },
  {
   "cell_type": "code",
   "execution_count": 178,
   "metadata": {
    "ExecuteTime": {
     "end_time": "2024-08-15T09:36:34.827216Z",
     "start_time": "2024-08-15T09:36:34.816215Z"
    }
   },
   "outputs": [
    {
     "data": {
      "text/plain": [
       "(2575, 401)"
      ]
     },
     "execution_count": 178,
     "metadata": {},
     "output_type": "execute_result"
    }
   ],
   "source": [
    "other_features.shape"
   ]
  },
  {
   "cell_type": "code",
   "execution_count": 179,
   "metadata": {
    "ExecuteTime": {
     "end_time": "2024-08-15T09:36:34.937764Z",
     "start_time": "2024-08-15T09:36:34.916740Z"
    }
   },
   "outputs": [
    {
     "data": {
      "text/plain": [
       "{0: 0.5084650112866818, 1: 30.033333333333335}"
      ]
     },
     "execution_count": 179,
     "metadata": {},
     "output_type": "execute_result"
    }
   ],
   "source": [
    "class_weights = dict(\n",
    "    enumerate(\n",
    "        class_weight.compute_class_weight(\n",
    "            class_weight='balanced',\n",
    "            classes=y_train.unique(),\n",
    "            y=y_train\n",
    "        )\n",
    "    )\n",
    ")\n",
    "\n",
    "class_weights"
   ]
  },
  {
   "cell_type": "markdown",
   "metadata": {},
   "source": [
    "# ANN Model\n",
    "**Set up each inputs seperately then concatenate them together later**\n",
    "\n",
    "**Optional: Library to Plot Model**\n",
    "+ conda install -c conda-forge python-graphviz\n",
    "+ conda install -c anaconda pydot "
   ]
  },
  {
   "cell_type": "code",
   "execution_count": 180,
   "metadata": {
    "ExecuteTime": {
     "end_time": "2024-08-15T09:36:35.552112Z",
     "start_time": "2024-08-15T09:36:35.096887Z"
    }
   },
   "outputs": [
    {
     "data": {
      "image/png": "[encoded data removed]",
      "text/plain": [
       "<IPython.core.display.Image object>"
      ]
     },
     "execution_count": 180,
     "metadata": {},
     "output_type": "execute_result"
    }
   ],
   "source": [
    "\n",
    "#! Our vocab length is 1371, do one-hot encoding would require a vector of length 1371 to encode a single word\n",
    "#? Another way is to use a dense encoding. which turn word into n dimension vector (Word2Vec)\n",
    "embeddings_dim = 64 #? in other word, this is the numbers to convey a word to a vector\n",
    "\n",
    "\n",
    "\n",
    "#? Training on Name Features\n",
    "name_inputs = tf.keras.Input(shape=(13,), name='name_input')\n",
    "\n",
    "# Normalizing the input\n",
    "batch_norm = tf.keras.layers.BatchNormalization(name='batch_norm')(name_inputs)\n",
    "\n",
    "# Embedding the input\n",
    "name_embedding = tf.keras.layers.Embedding(\n",
    "    input_dim=vocab_length, # length of our vocabulary\n",
    "    output_dim=embeddings_dim, # the vector dimension we wanted\n",
    "    input_length=max_seq_length, # max sequence length: 13\n",
    "    name='name_embedding'\n",
    ")(batch_norm) \n",
    "\n",
    "name_outputs = tf.keras.layers.Flatten(name='name_flatten')(name_embedding)\n",
    "\n",
    "#? Training on Other Features\n",
    "other_inputs = tf.keras.Input(shape=(401, ), name='other_inputs')\n",
    "\n",
    "hidden = tf.keras.layers.Dense(64, activation='relu', name='dense1')(other_inputs)\n",
    "other_outputs = tf.keras.layers.Dense(64, activation='relu', name='dense2')(hidden)\n",
    "    \n",
    "#? Concatenate outputs and make predictions\n",
    "concat = tf.keras.layers.concatenate([name_outputs, other_outputs], name='concatenate') \n",
    "outputs = tf.keras.layers.Dense(1, activation='sigmoid', name='output_layer')(concat)\n",
    "\n",
    "#? Constructing and plotting model\n",
    "model = tf.keras.Model(inputs=[name_inputs, other_inputs], outputs=outputs)\n",
    "\n",
    "\n",
    "#? Plot the Model\n",
    "tf.keras.utils.plot_model(model) # plot the model"
   ]
  },
  {
   "cell_type": "code",
   "execution_count": 181,
   "metadata": {
    "ExecuteTime": {
     "end_time": "2024-08-15T09:36:35.582110Z",
     "start_time": "2024-08-15T09:36:35.555121Z"
    }
   },
   "outputs": [],
   "source": [
    "X_train_1 = np.stack(X_train['Name'].to_numpy())\n",
    "X_train_2 = X_train.drop('Name', axis=1)\n",
    "\n",
    "X_test_1 = np.stack(X_test['Name'].to_numpy())\n",
    "X_test_2 = X_test.drop('Name', axis=1)  "
   ]
  },
  {
   "cell_type": "code",
   "execution_count": 182,
   "metadata": {
    "ExecuteTime": {
     "end_time": "2024-08-15T09:36:35.598115Z",
     "start_time": "2024-08-15T09:36:35.585121Z"
    }
   },
   "outputs": [
    {
     "data": {
      "text/plain": [
       "array([[1283,   19,   26, ...,    0,    0,    0],\n",
       "       [  44,   50,  122, ...,    2,    0,    0],\n",
       "       [ 153,  353,  354, ...,    0,    0,    0],\n",
       "       ...,\n",
       "       [ 322,   16,    0, ...,    0,    0,    0],\n",
       "       [ 138,  168,   18, ...,    0,    0,    0],\n",
       "       [ 330,    6,   14, ...,    0,    0,    0]])"
      ]
     },
     "execution_count": 182,
     "metadata": {},
     "output_type": "execute_result"
    }
   ],
   "source": [
    "X_train_1"
   ]
  },
  {
   "cell_type": "code",
   "execution_count": 183,
   "metadata": {
    "ExecuteTime": {
     "end_time": "2024-08-15T09:36:35.645632Z",
     "start_time": "2024-08-15T09:36:35.602116Z"
    }
   },
   "outputs": [
    {
     "data": {
      "text/html": [
       "<div>\n",
       "<style scoped>\n",
       "    .dataframe tbody tr th:only-of-type {\n",
       "        vertical-align: middle;\n",
       "    }\n",
       "\n",
       "    .dataframe tbody tr th {\n",
       "        vertical-align: top;\n",
       "    }\n",
       "\n",
       "    .dataframe thead th {\n",
       "        text-align: right;\n",
       "    }\n",
       "</style>\n",
       "<table border=\"1\" class=\"dataframe\">\n",
       "  <thead>\n",
       "    <tr style=\"text-align: right;\">\n",
       "      <th></th>\n",
       "      <th>Stars</th>\n",
       "      <th>B_1 To 3 Noodles</th>\n",
       "      <th>B_7 Select</th>\n",
       "      <th>B_7 Select/Nissin</th>\n",
       "      <th>B_A-One</th>\n",
       "      <th>B_A-Sha Dry Noodle</th>\n",
       "      <th>B_A1</th>\n",
       "      <th>B_ABC</th>\n",
       "      <th>B_Acecook</th>\n",
       "      <th>B_Adabi</th>\n",
       "      <th>...</th>\n",
       "      <th>C_Sarawak</th>\n",
       "      <th>C_Singapore</th>\n",
       "      <th>C_South Korea</th>\n",
       "      <th>C_Sweden</th>\n",
       "      <th>C_Taiwan</th>\n",
       "      <th>C_Thailand</th>\n",
       "      <th>C_UK</th>\n",
       "      <th>C_USA</th>\n",
       "      <th>C_United States</th>\n",
       "      <th>C_Vietnam</th>\n",
       "    </tr>\n",
       "  </thead>\n",
       "  <tbody>\n",
       "    <tr>\n",
       "      <th>2039</th>\n",
       "      <td>-3.106910</td>\n",
       "      <td>-0.01971</td>\n",
       "      <td>-0.02788</td>\n",
       "      <td>-0.01971</td>\n",
       "      <td>-0.039444</td>\n",
       "      <td>-0.100995</td>\n",
       "      <td>-0.034153</td>\n",
       "      <td>-0.068425</td>\n",
       "      <td>-0.076547</td>\n",
       "      <td>-0.039444</td>\n",
       "      <td>...</td>\n",
       "      <td>-0.034153</td>\n",
       "      <td>-0.210241</td>\n",
       "      <td>-0.367915</td>\n",
       "      <td>-0.034153</td>\n",
       "      <td>-0.307917</td>\n",
       "      <td>-0.283050</td>\n",
       "      <td>-0.165933</td>\n",
       "      <td>-0.378719</td>\n",
       "      <td>-0.01971</td>\n",
       "      <td>-0.209232</td>\n",
       "    </tr>\n",
       "    <tr>\n",
       "      <th>732</th>\n",
       "      <td>0.832253</td>\n",
       "      <td>-0.01971</td>\n",
       "      <td>-0.02788</td>\n",
       "      <td>-0.01971</td>\n",
       "      <td>-0.039444</td>\n",
       "      <td>-0.100995</td>\n",
       "      <td>-0.034153</td>\n",
       "      <td>-0.068425</td>\n",
       "      <td>-0.076547</td>\n",
       "      <td>-0.039444</td>\n",
       "      <td>...</td>\n",
       "      <td>-0.034153</td>\n",
       "      <td>-0.210241</td>\n",
       "      <td>-0.367915</td>\n",
       "      <td>-0.034153</td>\n",
       "      <td>-0.307917</td>\n",
       "      <td>-0.283050</td>\n",
       "      <td>-0.165933</td>\n",
       "      <td>2.640480</td>\n",
       "      <td>-0.01971</td>\n",
       "      <td>-0.209232</td>\n",
       "    </tr>\n",
       "    <tr>\n",
       "      <th>429</th>\n",
       "      <td>1.324649</td>\n",
       "      <td>-0.01971</td>\n",
       "      <td>-0.02788</td>\n",
       "      <td>-0.01971</td>\n",
       "      <td>-0.039444</td>\n",
       "      <td>-0.100995</td>\n",
       "      <td>-0.034153</td>\n",
       "      <td>-0.068425</td>\n",
       "      <td>-0.076547</td>\n",
       "      <td>-0.039444</td>\n",
       "      <td>...</td>\n",
       "      <td>-0.034153</td>\n",
       "      <td>-0.210241</td>\n",
       "      <td>-0.367915</td>\n",
       "      <td>-0.034153</td>\n",
       "      <td>3.247628</td>\n",
       "      <td>-0.283050</td>\n",
       "      <td>-0.165933</td>\n",
       "      <td>-0.378719</td>\n",
       "      <td>-0.01971</td>\n",
       "      <td>-0.209232</td>\n",
       "    </tr>\n",
       "    <tr>\n",
       "      <th>282</th>\n",
       "      <td>-0.644933</td>\n",
       "      <td>-0.01971</td>\n",
       "      <td>-0.02788</td>\n",
       "      <td>-0.01971</td>\n",
       "      <td>-0.039444</td>\n",
       "      <td>-0.100995</td>\n",
       "      <td>-0.034153</td>\n",
       "      <td>-0.068425</td>\n",
       "      <td>-0.076547</td>\n",
       "      <td>-0.039444</td>\n",
       "      <td>...</td>\n",
       "      <td>-0.034153</td>\n",
       "      <td>-0.210241</td>\n",
       "      <td>-0.367915</td>\n",
       "      <td>-0.034153</td>\n",
       "      <td>-0.307917</td>\n",
       "      <td>-0.283050</td>\n",
       "      <td>-0.165933</td>\n",
       "      <td>-0.378719</td>\n",
       "      <td>-0.01971</td>\n",
       "      <td>-0.209232</td>\n",
       "    </tr>\n",
       "    <tr>\n",
       "      <th>2490</th>\n",
       "      <td>0.093660</td>\n",
       "      <td>-0.01971</td>\n",
       "      <td>-0.02788</td>\n",
       "      <td>-0.01971</td>\n",
       "      <td>-0.039444</td>\n",
       "      <td>-0.100995</td>\n",
       "      <td>-0.034153</td>\n",
       "      <td>-0.068425</td>\n",
       "      <td>-0.076547</td>\n",
       "      <td>-0.039444</td>\n",
       "      <td>...</td>\n",
       "      <td>-0.034153</td>\n",
       "      <td>-0.210241</td>\n",
       "      <td>-0.367915</td>\n",
       "      <td>-0.034153</td>\n",
       "      <td>-0.307917</td>\n",
       "      <td>-0.283050</td>\n",
       "      <td>-0.165933</td>\n",
       "      <td>-0.378719</td>\n",
       "      <td>-0.01971</td>\n",
       "      <td>-0.209232</td>\n",
       "    </tr>\n",
       "    <tr>\n",
       "      <th>...</th>\n",
       "      <td>...</td>\n",
       "      <td>...</td>\n",
       "      <td>...</td>\n",
       "      <td>...</td>\n",
       "      <td>...</td>\n",
       "      <td>...</td>\n",
       "      <td>...</td>\n",
       "      <td>...</td>\n",
       "      <td>...</td>\n",
       "      <td>...</td>\n",
       "      <td>...</td>\n",
       "      <td>...</td>\n",
       "      <td>...</td>\n",
       "      <td>...</td>\n",
       "      <td>...</td>\n",
       "      <td>...</td>\n",
       "      <td>...</td>\n",
       "      <td>...</td>\n",
       "      <td>...</td>\n",
       "      <td>...</td>\n",
       "      <td>...</td>\n",
       "    </tr>\n",
       "    <tr>\n",
       "      <th>1571</th>\n",
       "      <td>0.339858</td>\n",
       "      <td>-0.01971</td>\n",
       "      <td>-0.02788</td>\n",
       "      <td>-0.01971</td>\n",
       "      <td>-0.039444</td>\n",
       "      <td>-0.100995</td>\n",
       "      <td>-0.034153</td>\n",
       "      <td>-0.068425</td>\n",
       "      <td>-0.076547</td>\n",
       "      <td>-0.039444</td>\n",
       "      <td>...</td>\n",
       "      <td>-0.034153</td>\n",
       "      <td>-0.210241</td>\n",
       "      <td>-0.367915</td>\n",
       "      <td>-0.034153</td>\n",
       "      <td>-0.307917</td>\n",
       "      <td>-0.283050</td>\n",
       "      <td>-0.165933</td>\n",
       "      <td>-0.378719</td>\n",
       "      <td>-0.01971</td>\n",
       "      <td>-0.209232</td>\n",
       "    </tr>\n",
       "    <tr>\n",
       "      <th>324</th>\n",
       "      <td>-0.644933</td>\n",
       "      <td>-0.01971</td>\n",
       "      <td>-0.02788</td>\n",
       "      <td>-0.01971</td>\n",
       "      <td>-0.039444</td>\n",
       "      <td>-0.100995</td>\n",
       "      <td>-0.034153</td>\n",
       "      <td>-0.068425</td>\n",
       "      <td>-0.076547</td>\n",
       "      <td>-0.039444</td>\n",
       "      <td>...</td>\n",
       "      <td>-0.034153</td>\n",
       "      <td>-0.210241</td>\n",
       "      <td>-0.367915</td>\n",
       "      <td>-0.034153</td>\n",
       "      <td>-0.307917</td>\n",
       "      <td>3.532941</td>\n",
       "      <td>-0.165933</td>\n",
       "      <td>-0.378719</td>\n",
       "      <td>-0.01971</td>\n",
       "      <td>-0.209232</td>\n",
       "    </tr>\n",
       "    <tr>\n",
       "      <th>1897</th>\n",
       "      <td>-0.891131</td>\n",
       "      <td>-0.01971</td>\n",
       "      <td>-0.02788</td>\n",
       "      <td>-0.01971</td>\n",
       "      <td>-0.039444</td>\n",
       "      <td>-0.100995</td>\n",
       "      <td>-0.034153</td>\n",
       "      <td>-0.068425</td>\n",
       "      <td>-0.076547</td>\n",
       "      <td>-0.039444</td>\n",
       "      <td>...</td>\n",
       "      <td>-0.034153</td>\n",
       "      <td>-0.210241</td>\n",
       "      <td>-0.367915</td>\n",
       "      <td>-0.034153</td>\n",
       "      <td>-0.307917</td>\n",
       "      <td>-0.283050</td>\n",
       "      <td>-0.165933</td>\n",
       "      <td>-0.378719</td>\n",
       "      <td>-0.01971</td>\n",
       "      <td>4.779392</td>\n",
       "    </tr>\n",
       "    <tr>\n",
       "      <th>2538</th>\n",
       "      <td>-0.644933</td>\n",
       "      <td>-0.01971</td>\n",
       "      <td>-0.02788</td>\n",
       "      <td>-0.01971</td>\n",
       "      <td>-0.039444</td>\n",
       "      <td>-0.100995</td>\n",
       "      <td>-0.034153</td>\n",
       "      <td>-0.068425</td>\n",
       "      <td>-0.076547</td>\n",
       "      <td>-0.039444</td>\n",
       "      <td>...</td>\n",
       "      <td>-0.034153</td>\n",
       "      <td>-0.210241</td>\n",
       "      <td>-0.367915</td>\n",
       "      <td>-0.034153</td>\n",
       "      <td>-0.307917</td>\n",
       "      <td>-0.283050</td>\n",
       "      <td>-0.165933</td>\n",
       "      <td>-0.378719</td>\n",
       "      <td>-0.01971</td>\n",
       "      <td>-0.209232</td>\n",
       "    </tr>\n",
       "    <tr>\n",
       "      <th>1146</th>\n",
       "      <td>1.324649</td>\n",
       "      <td>-0.01971</td>\n",
       "      <td>-0.02788</td>\n",
       "      <td>-0.01971</td>\n",
       "      <td>-0.039444</td>\n",
       "      <td>-0.100995</td>\n",
       "      <td>-0.034153</td>\n",
       "      <td>-0.068425</td>\n",
       "      <td>-0.076547</td>\n",
       "      <td>-0.039444</td>\n",
       "      <td>...</td>\n",
       "      <td>-0.034153</td>\n",
       "      <td>4.756454</td>\n",
       "      <td>-0.367915</td>\n",
       "      <td>-0.034153</td>\n",
       "      <td>-0.307917</td>\n",
       "      <td>-0.283050</td>\n",
       "      <td>-0.165933</td>\n",
       "      <td>-0.378719</td>\n",
       "      <td>-0.01971</td>\n",
       "      <td>-0.209232</td>\n",
       "    </tr>\n",
       "  </tbody>\n",
       "</table>\n",
       "<p>1802 rows × 401 columns</p>\n",
       "</div>"
      ],
      "text/plain": [
       "         Stars  B_1 To 3 Noodles  B_7 Select  B_7 Select/Nissin   B_A-One  \\\n",
       "2039 -3.106910          -0.01971    -0.02788           -0.01971 -0.039444   \n",
       "732   0.832253          -0.01971    -0.02788           -0.01971 -0.039444   \n",
       "429   1.324649          -0.01971    -0.02788           -0.01971 -0.039444   \n",
       "282  -0.644933          -0.01971    -0.02788           -0.01971 -0.039444   \n",
       "2490  0.093660          -0.01971    -0.02788           -0.01971 -0.039444   \n",
       "...        ...               ...         ...                ...       ...   \n",
       "1571  0.339858          -0.01971    -0.02788           -0.01971 -0.039444   \n",
       "324  -0.644933          -0.01971    -0.02788           -0.01971 -0.039444   \n",
       "1897 -0.891131          -0.01971    -0.02788           -0.01971 -0.039444   \n",
       "2538 -0.644933          -0.01971    -0.02788           -0.01971 -0.039444   \n",
       "1146  1.324649          -0.01971    -0.02788           -0.01971 -0.039444   \n",
       "\n",
       "      B_A-Sha Dry Noodle      B_A1     B_ABC  B_Acecook   B_Adabi  ...  \\\n",
       "2039           -0.100995 -0.034153 -0.068425  -0.076547 -0.039444  ...   \n",
       "732            -0.100995 -0.034153 -0.068425  -0.076547 -0.039444  ...   \n",
       "429            -0.100995 -0.034153 -0.068425  -0.076547 -0.039444  ...   \n",
       "282            -0.100995 -0.034153 -0.068425  -0.076547 -0.039444  ...   \n",
       "2490           -0.100995 -0.034153 -0.068425  -0.076547 -0.039444  ...   \n",
       "...                  ...       ...       ...        ...       ...  ...   \n",
       "1571           -0.100995 -0.034153 -0.068425  -0.076547 -0.039444  ...   \n",
       "324            -0.100995 -0.034153 -0.068425  -0.076547 -0.039444  ...   \n",
       "1897           -0.100995 -0.034153 -0.068425  -0.076547 -0.039444  ...   \n",
       "2538           -0.100995 -0.034153 -0.068425  -0.076547 -0.039444  ...   \n",
       "1146           -0.100995 -0.034153 -0.068425  -0.076547 -0.039444  ...   \n",
       "\n",
       "      C_Sarawak  C_Singapore  C_South Korea  C_Sweden  C_Taiwan  C_Thailand  \\\n",
       "2039  -0.034153    -0.210241      -0.367915 -0.034153 -0.307917   -0.283050   \n",
       "732   -0.034153    -0.210241      -0.367915 -0.034153 -0.307917   -0.283050   \n",
       "429   -0.034153    -0.210241      -0.367915 -0.034153  3.247628   -0.283050   \n",
       "282   -0.034153    -0.210241      -0.367915 -0.034153 -0.307917   -0.283050   \n",
       "2490  -0.034153    -0.210241      -0.367915 -0.034153 -0.307917   -0.283050   \n",
       "...         ...          ...            ...       ...       ...         ...   \n",
       "1571  -0.034153    -0.210241      -0.367915 -0.034153 -0.307917   -0.283050   \n",
       "324   -0.034153    -0.210241      -0.367915 -0.034153 -0.307917    3.532941   \n",
       "1897  -0.034153    -0.210241      -0.367915 -0.034153 -0.307917   -0.283050   \n",
       "2538  -0.034153    -0.210241      -0.367915 -0.034153 -0.307917   -0.283050   \n",
       "1146  -0.034153     4.756454      -0.367915 -0.034153 -0.307917   -0.283050   \n",
       "\n",
       "          C_UK     C_USA  C_United States  C_Vietnam  \n",
       "2039 -0.165933 -0.378719         -0.01971  -0.209232  \n",
       "732  -0.165933  2.640480         -0.01971  -0.209232  \n",
       "429  -0.165933 -0.378719         -0.01971  -0.209232  \n",
       "282  -0.165933 -0.378719         -0.01971  -0.209232  \n",
       "2490 -0.165933 -0.378719         -0.01971  -0.209232  \n",
       "...        ...       ...              ...        ...  \n",
       "1571 -0.165933 -0.378719         -0.01971  -0.209232  \n",
       "324  -0.165933 -0.378719         -0.01971  -0.209232  \n",
       "1897 -0.165933 -0.378719         -0.01971   4.779392  \n",
       "2538 -0.165933 -0.378719         -0.01971  -0.209232  \n",
       "1146 -0.165933 -0.378719         -0.01971  -0.209232  \n",
       "\n",
       "[1802 rows x 401 columns]"
      ]
     },
     "execution_count": 183,
     "metadata": {},
     "output_type": "execute_result"
    }
   ],
   "source": [
    "X_train_2"
   ]
  },
  {
   "cell_type": "code",
   "execution_count": 184,
   "metadata": {
    "ExecuteTime": {
     "end_time": "2024-08-15T09:36:50.654556Z",
     "start_time": "2024-08-15T09:36:35.648640Z"
    }
   },
   "outputs": [
    {
     "name": "stdout",
     "output_type": "stream",
     "text": [
      "Epoch 1/100\n",
      "WARNING:tensorflow:Gradients do not exist for variables ['batch_norm/gamma:0', 'batch_norm/beta:0'] when minimizing the loss. If you're using `model.compile()`, did you forget to provide a `loss` argument?\n",
      "WARNING:tensorflow:Gradients do not exist for variables ['batch_norm/gamma:0', 'batch_norm/beta:0'] when minimizing the loss. If you're using `model.compile()`, did you forget to provide a `loss` argument?\n",
      "WARNING:tensorflow:Gradients do not exist for variables ['batch_norm/gamma:0', 'batch_norm/beta:0'] when minimizing the loss. If you're using `model.compile()`, did you forget to provide a `loss` argument?\n",
      "WARNING:tensorflow:Gradients do not exist for variables ['batch_norm/gamma:0', 'batch_norm/beta:0'] when minimizing the loss. If you're using `model.compile()`, did you forget to provide a `loss` argument?\n",
      "23/23 [==============================] - 2s 20ms/step - loss: 0.6556 - accuracy: 0.6676 - auc: 0.5940 - prec: 0.0230 - rec: 0.5000 - val_loss: 0.5390 - val_accuracy: 0.8698 - val_auc: 0.6926 - val_prec: 0.0851 - val_rec: 0.5000 - lr: 0.0010\n",
      "Epoch 2/100\n",
      "23/23 [==============================] - 0s 5ms/step - loss: 0.5488 - accuracy: 0.8897 - auc: 0.8790 - prec: 0.0898 - rec: 0.6818 - val_loss: 0.4830 - val_accuracy: 0.8310 - val_auc: 0.7636 - val_prec: 0.0656 - val_rec: 0.5000 - lr: 0.0010\n",
      "Epoch 3/100\n",
      "23/23 [==============================] - 0s 5ms/step - loss: 0.4523 - accuracy: 0.8064 - auc: 0.9307 - prec: 0.0673 - rec: 0.9091 - val_loss: 0.4229 - val_accuracy: 0.8255 - val_auc: 0.7737 - val_prec: 0.0635 - val_rec: 0.5000 - lr: 0.0010\n",
      "Epoch 4/100\n",
      "23/23 [==============================] - 0s 5ms/step - loss: 0.3487 - accuracy: 0.8508 - auc: 0.9612 - prec: 0.0894 - rec: 0.9545 - val_loss: 0.3300 - val_accuracy: 0.8587 - val_auc: 0.8008 - val_prec: 0.1091 - val_rec: 0.7500 - lr: 0.0010\n",
      "Epoch 5/100\n",
      "23/23 [==============================] - 0s 5ms/step - loss: 0.2685 - accuracy: 0.8452 - auc: 0.9661 - prec: 0.0898 - rec: 1.0000 - val_loss: 0.2914 - val_accuracy: 0.8781 - val_auc: 0.8123 - val_prec: 0.1087 - val_rec: 0.6250 - lr: 0.0010\n",
      "Epoch 6/100\n",
      "23/23 [==============================] - 0s 6ms/step - loss: 0.2119 - accuracy: 0.8806 - auc: 0.9762 - prec: 0.1134 - rec: 1.0000 - val_loss: 0.2862 - val_accuracy: 0.8643 - val_auc: 0.8139 - val_prec: 0.0980 - val_rec: 0.6250 - lr: 0.0010\n",
      "Epoch 7/100\n",
      "23/23 [==============================] - 0s 6ms/step - loss: 0.1776 - accuracy: 0.8848 - auc: 0.9817 - prec: 0.1170 - rec: 1.0000 - val_loss: 0.2535 - val_accuracy: 0.8670 - val_auc: 0.8157 - val_prec: 0.1000 - val_rec: 0.6250 - lr: 0.0010\n",
      "Epoch 8/100\n",
      "23/23 [==============================] - 0s 6ms/step - loss: 0.1596 - accuracy: 0.9015 - auc: 0.9826 - prec: 0.1341 - rec: 1.0000 - val_loss: 0.2528 - val_accuracy: 0.8670 - val_auc: 0.8091 - val_prec: 0.1000 - val_rec: 0.6250 - lr: 0.0010\n",
      "Epoch 9/100\n",
      "23/23 [==============================] - 0s 6ms/step - loss: 0.1463 - accuracy: 0.9015 - auc: 0.9839 - prec: 0.1341 - rec: 1.0000 - val_loss: 0.2464 - val_accuracy: 0.8753 - val_auc: 0.8159 - val_prec: 0.1064 - val_rec: 0.6250 - lr: 0.0010\n",
      "Epoch 10/100\n",
      "23/23 [==============================] - 0s 5ms/step - loss: 0.1395 - accuracy: 0.9119 - auc: 0.9838 - prec: 0.1477 - rec: 1.0000 - val_loss: 0.2176 - val_accuracy: 0.9003 - val_auc: 0.8178 - val_prec: 0.1316 - val_rec: 0.6250 - lr: 0.0010\n",
      "Epoch 11/100\n",
      "23/23 [==============================] - 0s 7ms/step - loss: 0.1340 - accuracy: 0.9112 - auc: 0.9840 - prec: 0.1467 - rec: 1.0000 - val_loss: 0.2449 - val_accuracy: 0.8920 - val_auc: 0.8224 - val_prec: 0.1220 - val_rec: 0.6250 - lr: 0.0010\n",
      "Epoch 12/100\n",
      "23/23 [==============================] - 0s 7ms/step - loss: 0.1245 - accuracy: 0.9264 - auc: 0.9860 - prec: 0.1719 - rec: 1.0000 - val_loss: 0.2451 - val_accuracy: 0.8892 - val_auc: 0.8330 - val_prec: 0.1190 - val_rec: 0.6250 - lr: 0.0010\n",
      "Epoch 13/100\n",
      "23/23 [==============================] - 0s 6ms/step - loss: 0.1219 - accuracy: 0.9257 - auc: 0.9868 - prec: 0.1705 - rec: 1.0000 - val_loss: 0.2247 - val_accuracy: 0.8975 - val_auc: 0.7928 - val_prec: 0.1282 - val_rec: 0.6250 - lr: 0.0010\n",
      "Epoch 14/100\n",
      "23/23 [==============================] - 0s 5ms/step - loss: 0.1148 - accuracy: 0.9244 - auc: 0.9872 - prec: 0.1679 - rec: 1.0000 - val_loss: 0.2350 - val_accuracy: 0.8975 - val_auc: 0.7975 - val_prec: 0.1282 - val_rec: 0.6250 - lr: 0.0010\n",
      "Epoch 15/100\n",
      "23/23 [==============================] - 0s 5ms/step - loss: 0.1081 - accuracy: 0.9327 - auc: 0.9887 - prec: 0.1849 - rec: 1.0000 - val_loss: 0.2241 - val_accuracy: 0.9058 - val_auc: 0.8042 - val_prec: 0.1389 - val_rec: 0.6250 - lr: 0.0010\n",
      "Epoch 16/100\n",
      "23/23 [==============================] - 0s 6ms/step - loss: 0.1073 - accuracy: 0.9438 - auc: 0.9878 - prec: 0.2136 - rec: 1.0000 - val_loss: 0.2619 - val_accuracy: 0.8920 - val_auc: 0.8024 - val_prec: 0.1220 - val_rec: 0.6250 - lr: 0.0010\n",
      "Epoch 17/100\n",
      "23/23 [==============================] - 0s 5ms/step - loss: 0.1084 - accuracy: 0.9368 - auc: 0.9874 - prec: 0.1947 - rec: 1.0000 - val_loss: 0.2292 - val_accuracy: 0.9030 - val_auc: 0.8093 - val_prec: 0.1351 - val_rec: 0.6250 - lr: 0.0010\n",
      "Epoch 18/100\n",
      "23/23 [==============================] - 0s 5ms/step - loss: 0.1008 - accuracy: 0.9368 - auc: 0.9893 - prec: 0.1947 - rec: 1.0000 - val_loss: 0.2300 - val_accuracy: 0.9058 - val_auc: 0.8056 - val_prec: 0.1389 - val_rec: 0.6250 - lr: 0.0010\n",
      "Epoch 19/100\n",
      "23/23 [==============================] - 0s 6ms/step - loss: 0.1004 - accuracy: 0.9396 - auc: 0.9876 - prec: 0.2018 - rec: 1.0000 - val_loss: 0.2379 - val_accuracy: 0.9058 - val_auc: 0.8044 - val_prec: 0.1389 - val_rec: 0.6250 - lr: 0.0010\n",
      "Epoch 20/100\n",
      "23/23 [==============================] - 0s 6ms/step - loss: 0.0982 - accuracy: 0.9438 - auc: 0.9878 - prec: 0.2136 - rec: 1.0000 - val_loss: 0.2646 - val_accuracy: 0.8947 - val_auc: 0.8079 - val_prec: 0.1250 - val_rec: 0.6250 - lr: 0.0010\n",
      "Epoch 21/100\n",
      "23/23 [==============================] - 0s 5ms/step - loss: 0.0945 - accuracy: 0.9362 - auc: 0.9919 - prec: 0.1930 - rec: 1.0000 - val_loss: 0.2522 - val_accuracy: 0.9058 - val_auc: 0.8083 - val_prec: 0.1389 - val_rec: 0.6250 - lr: 1.0000e-04\n",
      "Epoch 22/100\n",
      "23/23 [==============================] - 0s 5ms/step - loss: 0.0897 - accuracy: 0.9403 - auc: 0.9917 - prec: 0.2037 - rec: 1.0000 - val_loss: 0.2390 - val_accuracy: 0.9086 - val_auc: 0.8102 - val_prec: 0.1429 - val_rec: 0.6250 - lr: 1.0000e-04\n",
      "Epoch 23/100\n",
      "23/23 [==============================] - 0s 6ms/step - loss: 0.0873 - accuracy: 0.9466 - auc: 0.9918 - prec: 0.2222 - rec: 1.0000 - val_loss: 0.2329 - val_accuracy: 0.9114 - val_auc: 0.8100 - val_prec: 0.1471 - val_rec: 0.6250 - lr: 1.0000e-04\n",
      "Epoch 24/100\n",
      "23/23 [==============================] - 0s 6ms/step - loss: 0.0858 - accuracy: 0.9507 - auc: 0.9918 - prec: 0.2366 - rec: 1.0000 - val_loss: 0.2265 - val_accuracy: 0.9169 - val_auc: 0.8113 - val_prec: 0.1562 - val_rec: 0.6250 - lr: 1.0000e-04\n",
      "Epoch 25/100\n",
      "23/23 [==============================] - 0s 5ms/step - loss: 0.0861 - accuracy: 0.9528 - auc: 0.9914 - prec: 0.2444 - rec: 1.0000 - val_loss: 0.2251 - val_accuracy: 0.9169 - val_auc: 0.8113 - val_prec: 0.1562 - val_rec: 0.6250 - lr: 1.0000e-04\n",
      "Epoch 26/100\n",
      "23/23 [==============================] - 0s 5ms/step - loss: 0.0856 - accuracy: 0.9521 - auc: 0.9915 - prec: 0.2418 - rec: 1.0000 - val_loss: 0.2263 - val_accuracy: 0.9169 - val_auc: 0.8120 - val_prec: 0.1562 - val_rec: 0.6250 - lr: 1.0000e-04\n",
      "Epoch 27/100\n",
      "23/23 [==============================] - 0s 6ms/step - loss: 0.0850 - accuracy: 0.9521 - auc: 0.9918 - prec: 0.2418 - rec: 1.0000 - val_loss: 0.2273 - val_accuracy: 0.9169 - val_auc: 0.8125 - val_prec: 0.1562 - val_rec: 0.6250 - lr: 1.0000e-04\n",
      "Epoch 28/100\n",
      "23/23 [==============================] - 0s 6ms/step - loss: 0.0857 - accuracy: 0.9528 - auc: 0.9912 - prec: 0.2444 - rec: 1.0000 - val_loss: 0.2265 - val_accuracy: 0.9169 - val_auc: 0.8125 - val_prec: 0.1562 - val_rec: 0.6250 - lr: 1.0000e-04\n",
      "Epoch 29/100\n",
      "23/23 [==============================] - 0s 6ms/step - loss: 0.0856 - accuracy: 0.9521 - auc: 0.9914 - prec: 0.2418 - rec: 1.0000 - val_loss: 0.2270 - val_accuracy: 0.9169 - val_auc: 0.8132 - val_prec: 0.1562 - val_rec: 0.6250 - lr: 1.0000e-04\n",
      "Epoch 30/100\n",
      "23/23 [==============================] - 0s 6ms/step - loss: 0.0844 - accuracy: 0.9528 - auc: 0.9916 - prec: 0.2444 - rec: 1.0000 - val_loss: 0.2278 - val_accuracy: 0.9169 - val_auc: 0.8137 - val_prec: 0.1562 - val_rec: 0.6250 - lr: 1.0000e-04\n",
      "Epoch 31/100\n",
      "23/23 [==============================] - 0s 6ms/step - loss: 0.0838 - accuracy: 0.9521 - auc: 0.9919 - prec: 0.2418 - rec: 1.0000 - val_loss: 0.2279 - val_accuracy: 0.9169 - val_auc: 0.8137 - val_prec: 0.1562 - val_rec: 0.6250 - lr: 1.0000e-05\n",
      "Epoch 32/100\n",
      "23/23 [==============================] - 0s 6ms/step - loss: 0.0839 - accuracy: 0.9521 - auc: 0.9918 - prec: 0.2418 - rec: 1.0000 - val_loss: 0.2277 - val_accuracy: 0.9169 - val_auc: 0.8137 - val_prec: 0.1562 - val_rec: 0.6250 - lr: 1.0000e-05\n",
      "Epoch 33/100\n",
      "23/23 [==============================] - 0s 5ms/step - loss: 0.0837 - accuracy: 0.9521 - auc: 0.9919 - prec: 0.2418 - rec: 1.0000 - val_loss: 0.2278 - val_accuracy: 0.9169 - val_auc: 0.8137 - val_prec: 0.1562 - val_rec: 0.6250 - lr: 1.0000e-05\n",
      "Epoch 34/100\n",
      "23/23 [==============================] - 0s 5ms/step - loss: 0.0838 - accuracy: 0.9528 - auc: 0.9918 - prec: 0.2444 - rec: 1.0000 - val_loss: 0.2273 - val_accuracy: 0.9169 - val_auc: 0.8137 - val_prec: 0.1562 - val_rec: 0.6250 - lr: 1.0000e-05\n",
      "Epoch 35/100\n",
      "23/23 [==============================] - 0s 5ms/step - loss: 0.0838 - accuracy: 0.9528 - auc: 0.9916 - prec: 0.2444 - rec: 1.0000 - val_loss: 0.2274 - val_accuracy: 0.9169 - val_auc: 0.8137 - val_prec: 0.1562 - val_rec: 0.6250 - lr: 1.0000e-05\n",
      "Epoch 36/100\n",
      "23/23 [==============================] - 0s 6ms/step - loss: 0.0833 - accuracy: 0.9528 - auc: 0.9921 - prec: 0.2444 - rec: 1.0000 - val_loss: 0.2272 - val_accuracy: 0.9169 - val_auc: 0.8134 - val_prec: 0.1562 - val_rec: 0.6250 - lr: 1.0000e-05\n",
      "Epoch 37/100\n",
      "23/23 [==============================] - 0s 6ms/step - loss: 0.0841 - accuracy: 0.9528 - auc: 0.9915 - prec: 0.2444 - rec: 1.0000 - val_loss: 0.2273 - val_accuracy: 0.9169 - val_auc: 0.8134 - val_prec: 0.1562 - val_rec: 0.6250 - lr: 1.0000e-05\n",
      "Epoch 38/100\n",
      "23/23 [==============================] - 0s 5ms/step - loss: 0.0830 - accuracy: 0.9535 - auc: 0.9921 - prec: 0.2472 - rec: 1.0000 - val_loss: 0.2267 - val_accuracy: 0.9169 - val_auc: 0.8134 - val_prec: 0.1562 - val_rec: 0.6250 - lr: 1.0000e-05\n",
      "Epoch 39/100\n",
      "23/23 [==============================] - 0s 5ms/step - loss: 0.0836 - accuracy: 0.9542 - auc: 0.9918 - prec: 0.2500 - rec: 1.0000 - val_loss: 0.2268 - val_accuracy: 0.9169 - val_auc: 0.8134 - val_prec: 0.1562 - val_rec: 0.6250 - lr: 1.0000e-05\n",
      "Epoch 40/100\n",
      "23/23 [==============================] - 0s 5ms/step - loss: 0.0828 - accuracy: 0.9535 - auc: 0.9923 - prec: 0.2472 - rec: 1.0000 - val_loss: 0.2269 - val_accuracy: 0.9169 - val_auc: 0.8134 - val_prec: 0.1562 - val_rec: 0.6250 - lr: 1.0000e-05\n",
      "Epoch 41/100\n",
      "23/23 [==============================] - 0s 5ms/step - loss: 0.0831 - accuracy: 0.9535 - auc: 0.9920 - prec: 0.2472 - rec: 1.0000 - val_loss: 0.2269 - val_accuracy: 0.9169 - val_auc: 0.8134 - val_prec: 0.1562 - val_rec: 0.6250 - lr: 1.0000e-06\n",
      "Epoch 42/100\n",
      "23/23 [==============================] - 0s 5ms/step - loss: 0.0829 - accuracy: 0.9542 - auc: 0.9921 - prec: 0.2500 - rec: 1.0000 - val_loss: 0.2269 - val_accuracy: 0.9169 - val_auc: 0.8134 - val_prec: 0.1562 - val_rec: 0.6250 - lr: 1.0000e-06\n",
      "Epoch 43/100\n",
      "23/23 [==============================] - 0s 5ms/step - loss: 0.0832 - accuracy: 0.9528 - auc: 0.9921 - prec: 0.2444 - rec: 1.0000 - val_loss: 0.2269 - val_accuracy: 0.9169 - val_auc: 0.8134 - val_prec: 0.1562 - val_rec: 0.6250 - lr: 1.0000e-06\n",
      "Epoch 44/100\n",
      "23/23 [==============================] - 0s 5ms/step - loss: 0.0828 - accuracy: 0.9535 - auc: 0.9922 - prec: 0.2472 - rec: 1.0000 - val_loss: 0.2269 - val_accuracy: 0.9169 - val_auc: 0.8134 - val_prec: 0.1562 - val_rec: 0.6250 - lr: 1.0000e-06\n",
      "Epoch 45/100\n",
      "23/23 [==============================] - 0s 6ms/step - loss: 0.0831 - accuracy: 0.9528 - auc: 0.9920 - prec: 0.2444 - rec: 1.0000 - val_loss: 0.2266 - val_accuracy: 0.9169 - val_auc: 0.8134 - val_prec: 0.1562 - val_rec: 0.6250 - lr: 1.0000e-06\n",
      "Epoch 46/100\n",
      "23/23 [==============================] - 0s 5ms/step - loss: 0.0830 - accuracy: 0.9528 - auc: 0.9919 - prec: 0.2444 - rec: 1.0000 - val_loss: 0.2269 - val_accuracy: 0.9169 - val_auc: 0.8134 - val_prec: 0.1562 - val_rec: 0.6250 - lr: 1.0000e-06\n",
      "Epoch 47/100\n",
      "23/23 [==============================] - 0s 5ms/step - loss: 0.0827 - accuracy: 0.9535 - auc: 0.9923 - prec: 0.2472 - rec: 1.0000 - val_loss: 0.2269 - val_accuracy: 0.9169 - val_auc: 0.8134 - val_prec: 0.1562 - val_rec: 0.6250 - lr: 1.0000e-06\n",
      "Epoch 48/100\n",
      "23/23 [==============================] - 0s 5ms/step - loss: 0.0837 - accuracy: 0.9542 - auc: 0.9918 - prec: 0.2500 - rec: 1.0000 - val_loss: 0.2269 - val_accuracy: 0.9169 - val_auc: 0.8134 - val_prec: 0.1562 - val_rec: 0.6250 - lr: 1.0000e-06\n",
      "Epoch 49/100\n",
      "23/23 [==============================] - 0s 5ms/step - loss: 0.0831 - accuracy: 0.9535 - auc: 0.9922 - prec: 0.2472 - rec: 1.0000 - val_loss: 0.2268 - val_accuracy: 0.9169 - val_auc: 0.8134 - val_prec: 0.1562 - val_rec: 0.6250 - lr: 1.0000e-06\n",
      "Epoch 50/100\n",
      "23/23 [==============================] - 0s 5ms/step - loss: 0.0835 - accuracy: 0.9528 - auc: 0.9918 - prec: 0.2444 - rec: 1.0000 - val_loss: 0.2268 - val_accuracy: 0.9169 - val_auc: 0.8134 - val_prec: 0.1562 - val_rec: 0.6250 - lr: 1.0000e-06\n",
      "Epoch 51/100\n",
      "23/23 [==============================] - 0s 5ms/step - loss: 0.0832 - accuracy: 0.9542 - auc: 0.9919 - prec: 0.2500 - rec: 1.0000 - val_loss: 0.2268 - val_accuracy: 0.9169 - val_auc: 0.8134 - val_prec: 0.1562 - val_rec: 0.6250 - lr: 1.0000e-07\n",
      "Epoch 52/100\n",
      "23/23 [==============================] - 0s 5ms/step - loss: 0.0833 - accuracy: 0.9542 - auc: 0.9920 - prec: 0.2500 - rec: 1.0000 - val_loss: 0.2268 - val_accuracy: 0.9169 - val_auc: 0.8134 - val_prec: 0.1562 - val_rec: 0.6250 - lr: 1.0000e-07\n",
      "Epoch 53/100\n",
      "23/23 [==============================] - 0s 5ms/step - loss: 0.0836 - accuracy: 0.9535 - auc: 0.9918 - prec: 0.2472 - rec: 1.0000 - val_loss: 0.2269 - val_accuracy: 0.9169 - val_auc: 0.8134 - val_prec: 0.1562 - val_rec: 0.6250 - lr: 1.0000e-07\n",
      "Epoch 54/100\n",
      "23/23 [==============================] - 0s 5ms/step - loss: 0.0837 - accuracy: 0.9535 - auc: 0.9918 - prec: 0.2472 - rec: 1.0000 - val_loss: 0.2269 - val_accuracy: 0.9169 - val_auc: 0.8134 - val_prec: 0.1562 - val_rec: 0.6250 - lr: 1.0000e-07\n",
      "Epoch 55/100\n",
      "23/23 [==============================] - 0s 6ms/step - loss: 0.0833 - accuracy: 0.9542 - auc: 0.9919 - prec: 0.2500 - rec: 1.0000 - val_loss: 0.2269 - val_accuracy: 0.9169 - val_auc: 0.8134 - val_prec: 0.1562 - val_rec: 0.6250 - lr: 1.0000e-07\n",
      "Epoch 56/100\n",
      "23/23 [==============================] - 0s 6ms/step - loss: 0.0837 - accuracy: 0.9528 - auc: 0.9918 - prec: 0.2444 - rec: 1.0000 - val_loss: 0.2266 - val_accuracy: 0.9169 - val_auc: 0.8134 - val_prec: 0.1562 - val_rec: 0.6250 - lr: 1.0000e-07\n",
      "Epoch 57/100\n",
      "23/23 [==============================] - 0s 5ms/step - loss: 0.0836 - accuracy: 0.9542 - auc: 0.9918 - prec: 0.2500 - rec: 1.0000 - val_loss: 0.2266 - val_accuracy: 0.9169 - val_auc: 0.8134 - val_prec: 0.1562 - val_rec: 0.6250 - lr: 1.0000e-07\n",
      "Epoch 58/100\n",
      "23/23 [==============================] - 0s 5ms/step - loss: 0.0832 - accuracy: 0.9535 - auc: 0.9920 - prec: 0.2472 - rec: 1.0000 - val_loss: 0.2266 - val_accuracy: 0.9169 - val_auc: 0.8134 - val_prec: 0.1562 - val_rec: 0.6250 - lr: 1.0000e-07\n",
      "Epoch 59/100\n",
      "23/23 [==============================] - 0s 5ms/step - loss: 0.0835 - accuracy: 0.9535 - auc: 0.9919 - prec: 0.2472 - rec: 1.0000 - val_loss: 0.2267 - val_accuracy: 0.9169 - val_auc: 0.8134 - val_prec: 0.1562 - val_rec: 0.6250 - lr: 1.0000e-07\n",
      "Epoch 60/100\n",
      "23/23 [==============================] - 0s 5ms/step - loss: 0.0830 - accuracy: 0.9535 - auc: 0.9921 - prec: 0.2472 - rec: 1.0000 - val_loss: 0.2266 - val_accuracy: 0.9169 - val_auc: 0.8134 - val_prec: 0.1562 - val_rec: 0.6250 - lr: 1.0000e-07\n",
      "Epoch 61/100\n",
      "23/23 [==============================] - 0s 5ms/step - loss: 0.0835 - accuracy: 0.9528 - auc: 0.9918 - prec: 0.2444 - rec: 1.0000 - val_loss: 0.2267 - val_accuracy: 0.9169 - val_auc: 0.8134 - val_prec: 0.1562 - val_rec: 0.6250 - lr: 1.0000e-08\n",
      "Epoch 62/100\n",
      "23/23 [==============================] - 0s 5ms/step - loss: 0.0832 - accuracy: 0.9535 - auc: 0.9921 - prec: 0.2472 - rec: 1.0000 - val_loss: 0.2267 - val_accuracy: 0.9169 - val_auc: 0.8134 - val_prec: 0.1562 - val_rec: 0.6250 - lr: 1.0000e-08\n",
      "Epoch 63/100\n",
      "23/23 [==============================] - 0s 5ms/step - loss: 0.0834 - accuracy: 0.9535 - auc: 0.9917 - prec: 0.2472 - rec: 1.0000 - val_loss: 0.2267 - val_accuracy: 0.9169 - val_auc: 0.8134 - val_prec: 0.1562 - val_rec: 0.6250 - lr: 1.0000e-08\n",
      "Epoch 64/100\n",
      "23/23 [==============================] - 0s 5ms/step - loss: 0.0836 - accuracy: 0.9535 - auc: 0.9920 - prec: 0.2472 - rec: 1.0000 - val_loss: 0.2267 - val_accuracy: 0.9169 - val_auc: 0.8134 - val_prec: 0.1562 - val_rec: 0.6250 - lr: 1.0000e-08\n",
      "Epoch 65/100\n",
      "23/23 [==============================] - 0s 5ms/step - loss: 0.0834 - accuracy: 0.9528 - auc: 0.9921 - prec: 0.2444 - rec: 1.0000 - val_loss: 0.2267 - val_accuracy: 0.9169 - val_auc: 0.8134 - val_prec: 0.1562 - val_rec: 0.6250 - lr: 1.0000e-08\n",
      "Epoch 66/100\n",
      "23/23 [==============================] - 0s 5ms/step - loss: 0.0828 - accuracy: 0.9535 - auc: 0.9922 - prec: 0.2472 - rec: 1.0000 - val_loss: 0.2266 - val_accuracy: 0.9169 - val_auc: 0.8134 - val_prec: 0.1562 - val_rec: 0.6250 - lr: 1.0000e-08\n",
      "Epoch 67/100\n",
      "23/23 [==============================] - 0s 5ms/step - loss: 0.0834 - accuracy: 0.9535 - auc: 0.9921 - prec: 0.2472 - rec: 1.0000 - val_loss: 0.2266 - val_accuracy: 0.9169 - val_auc: 0.8134 - val_prec: 0.1562 - val_rec: 0.6250 - lr: 1.0000e-08\n",
      "Epoch 68/100\n",
      "23/23 [==============================] - 0s 5ms/step - loss: 0.0829 - accuracy: 0.9535 - auc: 0.9921 - prec: 0.2472 - rec: 1.0000 - val_loss: 0.2269 - val_accuracy: 0.9169 - val_auc: 0.8132 - val_prec: 0.1562 - val_rec: 0.6250 - lr: 1.0000e-08\n",
      "Epoch 69/100\n",
      "23/23 [==============================] - 0s 5ms/step - loss: 0.0832 - accuracy: 0.9542 - auc: 0.9919 - prec: 0.2500 - rec: 1.0000 - val_loss: 0.2269 - val_accuracy: 0.9169 - val_auc: 0.8134 - val_prec: 0.1562 - val_rec: 0.6250 - lr: 1.0000e-08\n",
      "Epoch 70/100\n",
      "23/23 [==============================] - 0s 6ms/step - loss: 0.0826 - accuracy: 0.9528 - auc: 0.9924 - prec: 0.2444 - rec: 1.0000 - val_loss: 0.2269 - val_accuracy: 0.9169 - val_auc: 0.8134 - val_prec: 0.1562 - val_rec: 0.6250 - lr: 1.0000e-08\n",
      "Epoch 71/100\n",
      "23/23 [==============================] - 0s 6ms/step - loss: 0.0834 - accuracy: 0.9535 - auc: 0.9921 - prec: 0.2472 - rec: 1.0000 - val_loss: 0.2269 - val_accuracy: 0.9169 - val_auc: 0.8132 - val_prec: 0.1562 - val_rec: 0.6250 - lr: 1.0000e-09\n",
      "Epoch 72/100\n",
      "23/23 [==============================] - 0s 5ms/step - loss: 0.0830 - accuracy: 0.9542 - auc: 0.9920 - prec: 0.2500 - rec: 1.0000 - val_loss: 0.2269 - val_accuracy: 0.9169 - val_auc: 0.8132 - val_prec: 0.1562 - val_rec: 0.6250 - lr: 1.0000e-09\n",
      "Epoch 73/100\n",
      "23/23 [==============================] - 0s 5ms/step - loss: 0.0833 - accuracy: 0.9535 - auc: 0.9920 - prec: 0.2472 - rec: 1.0000 - val_loss: 0.2269 - val_accuracy: 0.9169 - val_auc: 0.8134 - val_prec: 0.1562 - val_rec: 0.6250 - lr: 1.0000e-09\n",
      "Epoch 74/100\n",
      "23/23 [==============================] - 0s 5ms/step - loss: 0.0834 - accuracy: 0.9535 - auc: 0.9919 - prec: 0.2472 - rec: 1.0000 - val_loss: 0.2269 - val_accuracy: 0.9169 - val_auc: 0.8134 - val_prec: 0.1562 - val_rec: 0.6250 - lr: 1.0000e-09\n",
      "Epoch 75/100\n",
      "23/23 [==============================] - 0s 5ms/step - loss: 0.0834 - accuracy: 0.9528 - auc: 0.9918 - prec: 0.2444 - rec: 1.0000 - val_loss: 0.2269 - val_accuracy: 0.9169 - val_auc: 0.8132 - val_prec: 0.1562 - val_rec: 0.6250 - lr: 1.0000e-09\n",
      "Epoch 76/100\n",
      "23/23 [==============================] - 0s 5ms/step - loss: 0.0832 - accuracy: 0.9528 - auc: 0.9920 - prec: 0.2444 - rec: 1.0000 - val_loss: 0.2269 - val_accuracy: 0.9169 - val_auc: 0.8134 - val_prec: 0.1562 - val_rec: 0.6250 - lr: 1.0000e-09\n",
      "Epoch 77/100\n",
      "23/23 [==============================] - 0s 5ms/step - loss: 0.0840 - accuracy: 0.9528 - auc: 0.9916 - prec: 0.2444 - rec: 1.0000 - val_loss: 0.2269 - val_accuracy: 0.9169 - val_auc: 0.8134 - val_prec: 0.1562 - val_rec: 0.6250 - lr: 1.0000e-09\n",
      "Epoch 78/100\n",
      "23/23 [==============================] - 0s 5ms/step - loss: 0.0829 - accuracy: 0.9535 - auc: 0.9922 - prec: 0.2472 - rec: 1.0000 - val_loss: 0.2269 - val_accuracy: 0.9169 - val_auc: 0.8134 - val_prec: 0.1562 - val_rec: 0.6250 - lr: 1.0000e-09\n",
      "Epoch 79/100\n",
      "23/23 [==============================] - 0s 6ms/step - loss: 0.0836 - accuracy: 0.9528 - auc: 0.9919 - prec: 0.2444 - rec: 1.0000 - val_loss: 0.2269 - val_accuracy: 0.9169 - val_auc: 0.8134 - val_prec: 0.1562 - val_rec: 0.6250 - lr: 1.0000e-09\n",
      "Epoch 80/100\n",
      "23/23 [==============================] - 0s 6ms/step - loss: 0.0834 - accuracy: 0.9535 - auc: 0.9918 - prec: 0.2472 - rec: 1.0000 - val_loss: 0.2269 - val_accuracy: 0.9169 - val_auc: 0.8134 - val_prec: 0.1562 - val_rec: 0.6250 - lr: 1.0000e-09\n",
      "Epoch 81/100\n",
      "23/23 [==============================] - 0s 6ms/step - loss: 0.0822 - accuracy: 0.9535 - auc: 0.9925 - prec: 0.2472 - rec: 1.0000 - val_loss: 0.2269 - val_accuracy: 0.9169 - val_auc: 0.8134 - val_prec: 0.1562 - val_rec: 0.6250 - lr: 1.0000e-10\n",
      "Epoch 82/100\n",
      "23/23 [==============================] - 0s 6ms/step - loss: 0.0831 - accuracy: 0.9542 - auc: 0.9921 - prec: 0.2500 - rec: 1.0000 - val_loss: 0.2266 - val_accuracy: 0.9169 - val_auc: 0.8134 - val_prec: 0.1562 - val_rec: 0.6250 - lr: 1.0000e-10\n",
      "Epoch 83/100\n",
      "23/23 [==============================] - 0s 6ms/step - loss: 0.0830 - accuracy: 0.9528 - auc: 0.9921 - prec: 0.2444 - rec: 1.0000 - val_loss: 0.2266 - val_accuracy: 0.9169 - val_auc: 0.8134 - val_prec: 0.1562 - val_rec: 0.6250 - lr: 1.0000e-10\n",
      "Epoch 84/100\n",
      "23/23 [==============================] - 0s 5ms/step - loss: 0.0834 - accuracy: 0.9535 - auc: 0.9919 - prec: 0.2472 - rec: 1.0000 - val_loss: 0.2266 - val_accuracy: 0.9169 - val_auc: 0.8134 - val_prec: 0.1562 - val_rec: 0.6250 - lr: 1.0000e-10\n",
      "Epoch 85/100\n",
      "23/23 [==============================] - 0s 5ms/step - loss: 0.0832 - accuracy: 0.9542 - auc: 0.9918 - prec: 0.2500 - rec: 1.0000 - val_loss: 0.2266 - val_accuracy: 0.9169 - val_auc: 0.8134 - val_prec: 0.1562 - val_rec: 0.6250 - lr: 1.0000e-10\n",
      "Epoch 86/100\n",
      "23/23 [==============================] - 0s 5ms/step - loss: 0.0828 - accuracy: 0.9542 - auc: 0.9920 - prec: 0.2500 - rec: 1.0000 - val_loss: 0.2266 - val_accuracy: 0.9169 - val_auc: 0.8134 - val_prec: 0.1562 - val_rec: 0.6250 - lr: 1.0000e-10\n",
      "Epoch 87/100\n",
      "23/23 [==============================] - 0s 5ms/step - loss: 0.0830 - accuracy: 0.9535 - auc: 0.9920 - prec: 0.2472 - rec: 1.0000 - val_loss: 0.2266 - val_accuracy: 0.9169 - val_auc: 0.8134 - val_prec: 0.1562 - val_rec: 0.6250 - lr: 1.0000e-10\n",
      "Epoch 88/100\n",
      "23/23 [==============================] - 0s 5ms/step - loss: 0.0832 - accuracy: 0.9535 - auc: 0.9919 - prec: 0.2472 - rec: 1.0000 - val_loss: 0.2269 - val_accuracy: 0.9169 - val_auc: 0.8134 - val_prec: 0.1562 - val_rec: 0.6250 - lr: 1.0000e-10\n",
      "Epoch 89/100\n",
      "23/23 [==============================] - 0s 6ms/step - loss: 0.0835 - accuracy: 0.9535 - auc: 0.9919 - prec: 0.2472 - rec: 1.0000 - val_loss: 0.2269 - val_accuracy: 0.9169 - val_auc: 0.8134 - val_prec: 0.1562 - val_rec: 0.6250 - lr: 1.0000e-10\n",
      "Epoch 90/100\n",
      "23/23 [==============================] - 0s 5ms/step - loss: 0.0831 - accuracy: 0.9542 - auc: 0.9922 - prec: 0.2500 - rec: 1.0000 - val_loss: 0.2269 - val_accuracy: 0.9169 - val_auc: 0.8134 - val_prec: 0.1562 - val_rec: 0.6250 - lr: 1.0000e-10\n",
      "Epoch 91/100\n",
      "23/23 [==============================] - 0s 5ms/step - loss: 0.0838 - accuracy: 0.9528 - auc: 0.9916 - prec: 0.2444 - rec: 1.0000 - val_loss: 0.2269 - val_accuracy: 0.9169 - val_auc: 0.8134 - val_prec: 0.1562 - val_rec: 0.6250 - lr: 1.0000e-11\n",
      "Epoch 92/100\n",
      "23/23 [==============================] - 0s 5ms/step - loss: 0.0831 - accuracy: 0.9535 - auc: 0.9918 - prec: 0.2472 - rec: 1.0000 - val_loss: 0.2269 - val_accuracy: 0.9169 - val_auc: 0.8134 - val_prec: 0.1562 - val_rec: 0.6250 - lr: 1.0000e-11\n",
      "Epoch 93/100\n",
      "23/23 [==============================] - 0s 5ms/step - loss: 0.0839 - accuracy: 0.9535 - auc: 0.9916 - prec: 0.2472 - rec: 1.0000 - val_loss: 0.2269 - val_accuracy: 0.9169 - val_auc: 0.8134 - val_prec: 0.1562 - val_rec: 0.6250 - lr: 1.0000e-11\n",
      "Epoch 94/100\n",
      "23/23 [==============================] - 0s 6ms/step - loss: 0.0834 - accuracy: 0.9528 - auc: 0.9919 - prec: 0.2444 - rec: 1.0000 - val_loss: 0.2269 - val_accuracy: 0.9169 - val_auc: 0.8134 - val_prec: 0.1562 - val_rec: 0.6250 - lr: 1.0000e-11\n",
      "Epoch 95/100\n",
      "23/23 [==============================] - 0s 5ms/step - loss: 0.0827 - accuracy: 0.9542 - auc: 0.9923 - prec: 0.2500 - rec: 1.0000 - val_loss: 0.2269 - val_accuracy: 0.9169 - val_auc: 0.8134 - val_prec: 0.1562 - val_rec: 0.6250 - lr: 1.0000e-11\n",
      "Epoch 96/100\n",
      "23/23 [==============================] - 0s 5ms/step - loss: 0.0837 - accuracy: 0.9535 - auc: 0.9918 - prec: 0.2472 - rec: 1.0000 - val_loss: 0.2266 - val_accuracy: 0.9169 - val_auc: 0.8134 - val_prec: 0.1562 - val_rec: 0.6250 - lr: 1.0000e-11\n",
      "Epoch 97/100\n",
      "23/23 [==============================] - 0s 5ms/step - loss: 0.0832 - accuracy: 0.9535 - auc: 0.9921 - prec: 0.2472 - rec: 1.0000 - val_loss: 0.2266 - val_accuracy: 0.9169 - val_auc: 0.8134 - val_prec: 0.1562 - val_rec: 0.6250 - lr: 1.0000e-11\n",
      "Epoch 98/100\n",
      "23/23 [==============================] - 0s 5ms/step - loss: 0.0839 - accuracy: 0.9535 - auc: 0.9918 - prec: 0.2472 - rec: 1.0000 - val_loss: 0.2266 - val_accuracy: 0.9169 - val_auc: 0.8134 - val_prec: 0.1562 - val_rec: 0.6250 - lr: 1.0000e-11\n",
      "Epoch 99/100\n",
      "23/23 [==============================] - 0s 5ms/step - loss: 0.0829 - accuracy: 0.9528 - auc: 0.9922 - prec: 0.2444 - rec: 1.0000 - val_loss: 0.2266 - val_accuracy: 0.9169 - val_auc: 0.8134 - val_prec: 0.1562 - val_rec: 0.6250 - lr: 1.0000e-11\n",
      "Epoch 100/100\n",
      "23/23 [==============================] - 0s 5ms/step - loss: 0.0828 - accuracy: 0.9535 - auc: 0.9922 - prec: 0.2472 - rec: 1.0000 - val_loss: 0.2269 - val_accuracy: 0.9169 - val_auc: 0.8134 - val_prec: 0.1562 - val_rec: 0.6250 - lr: 1.0000e-11\n"
     ]
    }
   ],
   "source": [
    "model.compile(\n",
    "    optimizer='adam',\n",
    "    loss='binary_crossentropy',\n",
    "    metrics=[\n",
    "        'accuracy',\n",
    "        tf.keras.metrics.AUC(name='auc'),\n",
    "        tf.keras.metrics.Precision(name='prec'),\n",
    "        tf.keras.metrics.Recall(name='rec')\n",
    "    ]\n",
    ")\n",
    "\n",
    "\n",
    "batch_size = 64\n",
    "epochs = 100\n",
    "\n",
    "history = model.fit(\n",
    "    [X_train_1, X_train_2],\n",
    "    y_train,\n",
    "    validation_split=0.2,\n",
    "    class_weight=class_weights,\n",
    "    batch_size=batch_size,\n",
    "    epochs=epochs,\n",
    "    callbacks=[\n",
    "        tf.keras.callbacks.ReduceLROnPlateau()\n",
    "    ],\n",
    "    verbose=1\n",
    ")"
   ]
  },
  {
   "cell_type": "markdown",
   "metadata": {},
   "source": [
    "# Result"
   ]
  },
  {
   "cell_type": "code",
   "execution_count": 185,
   "metadata": {
    "ExecuteTime": {
     "end_time": "2024-08-15T09:36:50.733932Z",
     "start_time": "2024-08-15T09:36:50.656911Z"
    }
   },
   "outputs": [
    {
     "data": {
      "application/vnd.plotly.v1+json": {
       "config": {
        "plotlyServerURL": "https://plot.ly"
       },
       "data": [
        {
         "hovertemplate": "variable=loss<br>index=%{x}<br>value=%{y}<extra></extra>",
         "legendgroup": "loss",
         "line": {
          "color": "#636efa",
          "dash": "solid"
         },
         "marker": {
          "symbol": "circle"
         },
         "mode": "lines",
         "name": "loss",
         "orientation": "v",
         "showlegend": true,
         "type": "scatter",
         "x": [
          0,
          1,
          2,
          3,
          4,
          5,
          6,
          7,
          8,
          9,
          10,
          11,
          12,
          13,
          14,
          15,
          16,
          17,
          18,
          19,
          20,
          21,
          22,
          23,
          24,
          25,
          26,
          27,
          28,
          29,
          30,
          31,
          32,
          33,
          34,
          35,
          36,
          37,
          38,
          39,
          40,
          41,
          42,
          43,
          44,
          45,
          46,
          47,
          48,
          49,
          50,
          51,
          52,
          53,
          54,
          55,
          56,
          57,
          58,
          59,
          60,
          61,
          62,
          63,
          64,
          65,
          66,
          67,
          68,
          69,
          70,
          71,
          72,
          73,
          74,
          75,
          76,
          77,
          78,
          79,
          80,
          81,
          82,
          83,
          84,
          85,
          86,
          87,
          88,
          89,
          90,
          91,
          92,
          93,
          94,
          95,
          96,
          97,
          98,
          99
         ],
         "xaxis": "x",
         "y": [
          0.6555850505828857,
          0.5487539172172546,
          0.45232459902763367,
          0.34873127937316895,
          0.26849985122680664,
          0.21188569068908691,
          0.17764975130558014,
          0.15963168442249298,
          0.1462622433900833,
          0.13952535390853882,
          0.13395437598228455,
          0.12446615099906921,
          0.12186892330646515,
          0.11483842879533768,
          0.10810891538858414,
          0.1072630062699318,
          0.10835152119398117,
          0.1007896289229393,
          0.1004222184419632,
          0.0982222780585289,
          0.09448576718568802,
          0.08974487334489822,
          0.08730322122573853,
          0.08580274134874344,
          0.08611270040273666,
          0.08555868268013,
          0.08497817069292068,
          0.08567243814468384,
          0.08564174920320511,
          0.08444629609584808,
          0.0838010162115097,
          0.0839439108967781,
          0.08367493003606796,
          0.08383412659168243,
          0.08381588011980057,
          0.08334162831306458,
          0.08413118124008179,
          0.08301093429327011,
          0.08364823460578918,
          0.0828220471739769,
          0.08312453329563141,
          0.0829116553068161,
          0.08319453150033951,
          0.08283062279224396,
          0.08308984339237213,
          0.08301158994436264,
          0.08268029987812042,
          0.083686962723732,
          0.08310084789991379,
          0.08347319811582565,
          0.0831657350063324,
          0.08325451612472534,
          0.08358655869960785,
          0.08369181305170059,
          0.08332540094852448,
          0.08366183936595917,
          0.0836038663983345,
          0.08324488252401352,
          0.08348806202411652,
          0.08298739045858383,
          0.08348177373409271,
          0.08316566050052643,
          0.08339568972587585,
          0.0835542380809784,
          0.0833543911576271,
          0.0827903002500534,
          0.08336030691862106,
          0.08285874128341675,
          0.08323274552822113,
          0.08261922746896744,
          0.08335693180561066,
          0.08300485461950302,
          0.0832584947347641,
          0.0834495797753334,
          0.0834033414721489,
          0.08321399986743927,
          0.08396615087985992,
          0.0828508585691452,
          0.0835871547460556,
          0.0834398940205574,
          0.08218441158533096,
          0.08311165124177933,
          0.08298227190971375,
          0.0833621695637703,
          0.08322416245937347,
          0.0827927440404892,
          0.08298704773187637,
          0.08319904655218124,
          0.08352197706699371,
          0.0830795094370842,
          0.08377328515052795,
          0.08308238536119461,
          0.08389755338430405,
          0.08338412642478943,
          0.08267035335302353,
          0.08365996927022934,
          0.08318258821964264,
          0.08390113711357117,
          0.08288644999265671,
          0.08281856030225754
         ],
         "yaxis": "y"
        },
        {
         "hovertemplate": "variable=val_loss<br>index=%{x}<br>value=%{y}<extra></extra>",
         "legendgroup": "val_loss",
         "line": {
          "color": "#EF553B",
          "dash": "solid"
         },
         "marker": {
          "symbol": "circle"
         },
         "mode": "lines",
         "name": "val_loss",
         "orientation": "v",
         "showlegend": true,
         "type": "scatter",
         "x": [
          0,
          1,
          2,
          3,
          4,
          5,
          6,
          7,
          8,
          9,
          10,
          11,
          12,
          13,
          14,
          15,
          16,
          17,
          18,
          19,
          20,
          21,
          22,
          23,
          24,
          25,
          26,
          27,
          28,
          29,
          30,
          31,
          32,
          33,
          34,
          35,
          36,
          37,
          38,
          39,
          40,
          41,
          42,
          43,
          44,
          45,
          46,
          47,
          48,
          49,
          50,
          51,
          52,
          53,
          54,
          55,
          56,
          57,
          58,
          59,
          60,
          61,
          62,
          63,
          64,
          65,
          66,
          67,
          68,
          69,
          70,
          71,
          72,
          73,
          74,
          75,
          76,
          77,
          78,
          79,
          80,
          81,
          82,
          83,
          84,
          85,
          86,
          87,
          88,
          89,
          90,
          91,
          92,
          93,
          94,
          95,
          96,
          97,
          98,
          99
         ],
         "xaxis": "x",
         "y": [
          0.5390301942825317,
          0.48296213150024414,
          0.4228745698928833,
          0.32999715209007263,
          0.2914225459098816,
          0.28617963194847107,
          0.25354400277137756,
          0.2528243660926819,
          0.2464132159948349,
          0.21760648488998413,
          0.2448560744524002,
          0.24513380229473114,
          0.2247251272201538,
          0.23498298227787018,
          0.22412917017936707,
          0.2618545591831207,
          0.22918328642845154,
          0.22996842861175537,
          0.2378809005022049,
          0.2646346688270569,
          0.252227246761322,
          0.23898260295391083,
          0.2328907549381256,
          0.22653724253177643,
          0.22510413825511932,
          0.22627636790275574,
          0.22730578482151031,
          0.22648443281650543,
          0.2270132452249527,
          0.22776353359222412,
          0.22787895798683167,
          0.22772672772407532,
          0.22783584892749786,
          0.22734439373016357,
          0.22741425037384033,
          0.22724686563014984,
          0.22728168964385986,
          0.2266640067100525,
          0.22678717970848083,
          0.22686897218227386,
          0.22686797380447388,
          0.2269282042980194,
          0.22688819468021393,
          0.22688792645931244,
          0.2266409993171692,
          0.22685614228248596,
          0.22688813507556915,
          0.22686606645584106,
          0.22681769728660583,
          0.22684352099895477,
          0.2268482893705368,
          0.22684969007968903,
          0.22690533101558685,
          0.2269110381603241,
          0.22685757279396057,
          0.22663278877735138,
          0.2266317754983902,
          0.22662778198719025,
          0.22668573260307312,
          0.22663216292858124,
          0.2266860455274582,
          0.226686030626297,
          0.22668541967868805,
          0.2266862988471985,
          0.226686492562294,
          0.22663246095180511,
          0.2266324907541275,
          0.2269154191017151,
          0.22691026329994202,
          0.22691047191619873,
          0.22686150670051575,
          0.22686150670051575,
          0.22685647010803223,
          0.22685560584068298,
          0.22686070203781128,
          0.22685541212558746,
          0.22685560584068298,
          0.2268555909395218,
          0.2268555909395218,
          0.2269095778465271,
          0.2268555909395218,
          0.22663190960884094,
          0.22663171589374542,
          0.22663171589374542,
          0.22663173079490662,
          0.22663190960884094,
          0.22663190960884094,
          0.22685541212558746,
          0.2268562912940979,
          0.2268562912940979,
          0.2268562912940979,
          0.2268555909395218,
          0.2268562912940979,
          0.2268562912940979,
          0.2268562912940979,
          0.22663277387619019,
          0.22663277387619019,
          0.22663277387619019,
          0.22663277387619019,
          0.22685645520687103
         ],
         "yaxis": "y"
        }
       ],
       "layout": {
        "legend": {
         "title": {
          "text": "variable"
         },
         "tracegroupgap": 0
        },
        "template": {
         "data": {
          "bar": [
           {
            "error_x": {
             "color": "#f2f5fa"
            },
            "error_y": {
             "color": "#f2f5fa"
            },
            "marker": {
             "line": {
              "color": "rgb(17,17,17)",
              "width": 0.5
             },
             "pattern": {
              "fillmode": "overlay",
              "size": 10,
              "solidity": 0.2
             }
            },
            "type": "bar"
           }
          ],
          "barpolar": [
           {
            "marker": {
             "line": {
              "color": "rgb(17,17,17)",
              "width": 0.5
             },
             "pattern": {
              "fillmode": "overlay",
              "size": 10,
              "solidity": 0.2
             }
            },
            "type": "barpolar"
           }
          ],
          "carpet": [
           {
            "aaxis": {
             "endlinecolor": "#A2B1C6",
             "gridcolor": "#506784",
             "linecolor": "#506784",
             "minorgridcolor": "#506784",
             "startlinecolor": "#A2B1C6"
            },
            "baxis": {
             "endlinecolor": "#A2B1C6",
             "gridcolor": "#506784",
             "linecolor": "#506784",
             "minorgridcolor": "#506784",
             "startlinecolor": "#A2B1C6"
            },
            "type": "carpet"
           }
          ],
          "choropleth": [
           {
            "colorbar": {
             "outlinewidth": 0,
             "ticks": ""
            },
            "type": "choropleth"
           }
          ],
          "contour": [
           {
            "colorbar": {
             "outlinewidth": 0,
             "ticks": ""
            },
            "colorscale": [
             [
              0,
              "#0d0887"
             ],
             [
              0.1111111111111111,
              "#46039f"
             ],
             [
              0.2222222222222222,
              "#7201a8"
             ],
             [
              0.3333333333333333,
              "#9c179e"
             ],
             [
              0.4444444444444444,
              "#bd3786"
             ],
             [
              0.5555555555555556,
              "#d8576b"
             ],
             [
              0.6666666666666666,
              "#ed7953"
             ],
             [
              0.7777777777777778,
              "#fb9f3a"
             ],
             [
              0.8888888888888888,
              "#fdca26"
             ],
             [
              1,
              "#f0f921"
             ]
            ],
            "type": "contour"
           }
          ],
          "contourcarpet": [
           {
            "colorbar": {
             "outlinewidth": 0,
             "ticks": ""
            },
            "type": "contourcarpet"
           }
          ],
          "heatmap": [
           {
            "colorbar": {
             "outlinewidth": 0,
             "ticks": ""
            },
            "colorscale": [
             [
              0,
              "#0d0887"
             ],
             [
              0.1111111111111111,
              "#46039f"
             ],
             [
              0.2222222222222222,
              "#7201a8"
             ],
             [
              0.3333333333333333,
              "#9c179e"
             ],
             [
              0.4444444444444444,
              "#bd3786"
             ],
             [
              0.5555555555555556,
              "#d8576b"
             ],
             [
              0.6666666666666666,
              "#ed7953"
             ],
             [
              0.7777777777777778,
              "#fb9f3a"
             ],
             [
              0.8888888888888888,
              "#fdca26"
             ],
             [
              1,
              "#f0f921"
             ]
            ],
            "type": "heatmap"
           }
          ],
          "heatmapgl": [
           {
            "colorbar": {
             "outlinewidth": 0,
             "ticks": ""
            },
            "colorscale": [
             [
              0,
              "#0d0887"
             ],
             [
              0.1111111111111111,
              "#46039f"
             ],
             [
              0.2222222222222222,
              "#7201a8"
             ],
             [
              0.3333333333333333,
              "#9c179e"
             ],
             [
              0.4444444444444444,
              "#bd3786"
             ],
             [
              0.5555555555555556,
              "#d8576b"
             ],
             [
              0.6666666666666666,
              "#ed7953"
             ],
             [
              0.7777777777777778,
              "#fb9f3a"
             ],
             [
              0.8888888888888888,
              "#fdca26"
             ],
             [
              1,
              "#f0f921"
             ]
            ],
            "type": "heatmapgl"
           }
          ],
          "histogram": [
           {
            "marker": {
             "pattern": {
              "fillmode": "overlay",
              "size": 10,
              "solidity": 0.2
             }
            },
            "type": "histogram"
           }
          ],
          "histogram2d": [
           {
            "colorbar": {
             "outlinewidth": 0,
             "ticks": ""
            },
            "colorscale": [
             [
              0,
              "#0d0887"
             ],
             [
              0.1111111111111111,
              "#46039f"
             ],
             [
              0.2222222222222222,
              "#7201a8"
             ],
             [
              0.3333333333333333,
              "#9c179e"
             ],
             [
              0.4444444444444444,
              "#bd3786"
             ],
             [
              0.5555555555555556,
              "#d8576b"
             ],
             [
              0.6666666666666666,
              "#ed7953"
             ],
             [
              0.7777777777777778,
              "#fb9f3a"
             ],
             [
              0.8888888888888888,
              "#fdca26"
             ],
             [
              1,
              "#f0f921"
             ]
            ],
            "type": "histogram2d"
           }
          ],
          "histogram2dcontour": [
           {
            "colorbar": {
             "outlinewidth": 0,
             "ticks": ""
            },
            "colorscale": [
             [
              0,
              "#0d0887"
             ],
             [
              0.1111111111111111,
              "#46039f"
             ],
             [
              0.2222222222222222,
              "#7201a8"
             ],
             [
              0.3333333333333333,
              "#9c179e"
             ],
             [
              0.4444444444444444,
              "#bd3786"
             ],
             [
              0.5555555555555556,
              "#d8576b"
             ],
             [
              0.6666666666666666,
              "#ed7953"
             ],
             [
              0.7777777777777778,
              "#fb9f3a"
             ],
             [
              0.8888888888888888,
              "#fdca26"
             ],
             [
              1,
              "#f0f921"
             ]
            ],
            "type": "histogram2dcontour"
           }
          ],
          "mesh3d": [
           {
            "colorbar": {
             "outlinewidth": 0,
             "ticks": ""
            },
            "type": "mesh3d"
           }
          ],
          "parcoords": [
           {
            "line": {
             "colorbar": {
              "outlinewidth": 0,
              "ticks": ""
             }
            },
            "type": "parcoords"
           }
          ],
          "pie": [
           {
            "automargin": true,
            "type": "pie"
           }
          ],
          "scatter": [
           {
            "marker": {
             "line": {
              "color": "#283442"
             }
            },
            "type": "scatter"
           }
          ],
          "scatter3d": [
           {
            "line": {
             "colorbar": {
              "outlinewidth": 0,
              "ticks": ""
             }
            },
            "marker": {
             "colorbar": {
              "outlinewidth": 0,
              "ticks": ""
             }
            },
            "type": "scatter3d"
           }
          ],
          "scattercarpet": [
           {
            "marker": {
             "colorbar": {
              "outlinewidth": 0,
              "ticks": ""
             }
            },
            "type": "scattercarpet"
           }
          ],
          "scattergeo": [
           {
            "marker": {
             "colorbar": {
              "outlinewidth": 0,
              "ticks": ""
             }
            },
            "type": "scattergeo"
           }
          ],
          "scattergl": [
           {
            "marker": {
             "line": {
              "color": "#283442"
             }
            },
            "type": "scattergl"
           }
          ],
          "scattermapbox": [
           {
            "marker": {
             "colorbar": {
              "outlinewidth": 0,
              "ticks": ""
             }
            },
            "type": "scattermapbox"
           }
          ],
          "scatterpolar": [
           {
            "marker": {
             "colorbar": {
              "outlinewidth": 0,
              "ticks": ""
             }
            },
            "type": "scatterpolar"
           }
          ],
          "scatterpolargl": [
           {
            "marker": {
             "colorbar": {
              "outlinewidth": 0,
              "ticks": ""
             }
            },
            "type": "scatterpolargl"
           }
          ],
          "scatterternary": [
           {
            "marker": {
             "colorbar": {
              "outlinewidth": 0,
              "ticks": ""
             }
            },
            "type": "scatterternary"
           }
          ],
          "surface": [
           {
            "colorbar": {
             "outlinewidth": 0,
             "ticks": ""
            },
            "colorscale": [
             [
              0,
              "#0d0887"
             ],
             [
              0.1111111111111111,
              "#46039f"
             ],
             [
              0.2222222222222222,
              "#7201a8"
             ],
             [
              0.3333333333333333,
              "#9c179e"
             ],
             [
              0.4444444444444444,
              "#bd3786"
             ],
             [
              0.5555555555555556,
              "#d8576b"
             ],
             [
              0.6666666666666666,
              "#ed7953"
             ],
             [
              0.7777777777777778,
              "#fb9f3a"
             ],
             [
              0.8888888888888888,
              "#fdca26"
             ],
             [
              1,
              "#f0f921"
             ]
            ],
            "type": "surface"
           }
          ],
          "table": [
           {
            "cells": {
             "fill": {
              "color": "#506784"
             },
             "line": {
              "color": "rgb(17,17,17)"
             }
            },
            "header": {
             "fill": {
              "color": "#2a3f5f"
             },
             "line": {
              "color": "rgb(17,17,17)"
             }
            },
            "type": "table"
           }
          ]
         },
         "layout": {
          "annotationdefaults": {
           "arrowcolor": "#f2f5fa",
           "arrowhead": 0,
           "arrowwidth": 1
          },
          "autotypenumbers": "strict",
          "coloraxis": {
           "colorbar": {
            "outlinewidth": 0,
            "ticks": ""
           }
          },
          "colorscale": {
           "diverging": [
            [
             0,
             "#8e0152"
            ],
            [
             0.1,
             "#c51b7d"
            ],
            [
             0.2,
             "#de77ae"
            ],
            [
             0.3,
             "#f1b6da"
            ],
            [
             0.4,
             "#fde0ef"
            ],
            [
             0.5,
             "#f7f7f7"
            ],
            [
             0.6,
             "#e6f5d0"
            ],
            [
             0.7,
             "#b8e186"
            ],
            [
             0.8,
             "#7fbc41"
            ],
            [
             0.9,
             "#4d9221"
            ],
            [
             1,
             "#276419"
            ]
           ],
           "sequential": [
            [
             0,
             "#0d0887"
            ],
            [
             0.1111111111111111,
             "#46039f"
            ],
            [
             0.2222222222222222,
             "#7201a8"
            ],
            [
             0.3333333333333333,
             "#9c179e"
            ],
            [
             0.4444444444444444,
             "#bd3786"
            ],
            [
             0.5555555555555556,
             "#d8576b"
            ],
            [
             0.6666666666666666,
             "#ed7953"
            ],
            [
             0.7777777777777778,
             "#fb9f3a"
            ],
            [
             0.8888888888888888,
             "#fdca26"
            ],
            [
             1,
             "#f0f921"
            ]
           ],
           "sequentialminus": [
            [
             0,
             "#0d0887"
            ],
            [
             0.1111111111111111,
             "#46039f"
            ],
            [
             0.2222222222222222,
             "#7201a8"
            ],
            [
             0.3333333333333333,
             "#9c179e"
            ],
            [
             0.4444444444444444,
             "#bd3786"
            ],
            [
             0.5555555555555556,
             "#d8576b"
            ],
            [
             0.6666666666666666,
             "#ed7953"
            ],
            [
             0.7777777777777778,
             "#fb9f3a"
            ],
            [
             0.8888888888888888,
             "#fdca26"
            ],
            [
             1,
             "#f0f921"
            ]
           ]
          },
          "colorway": [
           "#636efa",
           "#EF553B",
           "#00cc96",
           "#ab63fa",
           "#FFA15A",
           "#19d3f3",
           "#FF6692",
           "#B6E880",
           "#FF97FF",
           "#FECB52"
          ],
          "font": {
           "color": "#f2f5fa"
          },
          "geo": {
           "bgcolor": "rgb(17,17,17)",
           "lakecolor": "rgb(17,17,17)",
           "landcolor": "rgb(17,17,17)",
           "showlakes": true,
           "showland": true,
           "subunitcolor": "#506784"
          },
          "hoverlabel": {
           "align": "left"
          },
          "hovermode": "closest",
          "mapbox": {
           "style": "dark"
          },
          "paper_bgcolor": "rgb(17,17,17)",
          "plot_bgcolor": "rgb(17,17,17)",
          "polar": {
           "angularaxis": {
            "gridcolor": "#506784",
            "linecolor": "#506784",
            "ticks": ""
           },
           "bgcolor": "rgb(17,17,17)",
           "radialaxis": {
            "gridcolor": "#506784",
            "linecolor": "#506784",
            "ticks": ""
           }
          },
          "scene": {
           "xaxis": {
            "backgroundcolor": "rgb(17,17,17)",
            "gridcolor": "#506784",
            "gridwidth": 2,
            "linecolor": "#506784",
            "showbackground": true,
            "ticks": "",
            "zerolinecolor": "#C8D4E3"
           },
           "yaxis": {
            "backgroundcolor": "rgb(17,17,17)",
            "gridcolor": "#506784",
            "gridwidth": 2,
            "linecolor": "#506784",
            "showbackground": true,
            "ticks": "",
            "zerolinecolor": "#C8D4E3"
           },
           "zaxis": {
            "backgroundcolor": "rgb(17,17,17)",
            "gridcolor": "#506784",
            "gridwidth": 2,
            "linecolor": "#506784",
            "showbackground": true,
            "ticks": "",
            "zerolinecolor": "#C8D4E3"
           }
          },
          "shapedefaults": {
           "line": {
            "color": "#f2f5fa"
           }
          },
          "sliderdefaults": {
           "bgcolor": "#C8D4E3",
           "bordercolor": "rgb(17,17,17)",
           "borderwidth": 1,
           "tickwidth": 0
          },
          "ternary": {
           "aaxis": {
            "gridcolor": "#506784",
            "linecolor": "#506784",
            "ticks": ""
           },
           "baxis": {
            "gridcolor": "#506784",
            "linecolor": "#506784",
            "ticks": ""
           },
           "bgcolor": "rgb(17,17,17)",
           "caxis": {
            "gridcolor": "#506784",
            "linecolor": "#506784",
            "ticks": ""
           }
          },
          "title": {
           "x": 0.05
          },
          "updatemenudefaults": {
           "bgcolor": "#506784",
           "borderwidth": 0
          },
          "xaxis": {
           "automargin": true,
           "gridcolor": "#283442",
           "linecolor": "#506784",
           "ticks": "",
           "title": {
            "standoff": 15
           },
           "zerolinecolor": "#283442",
           "zerolinewidth": 2
          },
          "yaxis": {
           "automargin": true,
           "gridcolor": "#283442",
           "linecolor": "#506784",
           "ticks": "",
           "title": {
            "standoff": 15
           },
           "zerolinecolor": "#283442",
           "zerolinewidth": 2
          }
         }
        },
        "title": {
         "text": "Training and Validation Loss Over Time"
        },
        "xaxis": {
         "anchor": "y",
         "domain": [
          0,
          1
         ],
         "title": {
          "text": "index"
         }
        },
        "yaxis": {
         "anchor": "x",
         "domain": [
          0,
          1
         ],
         "title": {
          "text": "value"
         }
        }
       }
      },
      "text/html": [
       "<div>                            <div id=\"6981a010-8fc5-4d39-91fb-17362b1c12c2\" class=\"plotly-graph-div\" style=\"height:525px; width:100%;\"></div>            <script type=\"text/javascript\">                require([\"plotly\"], function(Plotly) {                    window.PLOTLYENV=window.PLOTLYENV || {};                                    if (document.getElementById(\"6981a010-8fc5-4d39-91fb-17362b1c12c2\")) {                    Plotly.newPlot(                        \"6981a010-8fc5-4d39-91fb-17362b1c12c2\",                        [{\"hovertemplate\":\"variable=loss\\u003cbr\\u003eindex=%{x}\\u003cbr\\u003evalue=%{y}\\u003cextra\\u003e\\u003c\\u002fextra\\u003e\",\"legendgroup\":\"loss\",\"line\":{\"color\":\"#636efa\",\"dash\":\"solid\"},\"marker\":{\"symbol\":\"circle\"},\"mode\":\"lines\",\"name\":\"loss\",\"orientation\":\"v\",\"showlegend\":true,\"x\":[0,1,2,3,4,5,6,7,8,9,10,11,12,13,14,15,16,17,18,19,20,21,22,23,24,25,26,27,28,29,30,31,32,33,34,35,36,37,38,39,40,41,42,43,44,45,46,47,48,49,50,51,52,53,54,55,56,57,58,59,60,61,62,63,64,65,66,67,68,69,70,71,72,73,74,75,76,77,78,79,80,81,82,83,84,85,86,87,88,89,90,91,92,93,94,95,96,97,98,99],\"xaxis\":\"x\",\"y\":[0.6555850505828857,0.5487539172172546,0.45232459902763367,0.34873127937316895,0.26849985122680664,0.21188569068908691,0.17764975130558014,0.15963168442249298,0.1462622433900833,0.13952535390853882,0.13395437598228455,0.12446615099906921,0.12186892330646515,0.11483842879533768,0.10810891538858414,0.1072630062699318,0.10835152119398117,0.1007896289229393,0.1004222184419632,0.0982222780585289,0.09448576718568802,0.08974487334489822,0.08730322122573853,0.08580274134874344,0.08611270040273666,0.08555868268013,0.08497817069292068,0.08567243814468384,0.08564174920320511,0.08444629609584808,0.0838010162115097,0.0839439108967781,0.08367493003606796,0.08383412659168243,0.08381588011980057,0.08334162831306458,0.08413118124008179,0.08301093429327011,0.08364823460578918,0.0828220471739769,0.08312453329563141,0.0829116553068161,0.08319453150033951,0.08283062279224396,0.08308984339237213,0.08301158994436264,0.08268029987812042,0.083686962723732,0.08310084789991379,0.08347319811582565,0.0831657350063324,0.08325451612472534,0.08358655869960785,0.08369181305170059,0.08332540094852448,0.08366183936595917,0.0836038663983345,0.08324488252401352,0.08348806202411652,0.08298739045858383,0.08348177373409271,0.08316566050052643,0.08339568972587585,0.0835542380809784,0.0833543911576271,0.0827903002500534,0.08336030691862106,0.08285874128341675,0.08323274552822113,0.08261922746896744,0.08335693180561066,0.08300485461950302,0.0832584947347641,0.0834495797753334,0.0834033414721489,0.08321399986743927,0.08396615087985992,0.0828508585691452,0.0835871547460556,0.0834398940205574,0.08218441158533096,0.08311165124177933,0.08298227190971375,0.0833621695637703,0.08322416245937347,0.0827927440404892,0.08298704773187637,0.08319904655218124,0.08352197706699371,0.0830795094370842,0.08377328515052795,0.08308238536119461,0.08389755338430405,0.08338412642478943,0.08267035335302353,0.08365996927022934,0.08318258821964264,0.08390113711357117,0.08288644999265671,0.08281856030225754],\"yaxis\":\"y\",\"type\":\"scatter\"},{\"hovertemplate\":\"variable=val_loss\\u003cbr\\u003eindex=%{x}\\u003cbr\\u003evalue=%{y}\\u003cextra\\u003e\\u003c\\u002fextra\\u003e\",\"legendgroup\":\"val_loss\",\"line\":{\"color\":\"#EF553B\",\"dash\":\"solid\"},\"marker\":{\"symbol\":\"circle\"},\"mode\":\"lines\",\"name\":\"val_loss\",\"orientation\":\"v\",\"showlegend\":true,\"x\":[0,1,2,3,4,5,6,7,8,9,10,11,12,13,14,15,16,17,18,19,20,21,22,23,24,25,26,27,28,29,30,31,32,33,34,35,36,37,38,39,40,41,42,43,44,45,46,47,48,49,50,51,52,53,54,55,56,57,58,59,60,61,62,63,64,65,66,67,68,69,70,71,72,73,74,75,76,77,78,79,80,81,82,83,84,85,86,87,88,89,90,91,92,93,94,95,96,97,98,99],\"xaxis\":\"x\",\"y\":[0.5390301942825317,0.48296213150024414,0.4228745698928833,0.32999715209007263,0.2914225459098816,0.28617963194847107,0.25354400277137756,0.2528243660926819,0.2464132159948349,0.21760648488998413,0.2448560744524002,0.24513380229473114,0.2247251272201538,0.23498298227787018,0.22412917017936707,0.2618545591831207,0.22918328642845154,0.22996842861175537,0.2378809005022049,0.2646346688270569,0.252227246761322,0.23898260295391083,0.2328907549381256,0.22653724253177643,0.22510413825511932,0.22627636790275574,0.22730578482151031,0.22648443281650543,0.2270132452249527,0.22776353359222412,0.22787895798683167,0.22772672772407532,0.22783584892749786,0.22734439373016357,0.22741425037384033,0.22724686563014984,0.22728168964385986,0.2266640067100525,0.22678717970848083,0.22686897218227386,0.22686797380447388,0.2269282042980194,0.22688819468021393,0.22688792645931244,0.2266409993171692,0.22685614228248596,0.22688813507556915,0.22686606645584106,0.22681769728660583,0.22684352099895477,0.2268482893705368,0.22684969007968903,0.22690533101558685,0.2269110381603241,0.22685757279396057,0.22663278877735138,0.2266317754983902,0.22662778198719025,0.22668573260307312,0.22663216292858124,0.2266860455274582,0.226686030626297,0.22668541967868805,0.2266862988471985,0.226686492562294,0.22663246095180511,0.2266324907541275,0.2269154191017151,0.22691026329994202,0.22691047191619873,0.22686150670051575,0.22686150670051575,0.22685647010803223,0.22685560584068298,0.22686070203781128,0.22685541212558746,0.22685560584068298,0.2268555909395218,0.2268555909395218,0.2269095778465271,0.2268555909395218,0.22663190960884094,0.22663171589374542,0.22663171589374542,0.22663173079490662,0.22663190960884094,0.22663190960884094,0.22685541212558746,0.2268562912940979,0.2268562912940979,0.2268562912940979,0.2268555909395218,0.2268562912940979,0.2268562912940979,0.2268562912940979,0.22663277387619019,0.22663277387619019,0.22663277387619019,0.22663277387619019,0.22685645520687103],\"yaxis\":\"y\",\"type\":\"scatter\"}],                        {\"template\":{\"data\":{\"histogram2dcontour\":[{\"type\":\"histogram2dcontour\",\"colorbar\":{\"outlinewidth\":0,\"ticks\":\"\"},\"colorscale\":[[0.0,\"#0d0887\"],[0.1111111111111111,\"#46039f\"],[0.2222222222222222,\"#7201a8\"],[0.3333333333333333,\"#9c179e\"],[0.4444444444444444,\"#bd3786\"],[0.5555555555555556,\"#d8576b\"],[0.6666666666666666,\"#ed7953\"],[0.7777777777777778,\"#fb9f3a\"],[0.8888888888888888,\"#fdca26\"],[1.0,\"#f0f921\"]]}],\"choropleth\":[{\"type\":\"choropleth\",\"colorbar\":{\"outlinewidth\":0,\"ticks\":\"\"}}],\"histogram2d\":[{\"type\":\"histogram2d\",\"colorbar\":{\"outlinewidth\":0,\"ticks\":\"\"},\"colorscale\":[[0.0,\"#0d0887\"],[0.1111111111111111,\"#46039f\"],[0.2222222222222222,\"#7201a8\"],[0.3333333333333333,\"#9c179e\"],[0.4444444444444444,\"#bd3786\"],[0.5555555555555556,\"#d8576b\"],[0.6666666666666666,\"#ed7953\"],[0.7777777777777778,\"#fb9f3a\"],[0.8888888888888888,\"#fdca26\"],[1.0,\"#f0f921\"]]}],\"heatmap\":[{\"type\":\"heatmap\",\"colorbar\":{\"outlinewidth\":0,\"ticks\":\"\"},\"colorscale\":[[0.0,\"#0d0887\"],[0.1111111111111111,\"#46039f\"],[0.2222222222222222,\"#7201a8\"],[0.3333333333333333,\"#9c179e\"],[0.4444444444444444,\"#bd3786\"],[0.5555555555555556,\"#d8576b\"],[0.6666666666666666,\"#ed7953\"],[0.7777777777777778,\"#fb9f3a\"],[0.8888888888888888,\"#fdca26\"],[1.0,\"#f0f921\"]]}],\"heatmapgl\":[{\"type\":\"heatmapgl\",\"colorbar\":{\"outlinewidth\":0,\"ticks\":\"\"},\"colorscale\":[[0.0,\"#0d0887\"],[0.1111111111111111,\"#46039f\"],[0.2222222222222222,\"#7201a8\"],[0.3333333333333333,\"#9c179e\"],[0.4444444444444444,\"#bd3786\"],[0.5555555555555556,\"#d8576b\"],[0.6666666666666666,\"#ed7953\"],[0.7777777777777778,\"#fb9f3a\"],[0.8888888888888888,\"#fdca26\"],[1.0,\"#f0f921\"]]}],\"contourcarpet\":[{\"type\":\"contourcarpet\",\"colorbar\":{\"outlinewidth\":0,\"ticks\":\"\"}}],\"contour\":[{\"type\":\"contour\",\"colorbar\":{\"outlinewidth\":0,\"ticks\":\"\"},\"colorscale\":[[0.0,\"#0d0887\"],[0.1111111111111111,\"#46039f\"],[0.2222222222222222,\"#7201a8\"],[0.3333333333333333,\"#9c179e\"],[0.4444444444444444,\"#bd3786\"],[0.5555555555555556,\"#d8576b\"],[0.6666666666666666,\"#ed7953\"],[0.7777777777777778,\"#fb9f3a\"],[0.8888888888888888,\"#fdca26\"],[1.0,\"#f0f921\"]]}],\"surface\":[{\"type\":\"surface\",\"colorbar\":{\"outlinewidth\":0,\"ticks\":\"\"},\"colorscale\":[[0.0,\"#0d0887\"],[0.1111111111111111,\"#46039f\"],[0.2222222222222222,\"#7201a8\"],[0.3333333333333333,\"#9c179e\"],[0.4444444444444444,\"#bd3786\"],[0.5555555555555556,\"#d8576b\"],[0.6666666666666666,\"#ed7953\"],[0.7777777777777778,\"#fb9f3a\"],[0.8888888888888888,\"#fdca26\"],[1.0,\"#f0f921\"]]}],\"mesh3d\":[{\"type\":\"mesh3d\",\"colorbar\":{\"outlinewidth\":0,\"ticks\":\"\"}}],\"scatter\":[{\"marker\":{\"line\":{\"color\":\"#283442\"}},\"type\":\"scatter\"}],\"parcoords\":[{\"type\":\"parcoords\",\"line\":{\"colorbar\":{\"outlinewidth\":0,\"ticks\":\"\"}}}],\"scatterpolargl\":[{\"type\":\"scatterpolargl\",\"marker\":{\"colorbar\":{\"outlinewidth\":0,\"ticks\":\"\"}}}],\"bar\":[{\"error_x\":{\"color\":\"#f2f5fa\"},\"error_y\":{\"color\":\"#f2f5fa\"},\"marker\":{\"line\":{\"color\":\"rgb(17,17,17)\",\"width\":0.5},\"pattern\":{\"fillmode\":\"overlay\",\"size\":10,\"solidity\":0.2}},\"type\":\"bar\"}],\"scattergeo\":[{\"type\":\"scattergeo\",\"marker\":{\"colorbar\":{\"outlinewidth\":0,\"ticks\":\"\"}}}],\"scatterpolar\":[{\"type\":\"scatterpolar\",\"marker\":{\"colorbar\":{\"outlinewidth\":0,\"ticks\":\"\"}}}],\"histogram\":[{\"marker\":{\"pattern\":{\"fillmode\":\"overlay\",\"size\":10,\"solidity\":0.2}},\"type\":\"histogram\"}],\"scattergl\":[{\"marker\":{\"line\":{\"color\":\"#283442\"}},\"type\":\"scattergl\"}],\"scatter3d\":[{\"type\":\"scatter3d\",\"line\":{\"colorbar\":{\"outlinewidth\":0,\"ticks\":\"\"}},\"marker\":{\"colorbar\":{\"outlinewidth\":0,\"ticks\":\"\"}}}],\"scattermapbox\":[{\"type\":\"scattermapbox\",\"marker\":{\"colorbar\":{\"outlinewidth\":0,\"ticks\":\"\"}}}],\"scatterternary\":[{\"type\":\"scatterternary\",\"marker\":{\"colorbar\":{\"outlinewidth\":0,\"ticks\":\"\"}}}],\"scattercarpet\":[{\"type\":\"scattercarpet\",\"marker\":{\"colorbar\":{\"outlinewidth\":0,\"ticks\":\"\"}}}],\"carpet\":[{\"aaxis\":{\"endlinecolor\":\"#A2B1C6\",\"gridcolor\":\"#506784\",\"linecolor\":\"#506784\",\"minorgridcolor\":\"#506784\",\"startlinecolor\":\"#A2B1C6\"},\"baxis\":{\"endlinecolor\":\"#A2B1C6\",\"gridcolor\":\"#506784\",\"linecolor\":\"#506784\",\"minorgridcolor\":\"#506784\",\"startlinecolor\":\"#A2B1C6\"},\"type\":\"carpet\"}],\"table\":[{\"cells\":{\"fill\":{\"color\":\"#506784\"},\"line\":{\"color\":\"rgb(17,17,17)\"}},\"header\":{\"fill\":{\"color\":\"#2a3f5f\"},\"line\":{\"color\":\"rgb(17,17,17)\"}},\"type\":\"table\"}],\"barpolar\":[{\"marker\":{\"line\":{\"color\":\"rgb(17,17,17)\",\"width\":0.5},\"pattern\":{\"fillmode\":\"overlay\",\"size\":10,\"solidity\":0.2}},\"type\":\"barpolar\"}],\"pie\":[{\"automargin\":true,\"type\":\"pie\"}]},\"layout\":{\"autotypenumbers\":\"strict\",\"colorway\":[\"#636efa\",\"#EF553B\",\"#00cc96\",\"#ab63fa\",\"#FFA15A\",\"#19d3f3\",\"#FF6692\",\"#B6E880\",\"#FF97FF\",\"#FECB52\"],\"font\":{\"color\":\"#f2f5fa\"},\"hovermode\":\"closest\",\"hoverlabel\":{\"align\":\"left\"},\"paper_bgcolor\":\"rgb(17,17,17)\",\"plot_bgcolor\":\"rgb(17,17,17)\",\"polar\":{\"bgcolor\":\"rgb(17,17,17)\",\"angularaxis\":{\"gridcolor\":\"#506784\",\"linecolor\":\"#506784\",\"ticks\":\"\"},\"radialaxis\":{\"gridcolor\":\"#506784\",\"linecolor\":\"#506784\",\"ticks\":\"\"}},\"ternary\":{\"bgcolor\":\"rgb(17,17,17)\",\"aaxis\":{\"gridcolor\":\"#506784\",\"linecolor\":\"#506784\",\"ticks\":\"\"},\"baxis\":{\"gridcolor\":\"#506784\",\"linecolor\":\"#506784\",\"ticks\":\"\"},\"caxis\":{\"gridcolor\":\"#506784\",\"linecolor\":\"#506784\",\"ticks\":\"\"}},\"coloraxis\":{\"colorbar\":{\"outlinewidth\":0,\"ticks\":\"\"}},\"colorscale\":{\"sequential\":[[0.0,\"#0d0887\"],[0.1111111111111111,\"#46039f\"],[0.2222222222222222,\"#7201a8\"],[0.3333333333333333,\"#9c179e\"],[0.4444444444444444,\"#bd3786\"],[0.5555555555555556,\"#d8576b\"],[0.6666666666666666,\"#ed7953\"],[0.7777777777777778,\"#fb9f3a\"],[0.8888888888888888,\"#fdca26\"],[1.0,\"#f0f921\"]],\"sequentialminus\":[[0.0,\"#0d0887\"],[0.1111111111111111,\"#46039f\"],[0.2222222222222222,\"#7201a8\"],[0.3333333333333333,\"#9c179e\"],[0.4444444444444444,\"#bd3786\"],[0.5555555555555556,\"#d8576b\"],[0.6666666666666666,\"#ed7953\"],[0.7777777777777778,\"#fb9f3a\"],[0.8888888888888888,\"#fdca26\"],[1.0,\"#f0f921\"]],\"diverging\":[[0,\"#8e0152\"],[0.1,\"#c51b7d\"],[0.2,\"#de77ae\"],[0.3,\"#f1b6da\"],[0.4,\"#fde0ef\"],[0.5,\"#f7f7f7\"],[0.6,\"#e6f5d0\"],[0.7,\"#b8e186\"],[0.8,\"#7fbc41\"],[0.9,\"#4d9221\"],[1,\"#276419\"]]},\"xaxis\":{\"gridcolor\":\"#283442\",\"linecolor\":\"#506784\",\"ticks\":\"\",\"title\":{\"standoff\":15},\"zerolinecolor\":\"#283442\",\"automargin\":true,\"zerolinewidth\":2},\"yaxis\":{\"gridcolor\":\"#283442\",\"linecolor\":\"#506784\",\"ticks\":\"\",\"title\":{\"standoff\":15},\"zerolinecolor\":\"#283442\",\"automargin\":true,\"zerolinewidth\":2},\"scene\":{\"xaxis\":{\"backgroundcolor\":\"rgb(17,17,17)\",\"gridcolor\":\"#506784\",\"linecolor\":\"#506784\",\"showbackground\":true,\"ticks\":\"\",\"zerolinecolor\":\"#C8D4E3\",\"gridwidth\":2},\"yaxis\":{\"backgroundcolor\":\"rgb(17,17,17)\",\"gridcolor\":\"#506784\",\"linecolor\":\"#506784\",\"showbackground\":true,\"ticks\":\"\",\"zerolinecolor\":\"#C8D4E3\",\"gridwidth\":2},\"zaxis\":{\"backgroundcolor\":\"rgb(17,17,17)\",\"gridcolor\":\"#506784\",\"linecolor\":\"#506784\",\"showbackground\":true,\"ticks\":\"\",\"zerolinecolor\":\"#C8D4E3\",\"gridwidth\":2}},\"shapedefaults\":{\"line\":{\"color\":\"#f2f5fa\"}},\"annotationdefaults\":{\"arrowcolor\":\"#f2f5fa\",\"arrowhead\":0,\"arrowwidth\":1},\"geo\":{\"bgcolor\":\"rgb(17,17,17)\",\"landcolor\":\"rgb(17,17,17)\",\"subunitcolor\":\"#506784\",\"showland\":true,\"showlakes\":true,\"lakecolor\":\"rgb(17,17,17)\"},\"title\":{\"x\":0.05},\"updatemenudefaults\":{\"bgcolor\":\"#506784\",\"borderwidth\":0},\"sliderdefaults\":{\"bgcolor\":\"#C8D4E3\",\"borderwidth\":1,\"bordercolor\":\"rgb(17,17,17)\",\"tickwidth\":0},\"mapbox\":{\"style\":\"dark\"}}},\"xaxis\":{\"anchor\":\"y\",\"domain\":[0.0,1.0],\"title\":{\"text\":\"index\"}},\"yaxis\":{\"anchor\":\"x\",\"domain\":[0.0,1.0],\"title\":{\"text\":\"value\"}},\"legend\":{\"title\":{\"text\":\"variable\"},\"tracegroupgap\":0},\"title\":{\"text\":\"Training and Validation Loss Over Time\"}},                        {\"responsive\": true}                    ).then(function(){\n",
       "                            \n",
       "var gd = document.getElementById('6981a010-8fc5-4d39-91fb-17362b1c12c2');\n",
       "var x = new MutationObserver(function (mutations, observer) {{\n",
       "        var display = window.getComputedStyle(gd).display;\n",
       "        if (!display || display === 'none') {{\n",
       "            console.log([gd, 'removed!']);\n",
       "            Plotly.purge(gd);\n",
       "            observer.disconnect();\n",
       "        }}\n",
       "}});\n",
       "\n",
       "// Listen for the removal of the full notebook cells\n",
       "var notebookContainer = gd.closest('#notebook-container');\n",
       "if (notebookContainer) {{\n",
       "    x.observe(notebookContainer, {childList: true});\n",
       "}}\n",
       "\n",
       "// Listen for the clearing of the current output cell\n",
       "var outputEl = gd.closest('.output');\n",
       "if (outputEl) {{\n",
       "    x.observe(outputEl, {childList: true});\n",
       "}}\n",
       "\n",
       "                        })                };                });            </script>        </div>"
      ]
     },
     "metadata": {},
     "output_type": "display_data"
    }
   ],
   "source": [
    "fig = px.line(\n",
    "    history.history,\n",
    "    y=['loss', 'val_loss'],\n",
    "    labels={'x': \"Epoch\", 'y': \"Loss\"},\n",
    "    title='Training and Validation Loss Over Time'\n",
    ")\n",
    "\n",
    "fig.show()"
   ]
  },
  {
   "cell_type": "code",
   "execution_count": 186,
   "metadata": {
    "ExecuteTime": {
     "end_time": "2024-08-15T09:36:50.908576Z",
     "start_time": "2024-08-15T09:36:50.736937Z"
    }
   },
   "outputs": [
    {
     "name": "stdout",
     "output_type": "stream",
     "text": [
      "25/25 [==============================] - 0s 2ms/step - loss: 0.2199 - accuracy: 0.9082 - auc: 0.8056 - prec: 0.0676 - rec: 0.7143\n",
      "\n",
      " Accuracy: 0.90815\n",
      "      AUC: 0.80558\n",
      "Precision: 0.06757\n",
      "   Recall: 0.71429\n"
     ]
    }
   ],
   "source": [
    "results = model.evaluate([X_test_1, X_test_2], y_test)\n",
    "\n",
    "print(f'\\n Accuracy: {results[1] :.5f}')\n",
    "print(f'      AUC: {results[2] :.5f}')\n",
    "print(f'Precision: {results[3] :.5f}')\n",
    "print(f'   Recall: {results[4] :.5f}')"
   ]
  },
  {
   "cell_type": "code",
   "execution_count": 187,
   "metadata": {
    "ExecuteTime": {
     "end_time": "2024-08-15T09:36:50.923579Z",
     "start_time": "2024-08-15T09:36:50.911577Z"
    }
   },
   "outputs": [
    {
     "data": {
      "text/plain": [
       "isTopTen\n",
       "0    766\n",
       "1      7\n",
       "Name: count, dtype: int64"
      ]
     },
     "execution_count": 187,
     "metadata": {},
     "output_type": "execute_result"
    }
   ],
   "source": [
    "y_test.value_counts()"
   ]
  },
  {
   "cell_type": "code",
   "execution_count": 188,
   "metadata": {
    "ExecuteTime": {
     "end_time": "2024-08-15T09:36:50.939572Z",
     "start_time": "2024-08-15T09:36:50.926579Z"
    }
   },
   "outputs": [
    {
     "data": {
      "text/plain": [
       "0.009055627425614488"
      ]
     },
     "execution_count": 188,
     "metadata": {},
     "output_type": "execute_result"
    }
   ],
   "source": [
    "y_test.mean()"
   ]
  },
  {
   "cell_type": "code",
   "execution_count": 189,
   "metadata": {
    "ExecuteTime": {
     "end_time": "2024-08-15T09:36:50.955085Z",
     "start_time": "2024-08-15T09:36:50.942581Z"
    }
   },
   "outputs": [
    {
     "name": "stdout",
     "output_type": "stream",
     "text": [
      "Percent of ramens that are Top 10: 0.9%\n"
     ]
    }
   ],
   "source": [
    "print(f\"Percent of ramens that are Top 10: {y_test.mean() * 100:.1f}%\")"
   ]
  },
  {
   "cell_type": "code",
   "execution_count": 190,
   "metadata": {
    "ExecuteTime": {
     "end_time": "2024-08-15T09:36:50.971094Z",
     "start_time": "2024-08-15T09:36:50.957093Z"
    }
   },
   "outputs": [
    {
     "data": {
      "text/plain": [
       "0.12345678533582562"
      ]
     },
     "execution_count": 190,
     "metadata": {},
     "output_type": "execute_result"
    }
   ],
   "source": [
    "precision = results[3]  # Get the precision from the results\n",
    "recall = results[4]  # Get the recall from the results\n",
    "\n",
    "#? Calculate the F1 to see the balance between precision and recall\n",
    "#? The F1 score is the harmonic mean of the precision and recall, where an F1 score reaches its best value at 1 (perfect precision and recall) and worst at 0.\n",
    "f1_score = 2 * (precision * recall) / (precision + recall)\n",
    "f1_score"
   ]
  }
 ],
 "metadata": {
  "accelerator": "GPU",
  "colab": {
   "authorship_tag": "ABX9TyMaKLwvlYdXpcgVekAi2ei1",
   "gpuType": "T4",
   "mount_file_id": "1G5pdauk8gycQCzU5fbC1AO9rAqMWTnyo",
   "provenance": []
  },
  "kernelspec": {
   "display_name": "Python 3 (ipykernel)",
   "language": "python",
   "name": "python3"
  },
  "language_info": {
   "codemirror_mode": {
    "name": "ipython",
    "version": 3
   },
   "file_extension": ".py",
   "mimetype": "text/x-python",
   "name": "python",
   "nbconvert_exporter": "python",
   "pygments_lexer": "ipython3",
   "version": "3.8.19"
  }
 },
 "nbformat": 4,
 "nbformat_minor": 0
}

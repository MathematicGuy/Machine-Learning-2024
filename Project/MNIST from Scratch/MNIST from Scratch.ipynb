{
 "cells": [
  {
   "cell_type": "code",
   "execution_count": 23,
   "id": "initial_id",
   "metadata": {
    "ExecuteTime": {
     "end_time": "2024-07-23T13:14:04.382964Z",
     "start_time": "2024-07-23T13:14:04.378616Z"
    },
    "collapsed": true
   },
   "outputs": [],
   "source": [
    "import numpy as np\n",
    "import pandas as pd\n",
    "from matplotlib import pyplot as plt"
   ]
  },
  {
   "cell_type": "code",
   "execution_count": 24,
   "id": "c4fa0e3226214a07",
   "metadata": {
    "ExecuteTime": {
     "end_time": "2024-07-23T13:14:08.931217Z",
     "start_time": "2024-07-23T13:14:04.495167Z"
    }
   },
   "outputs": [],
   "source": [
    "data = pd.read_csv('digit_recognizer_dataset/train.csv')\n",
    "test = pd.read_csv('digit_recognizer_dataset/test.csv')"
   ]
  },
  {
   "cell_type": "code",
   "execution_count": 25,
   "id": "2a4db277e3c7d95f",
   "metadata": {
    "ExecuteTime": {
     "end_time": "2024-07-23T13:14:10.502046Z",
     "start_time": "2024-07-23T13:14:08.932453Z"
    }
   },
   "outputs": [],
   "source": [
    "data = np.array(data)\n",
    "m, n = data.shape # row, cols+1/features\n",
    "np.random.shuffle(data)\n",
    "\n",
    "data_dev = data[0: 1000].T\n",
    "Y_dev = data_dev[0]\n",
    "X_dev = data_dev[1: n]\n",
    "X_dev = X_dev / 255.\n",
    "\n",
    "data_train = data[1000:m].T\n",
    "Y_train = data_train[0]\n",
    "X_train = data_train[1: n]\n",
    "X_train = X_train / 255.\n",
    "_, m_train = X_train.shape"
   ]
  },
  {
   "cell_type": "code",
   "execution_count": 26,
   "id": "6e4f011558a21f63",
   "metadata": {
    "ExecuteTime": {
     "end_time": "2024-07-23T13:14:10.510891Z",
     "start_time": "2024-07-23T13:14:10.503519Z"
    }
   },
   "outputs": [
    {
     "data": {
      "text/plain": [
       "(785, 41000)"
      ]
     },
     "execution_count": 26,
     "metadata": {},
     "output_type": "execute_result"
    }
   ],
   "source": [
    "data_train.shape"
   ]
  },
  {
   "cell_type": "code",
   "execution_count": 27,
   "id": "cab02c67be9f5c41",
   "metadata": {
    "ExecuteTime": {
     "end_time": "2024-07-23T13:14:10.535812Z",
     "start_time": "2024-07-23T13:14:10.515793Z"
    }
   },
   "outputs": [],
   "source": [
    "# note: understand the function first. then merge them together later\n",
    "def init_param(weight_range):\n",
    "    W1 = np.random.rand(10, 784) - weight_range\n",
    "    b1 = np.random.rand(10, 1) - weight_range\n",
    "    W2 = np.random.rand(10, 10) - weight_range\n",
    "    b2 = np.random.rand(10, 1) - weight_range\n",
    "    \n",
    "    return W1, b1, W2, b2\n",
    "\n",
    "\n",
    "def ReLU(Z):\n",
    "    return np.maximum(Z, 0) # greater than 0, return Z\n",
    "    \n",
    "\n",
    "def softmax(Z): # explain softmax function\n",
    "    Z_shifted = Z - np.max(Z, axis=0, keepdims=True)\n",
    "    exp_Z = np.exp(Z_shifted)\n",
    "    sum_exp_Z = np.sum(exp_Z, axis=0, keepdims=True)\n",
    "    if np.any(sum_exp_Z == 0):\n",
    "        raise ValueError(\"Sum of exponentials is zero, which may indicate a numerical issue.\")\n",
    "    \n",
    "    return exp_Z / sum_exp_Z\n",
    "\n",
    "\n",
    "def forward_prop(W1, b1, W2, b2, X):\n",
    "    Z1 = W1.dot(X) + b1\n",
    "    A1 = ReLU(Z1)\n",
    "    Z2 = W2.dot(A1) + b2\n",
    "    A2 = softmax(Z2)\n",
    "    \n",
    "    return Z1, A1, Z2, A2\n",
    "\n",
    "\n",
    "def one_hot(Y):\n",
    "    one_hot_Y = np.zeros((Y.size, Y.max() + 1))\n",
    "    one_hot_Y[np.arange(Y.size), Y] = 1 \n",
    "    one_hot_Y = one_hot_Y.T\n",
    "    \n",
    "    return one_hot_Y\n",
    "    \n",
    "\n",
    "def derivative_ReLU(Z):\n",
    "    return Z > 0\n",
    "\n",
    "def backward_prop(Z1, A1, Z2, A2, W1, W2, X, Y):\n",
    "    one_hot_Y = one_hot(Y)    \n",
    "    m = Y.size\n",
    "    one_hot_Y = one_hot(Y)    \n",
    "    dZ2 = A2 - one_hot_Y # Ensure shapes match (10, m)\n",
    "    dW2 = 1/m * dZ2.dot(A1.T) # Ensure shapes match (10, 784) . (784, m)\n",
    "    db2 = 1/m * np.sum(dZ2, axis=1, keepdims=True) # Shape (10, 1)\n",
    "    dZ1 = W2.T.dot(dZ2) * derivative_ReLU(Z1) # Ensure shapes match (784, 10)  . (10, m) * (784, m)\n",
    "    dW1 = 1 / m * dZ1.dot(X.T) # Ensure shapes match (10, 784) . (784, m)\n",
    "    db1 = 1 / m * np.sum(dZ1, axis=1, keepdims=True) # Shape (10, 1)\n",
    "    \n",
    "    return  dW1, db2, dW2, db1\n",
    "\n",
    "\n",
    "def update_params(W1, b1, W2, b2, dW1, db1, dW2, db2, alpha):\n",
    "    W1 = W1 - alpha * dW1\n",
    "    b1 = b1 - alpha * db1\n",
    "    W2 = W2 - alpha  * dW2\n",
    "    b2 = b2 - alpha * db2\n",
    "    \n",
    "    return W1, b1, W2, b2"
   ]
  },
  {
   "cell_type": "code",
   "execution_count": 28,
   "id": "84df2a1e5197f2ff",
   "metadata": {
    "ExecuteTime": {
     "end_time": "2024-07-23T13:14:10.547989Z",
     "start_time": "2024-07-23T13:14:10.537840Z"
    }
   },
   "outputs": [],
   "source": [
    "def get_predictions(A2):\n",
    "    return np.argmax(A2, 0)\n",
    "\n",
    "def get_accuracy(predictions, Y):\n",
    "    print(predictions, Y)\n",
    "    return format(np.sum(predictions == Y) / Y.size, '.13f')\n",
    "\n",
    "def gradient_descent(X, Y, iterations, alpha, initial_weight):\n",
    "    accuracy_list = []\n",
    "\n",
    "    W1, b1, W2, b2 = init_param(initial_weight)\n",
    "    for i in range(iterations):\n",
    "        Z1, A1, Z2, A2 = forward_prop(W1, b1, W2, b2, X)\n",
    "        dW1, db1, dW2, db2 = backward_prop(Z1, A1, Z2, A2, W1, W2, X, Y)    \n",
    "        W1, b1, W2, b2 = update_params(W1, b1, W2, b2, dW1, db1, dW2, db2, alpha)\n",
    "        \n",
    "        if i % 50 == 0: #? explain\n",
    "            predictions = get_predictions(A2)\n",
    "            accuracy = get_accuracy(predictions, Y)\n",
    "            accuracy_list.append(accuracy)            \n",
    "            # print(\"Iteration: \", i)\n",
    "            # print(\"Accuracy: \", accuracy)\n",
    "    \n",
    "    return W1, b1, W2, b2, accuracy_list"
   ]
  },
  {
   "cell_type": "markdown",
   "id": "bbd371dd221d8c46",
   "metadata": {},
   "source": [
    "**Save Result to Result Folder**"
   ]
  },
  {
   "cell_type": "code",
   "execution_count": 29,
   "id": "b1c5a4d024b1022",
   "metadata": {
    "ExecuteTime": {
     "end_time": "2024-07-23T13:14:10.561212Z",
     "start_time": "2024-07-23T13:14:10.550117Z"
    }
   },
   "outputs": [],
   "source": [
    "import os\n",
    "\n",
    "\n",
    "# Save W1, b1, W2, b2 to a numpy arrays\n",
    "def save_weights_to_npy(W1, b1, W2, b2, filename='weights.npz'):\n",
    "    np.savez(filename, W1=W1, b1=b1, W2=W2, b2=b2)\n",
    "\n",
    "\n",
    "# Example usage\n",
    "def save_accuracy_to_csv(accuracy_list, filename='results.npy'):\n",
    "    # Create a DataFrame from the accuracy list\n",
    "    df_accuracy = pd.DataFrame(accuracy_list, columns=['Iteration', 'Accuracy'])\n",
    "    \n",
    "    # Save the accuracy info DataFrame to a CSV file\n",
    "    df_accuracy.to_csv(filename, index=False, header=True)\n",
    "    \n",
    "\n",
    "def add_to_folder(W1, b1, W2, b2, accuracy_list, iterations, weight, grow_rate):\n",
    "    # replace \".\" with \"_\" so I can add decimal as folder names\n",
    "    # make grow rate as the folder path \n",
    "    grow_rate = str(grow_rate).replace('.', '_')  \n",
    "    iterations = str(iterations).replace('.', '_')\n",
    "    weight = str(weight).replace('.', '_')\n",
    "    \n",
    "    gr_folder_path = f'results/gr{grow_rate}'\n",
    "    folder_path = f'i{iterations}-w{weight}-gr{grow_rate}'\n",
    "    \n",
    "    \n",
    "    if not os.path.exists(gr_folder_path):\n",
    "        # Create the folder\n",
    "        os.makedirs(gr_folder_path)\n",
    "    \n",
    "    if not os.path.exists(folder_path):\n",
    "        # Create the folder\n",
    "        os.makedirs(f'{gr_folder_path}/{folder_path}')\n",
    "    \n",
    "    \n",
    "    # Prepare data for saving\n",
    "    # Results is a dictionary where each key is an iteration and value is a tuple (accuracy, W1, b1, W2, b2)\n",
    "    Result_list = [[i * 50, acc] for i, acc in enumerate(accuracy_list, start=1)]\n",
    "    save_accuracy_to_csv(Result_list, f'{gr_folder_path}/{folder_path}/accuracy.csv')\n",
    "    save_weights_to_npy(W1, b1, W2, b2, f'{gr_folder_path}/{folder_path}/weight.npz')"
   ]
  },
  {
   "cell_type": "code",
   "execution_count": 30,
   "id": "1763a8e8dcc3eb8f",
   "metadata": {
    "ExecuteTime": {
     "end_time": "2024-07-23T13:25:50.488016Z",
     "start_time": "2024-07-23T13:14:10.563233Z"
    }
   },
   "outputs": [
    {
     "name": "stdout",
     "output_type": "stream",
     "text": [
      "[2 2 0 ... 2 2 2] [2 7 5 ... 2 6 5]\n",
      "[2 7 9 ... 2 6 8] [2 7 5 ... 2 6 5]\n",
      "[2 7 8 ... 2 6 8] [2 7 5 ... 2 6 5]\n",
      "[2 7 8 ... 2 6 3] [2 7 5 ... 2 6 5]\n",
      "[2 7 8 ... 2 6 3] [2 7 5 ... 2 6 5]\n",
      "[2 7 8 ... 2 6 3] [2 7 5 ... 2 6 5]\n",
      "[2 7 8 ... 2 6 3] [2 7 5 ... 2 6 5]\n",
      "[2 7 8 ... 2 6 3] [2 7 5 ... 2 6 5]\n",
      "[2 7 8 ... 2 6 3] [2 7 5 ... 2 6 5]\n",
      "[2 7 8 ... 2 6 5] [2 7 5 ... 2 6 5]\n",
      "[2 7 8 ... 2 6 5] [2 7 5 ... 2 6 5]\n",
      "[2 7 8 ... 2 6 5] [2 7 5 ... 2 6 5]\n",
      "[2 7 8 ... 2 6 5] [2 7 5 ... 2 6 5]\n",
      "[2 7 8 ... 2 6 5] [2 7 5 ... 2 6 5]\n",
      "[2 7 8 ... 2 6 5] [2 7 5 ... 2 6 5]\n",
      "[2 7 8 ... 2 6 5] [2 7 5 ... 2 6 5]\n",
      "[2 7 8 ... 2 6 5] [2 7 5 ... 2 6 5]\n",
      "[2 7 8 ... 2 6 5] [2 7 5 ... 2 6 5]\n",
      "[2 7 8 ... 2 6 5] [2 7 5 ... 2 6 5]\n",
      "[2 7 8 ... 2 6 5] [2 7 5 ... 2 6 5]\n",
      "[2 7 8 ... 2 6 5] [2 7 5 ... 2 6 5]\n",
      "[2 7 8 ... 2 6 5] [2 7 5 ... 2 6 5]\n",
      "[2 7 8 ... 2 6 5] [2 7 5 ... 2 6 5]\n",
      "[2 7 8 ... 2 6 5] [2 7 5 ... 2 6 5]\n",
      "[2 7 8 ... 2 6 5] [2 7 5 ... 2 6 5]\n",
      "[2 7 8 ... 2 6 5] [2 7 5 ... 2 6 5]\n",
      "[2 7 8 ... 2 6 5] [2 7 5 ... 2 6 5]\n",
      "[2 7 8 ... 2 6 5] [2 7 5 ... 2 6 5]\n",
      "[2 7 8 ... 2 6 5] [2 7 5 ... 2 6 5]\n",
      "[2 7 8 ... 2 6 5] [2 7 5 ... 2 6 5]\n",
      "[2 7 8 ... 2 6 5] [2 7 5 ... 2 6 5]\n",
      "[2 7 8 ... 2 6 5] [2 7 5 ... 2 6 5]\n",
      "[2 7 8 ... 2 6 5] [2 7 5 ... 2 6 5]\n",
      "[2 7 8 ... 2 6 5] [2 7 5 ... 2 6 5]\n",
      "[2 7 8 ... 2 6 5] [2 7 5 ... 2 6 5]\n",
      "[2 7 8 ... 2 6 5] [2 7 5 ... 2 6 5]\n",
      "[2 7 8 ... 2 6 5] [2 7 5 ... 2 6 5]\n",
      "[2 7 8 ... 2 6 5] [2 7 5 ... 2 6 5]\n",
      "[2 7 8 ... 2 6 5] [2 7 5 ... 2 6 5]\n",
      "[2 7 8 ... 2 6 5] [2 7 5 ... 2 6 5]\n",
      "[2 7 8 ... 2 6 5] [2 7 5 ... 2 6 5]\n",
      "[2 7 8 ... 2 6 5] [2 7 5 ... 2 6 5]\n",
      "[2 7 8 ... 2 6 5] [2 7 5 ... 2 6 5]\n",
      "[2 7 8 ... 2 6 5] [2 7 5 ... 2 6 5]\n",
      "[2 7 8 ... 2 6 5] [2 7 5 ... 2 6 5]\n",
      "[2 7 8 ... 2 6 5] [2 7 5 ... 2 6 5]\n",
      "[2 7 8 ... 2 6 5] [2 7 5 ... 2 6 5]\n",
      "[2 7 8 ... 2 6 5] [2 7 5 ... 2 6 5]\n",
      "[2 7 8 ... 2 6 5] [2 7 5 ... 2 6 5]\n",
      "[2 7 8 ... 2 6 5] [2 7 5 ... 2 6 5]\n",
      "[2 7 8 ... 2 6 5] [2 7 5 ... 2 6 5]\n",
      "[2 7 8 ... 2 6 5] [2 7 5 ... 2 6 5]\n",
      "[2 7 8 ... 2 6 5] [2 7 5 ... 2 6 5]\n",
      "[2 7 8 ... 2 6 5] [2 7 5 ... 2 6 5]\n",
      "[2 7 8 ... 2 6 5] [2 7 5 ... 2 6 5]\n",
      "[2 7 8 ... 2 6 5] [2 7 5 ... 2 6 5]\n",
      "[2 7 8 ... 2 6 5] [2 7 5 ... 2 6 5]\n",
      "[2 7 8 ... 2 6 5] [2 7 5 ... 2 6 5]\n",
      "[2 7 8 ... 2 6 5] [2 7 5 ... 2 6 5]\n",
      "[2 7 8 ... 2 6 5] [2 7 5 ... 2 6 5]\n",
      "[2 7 8 ... 2 6 5] [2 7 5 ... 2 6 5]\n",
      "[2 7 8 ... 2 6 5] [2 7 5 ... 2 6 5]\n",
      "[2 7 8 ... 2 6 5] [2 7 5 ... 2 6 5]\n",
      "[2 7 8 ... 2 6 5] [2 7 5 ... 2 6 5]\n",
      "[2 7 8 ... 2 6 5] [2 7 5 ... 2 6 5]\n",
      "[2 7 8 ... 2 6 5] [2 7 5 ... 2 6 5]\n",
      "[2 7 8 ... 2 6 5] [2 7 5 ... 2 6 5]\n",
      "[2 7 8 ... 2 6 5] [2 7 5 ... 2 6 5]\n",
      "[2 7 8 ... 2 6 5] [2 7 5 ... 2 6 5]\n",
      "[2 7 8 ... 2 6 5] [2 7 5 ... 2 6 5]\n",
      "[2 7 8 ... 2 6 5] [2 7 5 ... 2 6 5]\n",
      "[2 7 8 ... 2 6 5] [2 7 5 ... 2 6 5]\n",
      "[2 7 8 ... 2 6 5] [2 7 5 ... 2 6 5]\n",
      "[2 7 8 ... 2 6 5] [2 7 5 ... 2 6 5]\n",
      "[2 7 8 ... 2 6 5] [2 7 5 ... 2 6 5]\n",
      "[2 7 8 ... 2 6 5] [2 7 5 ... 2 6 5]\n",
      "[2 7 8 ... 2 6 5] [2 7 5 ... 2 6 5]\n",
      "[2 7 8 ... 2 6 5] [2 7 5 ... 2 6 5]\n",
      "[2 7 8 ... 2 6 5] [2 7 5 ... 2 6 5]\n",
      "[2 7 8 ... 2 6 5] [2 7 5 ... 2 6 5]\n",
      "[2 7 8 ... 2 6 5] [2 7 5 ... 2 6 5]\n",
      "[2 7 8 ... 2 6 5] [2 7 5 ... 2 6 5]\n",
      "[2 7 8 ... 2 6 5] [2 7 5 ... 2 6 5]\n",
      "[2 7 8 ... 2 6 5] [2 7 5 ... 2 6 5]\n",
      "[2 7 8 ... 2 6 5] [2 7 5 ... 2 6 5]\n",
      "[2 7 8 ... 2 6 5] [2 7 5 ... 2 6 5]\n",
      "[2 7 8 ... 2 6 5] [2 7 5 ... 2 6 5]\n",
      "[2 7 8 ... 2 6 5] [2 7 5 ... 2 6 5]\n",
      "[2 7 8 ... 2 6 5] [2 7 5 ... 2 6 5]\n",
      "[2 7 8 ... 2 6 5] [2 7 5 ... 2 6 5]\n",
      "[2 7 8 ... 2 6 5] [2 7 5 ... 2 6 5]\n",
      "[2 7 8 ... 2 6 5] [2 7 5 ... 2 6 5]\n",
      "[2 7 8 ... 2 6 5] [2 7 5 ... 2 6 5]\n",
      "[2 7 8 ... 2 6 5] [2 7 5 ... 2 6 5]\n",
      "[2 7 8 ... 2 6 5] [2 7 5 ... 2 6 5]\n",
      "[2 7 8 ... 2 6 5] [2 7 5 ... 2 6 5]\n",
      "[2 7 8 ... 2 6 5] [2 7 5 ... 2 6 5]\n",
      "[2 7 8 ... 2 6 5] [2 7 5 ... 2 6 5]\n",
      "[2 7 8 ... 2 6 5] [2 7 5 ... 2 6 5]\n",
      "[2 7 8 ... 2 6 5] [2 7 5 ... 2 6 5]\n",
      "FA: 0.9180000000000\n",
      "\n",
      "Weights, Accuracies\n",
      "0.429: ['0.0862926829268' '0.5970000000000' '0.6925121951220' '0.7466097560976'\n",
      " '0.7875121951220' '0.8108780487805' '0.8260975609756' '0.8361219512195'\n",
      " '0.8429024390244' '0.8486585365854' '0.8541951219512' '0.8580000000000'\n",
      " '0.8615121951220' '0.8648292682927' '0.8678780487805' '0.8699512195122'\n",
      " '0.8726341463415' '0.8749268292683' '0.8770731707317' '0.8785609756098'\n",
      " '0.8802439024390' '0.8819268292683' '0.8833658536585' '0.8846341463415'\n",
      " '0.8859268292683' '0.8871219512195' '0.8881951219512' '0.8890000000000'\n",
      " '0.8897804878049' '0.8909756097561' '0.8916829268293' '0.8924878048780'\n",
      " '0.8933902439024' '0.8944634146341' '0.8950000000000' '0.8954390243902'\n",
      " '0.8959024390244' '0.8965609756098' '0.8969512195122' '0.8973902439024'\n",
      " '0.8979512195122' '0.8988536585366' '0.8995609756098' '0.9001951219512'\n",
      " '0.9010243902439' '0.9012682926829' '0.9015853658537' '0.9022195121951'\n",
      " '0.9026585365854' '0.9031951219512' '0.9035121951220' '0.9039024390244'\n",
      " '0.9042926829268' '0.9046585365854' '0.9050487804878' '0.9054390243902'\n",
      " '0.9057804878049' '0.9061707317073' '0.9064634146341' '0.9069268292683'\n",
      " '0.9071707317073' '0.9077317073171' '0.9079756097561' '0.9084146341463'\n",
      " '0.9088048780488' '0.9088780487805' '0.9092926829268' '0.9096585365854'\n",
      " '0.9099756097561' '0.9103658536585' '0.9107560975610' '0.9110243902439'\n",
      " '0.9111707317073' '0.9115609756098' '0.9119756097561' '0.9121463414634'\n",
      " '0.9123170731707' '0.9125365853659' '0.9127560975610' '0.9129756097561'\n",
      " '0.9132926829268' '0.9134878048780' '0.9137804878049' '0.9140487804878'\n",
      " '0.9144390243902' '0.9146585365854' '0.9149024390244' '0.9154390243902'\n",
      " '0.9156097560976' '0.9158536585366' '0.9161219512195' '0.9164146341463'\n",
      " '0.9166829268293' '0.9167317073171' '0.9168780487805' '0.9170975609756'\n",
      " '0.9172195121951' '0.9175121951220' '0.9177560975610' '0.9180000000000']\n"
     ]
    }
   ],
   "source": [
    "weightList = [0.429]\n",
    "grow_rate = 0.1\n",
    "iterations = 5000\n",
    "\n",
    "\n",
    "def result():\n",
    "    accuracy_list = []\n",
    "\n",
    "    for weight in weightList:\n",
    "        W1, b1, W2, b2, accuracy = gradient_descent(X_train, Y_train, iterations, grow_rate, weight)\n",
    "        accuracy = np.array(accuracy)\n",
    "        accuracy_list.append(accuracy)\n",
    "        \n",
    "        print(f'FA: { accuracy[-1]}\\n')\n",
    "        add_to_folder(W1, b1, W2, b2, accuracy, iterations, weight, grow_rate)\n",
    "\n",
    "    return W1, b1, W2, b2, accuracy_list\n",
    "\n",
    "\n",
    "W1, b1, W2, b2, accuracy_list = result()\n",
    "print(\"Weights, Accuracies\")\n",
    "for i in range(len(weightList)):\n",
    "    print(f\"{weightList[i]}: {accuracy_list[i]}\")  "
   ]
  },
  {
   "cell_type": "markdown",
   "id": "a66a013b9089cd0",
   "metadata": {},
   "source": [
    "**Load Weight and Read Accuracy From Folder**"
   ]
  },
  {
   "cell_type": "code",
   "execution_count": 31,
   "id": "9cad03eee3643f7c",
   "metadata": {
    "ExecuteTime": {
     "end_time": "2024-07-23T13:25:50.497277Z",
     "start_time": "2024-07-23T13:25:50.490022Z"
    }
   },
   "outputs": [],
   "source": [
    "def load_weights_from_npy(filename='weights.npz'):\n",
    "    data = np.load(filename)\n",
    "    W1 = data['W1']\n",
    "    b1 = data['b1']\n",
    "    W2 = data['W2']\n",
    "    b2 = data['b2']\n",
    "    \n",
    "    return W1, b1, W2, b2\n",
    "\n",
    "\n",
    "def load_from_folder(iteration, weight, grow_rate):\n",
    "    grow_rate = str(grow_rate).replace('.', '_')  \n",
    "    iteration = str(iteration).replace('.', '_')\n",
    "    weight = str(weight).replace('.', '_')\n",
    "    \n",
    "    folder_path = f'results/gr{grow_rate}/i{iteration}-w{weight}-gr{grow_rate}'\n",
    "    \n",
    "    W1, b1, W2, b2 = load_weights_from_npy(f'{folder_path}/weight.npz')\n",
    "    return W1, b1, W2, b2\n",
    "\n",
    "# W1, b1, W2, b2 = load_from_folder(200, 0.429, 0.2) # Example: load Weight from .npy.npz \n",
    "# print(W1, b1, W2, b2)"
   ]
  },
  {
   "cell_type": "code",
   "execution_count": 32,
   "id": "182788fac822881f",
   "metadata": {
    "ExecuteTime": {
     "end_time": "2024-07-23T13:25:50.505631Z",
     "start_time": "2024-07-23T13:25:50.499114Z"
    }
   },
   "outputs": [],
   "source": [
    "# W1, b1, W2, b2 = load_from_folder(200, 0.429, 0.2) # Example: load Weight from .npy.npz \n",
    "def plot_data_by_grow_rate(grow_rate):\n",
    "    grow_rate = str(grow_rate).replace('.', '_')  \n",
    "    list_dir = os.listdir(f'results/gr{grow_rate}/') # list all result from results/gr{grow_rate} folder\n",
    "        \n",
    "    \n",
    "    for dir in list_dir:\n",
    "        print(f\"{dir}\")\n",
    "        df = pd.read_csv(f'results/gr{grow_rate}/{dir}/accuracy.csv')\n",
    "        # Step 2: Plot the data\n",
    "        plt.plot(df['Iteration'], df['Accuracy'], marker='o')  # 'o' adds markers to each data point\n",
    "        plt.xlabel('Iteration')\n",
    "        plt.ylabel('Accuracy')\n",
    "        plt.title('Accuracy over Iterations')\n",
    "        plt.grid(True)  # Optional: Adds a grid for easier reading\n",
    "        plt.show()\n",
    "\n",
    "# plot_data_by_grow_rate(0.2)"
   ]
  },
  {
   "cell_type": "code",
   "execution_count": 33,
   "id": "eb9dbcb2784199bb",
   "metadata": {
    "ExecuteTime": {
     "end_time": "2024-07-23T13:25:50.718325Z",
     "start_time": "2024-07-23T13:25:50.509983Z"
    }
   },
   "outputs": [
    {
     "data": {
      "image/png": "[encoded data removed]",
      "text/plain": [
       "<Figure size 1800x900 with 1 Axes>"
      ]
     },
     "metadata": {},
     "output_type": "display_data"
    }
   ],
   "source": [
    "# Get accuracy from accuracyList\n",
    "for i in range(len(accuracy_list)):\n",
    "    accuracy = accuracy_list[i]\n",
    "    \n",
    "    # Assuming 'accuracy' is your NumPy array containing accuracy values\n",
    "    iterations = range(1, len(accuracy) + 1)  # If accuracy was recorded every iteration, adjust accordingly\n",
    "    \n",
    "    accuracy = np.array([float(acc) for acc in accuracy])\n",
    "    \n",
    "    plt.figure(figsize=(18, 9))  # Optional: Creates a figure of size 10x6 inches\n",
    "    plt.plot(iterations, accuracy, marker='o', linestyle='-', color='b')  # Plots accuracy values, with 'o' markers\n",
    "    plt.title('Model Accuracy Over Iterations')  # Adds a title\n",
    "    plt.xlabel('Iteration')  # Adds a label to the x-axis\n",
    "    plt.ylabel('Accuracy')  # Adds a label to the y-axis\n",
    "    plt.grid(True)  # Optional: Adds a grid for easier reading\n",
    "    plt.show()  # Displays the plot"
   ]
  },
  {
   "cell_type": "code",
   "execution_count": 34,
   "id": "d6f1d7fe7e42bb98",
   "metadata": {
    "ExecuteTime": {
     "end_time": "2024-07-23T13:25:50.726549Z",
     "start_time": "2024-07-23T13:25:50.720340Z"
    }
   },
   "outputs": [],
   "source": [
    "# data_test = test[1000:m].T\n",
    "# Y_test = data_test[0]\n",
    "# X_test = data_test[1: n]\n",
    "# X_test = X_test / 255.\n",
    "\n",
    "def make_predictions(X, W1, b1, W2, b2):\n",
    "    _, _, _, A2 = forward_prop(W1, b1, W2, b2, X)\n",
    "    predictions = get_predictions(A2)\n",
    "    return predictions\n",
    "\n",
    "def test_prediction(index, W1, b1, W2, b2):\n",
    "    current_image = X_train[:, index, None]\n",
    "    prediction = make_predictions(X_train[:, index, None], W1, b1, W2, b2)\n",
    "    label = Y_train[index]\n",
    "    print(\"Prediction: \", prediction)\n",
    "    print(\"Label: \", label)\n",
    "    \n",
    "    current_image = current_image.reshape((28, 28)) * 255\n",
    "    plt.gray()\n",
    "    plt.imshow(current_image, interpolation='nearest')\n",
    "    plt.show()"
   ]
  },
  {
   "cell_type": "code",
   "execution_count": 35,
   "id": "be75e90d6f42572e",
   "metadata": {
    "ExecuteTime": {
     "end_time": "2024-07-23T13:25:50.844981Z",
     "start_time": "2024-07-23T13:25:50.727659Z"
    }
   },
   "outputs": [
    {
     "name": "stdout",
     "output_type": "stream",
     "text": [
      "Prediction:  [2]\n",
      "Label:  2\n"
     ]
    },
    {
     "data": {
      "image/png": "[encoded data removed]",
      "text/plain": [
       "<Figure size 640x480 with 1 Axes>"
      ]
     },
     "metadata": {},
     "output_type": "display_data"
    }
   ],
   "source": [
    "# W1, b1, W2, b2 = load_from_folder(200, 0.429, 0.2) # load Weight from .npy.npz \n",
    "test_prediction(0, W1, b1, W2, b2) "
   ]
  },
  {
   "cell_type": "code",
   "execution_count": 36,
   "id": "a75bb22291887dd6",
   "metadata": {
    "ExecuteTime": {
     "end_time": "2024-07-23T13:25:50.858462Z",
     "start_time": "2024-07-23T13:25:50.846509Z"
    }
   },
   "outputs": [
    {
     "name": "stdout",
     "output_type": "stream",
     "text": [
      "[1 8 6 0 0 9 3 2 2 8 5 0 3 3 8 1 5 2 5 2 5 4 9 2 0 8 0 5 3 7 5 9 1 3 3 3 2\n",
      " 9 0 7 3 3 2 6 1 7 8 8 5 4 0 7 7 2 6 3 5 2 8 8 8 0 5 8 3 9 0 1 8 2 2 2 3 7\n",
      " 4 1 5 5 8 6 6 7 7 7 1 4 1 9 7 8 4 2 5 6 5 1 2 7 1 9 1 6 5 1 6 4 4 2 3 1 8\n",
      " 5 8 9 3 1 1 2 9 1 0 3 2 8 7 4 0 6 9 9 0 1 3 5 7 4 4 9 4 8 9 0 1 8 8 5 6 4\n",
      " 8 6 8 4 6 9 5 1 9 2 3 8 3 9 2 7 9 4 8 4 0 3 6 5 7 5 1 4 2 6 8 7 6 9 0 2 8\n",
      " 8 4 7 0 1 2 5 8 3 3 2 8 6 8 6 3 7 6 9 4 3 1 4 8 2 1 4 9 7 1 5 9 4 5 9 1 7\n",
      " 7 1 0 0 2 4 9 2 8 0 4 3 7 3 1 0 2 0 3 9 0 2 1 8 0 1 6 6 2 3 6 1 2 3 5 9 7\n",
      " 4 2 1 3 1 5 4 8 7 5 5 3 4 9 6 5 5 4 2 3 0 3 1 4 2 0 3 9 8 2 7 6 2 5 0 0 2\n",
      " 1 5 7 7 3 6 3 4 1 6 4 4 9 8 5 4 2 8 9 8 9 0 2 9 4 2 2 8 0 0 2 6 6 3 2 6 1\n",
      " 1 4 1 9 8 1 1 7 7 5 5 4 7 9 0 3 6 1 8 0 4 3 7 1 7 3 8 0 7 6 7 1 9 7 5 3 7\n",
      " 9 7 5 5 8 7 0 0 1 9 9 5 5 6 5 3 0 5 1 7 0 0 0 9 8 5 6 8 9 2 8 3 0 3 1 3 4\n",
      " 6 6 9 6 4 3 1 9 7 7 1 0 5 8 9 6 1 0 7 3 9 4 1 0 1 9 4 6 3 4 4 5 5 7 5 3 7\n",
      " 4 7 5 9 1 6 4 1 1 9 3 2 7 1 9 5 6 1 8 0 7 1 8 6 1 9 7 4 3 0 8 3 4 1 9 7 0\n",
      " 0 1 3 1 3 1 2 6 9 4 6 0 0 1 2 8 1 0 7 8 1 8 4 0 1 1 7 0 1 6 6 8 5 9 3 8 9\n",
      " 0 2 0 8 1 5 8 9 9 3 2 3 2 2 2 1 2 2 2 2 1 5 7 4 3 3 4 9 8 7 7 6 6 7 8 4 0\n",
      " 9 3 9 1 4 8 1 0 0 8 7 7 8 4 2 7 4 6 0 9 7 6 7 3 2 2 5 1 3 5 0 9 8 1 5 0 5\n",
      " 0 5 9 2 9 5 7 8 7 2 5 7 6 9 3 6 8 2 3 4 9 1 5 3 0 4 6 6 7 3 7 1 7 8 0 3 7\n",
      " 4 6 3 5 7 4 0 9 3 7 1 3 7 0 7 5 9 4 2 9 1 4 4 0 3 5 5 0 1 9 4 9 2 4 3 7 1\n",
      " 6 8 1 3 2 1 8 9 4 0 8 6 6 4 1 9 9 1 8 0 7 9 4 6 2 7 2 0 1 7 0 5 7 9 8 4 3\n",
      " 4 8 5 5 3 8 0 8 2 7 9 3 0 7 6 0 7 4 5 1 0 7 6 8 1 5 7 1 6 8 0 7 7 4 3 4 0\n",
      " 2 3 7 2 6 6 2 3 2 9 9 5 6 2 2 3 2 8 7 9 2 0 1 7 7 6 1 4 8 3 1 2 1 6 1 8 7\n",
      " 4 6 1 2 9 6 9 7 7 3 0 7 8 2 1 5 2 3 7 6 7 9 4 8 0 0 7 6 5 8 9 0 0 8 2 2 1\n",
      " 6 6 6 9 5 2 2 4 3 2 2 7 7 7 6 7 7 8 5 0 7 8 0 2 5 1 6 8 5 7 9 6 7 6 4 4 4\n",
      " 0 7 8 3 1 1 8 5 7 9 2 0 8 0 6 8 0 0 1 9 6 9 1 1 7 6 2 0 5 1 2 1 8 1 3 5 0\n",
      " 9 9 3 3 6 3 3 1 3 6 1 2 2 0 3 0 5 3 3 6 6 2 8 5 6 5 7 7 9 2 5 5 3 3 8 9 5\n",
      " 3 0 4 7 9 8 3 7 4 7 5 2 7 6 1 5 4 9 8 3 7 2 2 5 1 8 4 1 8 5 5 8 9 8 5 5 2\n",
      " 2 9 5 9 0 8 6 9 1 8 4 3 3 2 8 9 7 7 3 5 1 1 3 5 8 3 9 1 9 2 7 7 5 0 6 5 4\n",
      " 8] [1 8 6 0 0 9 3 2 2 8 5 0 9 3 8 1 5 2 5 3 5 4 9 2 0 8 0 5 3 9 5 9 1 3 3 3 5\n",
      " 9 0 7 3 3 2 6 1 7 8 8 5 4 0 7 3 2 6 3 5 2 8 2 8 0 5 8 3 9 9 1 8 2 6 2 3 7\n",
      " 4 1 5 5 8 6 6 7 5 7 1 4 1 9 7 8 4 2 5 6 5 1 2 7 1 9 1 6 5 1 6 4 4 2 3 1 8\n",
      " 5 8 9 3 1 1 2 9 1 0 3 2 8 7 4 0 6 9 9 0 1 7 5 7 4 4 8 4 8 9 0 1 8 8 5 6 4\n",
      " 8 6 8 9 6 9 5 1 9 2 3 8 5 9 2 7 8 4 8 4 0 3 6 5 7 5 1 4 2 6 8 7 6 9 0 2 8\n",
      " 0 4 7 0 1 2 3 6 9 3 2 8 6 8 6 3 7 6 9 4 3 1 8 8 6 1 4 9 7 1 3 9 4 5 9 1 7\n",
      " 7 1 0 0 2 4 9 2 8 0 4 3 7 5 1 0 2 0 3 9 0 7 1 8 0 1 6 4 2 3 6 1 2 3 5 9 7\n",
      " 4 2 1 3 1 5 4 8 7 5 5 3 4 9 6 5 5 4 2 3 0 3 1 4 2 0 3 9 8 2 7 6 2 5 0 0 2\n",
      " 1 5 7 7 3 6 3 4 1 6 4 4 9 8 3 4 2 8 8 8 9 0 2 9 5 7 2 8 0 0 2 6 6 3 2 6 1\n",
      " 1 4 1 9 8 2 5 7 7 5 5 4 7 9 0 3 6 1 3 0 4 3 7 1 7 3 8 9 7 6 7 1 7 7 5 3 7\n",
      " 9 7 5 5 8 7 5 0 1 9 9 5 5 6 5 3 0 5 1 7 0 0 0 9 8 5 6 8 4 2 8 3 0 3 1 3 4\n",
      " 6 6 9 6 4 3 1 9 7 7 1 0 5 8 9 6 1 0 7 3 9 4 1 0 1 9 4 6 3 4 4 5 5 7 5 3 7\n",
      " 4 7 5 9 1 6 4 1 1 9 3 2 7 8 9 5 6 1 3 0 7 1 8 6 8 9 7 4 3 0 2 8 4 1 9 3 0\n",
      " 0 1 3 1 8 1 2 8 9 4 6 0 0 1 2 8 1 0 7 8 1 8 4 0 1 1 2 0 1 6 6 6 5 9 3 8 9\n",
      " 0 2 0 8 1 8 8 9 9 3 2 3 2 2 2 1 2 2 2 2 1 5 7 9 3 3 4 9 8 7 7 6 6 7 8 4 0\n",
      " 9 3 9 1 4 8 7 0 0 8 9 7 8 4 2 9 7 6 0 9 7 6 7 8 2 2 5 1 3 5 0 9 8 2 5 0 5\n",
      " 0 5 9 2 9 5 7 8 7 2 5 7 6 9 3 6 8 2 3 4 9 1 5 3 0 6 4 6 7 3 7 1 7 8 0 5 7\n",
      " 4 6 3 0 9 4 0 9 2 7 1 3 7 0 7 5 9 4 2 4 1 4 4 0 3 5 5 6 1 9 4 9 2 4 3 7 1\n",
      " 8 8 1 3 2 2 8 9 4 0 4 6 6 4 1 9 9 5 8 0 7 2 4 6 2 7 2 0 8 7 0 5 7 9 8 4 5\n",
      " 4 8 5 5 3 8 0 8 8 7 9 3 0 7 6 0 7 2 5 1 0 7 6 8 1 5 7 1 6 4 0 7 7 4 3 4 0\n",
      " 2 3 7 2 6 6 2 3 2 9 9 5 6 2 2 3 2 6 7 9 2 0 1 7 7 6 1 4 8 9 1 2 1 6 1 8 7\n",
      " 4 6 8 2 9 5 9 7 9 3 0 7 9 2 1 5 3 3 0 6 7 9 4 8 0 0 7 6 5 8 9 0 0 8 2 2 1\n",
      " 6 6 6 2 5 2 2 4 3 2 2 7 5 7 6 7 9 8 5 0 7 8 5 2 5 9 6 8 5 7 9 6 7 6 4 4 4\n",
      " 0 7 8 3 1 1 8 5 7 0 2 0 8 0 6 8 0 0 1 9 6 9 1 1 7 6 2 0 5 1 2 1 8 1 3 5 0\n",
      " 9 7 3 3 6 3 3 1 3 6 1 2 2 0 3 0 5 3 3 6 6 2 8 5 6 3 7 7 7 2 5 5 3 3 8 9 5\n",
      " 3 0 4 7 9 8 3 7 4 7 5 2 7 6 1 5 4 9 8 3 7 2 2 5 1 8 4 1 8 5 5 8 9 8 5 5 8\n",
      " 2 7 5 9 0 8 6 9 1 8 6 3 3 2 8 9 7 7 3 5 1 1 3 5 8 3 9 1 9 2 7 7 5 0 5 5 4\n",
      " 3]\n"
     ]
    },
    {
     "data": {
      "text/plain": [
       "'0.9070000000000'"
      ]
     },
     "execution_count": 36,
     "metadata": {},
     "output_type": "execute_result"
    }
   ],
   "source": [
    "dev_predictions = make_predictions(X_dev, W1, b1, W2, b2)\n",
    "get_accuracy(dev_predictions, Y_dev)"
   ]
  },
  {
   "cell_type": "code",
   "execution_count": 36,
   "id": "244276bea3ad2185",
   "metadata": {
    "ExecuteTime": {
     "end_time": "2024-07-23T13:25:50.863007Z",
     "start_time": "2024-07-23T13:25:50.859485Z"
    }
   },
   "outputs": [],
   "source": []
  }
 ],
 "metadata": {
  "kernelspec": {
   "display_name": "Python 3",
   "language": "python",
   "name": "python3"
  },
  "language_info": {
   "codemirror_mode": {
    "name": "ipython",
    "version": 2
   },
   "file_extension": ".py",
   "mimetype": "text/x-python",
   "name": "python",
   "nbconvert_exporter": "python",
   "pygments_lexer": "ipython2",
   "version": "2.7.6"
  }
 },
 "nbformat": 4,
 "nbformat_minor": 5
}

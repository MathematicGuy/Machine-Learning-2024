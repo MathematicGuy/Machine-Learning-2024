{
 "cells": [
  {
   "metadata": {},
   "cell_type": "markdown",
   "source": [
    "# Đề Bài\n",
    "1. Thực hiện tìm hiểu bài toán (gợi ý: các bộ dữ liệu đc mô tả trên các trang web), từ đó mô tả bài toán\n",
    "2. Sử dụng ngôn ngữ Python và các thư viện để thực hiện:\n",
    "    a. Tiền xử lý dữ liệu với bộ dữ liệu nhận được\n",
    "    b. Trực quan hóa và phân tích dữ liệu\n",
    "\n",
    "**Yêu cầu kết quả đạt được:**\n",
    "1. Báo cáo (file.docx) mô tả bài toán, các nội dung thực thi của bài\n",
    "2. Code thực hiện đối với phần 2a, 2b."
   ],
   "id": "4532e4b60a1ddd49"
  }
 ],
 "metadata": {
  "kernelspec": {
   "display_name": "Python 3",
   "language": "python",
   "name": "python3"
  },
  "language_info": {
   "codemirror_mode": {
    "name": "ipython",
    "version": 2
   },
   "file_extension": ".py",
   "mimetype": "text/x-python",
   "name": "python",
   "nbconvert_exporter": "python",
   "pygments_lexer": "ipython2",
   "version": "2.7.6"
  }
 },
 "nbformat": 4,
 "nbformat_minor": 5
}

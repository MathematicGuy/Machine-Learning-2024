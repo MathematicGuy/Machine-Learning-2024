{
 "cells": [
  {
   "cell_type": "code",
   "execution_count": 1,
   "metadata": {},
   "outputs": [
    {
     "ename": "ImportError",
     "evalue": "cannot import name 'KSVD' from 'ksvd' (d:\\CODE\\IDE\\Anaconda\\envs\\punk\\Lib\\site-packages\\ksvd\\__init__.py)",
     "output_type": "error",
     "traceback": [
      "\u001B[1;31m---------------------------------------------------------------------------\u001B[0m",
      "\u001B[1;31mImportError\u001B[0m                               Traceback (most recent call last)",
      "Cell \u001B[1;32mIn[1], line 5\u001B[0m\n\u001B[0;32m      3\u001B[0m \u001B[38;5;28;01mfrom\u001B[39;00m \u001B[38;5;21;01msklearn\u001B[39;00m\u001B[38;5;21;01m.\u001B[39;00m\u001B[38;5;21;01mdecomposition\u001B[39;00m \u001B[38;5;28;01mimport\u001B[39;00m DictionaryLearning\n\u001B[0;32m      4\u001B[0m \u001B[38;5;28;01mfrom\u001B[39;00m \u001B[38;5;21;01msklearn\u001B[39;00m\u001B[38;5;21;01m.\u001B[39;00m\u001B[38;5;21;01mmetrics\u001B[39;00m \u001B[38;5;28;01mimport\u001B[39;00m mean_squared_error\n\u001B[1;32m----> 5\u001B[0m \u001B[38;5;28;01mfrom\u001B[39;00m \u001B[38;5;21;01mksvd\u001B[39;00m \u001B[38;5;28;01mimport\u001B[39;00m KSVD\n\u001B[0;32m      6\u001B[0m \u001B[38;5;28;01mimport\u001B[39;00m \u001B[38;5;21;01mmatplotlib\u001B[39;00m\u001B[38;5;21;01m.\u001B[39;00m\u001B[38;5;21;01mpyplot\u001B[39;00m \u001B[38;5;28;01mas\u001B[39;00m \u001B[38;5;21;01mplt\u001B[39;00m\n",
      "\u001B[1;31mImportError\u001B[0m: cannot import name 'KSVD' from 'ksvd' (d:\\CODE\\IDE\\Anaconda\\envs\\punk\\Lib\\site-packages\\ksvd\\__init__.py)"
     ]
    }
   ],
   "source": [
    "import numpy as np\n",
    "from sklearn.feature_extraction.image import extract_patches_2d, reconstruct_from_patches_2d\n",
    "from sklearn.decomposition import DictionaryLearning\n",
    "from sklearn.metrics import mean_squared_error\n",
    "from ksvd import KSVD\n",
    "import matplotlib.pyplot as plt"
   ]
  },
  {
   "cell_type": "markdown",
   "metadata": {},
   "source": [
    "## Step 1: Load and Prepare the Data"
   ]
  },
  {
   "cell_type": "code",
   "execution_count": null,
   "metadata": {},
   "outputs": [],
   "source": [
    "def generate_synthetic_data():\n",
    "    # Create synthetic images (replace with actual image loading in practice)\n",
    "    house_design_with_number = np.random.rand(64, 64)  # Example image with numbers\n",
    "    house_design_without_number = np.random.rand(64, 64)  # Example image without numbers\n",
    "\n",
    "    # Simulate adding a \"number\" to the image (a small patch with high intensity)\n",
    "    house_design_with_number[30:35, 30:35] = 1.0\n",
    "\n",
    "    return house_design_with_number, house_design_without_number\n",
    "\n",
    "# Load synthetic data\n",
    "img_with_number, img_without_number = generate_synthetic_data()\n",
    "\n",
    "# Display images\n",
    "plt.subplot(1, 2, 1)\n",
    "plt.imshow(img_with_number, cmap='gray')\n",
    "plt.title('With Number')\n",
    "plt.subplot(1, 2, 2)\n",
    "plt.imshow(img_without_number, cmap='gray')\n",
    "plt.title('Without Number')\n",
    "plt.show()\n"
   ]
  },
  {
   "cell_type": "markdown",
   "metadata": {},
   "source": [
    "## Step 3: Dictionary Learning Using K-SVD"
   ]
  },
  {
   "cell_type": "code",
   "execution_count": null,
   "metadata": {},
   "outputs": [],
   "source": [
    "patch_size = (8, 8)\n",
    "patches_with_number = extract_patches_2d(img_with_number, patch_size)\n",
    "patches_without_number = extract_patches_2d(img_without_number, patch_size)\n",
    "\n",
    "# Flatten patches for dictionary learning\n",
    "patches_with_number = patches_with_number.reshape(patches_with_number.shape[0], -1)\n",
    "patches_without_number = patches_without_number.reshape(patches_without_number.shape[0], -1)\n"
   ]
  },
  {
   "cell_type": "markdown",
   "metadata": {},
   "source": [
    "## Step 4: Classification Based on Reconstruction Error"
   ]
  },
  {
   "cell_type": "code",
   "execution_count": null,
   "metadata": {},
   "outputs": [],
   "source": [
    "n_components = 100  # Number of dictionary atoms\n",
    "ksvd = KSVD(n_components=n_components, max_iter=10)\n",
    "\n",
    "# Learn dictionaries\n",
    "D_with_number, _ = ksvd.fit(patches_with_number.T)\n",
    "D_without_number, _ = ksvd.fit(patches_without_number.T)\n",
    "\n",
    "# D_with_number and D_without_number are the learned dictionaries\n"
   ]
  },
  {
   "cell_type": "markdown",
   "metadata": {},
   "source": [
    "## Step 5: Classification Based on Reconstruction Error"
   ]
  },
  {
   "cell_type": "code",
   "execution_count": null,
   "metadata": {},
   "outputs": [],
   "source": [
    "def classify_image(test_image, D_with_number, D_without_number, patch_size):\n",
    "    # Extract patches from the test image\n",
    "    test_patches = extract_patches_2d(test_image, patch_size)\n",
    "    test_patches = test_patches.reshape(test_patches.shape[0], -1)\n",
    "    \n",
    "    # Compute reconstruction error for each dictionary\n",
    "    error_with_number = np.sum([\n",
    "        mean_squared_error(patch, D_with_number @ ksvd.transform(patch.reshape(-1, 1)).reshape(-1))\n",
    "        for patch in test_patches\n",
    "    ])\n",
    "    \n",
    "    error_without_number = np.sum([\n",
    "        mean_squared_error(patch, D_without_number @ ksvd.transform(patch.reshape(-1, 1)).reshape(-1))\n",
    "        for patch in test_patches\n",
    "    ])\n",
    "    \n",
    "    return 'With Number' if error_with_number < error_without_number else 'Without Number'\n",
    "\n",
    "# Classify a new image\n",
    "new_image = generate_synthetic_data()[0]  # Simulate a new image with a number\n",
    "classification_result = classify_image(new_image, D_with_number, D_without_number, patch_size)\n",
    "print(\"Classification Result:\", classification_result)\n"
   ]
  },
  {
   "cell_type": "markdown",
   "metadata": {},
   "source": [
    "## Step 5: Remove Numbers from the Image"
   ]
  },
  {
   "cell_type": "code",
   "execution_count": null,
   "metadata": {},
   "outputs": [],
   "source": [
    "def remove_numbers_from_image(test_image, D_without_number, patch_size):\n",
    "    # Extract patches from the test image\n",
    "    test_patches = extract_patches_2d(test_image, patch_size)\n",
    "    test_patches = test_patches.reshape(test_patches.shape[0], -1)\n",
    "    \n",
    "    # Reconstruct patches using the \"without number\" dictionary\n",
    "    denoised_patches = np.array([\n",
    "        D_without_number @ ksvd.transform(patch.reshape(-1, 1)).reshape(-1)\n",
    "        for patch in test_patches\n",
    "    ])\n",
    "    \n",
    "    # Reshape patches back to their original size\n",
    "    denoised_patches = denoised_patches.reshape(-1, *patch_size)\n",
    "    \n",
    "    # Reconstruct the full image\n",
    "    denoised_image = reconstruct_from_patches_2d(denoised_patches, test_image.shape)\n",
    "    \n",
    "    return denoised_image\n",
    "\n",
    "# Remove numbers from the new image\n",
    "denoised_image = remove_numbers_from_image(new_image, D_without_number, patch_size)\n",
    "\n",
    "# Display the denoised image\n",
    "plt.imshow(denoised_image, cmap='gray')\n",
    "plt.title('Denoised Image (Number Removed)')\n",
    "plt.show()"
   ]
  }
 ],
 "metadata": {
  "kernelspec": {
   "display_name": "T",
   "language": "python",
   "name": "python3"
  },
  "language_info": {
   "codemirror_mode": {
    "name": "ipython",
    "version": 3
   },
   "file_extension": ".py",
   "mimetype": "text/x-python",
   "name": "python",
   "nbconvert_exporter": "python",
   "pygments_lexer": "ipython3",
   "version": "3.9.19"
  }
 },
 "nbformat": 4,
 "nbformat_minor": 2
}
